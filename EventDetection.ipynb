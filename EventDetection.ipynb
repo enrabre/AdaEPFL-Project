{
 "cells": [
  {
   "cell_type": "code",
   "execution_count": 2,
   "metadata": {
    "collapsed": true
   },
   "outputs": [],
   "source": [
    "import pandas as pd\n",
    "import numpy as np\n",
    "import os\n",
    "import seaborn as sns\n",
    "import datetime\n",
    "from sklearn.ensemble import RandomForestClassifier\n",
    "from sklearn.cluster import KMeans\n",
    "from sklearn.model_selection import KFold\n",
    "from sklearn import metrics\n",
    "import matplotlib.pyplot as plt\n",
    "from functools import reduce\n",
    "import math\n",
    "from collections import Counter\n",
    "import csv\n",
    "from datetime import datetime\n",
    "%matplotlib inline"
   ]
  },
  {
   "cell_type": "code",
   "execution_count": 3,
   "metadata": {
    "collapsed": true
   },
   "outputs": [],
   "source": [
    "def now():\n",
    "    return str(datetime.now().time())[:8]\n",
    "def pr(strToPrint):\n",
    "    print(now() + ' '+ strToPrint)\n",
    "\n",
    "from IPython.display import Audio\n",
    "sound_file = 'beep.wav'\n",
    "# Used by other groups: pd.read_csv(data_path, sep=\"\\t\",encoding='utf-8',  escapechar='\\\\', quoting=csv.QUOTE_NONE, header=None, na_values='N')"
   ]
  },
  {
   "cell_type": "code",
   "execution_count": 4,
   "metadata": {
    "collapsed": true
   },
   "outputs": [],
   "source": [
    "pickle_filename = os.path.join('data','head_100k_pickle.pkl')\n",
    "tw = pd.read_pickle(pickle_filename)"
   ]
  },
  {
   "cell_type": "code",
   "execution_count": 5,
   "metadata": {
    "collapsed": false
   },
   "outputs": [
    {
     "data": {
      "text/html": [
       "<div>\n",
       "<table border=\"1\" class=\"dataframe\">\n",
       "  <thead>\n",
       "    <tr style=\"text-align: right;\">\n",
       "      <th></th>\n",
       "      <th>id</th>\n",
       "      <th>userId</th>\n",
       "      <th>createdAt</th>\n",
       "      <th>text</th>\n",
       "      <th>longitude</th>\n",
       "      <th>latitude</th>\n",
       "      <th>placeId</th>\n",
       "      <th>inReplyTo</th>\n",
       "      <th>source</th>\n",
       "      <th>truncated</th>\n",
       "      <th>placeLatitude</th>\n",
       "      <th>placeLongitude</th>\n",
       "      <th>sourceName</th>\n",
       "      <th>sourceUrl</th>\n",
       "      <th>userName</th>\n",
       "      <th>screenName</th>\n",
       "      <th>followersCount</th>\n",
       "      <th>friendsCount</th>\n",
       "      <th>statusesCount</th>\n",
       "      <th>userLocation</th>\n",
       "    </tr>\n",
       "  </thead>\n",
       "  <tbody>\n",
       "    <tr>\n",
       "      <th>0</th>\n",
       "      <td>9514097914</td>\n",
       "      <td>17341045.0</td>\n",
       "      <td>2010-02-23 05:55:51</td>\n",
       "      <td>Guuuuten Morgen! :-)</td>\n",
       "      <td>7.43926</td>\n",
       "      <td>46.9489</td>\n",
       "      <td>NaN</td>\n",
       "      <td>NaN</td>\n",
       "      <td>197.0</td>\n",
       "      <td>NaN</td>\n",
       "      <td>NaN</td>\n",
       "      <td>NaN</td>\n",
       "      <td>NaN</td>\n",
       "      <td>NaN</td>\n",
       "      <td>NaN</td>\n",
       "      <td>NaN</td>\n",
       "      <td>NaN</td>\n",
       "      <td>NaN</td>\n",
       "      <td>NaN</td>\n",
       "      <td>NaN</td>\n",
       "    </tr>\n",
       "    <tr>\n",
       "      <th>1</th>\n",
       "      <td>NaN</td>\n",
       "      <td>NaN</td>\n",
       "      <td>NaN</td>\n",
       "      <td>TwitBird</td>\n",
       "      <td>http://www.nibirutech.com</td>\n",
       "      <td>Tilman Jentzsch</td>\n",
       "      <td>blickwechsel</td>\n",
       "      <td>586.0</td>\n",
       "      <td>508.0</td>\n",
       "      <td>9016.0</td>\n",
       "      <td>Bern, Switzerland</td>\n",
       "      <td>NaN</td>\n",
       "      <td>NaN</td>\n",
       "      <td>NaN</td>\n",
       "      <td>NaN</td>\n",
       "      <td>NaN</td>\n",
       "      <td>NaN</td>\n",
       "      <td>NaN</td>\n",
       "      <td>NaN</td>\n",
       "      <td>NaN</td>\n",
       "    </tr>\n",
       "    <tr>\n",
       "      <th>2</th>\n",
       "      <td>9514846412</td>\n",
       "      <td>7198282.0</td>\n",
       "      <td>2010-02-23 06:22:40</td>\n",
       "      <td>Still the best coffee in town — at La Stanza h...</td>\n",
       "      <td>8.53781</td>\n",
       "      <td>47.3678</td>\n",
       "      <td>NaN</td>\n",
       "      <td>NaN</td>\n",
       "      <td>550.0</td>\n",
       "      <td>NaN</td>\n",
       "      <td>NaN</td>\n",
       "      <td>NaN</td>\n",
       "      <td>NaN</td>\n",
       "      <td>NaN</td>\n",
       "      <td>NaN</td>\n",
       "      <td>NaN</td>\n",
       "      <td>NaN</td>\n",
       "      <td>NaN</td>\n",
       "      <td>NaN</td>\n",
       "      <td>NaN</td>\n",
       "    </tr>\n",
       "    <tr>\n",
       "      <th>3</th>\n",
       "      <td>NaN</td>\n",
       "      <td>NaN</td>\n",
       "      <td>NaN</td>\n",
       "      <td>Gowalla</td>\n",
       "      <td>http://gowalla.com/</td>\n",
       "      <td>Nico Luchsinger</td>\n",
       "      <td>halbluchs</td>\n",
       "      <td>1820.0</td>\n",
       "      <td>703.0</td>\n",
       "      <td>4687.0</td>\n",
       "      <td>Zurich, Switzerland</td>\n",
       "      <td>NaN</td>\n",
       "      <td>NaN</td>\n",
       "      <td>NaN</td>\n",
       "      <td>NaN</td>\n",
       "      <td>NaN</td>\n",
       "      <td>NaN</td>\n",
       "      <td>NaN</td>\n",
       "      <td>NaN</td>\n",
       "      <td>NaN</td>\n",
       "    </tr>\n",
       "    <tr>\n",
       "      <th>4</th>\n",
       "      <td>9516574359</td>\n",
       "      <td>14657884.0</td>\n",
       "      <td>2010-02-23 07:34:25</td>\n",
       "      <td>It has been a week or so.. and today I just co...</td>\n",
       "      <td>6.13396</td>\n",
       "      <td>46.1951</td>\n",
       "      <td>NaN</td>\n",
       "      <td>NaN</td>\n",
       "      <td>3.0</td>\n",
       "      <td>NaN</td>\n",
       "      <td>NaN</td>\n",
       "      <td>NaN</td>\n",
       "      <td>NaN</td>\n",
       "      <td>NaN</td>\n",
       "      <td>NaN</td>\n",
       "      <td>NaN</td>\n",
       "      <td>NaN</td>\n",
       "      <td>NaN</td>\n",
       "      <td>NaN</td>\n",
       "      <td>NaN</td>\n",
       "    </tr>\n",
       "  </tbody>\n",
       "</table>\n",
       "</div>"
      ],
      "text/plain": [
       "           id      userId            createdAt  \\\n",
       "0  9514097914  17341045.0  2010-02-23 05:55:51   \n",
       "1         NaN         NaN                  NaN   \n",
       "2  9514846412   7198282.0  2010-02-23 06:22:40   \n",
       "3         NaN         NaN                  NaN   \n",
       "4  9516574359  14657884.0  2010-02-23 07:34:25   \n",
       "\n",
       "                                                text  \\\n",
       "0                               Guuuuten Morgen! :-)   \n",
       "1                                           TwitBird   \n",
       "2  Still the best coffee in town — at La Stanza h...   \n",
       "3                                            Gowalla   \n",
       "4  It has been a week or so.. and today I just co...   \n",
       "\n",
       "                   longitude         latitude       placeId  inReplyTo  \\\n",
       "0                    7.43926          46.9489           NaN        NaN   \n",
       "1  http://www.nibirutech.com  Tilman Jentzsch  blickwechsel      586.0   \n",
       "2                    8.53781          47.3678           NaN        NaN   \n",
       "3        http://gowalla.com/  Nico Luchsinger     halbluchs     1820.0   \n",
       "4                    6.13396          46.1951           NaN        NaN   \n",
       "\n",
       "   source  truncated        placeLatitude  placeLongitude  sourceName  \\\n",
       "0   197.0        NaN                  NaN             NaN         NaN   \n",
       "1   508.0     9016.0    Bern, Switzerland             NaN         NaN   \n",
       "2   550.0        NaN                  NaN             NaN         NaN   \n",
       "3   703.0     4687.0  Zurich, Switzerland             NaN         NaN   \n",
       "4     3.0        NaN                  NaN             NaN         NaN   \n",
       "\n",
       "   sourceUrl  userName  screenName  followersCount  friendsCount  \\\n",
       "0        NaN       NaN         NaN             NaN           NaN   \n",
       "1        NaN       NaN         NaN             NaN           NaN   \n",
       "2        NaN       NaN         NaN             NaN           NaN   \n",
       "3        NaN       NaN         NaN             NaN           NaN   \n",
       "4        NaN       NaN         NaN             NaN           NaN   \n",
       "\n",
       "   statusesCount  userLocation  \n",
       "0            NaN           NaN  \n",
       "1            NaN           NaN  \n",
       "2            NaN           NaN  \n",
       "3            NaN           NaN  \n",
       "4            NaN           NaN  "
      ]
     },
     "execution_count": 5,
     "metadata": {},
     "output_type": "execute_result"
    }
   ],
   "source": [
    "tw.head()"
   ]
  },
  {
   "cell_type": "code",
   "execution_count": 6,
   "metadata": {
    "collapsed": true
   },
   "outputs": [],
   "source": [
    "def extract_hashtags(text):\n",
    "    if '#' not in text:\n",
    "        return None\n",
    "    return [tag.strip(\"#\") for tag in text.split() if tag.startswith(\"#\")]"
   ]
  },
  {
   "cell_type": "code",
   "execution_count": 7,
   "metadata": {
    "collapsed": false
   },
   "outputs": [
    {
     "data": {
      "text/plain": [
       "79537"
      ]
     },
     "execution_count": 7,
     "metadata": {},
     "output_type": "execute_result"
    }
   ],
   "source": [
    "tw['hashtag'] = np.nan\n",
    "tw.head()\n",
    "tw.hashtag = tw.text.apply(lambda x: extract_hashtags(str(x)))\n",
    "twh = tw[pd.notnull(tw['hashtag'])]\n",
    "len(twh)"
   ]
  },
  {
   "cell_type": "code",
   "execution_count": 8,
   "metadata": {
    "collapsed": false
   },
   "outputs": [
    {
     "name": "stdout",
     "output_type": "stream",
     "text": [
      "The data have been reduced from 79537 tweets to 79537 tweets.\n"
     ]
    }
   ],
   "source": [
    "tw1 = twh.dropna(axis=0, how='any', subset=['text', 'createdAt'])\n",
    "print('The data have been reduced from {} tweets to {} tweets.'.format(len(twh), len(tw1)))"
   ]
  },
  {
   "cell_type": "code",
   "execution_count": 9,
   "metadata": {
    "collapsed": false
   },
   "outputs": [
    {
     "name": "stdout",
     "output_type": "stream",
     "text": [
      "12:57:47 Removing bad dates...\n",
      "12:57:47 Finished.\n"
     ]
    }
   ],
   "source": [
    "pr('Removing bad dates...')\n",
    "twhCleanDate = tw1[tw1['createdAt'].str.len() == 19]\n",
    "pr('Finished.')"
   ]
  },
  {
   "cell_type": "code",
   "execution_count": 10,
   "metadata": {
    "collapsed": false
   },
   "outputs": [
    {
     "name": "stdout",
     "output_type": "stream",
     "text": [
      "12:57:47 Starting to examine dates...\n",
      "12:57:47 There are 0 dates that cannot be transformed.\n"
     ]
    }
   ],
   "source": [
    "pr('Starting to examine dates...')\n",
    "import warnings\n",
    "warnings.filterwarnings('ignore')\n",
    "datetime_serie = twhCleanDate['createdAt'].convert_objects(convert_dates='coerce')\n",
    "dateNotConvertible = datetime_serie[pd.isnull(datetime_serie)]\n",
    "warnings.filterwarnings('default')\n",
    "pr('There are {} dates that cannot be transformed.'.format(len(dateNotConvertible)))"
   ]
  },
  {
   "cell_type": "code",
   "execution_count": 37,
   "metadata": {
    "collapsed": false,
    "scrolled": false
   },
   "outputs": [
    {
     "name": "stdout",
     "output_type": "stream",
     "text": [
      "13:08:07 Starting copy...\n",
      "13:08:07 Converting to datetime...\n",
      "13:08:07 Setting up new indices...\n",
      "13:08:07 Deleting old \"createdAt\" column...\n",
      "13:08:07 Done!\n"
     ]
    },
    {
     "data": {
      "text/html": [
       "<div>\n",
       "<table border=\"1\" class=\"dataframe\">\n",
       "  <thead>\n",
       "    <tr style=\"text-align: right;\">\n",
       "      <th></th>\n",
       "      <th>id</th>\n",
       "      <th>userId</th>\n",
       "      <th>text</th>\n",
       "      <th>longitude</th>\n",
       "      <th>latitude</th>\n",
       "      <th>placeId</th>\n",
       "      <th>inReplyTo</th>\n",
       "      <th>source</th>\n",
       "      <th>truncated</th>\n",
       "      <th>placeLatitude</th>\n",
       "      <th>placeLongitude</th>\n",
       "      <th>sourceName</th>\n",
       "      <th>sourceUrl</th>\n",
       "      <th>userName</th>\n",
       "      <th>screenName</th>\n",
       "      <th>followersCount</th>\n",
       "      <th>friendsCount</th>\n",
       "      <th>statusesCount</th>\n",
       "      <th>userLocation</th>\n",
       "      <th>hashtag</th>\n",
       "    </tr>\n",
       "    <tr>\n",
       "      <th>createdAt</th>\n",
       "      <th></th>\n",
       "      <th></th>\n",
       "      <th></th>\n",
       "      <th></th>\n",
       "      <th></th>\n",
       "      <th></th>\n",
       "      <th></th>\n",
       "      <th></th>\n",
       "      <th></th>\n",
       "      <th></th>\n",
       "      <th></th>\n",
       "      <th></th>\n",
       "      <th></th>\n",
       "      <th></th>\n",
       "      <th></th>\n",
       "      <th></th>\n",
       "      <th></th>\n",
       "      <th></th>\n",
       "      <th></th>\n",
       "      <th></th>\n",
       "    </tr>\n",
       "  </thead>\n",
       "  <tbody>\n",
       "    <tr>\n",
       "      <th>2010-02-23 09:59:41</th>\n",
       "      <td>9519737890</td>\n",
       "      <td>14657884.0</td>\n",
       "      <td>Magic spells run off after midnight, I guess s...</td>\n",
       "      <td>6.1387</td>\n",
       "      <td>46.175</td>\n",
       "      <td>NaN</td>\n",
       "      <td>NaN</td>\n",
       "      <td>1.0</td>\n",
       "      <td>NaN</td>\n",
       "      <td>NaN</td>\n",
       "      <td>NaN</td>\n",
       "      <td>NaN</td>\n",
       "      <td>NaN</td>\n",
       "      <td>NaN</td>\n",
       "      <td>NaN</td>\n",
       "      <td>NaN</td>\n",
       "      <td>NaN</td>\n",
       "      <td>NaN</td>\n",
       "      <td>NaN</td>\n",
       "      <td>[fb]</td>\n",
       "    </tr>\n",
       "    <tr>\n",
       "      <th>2010-02-23 11:28:27</th>\n",
       "      <td>9521789689</td>\n",
       "      <td>9962022.0</td>\n",
       "      <td>Limitas of public transportation! No taxi, rai...</td>\n",
       "      <td>6.33641</td>\n",
       "      <td>46.4631</td>\n",
       "      <td>NaN</td>\n",
       "      <td>NaN</td>\n",
       "      <td>550.0</td>\n",
       "      <td>NaN</td>\n",
       "      <td>NaN</td>\n",
       "      <td>NaN</td>\n",
       "      <td>NaN</td>\n",
       "      <td>NaN</td>\n",
       "      <td>NaN</td>\n",
       "      <td>NaN</td>\n",
       "      <td>NaN</td>\n",
       "      <td>NaN</td>\n",
       "      <td>NaN</td>\n",
       "      <td>NaN</td>\n",
       "      <td>[yam]</td>\n",
       "    </tr>\n",
       "  </tbody>\n",
       "</table>\n",
       "</div>"
      ],
      "text/plain": [
       "                             id      userId  \\\n",
       "createdAt                                     \n",
       "2010-02-23 09:59:41  9519737890  14657884.0   \n",
       "2010-02-23 11:28:27  9521789689   9962022.0   \n",
       "\n",
       "                                                                  text  \\\n",
       "createdAt                                                                \n",
       "2010-02-23 09:59:41  Magic spells run off after midnight, I guess s...   \n",
       "2010-02-23 11:28:27  Limitas of public transportation! No taxi, rai...   \n",
       "\n",
       "                    longitude latitude placeId  inReplyTo  source  truncated  \\\n",
       "createdAt                                                                      \n",
       "2010-02-23 09:59:41    6.1387   46.175     NaN        NaN     1.0        NaN   \n",
       "2010-02-23 11:28:27   6.33641  46.4631     NaN        NaN   550.0        NaN   \n",
       "\n",
       "                    placeLatitude  placeLongitude  sourceName  sourceUrl  \\\n",
       "createdAt                                                                  \n",
       "2010-02-23 09:59:41           NaN             NaN         NaN        NaN   \n",
       "2010-02-23 11:28:27           NaN             NaN         NaN        NaN   \n",
       "\n",
       "                     userName  screenName  followersCount  friendsCount  \\\n",
       "createdAt                                                                 \n",
       "2010-02-23 09:59:41       NaN         NaN             NaN           NaN   \n",
       "2010-02-23 11:28:27       NaN         NaN             NaN           NaN   \n",
       "\n",
       "                     statusesCount  userLocation hashtag  \n",
       "createdAt                                                 \n",
       "2010-02-23 09:59:41            NaN           NaN    [fb]  \n",
       "2010-02-23 11:28:27            NaN           NaN   [yam]  "
      ]
     },
     "execution_count": 37,
     "metadata": {},
     "output_type": "execute_result"
    }
   ],
   "source": [
    "pr('Starting copy...') # (to avoid transformation problems)\n",
    "tw5 = twhCleanDate.copy()\n",
    "pr('Converting to datetime...')\n",
    "tw5['createdAt'] = pd.to_datetime(twhCleanDate['createdAt'])\n",
    "pr('Setting up new indices...')\n",
    "tw5.index = tw5['createdAt']\n",
    "pr('Deleting old \"createdAt\" column...')\n",
    "del tw5['createdAt']\n",
    "pr('Done!')\n",
    "tw5.head(2)"
   ]
  },
  {
   "cell_type": "code",
   "execution_count": 38,
   "metadata": {
    "collapsed": false
   },
   "outputs": [
    {
     "data": {
      "text/plain": [
       "createdAt\n",
       "2010-02-23 09:59:41               [fb]\n",
       "2010-02-23 11:28:27              [yam]\n",
       "2010-02-23 17:47:11         [24, VfB.]\n",
       "2010-02-23 18:19:03    [iPhoneography]\n",
       "2010-02-23 18:31:46     [partnermonth]\n",
       "Name: hashtag, dtype: object"
      ]
     },
     "execution_count": 38,
     "metadata": {},
     "output_type": "execute_result"
    }
   ],
   "source": [
    "twt = tw5.head()\n",
    "twt.hashtag"
   ]
  },
  {
   "cell_type": "code",
   "execution_count": 39,
   "metadata": {
    "collapsed": false
   },
   "outputs": [
    {
     "data": {
      "text/plain": [
       "createdAt\n",
       "2010-02-23 09:59:41               fb\n",
       "2010-02-23 11:28:27              yam\n",
       "2010-02-23 17:47:11         24, vfb.\n",
       "2010-02-23 18:19:03    iphoneography\n",
       "2010-02-23 18:31:46     partnermonth\n",
       "Name: hashtag, dtype: object"
      ]
     },
     "execution_count": 39,
     "metadata": {},
     "output_type": "execute_result"
    }
   ],
   "source": [
    "tw5.hashtag = tw5.hashtag.apply(lambda x: ', '.join(x).lower())\n",
    "tw5.hashtag.head()"
   ]
  },
  {
   "cell_type": "code",
   "execution_count": 40,
   "metadata": {
    "collapsed": false
   },
   "outputs": [],
   "source": [
    "tw5.dropna(subset=['longitude'], inplace=True)\n",
    "tw5.dropna(subset=['latitude'], inplace=True)"
   ]
  },
  {
   "cell_type": "code",
   "execution_count": 41,
   "metadata": {
    "collapsed": false
   },
   "outputs": [],
   "source": [
    "tw5.latitude = tw5.latitude.apply(float)\n",
    "tw5.longitude = tw5.longitude.apply(float)"
   ]
  },
  {
   "cell_type": "code",
   "execution_count": null,
   "metadata": {
    "collapsed": true
   },
   "outputs": [],
   "source": []
  },
  {
   "cell_type": "code",
   "execution_count": 52,
   "metadata": {
    "collapsed": false
   },
   "outputs": [
    {
     "data": {
      "text/plain": [
       "createdAt\n",
       "2012-01-23    1\n",
       "2012-01-24    0\n",
       "2012-01-25    0\n",
       "2012-01-26    0\n",
       "2012-01-27    0\n",
       "2012-01-28    0\n",
       "2012-01-29    0\n",
       "2012-01-30    0\n",
       "2012-01-31    0\n",
       "2012-02-01    0\n",
       "2012-02-02    0\n",
       "2012-02-03    0\n",
       "2012-02-04    0\n",
       "2012-02-05    0\n",
       "2012-02-06    0\n",
       "2012-02-07    0\n",
       "2012-02-08    0\n",
       "2012-02-09    0\n",
       "2012-02-10    0\n",
       "2012-02-11    0\n",
       "2012-02-12    0\n",
       "2012-02-13    0\n",
       "2012-02-14    0\n",
       "2012-02-15    0\n",
       "2012-02-16    0\n",
       "2012-02-17    0\n",
       "2012-02-18    0\n",
       "2012-02-19    0\n",
       "2012-02-20    0\n",
       "2012-02-21    0\n",
       "             ..\n",
       "2012-04-20    1\n",
       "2012-04-21    0\n",
       "2012-04-22    1\n",
       "2012-04-23    1\n",
       "2012-04-24    0\n",
       "2012-04-25    0\n",
       "2012-04-26    1\n",
       "2012-04-27    0\n",
       "2012-04-28    0\n",
       "2012-04-29    0\n",
       "2012-04-30    0\n",
       "2012-05-01    2\n",
       "2012-05-02    7\n",
       "2012-05-03    2\n",
       "2012-05-04    2\n",
       "2012-05-05    4\n",
       "2012-05-06    8\n",
       "2012-05-07    1\n",
       "2012-05-08    2\n",
       "2012-05-09    0\n",
       "2012-05-10    0\n",
       "2012-05-11    0\n",
       "2012-05-12    0\n",
       "2012-05-13    0\n",
       "2012-05-14    1\n",
       "2012-05-15    2\n",
       "2012-05-16    0\n",
       "2012-05-17    0\n",
       "2012-05-18    0\n",
       "2012-05-19    1\n",
       "Freq: D, Name: id, dtype: int64"
      ]
     },
     "execution_count": 52,
     "metadata": {},
     "output_type": "execute_result"
    }
   ],
   "source": [
    "gp.get_group('hollande')['id'].resample('D').count()"
   ]
  },
  {
   "cell_type": "code",
   "execution_count": 43,
   "metadata": {
    "collapsed": true
   },
   "outputs": [],
   "source": [
    "delimiter = '_$$$_'"
   ]
  },
  {
   "cell_type": "code",
   "execution_count": 44,
   "metadata": {
    "collapsed": true
   },
   "outputs": [],
   "source": [
    " str_join = lambda x: delimiter.join(x)"
   ]
  },
  {
   "cell_type": "code",
   "execution_count": 45,
   "metadata": {
    "collapsed": true
   },
   "outputs": [],
   "source": [
    "del dictionary"
   ]
  },
  {
   "cell_type": "code",
   "execution_count": 46,
   "metadata": {
    "collapsed": false
   },
   "outputs": [],
   "source": [
    "def aggDate(df):\n",
    "    test = df.groupby(df.index.map(lambda x: x.date)).agg({'text' : str_join,\n",
    "                                                          'longitude' : np.median,\n",
    "                                                          'latitude' : np.median,\n",
    "                                                          'hashtag' : str_join})\n",
    "    test['numberOfTweets'] = test['hashtag'].apply(lambda x: len(x.split(delimiter)))\n",
    "    return test"
   ]
  },
  {
   "cell_type": "code",
   "execution_count": 54,
   "metadata": {
    "collapsed": false
   },
   "outputs": [],
   "source": [
    "gp = tw5.groupby('hashtag')\n",
    "\n",
    "dictionary = {hashtag : aggDate(df) for hashtag, df in gp}"
   ]
  },
  {
   "cell_type": "code",
   "execution_count": 48,
   "metadata": {
    "collapsed": false
   },
   "outputs": [
    {
     "data": {
      "text/plain": [
       "29102"
      ]
     },
     "execution_count": 48,
     "metadata": {},
     "output_type": "execute_result"
    }
   ],
   "source": [
    "len(dictionary)"
   ]
  },
  {
   "cell_type": "code",
   "execution_count": 50,
   "metadata": {
    "collapsed": false
   },
   "outputs": [
    {
     "data": {
      "text/html": [
       "<div>\n",
       "<table border=\"1\" class=\"dataframe\">\n",
       "  <thead>\n",
       "    <tr style=\"text-align: right;\">\n",
       "      <th></th>\n",
       "      <th>text</th>\n",
       "      <th>latitude</th>\n",
       "      <th>hashtag</th>\n",
       "      <th>longitude</th>\n",
       "      <th>numberOfTweets</th>\n",
       "    </tr>\n",
       "  </thead>\n",
       "  <tbody>\n",
       "    <tr>\n",
       "      <th>2012-01-23</th>\n",
       "      <td>@ParisMatch comme il se doit ?? Pourquoi, Fran...</td>\n",
       "      <td>46.52130</td>\n",
       "      <td>hollande</td>\n",
       "      <td>6.633350</td>\n",
       "      <td>1</td>\n",
       "    </tr>\n",
       "    <tr>\n",
       "      <th>2012-04-20</th>\n",
       "      <td>“@Marion_Z : \"Les françaises sont belles mais ...</td>\n",
       "      <td>46.52430</td>\n",
       "      <td>hollande</td>\n",
       "      <td>6.865800</td>\n",
       "      <td>1</td>\n",
       "    </tr>\n",
       "    <tr>\n",
       "      <th>2012-04-22</th>\n",
       "      <td>Mtn imagine Hollande il va au Pays-Bas. A l'aé...</td>\n",
       "      <td>46.68710</td>\n",
       "      <td>hollande</td>\n",
       "      <td>6.916410</td>\n",
       "      <td>1</td>\n",
       "    </tr>\n",
       "    <tr>\n",
       "      <th>2012-04-23</th>\n",
       "      <td>Qg de campagne #hollande le changement avec fa...</td>\n",
       "      <td>47.24330</td>\n",
       "      <td>hollande</td>\n",
       "      <td>5.997970</td>\n",
       "      <td>1</td>\n",
       "    </tr>\n",
       "    <tr>\n",
       "      <th>2012-04-26</th>\n",
       "      <td>@SARKOZY_2012  président franchement il est pl...</td>\n",
       "      <td>46.58680</td>\n",
       "      <td>hollande</td>\n",
       "      <td>6.602170</td>\n",
       "      <td>1</td>\n",
       "    </tr>\n",
       "    <tr>\n",
       "      <th>2012-05-01</th>\n",
       "      <td>@nk_m traité sournoisement #Hollande de : \"Ren...</td>\n",
       "      <td>46.52420</td>\n",
       "      <td>hollande_$$$_hollande</td>\n",
       "      <td>6.866035</td>\n",
       "      <td>2</td>\n",
       "    </tr>\n",
       "    <tr>\n",
       "      <th>2012-05-02</th>\n",
       "      <td>#Hollande sait que s'il remonte la TVA sur la ...</td>\n",
       "      <td>46.58650</td>\n",
       "      <td>hollande_$$$_hollande_$$$_hollande_$$$_holland...</td>\n",
       "      <td>6.601790</td>\n",
       "      <td>7</td>\n",
       "    </tr>\n",
       "    <tr>\n",
       "      <th>2012-05-03</th>\n",
       "      <td>C'est @NicolasSarkozy qui gagnera car #Holland...</td>\n",
       "      <td>46.67720</td>\n",
       "      <td>hollande_$$$_hollande</td>\n",
       "      <td>7.765290</td>\n",
       "      <td>2</td>\n",
       "    </tr>\n",
       "    <tr>\n",
       "      <th>2012-05-04</th>\n",
       "      <td>#Hollande est aimé des jeunes , du moins de ce...</td>\n",
       "      <td>47.62670</td>\n",
       "      <td>hollande_$$$_hollande</td>\n",
       "      <td>6.224710</td>\n",
       "      <td>2</td>\n",
       "    </tr>\n",
       "    <tr>\n",
       "      <th>2012-05-05</th>\n",
       "      <td>Dans ma ville l UMP ne communique que sur le d...</td>\n",
       "      <td>47.23960</td>\n",
       "      <td>hollande_$$$_hollande_$$$_hollande_$$$_hollande</td>\n",
       "      <td>6.035700</td>\n",
       "      <td>4</td>\n",
       "    </tr>\n",
       "    <tr>\n",
       "      <th>2012-05-06</th>\n",
       "      <td>Fini Stéphane Camus et les Roujons-Macquard, l...</td>\n",
       "      <td>46.67035</td>\n",
       "      <td>hollande_$$$_hollande_$$$_hollande_$$$_holland...</td>\n",
       "      <td>6.501895</td>\n",
       "      <td>8</td>\n",
       "    </tr>\n",
       "    <tr>\n",
       "      <th>2012-05-07</th>\n",
       "      <td>Keine Panik. #Hollande kocht auch nur mit Wasser.</td>\n",
       "      <td>47.53710</td>\n",
       "      <td>hollande</td>\n",
       "      <td>9.375400</td>\n",
       "      <td>1</td>\n",
       "    </tr>\n",
       "    <tr>\n",
       "      <th>2012-05-08</th>\n",
       "      <td>He maybe taller, but I highly doubt he will be...</td>\n",
       "      <td>45.90270</td>\n",
       "      <td>hollande_$$$_hollande</td>\n",
       "      <td>6.538645</td>\n",
       "      <td>2</td>\n",
       "    </tr>\n",
       "    <tr>\n",
       "      <th>2012-05-14</th>\n",
       "      <td>Franchement dit, #Hollande fera meilleure figu...</td>\n",
       "      <td>46.52430</td>\n",
       "      <td>hollande</td>\n",
       "      <td>6.865810</td>\n",
       "      <td>1</td>\n",
       "    </tr>\n",
       "    <tr>\n",
       "      <th>2012-05-15</th>\n",
       "      <td>“@moonlight1220: @TwIttNTIN tu as 100% raison,...</td>\n",
       "      <td>46.52425</td>\n",
       "      <td>hollande_$$$_hollande</td>\n",
       "      <td>6.865805</td>\n",
       "      <td>2</td>\n",
       "    </tr>\n",
       "    <tr>\n",
       "      <th>2012-05-19</th>\n",
       "      <td>@Ploumfy Merci de rester correct, ok ? Ce n'es...</td>\n",
       "      <td>46.52430</td>\n",
       "      <td>hollande</td>\n",
       "      <td>6.865720</td>\n",
       "      <td>1</td>\n",
       "    </tr>\n",
       "  </tbody>\n",
       "</table>\n",
       "</div>"
      ],
      "text/plain": [
       "                                                         text  latitude  \\\n",
       "2012-01-23  @ParisMatch comme il se doit ?? Pourquoi, Fran...  46.52130   \n",
       "2012-04-20  “@Marion_Z : \"Les françaises sont belles mais ...  46.52430   \n",
       "2012-04-22  Mtn imagine Hollande il va au Pays-Bas. A l'aé...  46.68710   \n",
       "2012-04-23  Qg de campagne #hollande le changement avec fa...  47.24330   \n",
       "2012-04-26  @SARKOZY_2012  président franchement il est pl...  46.58680   \n",
       "2012-05-01  @nk_m traité sournoisement #Hollande de : \"Ren...  46.52420   \n",
       "2012-05-02  #Hollande sait que s'il remonte la TVA sur la ...  46.58650   \n",
       "2012-05-03  C'est @NicolasSarkozy qui gagnera car #Holland...  46.67720   \n",
       "2012-05-04  #Hollande est aimé des jeunes , du moins de ce...  47.62670   \n",
       "2012-05-05  Dans ma ville l UMP ne communique que sur le d...  47.23960   \n",
       "2012-05-06  Fini Stéphane Camus et les Roujons-Macquard, l...  46.67035   \n",
       "2012-05-07  Keine Panik. #Hollande kocht auch nur mit Wasser.  47.53710   \n",
       "2012-05-08  He maybe taller, but I highly doubt he will be...  45.90270   \n",
       "2012-05-14  Franchement dit, #Hollande fera meilleure figu...  46.52430   \n",
       "2012-05-15  “@moonlight1220: @TwIttNTIN tu as 100% raison,...  46.52425   \n",
       "2012-05-19  @Ploumfy Merci de rester correct, ok ? Ce n'es...  46.52430   \n",
       "\n",
       "                                                      hashtag  longitude  \\\n",
       "2012-01-23                                           hollande   6.633350   \n",
       "2012-04-20                                           hollande   6.865800   \n",
       "2012-04-22                                           hollande   6.916410   \n",
       "2012-04-23                                           hollande   5.997970   \n",
       "2012-04-26                                           hollande   6.602170   \n",
       "2012-05-01                              hollande_$$$_hollande   6.866035   \n",
       "2012-05-02  hollande_$$$_hollande_$$$_hollande_$$$_holland...   6.601790   \n",
       "2012-05-03                              hollande_$$$_hollande   7.765290   \n",
       "2012-05-04                              hollande_$$$_hollande   6.224710   \n",
       "2012-05-05    hollande_$$$_hollande_$$$_hollande_$$$_hollande   6.035700   \n",
       "2012-05-06  hollande_$$$_hollande_$$$_hollande_$$$_holland...   6.501895   \n",
       "2012-05-07                                           hollande   9.375400   \n",
       "2012-05-08                              hollande_$$$_hollande   6.538645   \n",
       "2012-05-14                                           hollande   6.865810   \n",
       "2012-05-15                              hollande_$$$_hollande   6.865805   \n",
       "2012-05-19                                           hollande   6.865720   \n",
       "\n",
       "            numberOfTweets  \n",
       "2012-01-23               1  \n",
       "2012-04-20               1  \n",
       "2012-04-22               1  \n",
       "2012-04-23               1  \n",
       "2012-04-26               1  \n",
       "2012-05-01               2  \n",
       "2012-05-02               7  \n",
       "2012-05-03               2  \n",
       "2012-05-04               2  \n",
       "2012-05-05               4  \n",
       "2012-05-06               8  \n",
       "2012-05-07               1  \n",
       "2012-05-08               2  \n",
       "2012-05-14               1  \n",
       "2012-05-15               2  \n",
       "2012-05-19               1  "
      ]
     },
     "execution_count": 50,
     "metadata": {},
     "output_type": "execute_result"
    }
   ],
   "source": [
    "dictionary['hollande']"
   ]
  },
  {
   "cell_type": "code",
   "execution_count": null,
   "metadata": {
    "collapsed": true
   },
   "outputs": [],
   "source": []
  },
  {
   "cell_type": "code",
   "execution_count": null,
   "metadata": {
    "collapsed": true
   },
   "outputs": [],
   "source": []
  },
  {
   "cell_type": "code",
   "execution_count": null,
   "metadata": {
    "collapsed": true
   },
   "outputs": [],
   "source": []
  },
  {
   "cell_type": "code",
   "execution_count": null,
   "metadata": {
    "collapsed": true
   },
   "outputs": [],
   "source": []
  },
  {
   "cell_type": "code",
   "execution_count": null,
   "metadata": {
    "collapsed": true
   },
   "outputs": [],
   "source": []
  },
  {
   "cell_type": "code",
   "execution_count": null,
   "metadata": {
    "collapsed": true
   },
   "outputs": [],
   "source": []
  },
  {
   "cell_type": "code",
   "execution_count": null,
   "metadata": {
    "collapsed": true
   },
   "outputs": [],
   "source": []
  },
  {
   "cell_type": "code",
   "execution_count": null,
   "metadata": {
    "collapsed": true
   },
   "outputs": [],
   "source": []
  },
  {
   "cell_type": "code",
   "execution_count": null,
   "metadata": {
    "collapsed": true
   },
   "outputs": [],
   "source": []
  },
  {
   "cell_type": "code",
   "execution_count": 56,
   "metadata": {
    "collapsed": false,
    "scrolled": false
   },
   "outputs": [
    {
     "name": "stdout",
     "output_type": "stream",
     "text": [
      "10000\n",
      "20000\n"
     ]
    }
   ],
   "source": [
    "t = 0\n",
    "for [h,df] in dictionary.items():\n",
    "    t = t + 1\n",
    "    if (t%10000 == 0):\n",
    "        print(t)\n",
    "    if len(df) > 3:\n",
    "        threshold = df['numberOfTweets'].mean() + 2 * df['numberOfTweets'].std()\n",
    "        df['event'] = df.numberOfTweets.apply(lambda x: x>threshold)"
   ]
  },
  {
   "cell_type": "code",
   "execution_count": 58,
   "metadata": {
    "collapsed": false,
    "scrolled": true
   },
   "outputs": [
    {
     "data": {
      "text/html": [
       "<div>\n",
       "<table border=\"1\" class=\"dataframe\">\n",
       "  <thead>\n",
       "    <tr style=\"text-align: right;\">\n",
       "      <th></th>\n",
       "      <th>text</th>\n",
       "      <th>latitude</th>\n",
       "      <th>hashtag</th>\n",
       "      <th>longitude</th>\n",
       "      <th>numberOfTweets</th>\n",
       "      <th>event</th>\n",
       "    </tr>\n",
       "  </thead>\n",
       "  <tbody>\n",
       "    <tr>\n",
       "      <th>2012-01-23</th>\n",
       "      <td>@ParisMatch comme il se doit ?? Pourquoi, Fran...</td>\n",
       "      <td>46.52130</td>\n",
       "      <td>hollande</td>\n",
       "      <td>6.633350</td>\n",
       "      <td>1</td>\n",
       "      <td>False</td>\n",
       "    </tr>\n",
       "    <tr>\n",
       "      <th>2012-04-20</th>\n",
       "      <td>“@Marion_Z : \"Les françaises sont belles mais ...</td>\n",
       "      <td>46.52430</td>\n",
       "      <td>hollande</td>\n",
       "      <td>6.865800</td>\n",
       "      <td>1</td>\n",
       "      <td>False</td>\n",
       "    </tr>\n",
       "    <tr>\n",
       "      <th>2012-04-22</th>\n",
       "      <td>Mtn imagine Hollande il va au Pays-Bas. A l'aé...</td>\n",
       "      <td>46.68710</td>\n",
       "      <td>hollande</td>\n",
       "      <td>6.916410</td>\n",
       "      <td>1</td>\n",
       "      <td>False</td>\n",
       "    </tr>\n",
       "    <tr>\n",
       "      <th>2012-04-23</th>\n",
       "      <td>Qg de campagne #hollande le changement avec fa...</td>\n",
       "      <td>47.24330</td>\n",
       "      <td>hollande</td>\n",
       "      <td>5.997970</td>\n",
       "      <td>1</td>\n",
       "      <td>False</td>\n",
       "    </tr>\n",
       "    <tr>\n",
       "      <th>2012-04-26</th>\n",
       "      <td>@SARKOZY_2012  président franchement il est pl...</td>\n",
       "      <td>46.58680</td>\n",
       "      <td>hollande</td>\n",
       "      <td>6.602170</td>\n",
       "      <td>1</td>\n",
       "      <td>False</td>\n",
       "    </tr>\n",
       "    <tr>\n",
       "      <th>2012-05-01</th>\n",
       "      <td>@nk_m traité sournoisement #Hollande de : \"Ren...</td>\n",
       "      <td>46.52420</td>\n",
       "      <td>hollande_$$$_hollande</td>\n",
       "      <td>6.866035</td>\n",
       "      <td>2</td>\n",
       "      <td>False</td>\n",
       "    </tr>\n",
       "    <tr>\n",
       "      <th>2012-05-02</th>\n",
       "      <td>#Hollande sait que s'il remonte la TVA sur la ...</td>\n",
       "      <td>46.58650</td>\n",
       "      <td>hollande_$$$_hollande_$$$_hollande_$$$_holland...</td>\n",
       "      <td>6.601790</td>\n",
       "      <td>7</td>\n",
       "      <td>True</td>\n",
       "    </tr>\n",
       "    <tr>\n",
       "      <th>2012-05-03</th>\n",
       "      <td>C'est @NicolasSarkozy qui gagnera car #Holland...</td>\n",
       "      <td>46.67720</td>\n",
       "      <td>hollande_$$$_hollande</td>\n",
       "      <td>7.765290</td>\n",
       "      <td>2</td>\n",
       "      <td>False</td>\n",
       "    </tr>\n",
       "    <tr>\n",
       "      <th>2012-05-04</th>\n",
       "      <td>#Hollande est aimé des jeunes , du moins de ce...</td>\n",
       "      <td>47.62670</td>\n",
       "      <td>hollande_$$$_hollande</td>\n",
       "      <td>6.224710</td>\n",
       "      <td>2</td>\n",
       "      <td>False</td>\n",
       "    </tr>\n",
       "    <tr>\n",
       "      <th>2012-05-05</th>\n",
       "      <td>Dans ma ville l UMP ne communique que sur le d...</td>\n",
       "      <td>47.23960</td>\n",
       "      <td>hollande_$$$_hollande_$$$_hollande_$$$_hollande</td>\n",
       "      <td>6.035700</td>\n",
       "      <td>4</td>\n",
       "      <td>False</td>\n",
       "    </tr>\n",
       "    <tr>\n",
       "      <th>2012-05-06</th>\n",
       "      <td>Fini Stéphane Camus et les Roujons-Macquard, l...</td>\n",
       "      <td>46.67035</td>\n",
       "      <td>hollande_$$$_hollande_$$$_hollande_$$$_holland...</td>\n",
       "      <td>6.501895</td>\n",
       "      <td>8</td>\n",
       "      <td>True</td>\n",
       "    </tr>\n",
       "    <tr>\n",
       "      <th>2012-05-07</th>\n",
       "      <td>Keine Panik. #Hollande kocht auch nur mit Wasser.</td>\n",
       "      <td>47.53710</td>\n",
       "      <td>hollande</td>\n",
       "      <td>9.375400</td>\n",
       "      <td>1</td>\n",
       "      <td>False</td>\n",
       "    </tr>\n",
       "    <tr>\n",
       "      <th>2012-05-08</th>\n",
       "      <td>He maybe taller, but I highly doubt he will be...</td>\n",
       "      <td>45.90270</td>\n",
       "      <td>hollande_$$$_hollande</td>\n",
       "      <td>6.538645</td>\n",
       "      <td>2</td>\n",
       "      <td>False</td>\n",
       "    </tr>\n",
       "    <tr>\n",
       "      <th>2012-05-14</th>\n",
       "      <td>Franchement dit, #Hollande fera meilleure figu...</td>\n",
       "      <td>46.52430</td>\n",
       "      <td>hollande</td>\n",
       "      <td>6.865810</td>\n",
       "      <td>1</td>\n",
       "      <td>False</td>\n",
       "    </tr>\n",
       "    <tr>\n",
       "      <th>2012-05-15</th>\n",
       "      <td>“@moonlight1220: @TwIttNTIN tu as 100% raison,...</td>\n",
       "      <td>46.52425</td>\n",
       "      <td>hollande_$$$_hollande</td>\n",
       "      <td>6.865805</td>\n",
       "      <td>2</td>\n",
       "      <td>False</td>\n",
       "    </tr>\n",
       "    <tr>\n",
       "      <th>2012-05-19</th>\n",
       "      <td>@Ploumfy Merci de rester correct, ok ? Ce n'es...</td>\n",
       "      <td>46.52430</td>\n",
       "      <td>hollande</td>\n",
       "      <td>6.865720</td>\n",
       "      <td>1</td>\n",
       "      <td>False</td>\n",
       "    </tr>\n",
       "  </tbody>\n",
       "</table>\n",
       "</div>"
      ],
      "text/plain": [
       "                                                         text  latitude  \\\n",
       "2012-01-23  @ParisMatch comme il se doit ?? Pourquoi, Fran...  46.52130   \n",
       "2012-04-20  “@Marion_Z : \"Les françaises sont belles mais ...  46.52430   \n",
       "2012-04-22  Mtn imagine Hollande il va au Pays-Bas. A l'aé...  46.68710   \n",
       "2012-04-23  Qg de campagne #hollande le changement avec fa...  47.24330   \n",
       "2012-04-26  @SARKOZY_2012  président franchement il est pl...  46.58680   \n",
       "2012-05-01  @nk_m traité sournoisement #Hollande de : \"Ren...  46.52420   \n",
       "2012-05-02  #Hollande sait que s'il remonte la TVA sur la ...  46.58650   \n",
       "2012-05-03  C'est @NicolasSarkozy qui gagnera car #Holland...  46.67720   \n",
       "2012-05-04  #Hollande est aimé des jeunes , du moins de ce...  47.62670   \n",
       "2012-05-05  Dans ma ville l UMP ne communique que sur le d...  47.23960   \n",
       "2012-05-06  Fini Stéphane Camus et les Roujons-Macquard, l...  46.67035   \n",
       "2012-05-07  Keine Panik. #Hollande kocht auch nur mit Wasser.  47.53710   \n",
       "2012-05-08  He maybe taller, but I highly doubt he will be...  45.90270   \n",
       "2012-05-14  Franchement dit, #Hollande fera meilleure figu...  46.52430   \n",
       "2012-05-15  “@moonlight1220: @TwIttNTIN tu as 100% raison,...  46.52425   \n",
       "2012-05-19  @Ploumfy Merci de rester correct, ok ? Ce n'es...  46.52430   \n",
       "\n",
       "                                                      hashtag  longitude  \\\n",
       "2012-01-23                                           hollande   6.633350   \n",
       "2012-04-20                                           hollande   6.865800   \n",
       "2012-04-22                                           hollande   6.916410   \n",
       "2012-04-23                                           hollande   5.997970   \n",
       "2012-04-26                                           hollande   6.602170   \n",
       "2012-05-01                              hollande_$$$_hollande   6.866035   \n",
       "2012-05-02  hollande_$$$_hollande_$$$_hollande_$$$_holland...   6.601790   \n",
       "2012-05-03                              hollande_$$$_hollande   7.765290   \n",
       "2012-05-04                              hollande_$$$_hollande   6.224710   \n",
       "2012-05-05    hollande_$$$_hollande_$$$_hollande_$$$_hollande   6.035700   \n",
       "2012-05-06  hollande_$$$_hollande_$$$_hollande_$$$_holland...   6.501895   \n",
       "2012-05-07                                           hollande   9.375400   \n",
       "2012-05-08                              hollande_$$$_hollande   6.538645   \n",
       "2012-05-14                                           hollande   6.865810   \n",
       "2012-05-15                              hollande_$$$_hollande   6.865805   \n",
       "2012-05-19                                           hollande   6.865720   \n",
       "\n",
       "            numberOfTweets  event  \n",
       "2012-01-23               1  False  \n",
       "2012-04-20               1  False  \n",
       "2012-04-22               1  False  \n",
       "2012-04-23               1  False  \n",
       "2012-04-26               1  False  \n",
       "2012-05-01               2  False  \n",
       "2012-05-02               7   True  \n",
       "2012-05-03               2  False  \n",
       "2012-05-04               2  False  \n",
       "2012-05-05               4  False  \n",
       "2012-05-06               8   True  \n",
       "2012-05-07               1  False  \n",
       "2012-05-08               2  False  \n",
       "2012-05-14               1  False  \n",
       "2012-05-15               2  False  \n",
       "2012-05-19               1  False  "
      ]
     },
     "execution_count": 58,
     "metadata": {},
     "output_type": "execute_result"
    }
   ],
   "source": [
    "dictionary['hollande']"
   ]
  },
  {
   "cell_type": "code",
   "execution_count": null,
   "metadata": {
    "collapsed": true
   },
   "outputs": [],
   "source": []
  }
 ],
 "metadata": {
  "anaconda-cloud": {},
  "kernelspec": {
   "display_name": "Python [Root]",
   "language": "python",
   "name": "Python [Root]"
  },
  "language_info": {
   "codemirror_mode": {
    "name": "ipython",
    "version": 3
   },
   "file_extension": ".py",
   "mimetype": "text/x-python",
   "name": "python",
   "nbconvert_exporter": "python",
   "pygments_lexer": "ipython3",
   "version": "3.5.2"
  }
 },
 "nbformat": 4,
 "nbformat_minor": 0
}
