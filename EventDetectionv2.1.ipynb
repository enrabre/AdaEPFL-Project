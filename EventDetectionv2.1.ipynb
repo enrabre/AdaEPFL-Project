{
 "cells": [
  {
   "cell_type": "code",
   "execution_count": 45,
   "metadata": {
    "collapsed": false
   },
   "outputs": [],
   "source": [
    "import pandas as pd\n",
    "import numpy as np\n",
    "import os\n",
    "import seaborn as sns\n",
    "import datetime\n",
    "from sklearn.ensemble import RandomForestClassifier\n",
    "from sklearn.cluster import KMeans\n",
    "from sklearn.model_selection import KFold\n",
    "from sklearn import metrics\n",
    "import matplotlib.pyplot as plt\n",
    "from functools import reduce\n",
    "import math\n",
    "from collections import Counter\n",
    "import csv\n",
    "from datetime import datetime\n",
    "import re\n",
    "import copy\n",
    "import json\n",
    "from datetime import timedelta\n",
    "%matplotlib inline"
   ]
  },
  {
   "cell_type": "code",
   "execution_count": 46,
   "metadata": {
    "collapsed": true
   },
   "outputs": [],
   "source": [
    "def now():\n",
    "    return str(datetime.now().time())[:8]\n",
    "def pr(strToPrint):\n",
    "    print(now() + ' '+ strToPrint)\n",
    "\n",
    "from IPython.display import Audio\n",
    "sound_file = 'beep.wav'\n",
    "# pd.set_option('display.max_colwidth', -1)"
   ]
  },
  {
   "cell_type": "markdown",
   "metadata": {},
   "source": [
    "## Importing data"
   ]
  },
  {
   "cell_type": "markdown",
   "metadata": {},
   "source": [
    "Importing a sample of the dataset:"
   ]
  },
  {
   "cell_type": "code",
   "execution_count": 47,
   "metadata": {
    "collapsed": true
   },
   "outputs": [],
   "source": [
    "pickle_filename = os.path.join('data','head_100k_pickle.pkl')\n",
    "tw = pd.read_pickle(pickle_filename)"
   ]
  },
  {
   "cell_type": "markdown",
   "metadata": {},
   "source": [
    "Importing the whole dataset"
   ]
  },
  {
   "cell_type": "code",
   "execution_count": 48,
   "metadata": {
    "collapsed": false
   },
   "outputs": [
    {
     "name": "stdout",
     "output_type": "stream",
     "text": [
      "11:35:07 Starting to read file... (3 min)\n"
     ]
    },
    {
     "name": "stderr",
     "output_type": "stream",
     "text": [
      "C:\\Users\\Daniel\\Anaconda3\\envs\\ADA-kernel\\lib\\site-packages\\IPython\\core\\interactiveshell.py:2717: DtypeWarning: Columns (0,1,2,3,5,6,8,9,10,11,12,13,14,15,16,19) have mixed types. Specify dtype option on import or set low_memory=False.\n",
      "  interactivity=interactivity, compiler=compiler, result=result)\n"
     ]
    },
    {
     "name": "stdout",
     "output_type": "stream",
     "text": [
      "11:37:34 File is loaded!\n"
     ]
    }
   ],
   "source": [
    "columns_header = ['id', 'userId', 'createdAt', 'text', 'longitude', 'latitude', 'placeId',\n",
    "                  'inReplyTo', 'source', 'truncated', 'placeLatitude', 'placeLongitude', 'sourceName', 'sourceUrl',\n",
    "                 'userName', 'screenName', 'followersCount', 'friendsCount', 'statusesCount',\n",
    "                 'userLocation']\n",
    "\n",
    "filename = os.path.join('data','twex.tsv') # 'sample.tsv')\n",
    "pr('Starting to read file... (3 min)')\n",
    "tw = pd.read_csv(filename, sep='\\t', encoding='utf-8', escapechar='\\\\', names=columns_header,\n",
    "                      quoting=csv.QUOTE_NONE, na_values='N', header=None)\n",
    "\n",
    "pr('File is loaded!')\n",
    "# Audio(url=sound_file, autoplay=True)"
   ]
  },
  {
   "cell_type": "code",
   "execution_count": 49,
   "metadata": {
    "collapsed": false
   },
   "outputs": [
    {
     "data": {
      "text/html": [
       "<div>\n",
       "<table border=\"1\" class=\"dataframe\">\n",
       "  <thead>\n",
       "    <tr style=\"text-align: right;\">\n",
       "      <th></th>\n",
       "      <th>id</th>\n",
       "      <th>userId</th>\n",
       "      <th>createdAt</th>\n",
       "      <th>text</th>\n",
       "      <th>longitude</th>\n",
       "      <th>latitude</th>\n",
       "      <th>placeId</th>\n",
       "      <th>inReplyTo</th>\n",
       "      <th>source</th>\n",
       "      <th>truncated</th>\n",
       "      <th>placeLatitude</th>\n",
       "      <th>placeLongitude</th>\n",
       "      <th>sourceName</th>\n",
       "      <th>sourceUrl</th>\n",
       "      <th>userName</th>\n",
       "      <th>screenName</th>\n",
       "      <th>followersCount</th>\n",
       "      <th>friendsCount</th>\n",
       "      <th>statusesCount</th>\n",
       "      <th>userLocation</th>\n",
       "    </tr>\n",
       "  </thead>\n",
       "  <tbody>\n",
       "    <tr>\n",
       "      <th>0</th>\n",
       "      <td>9514097914</td>\n",
       "      <td>1.7341e+07</td>\n",
       "      <td>2010-02-23 05:55:51</td>\n",
       "      <td>Guuuuten Morgen! :-)</td>\n",
       "      <td>7.43926</td>\n",
       "      <td>46.9489</td>\n",
       "      <td>NaN</td>\n",
       "      <td>NaN</td>\n",
       "      <td>197</td>\n",
       "      <td>NaN</td>\n",
       "      <td>NaN</td>\n",
       "      <td>NaN</td>\n",
       "      <td>TwitBird</td>\n",
       "      <td>http://www.nibirutech.com</td>\n",
       "      <td>Tilman Jentzsch</td>\n",
       "      <td>blickwechsel</td>\n",
       "      <td>586</td>\n",
       "      <td>508.0</td>\n",
       "      <td>9016.0</td>\n",
       "      <td>Bern, Switzerland</td>\n",
       "    </tr>\n",
       "    <tr>\n",
       "      <th>1</th>\n",
       "      <td>9514846412</td>\n",
       "      <td>7.19828e+06</td>\n",
       "      <td>2010-02-23 06:22:40</td>\n",
       "      <td>Still the best coffee in town — at La Stanza h...</td>\n",
       "      <td>8.53781</td>\n",
       "      <td>47.3678</td>\n",
       "      <td>NaN</td>\n",
       "      <td>NaN</td>\n",
       "      <td>550</td>\n",
       "      <td>NaN</td>\n",
       "      <td>NaN</td>\n",
       "      <td>NaN</td>\n",
       "      <td>Gowalla</td>\n",
       "      <td>http://gowalla.com/</td>\n",
       "      <td>Nico Luchsinger</td>\n",
       "      <td>halbluchs</td>\n",
       "      <td>1820</td>\n",
       "      <td>703.0</td>\n",
       "      <td>4687.0</td>\n",
       "      <td>Zurich, Switzerland</td>\n",
       "    </tr>\n",
       "  </tbody>\n",
       "</table>\n",
       "</div>"
      ],
      "text/plain": [
       "           id       userId            createdAt  \\\n",
       "0  9514097914   1.7341e+07  2010-02-23 05:55:51   \n",
       "1  9514846412  7.19828e+06  2010-02-23 06:22:40   \n",
       "\n",
       "                                                text  longitude latitude  \\\n",
       "0                               Guuuuten Morgen! :-)    7.43926  46.9489   \n",
       "1  Still the best coffee in town — at La Stanza h...    8.53781  47.3678   \n",
       "\n",
       "  placeId  inReplyTo source truncated placeLatitude placeLongitude sourceName  \\\n",
       "0     NaN        NaN    197       NaN           NaN            NaN   TwitBird   \n",
       "1     NaN        NaN    550       NaN           NaN            NaN    Gowalla   \n",
       "\n",
       "                   sourceUrl         userName    screenName followersCount  \\\n",
       "0  http://www.nibirutech.com  Tilman Jentzsch  blickwechsel            586   \n",
       "1        http://gowalla.com/  Nico Luchsinger     halbluchs           1820   \n",
       "\n",
       "   friendsCount  statusesCount         userLocation  \n",
       "0         508.0         9016.0    Bern, Switzerland  \n",
       "1         703.0         4687.0  Zurich, Switzerland  "
      ]
     },
     "execution_count": 49,
     "metadata": {},
     "output_type": "execute_result"
    }
   ],
   "source": [
    "tw.head(2)"
   ]
  },
  {
   "cell_type": "markdown",
   "metadata": {},
   "source": [
    "## Extrating hashtags"
   ]
  },
  {
   "cell_type": "code",
   "execution_count": 50,
   "metadata": {
    "collapsed": true
   },
   "outputs": [],
   "source": [
    "def extract_hashtags(text):\n",
    "    ht_list = re.findall(r\"#(\\w+)\", text)\n",
    "    non_empty_hts = list(filter((lambda ht: ht != []), ht_list))\n",
    "    lowerCharList = [ht.lower() for ht in non_empty_hts]\n",
    "    return lowerCharList"
   ]
  },
  {
   "cell_type": "code",
   "execution_count": 51,
   "metadata": {
    "collapsed": false
   },
   "outputs": [
    {
     "name": "stdout",
     "output_type": "stream",
     "text": [
      "11:37:34 Making hashtags... (2 min)\n",
      "11:39:25 Done.\n"
     ]
    }
   ],
   "source": [
    "pr('Making hashtags... (2 min)')\n",
    "tw['hashtag'] = np.nan\n",
    "tw.hashtag = tw.text.apply(lambda x: extract_hashtags(str(x)))\n",
    "twh = tw.ix[tw.hashtag.apply(lambda x: len(x) != 0)]\n",
    "pr('Done.')"
   ]
  },
  {
   "cell_type": "code",
   "execution_count": 52,
   "metadata": {
    "collapsed": false
   },
   "outputs": [
    {
     "data": {
      "text/html": [
       "<div>\n",
       "<table border=\"1\" class=\"dataframe\">\n",
       "  <thead>\n",
       "    <tr style=\"text-align: right;\">\n",
       "      <th></th>\n",
       "      <th>id</th>\n",
       "      <th>userId</th>\n",
       "      <th>createdAt</th>\n",
       "      <th>text</th>\n",
       "      <th>longitude</th>\n",
       "      <th>latitude</th>\n",
       "      <th>placeId</th>\n",
       "      <th>inReplyTo</th>\n",
       "      <th>source</th>\n",
       "      <th>truncated</th>\n",
       "      <th>...</th>\n",
       "      <th>placeLongitude</th>\n",
       "      <th>sourceName</th>\n",
       "      <th>sourceUrl</th>\n",
       "      <th>userName</th>\n",
       "      <th>screenName</th>\n",
       "      <th>followersCount</th>\n",
       "      <th>friendsCount</th>\n",
       "      <th>statusesCount</th>\n",
       "      <th>userLocation</th>\n",
       "      <th>hashtag</th>\n",
       "    </tr>\n",
       "  </thead>\n",
       "  <tbody>\n",
       "    <tr>\n",
       "      <th>8</th>\n",
       "      <td>9519737890</td>\n",
       "      <td>1.46579e+07</td>\n",
       "      <td>2010-02-23 09:59:41</td>\n",
       "      <td>Magic spells run off after midnight, I guess s...</td>\n",
       "      <td>6.13870</td>\n",
       "      <td>46.175</td>\n",
       "      <td>NaN</td>\n",
       "      <td>NaN</td>\n",
       "      <td>1</td>\n",
       "      <td>NaN</td>\n",
       "      <td>...</td>\n",
       "      <td>NaN</td>\n",
       "      <td>Twitter for iPhone</td>\n",
       "      <td>http://twitter.com/#!/download/iphone</td>\n",
       "      <td>Javier Belmonte</td>\n",
       "      <td>vichango</td>\n",
       "      <td>167</td>\n",
       "      <td>277.0</td>\n",
       "      <td>2885.0</td>\n",
       "      <td>Geneva, Switzerland</td>\n",
       "      <td>[fb]</td>\n",
       "    </tr>\n",
       "    <tr>\n",
       "      <th>10</th>\n",
       "      <td>9521789689</td>\n",
       "      <td>9.96202e+06</td>\n",
       "      <td>2010-02-23 11:28:27</td>\n",
       "      <td>Limitas of public transportation! No taxi, rai...</td>\n",
       "      <td>6.33641</td>\n",
       "      <td>46.4631</td>\n",
       "      <td>NaN</td>\n",
       "      <td>NaN</td>\n",
       "      <td>550</td>\n",
       "      <td>NaN</td>\n",
       "      <td>...</td>\n",
       "      <td>NaN</td>\n",
       "      <td>Gowalla</td>\n",
       "      <td>http://gowalla.com/</td>\n",
       "      <td>Thomas Winter</td>\n",
       "      <td>thwinter</td>\n",
       "      <td>1070</td>\n",
       "      <td>1359.0</td>\n",
       "      <td>3349.0</td>\n",
       "      <td>Hettlingen CH / SanJose Ca</td>\n",
       "      <td>[yam]</td>\n",
       "    </tr>\n",
       "  </tbody>\n",
       "</table>\n",
       "<p>2 rows × 21 columns</p>\n",
       "</div>"
      ],
      "text/plain": [
       "            id       userId            createdAt  \\\n",
       "8   9519737890  1.46579e+07  2010-02-23 09:59:41   \n",
       "10  9521789689  9.96202e+06  2010-02-23 11:28:27   \n",
       "\n",
       "                                                 text  longitude latitude  \\\n",
       "8   Magic spells run off after midnight, I guess s...    6.13870   46.175   \n",
       "10  Limitas of public transportation! No taxi, rai...    6.33641  46.4631   \n",
       "\n",
       "   placeId  inReplyTo source truncated   ...   placeLongitude  \\\n",
       "8      NaN        NaN      1       NaN   ...              NaN   \n",
       "10     NaN        NaN    550       NaN   ...              NaN   \n",
       "\n",
       "            sourceName                              sourceUrl  \\\n",
       "8   Twitter for iPhone  http://twitter.com/#!/download/iphone   \n",
       "10             Gowalla                    http://gowalla.com/   \n",
       "\n",
       "           userName screenName followersCount friendsCount  statusesCount  \\\n",
       "8   Javier Belmonte   vichango            167        277.0         2885.0   \n",
       "10    Thomas Winter   thwinter           1070       1359.0         3349.0   \n",
       "\n",
       "                  userLocation hashtag  \n",
       "8          Geneva, Switzerland    [fb]  \n",
       "10  Hettlingen CH / SanJose Ca   [yam]  \n",
       "\n",
       "[2 rows x 21 columns]"
      ]
     },
     "execution_count": 52,
     "metadata": {},
     "output_type": "execute_result"
    }
   ],
   "source": [
    "twh.head(2)"
   ]
  },
  {
   "cell_type": "markdown",
   "metadata": {},
   "source": [
    "## Cleaning data and making date index"
   ]
  },
  {
   "cell_type": "code",
   "execution_count": 53,
   "metadata": {
    "collapsed": false
   },
   "outputs": [
    {
     "name": "stdout",
     "output_type": "stream",
     "text": [
      "The data have been reduced from 3875280 tweets to 3875280 tweets.\n"
     ]
    }
   ],
   "source": [
    "tw1 = twh.dropna(axis=0, how='any', subset=['text', 'createdAt'])\n",
    "print('The data have been reduced from {} tweets to {} tweets.'.format(len(twh), len(tw1)))"
   ]
  },
  {
   "cell_type": "code",
   "execution_count": 54,
   "metadata": {
    "collapsed": false
   },
   "outputs": [
    {
     "name": "stdout",
     "output_type": "stream",
     "text": [
      "11:39:28 Removing bad dates...\n",
      "11:39:31 Finished.\n"
     ]
    }
   ],
   "source": [
    "pr('Removing bad dates...')\n",
    "twhCleanDate = tw1[tw1['createdAt'].str.len() == 19]\n",
    "pr('Finished.')"
   ]
  },
  {
   "cell_type": "code",
   "execution_count": 55,
   "metadata": {
    "collapsed": false
   },
   "outputs": [
    {
     "name": "stdout",
     "output_type": "stream",
     "text": [
      "11:39:31 Starting to examine dates...\n",
      "11:39:33 There are 0 dates that cannot be transformed.\n"
     ]
    }
   ],
   "source": [
    "pr('Starting to examine dates...')\n",
    "import warnings\n",
    "warnings.filterwarnings('ignore')\n",
    "datetime_serie = twhCleanDate['createdAt'].convert_objects(convert_dates='coerce')\n",
    "dateNotConvertible = datetime_serie[pd.isnull(datetime_serie)]\n",
    "warnings.filterwarnings('default')\n",
    "pr('There are {} dates that cannot be transformed.'.format(len(dateNotConvertible)))"
   ]
  },
  {
   "cell_type": "code",
   "execution_count": 56,
   "metadata": {
    "collapsed": false,
    "scrolled": false
   },
   "outputs": [
    {
     "name": "stdout",
     "output_type": "stream",
     "text": [
      "11:39:33 Starting copy...\n",
      "11:39:34 Converting to datetime...\n",
      "11:39:37 Setting up new indices...\n",
      "11:39:37 Deleting old \"createdAt\" column...\n",
      "11:39:37 Done!\n"
     ]
    },
    {
     "data": {
      "text/html": [
       "<div>\n",
       "<table border=\"1\" class=\"dataframe\">\n",
       "  <thead>\n",
       "    <tr style=\"text-align: right;\">\n",
       "      <th></th>\n",
       "      <th>id</th>\n",
       "      <th>userId</th>\n",
       "      <th>text</th>\n",
       "      <th>longitude</th>\n",
       "      <th>latitude</th>\n",
       "      <th>placeId</th>\n",
       "      <th>inReplyTo</th>\n",
       "      <th>source</th>\n",
       "      <th>truncated</th>\n",
       "      <th>placeLatitude</th>\n",
       "      <th>placeLongitude</th>\n",
       "      <th>sourceName</th>\n",
       "      <th>sourceUrl</th>\n",
       "      <th>userName</th>\n",
       "      <th>screenName</th>\n",
       "      <th>followersCount</th>\n",
       "      <th>friendsCount</th>\n",
       "      <th>statusesCount</th>\n",
       "      <th>userLocation</th>\n",
       "      <th>hashtag</th>\n",
       "    </tr>\n",
       "    <tr>\n",
       "      <th>createdAt</th>\n",
       "      <th></th>\n",
       "      <th></th>\n",
       "      <th></th>\n",
       "      <th></th>\n",
       "      <th></th>\n",
       "      <th></th>\n",
       "      <th></th>\n",
       "      <th></th>\n",
       "      <th></th>\n",
       "      <th></th>\n",
       "      <th></th>\n",
       "      <th></th>\n",
       "      <th></th>\n",
       "      <th></th>\n",
       "      <th></th>\n",
       "      <th></th>\n",
       "      <th></th>\n",
       "      <th></th>\n",
       "      <th></th>\n",
       "      <th></th>\n",
       "    </tr>\n",
       "  </thead>\n",
       "  <tbody>\n",
       "    <tr>\n",
       "      <th>2010-02-23 09:59:41</th>\n",
       "      <td>9519737890</td>\n",
       "      <td>1.46579e+07</td>\n",
       "      <td>Magic spells run off after midnight, I guess s...</td>\n",
       "      <td>6.13870</td>\n",
       "      <td>46.175</td>\n",
       "      <td>NaN</td>\n",
       "      <td>NaN</td>\n",
       "      <td>1</td>\n",
       "      <td>NaN</td>\n",
       "      <td>NaN</td>\n",
       "      <td>NaN</td>\n",
       "      <td>Twitter for iPhone</td>\n",
       "      <td>http://twitter.com/#!/download/iphone</td>\n",
       "      <td>Javier Belmonte</td>\n",
       "      <td>vichango</td>\n",
       "      <td>167</td>\n",
       "      <td>277.0</td>\n",
       "      <td>2885.0</td>\n",
       "      <td>Geneva, Switzerland</td>\n",
       "      <td>[fb]</td>\n",
       "    </tr>\n",
       "    <tr>\n",
       "      <th>2010-02-23 11:28:27</th>\n",
       "      <td>9521789689</td>\n",
       "      <td>9.96202e+06</td>\n",
       "      <td>Limitas of public transportation! No taxi, rai...</td>\n",
       "      <td>6.33641</td>\n",
       "      <td>46.4631</td>\n",
       "      <td>NaN</td>\n",
       "      <td>NaN</td>\n",
       "      <td>550</td>\n",
       "      <td>NaN</td>\n",
       "      <td>NaN</td>\n",
       "      <td>NaN</td>\n",
       "      <td>Gowalla</td>\n",
       "      <td>http://gowalla.com/</td>\n",
       "      <td>Thomas Winter</td>\n",
       "      <td>thwinter</td>\n",
       "      <td>1070</td>\n",
       "      <td>1359.0</td>\n",
       "      <td>3349.0</td>\n",
       "      <td>Hettlingen CH / SanJose Ca</td>\n",
       "      <td>[yam]</td>\n",
       "    </tr>\n",
       "  </tbody>\n",
       "</table>\n",
       "</div>"
      ],
      "text/plain": [
       "                             id       userId  \\\n",
       "createdAt                                      \n",
       "2010-02-23 09:59:41  9519737890  1.46579e+07   \n",
       "2010-02-23 11:28:27  9521789689  9.96202e+06   \n",
       "\n",
       "                                                                  text  \\\n",
       "createdAt                                                                \n",
       "2010-02-23 09:59:41  Magic spells run off after midnight, I guess s...   \n",
       "2010-02-23 11:28:27  Limitas of public transportation! No taxi, rai...   \n",
       "\n",
       "                     longitude latitude placeId  inReplyTo source truncated  \\\n",
       "createdAt                                                                     \n",
       "2010-02-23 09:59:41    6.13870   46.175     NaN        NaN      1       NaN   \n",
       "2010-02-23 11:28:27    6.33641  46.4631     NaN        NaN    550       NaN   \n",
       "\n",
       "                    placeLatitude placeLongitude          sourceName  \\\n",
       "createdAt                                                              \n",
       "2010-02-23 09:59:41           NaN            NaN  Twitter for iPhone   \n",
       "2010-02-23 11:28:27           NaN            NaN             Gowalla   \n",
       "\n",
       "                                                 sourceUrl         userName  \\\n",
       "createdAt                                                                     \n",
       "2010-02-23 09:59:41  http://twitter.com/#!/download/iphone  Javier Belmonte   \n",
       "2010-02-23 11:28:27                    http://gowalla.com/    Thomas Winter   \n",
       "\n",
       "                    screenName followersCount  friendsCount  statusesCount  \\\n",
       "createdAt                                                                    \n",
       "2010-02-23 09:59:41   vichango            167         277.0         2885.0   \n",
       "2010-02-23 11:28:27   thwinter           1070        1359.0         3349.0   \n",
       "\n",
       "                                   userLocation hashtag  \n",
       "createdAt                                                \n",
       "2010-02-23 09:59:41         Geneva, Switzerland    [fb]  \n",
       "2010-02-23 11:28:27  Hettlingen CH / SanJose Ca   [yam]  "
      ]
     },
     "execution_count": 56,
     "metadata": {},
     "output_type": "execute_result"
    }
   ],
   "source": [
    "pr('Starting copy...') # (to avoid transformation problems)\n",
    "tw5 = twhCleanDate.copy()\n",
    "pr('Converting to datetime...')\n",
    "tw5['createdAt'] = pd.to_datetime(twhCleanDate['createdAt'])\n",
    "pr('Setting up new indices...')\n",
    "tw5.index = tw5['createdAt']\n",
    "pr('Deleting old \"createdAt\" column...')\n",
    "del tw5['createdAt']\n",
    "pr('Done!')\n",
    "tw5.head(2)"
   ]
  },
  {
   "cell_type": "code",
   "execution_count": 57,
   "metadata": {
    "collapsed": false
   },
   "outputs": [
    {
     "data": {
      "text/plain": [
       "createdAt\n",
       "2010-02-23 09:59:41               [fb]\n",
       "2010-02-23 11:28:27              [yam]\n",
       "2010-02-23 17:47:11          [24, vfb]\n",
       "2010-02-23 18:19:03    [iphoneography]\n",
       "2010-02-23 18:31:46     [partnermonth]\n",
       "2010-02-24 06:09:23      [insider, fb]\n",
       "Name: hashtag, dtype: object"
      ]
     },
     "execution_count": 57,
     "metadata": {},
     "output_type": "execute_result"
    }
   ],
   "source": [
    "tw5['hashtag'][:6]"
   ]
  },
  {
   "cell_type": "markdown",
   "metadata": {},
   "source": [
    "## Let's put one hashtag per row"
   ]
  },
  {
   "cell_type": "markdown",
   "metadata": {
    "collapsed": false
   },
   "source": [
    "We will make a dataframe with one row = one hashtag. This will be done by going through the dataframe, and making in parallel a list of rows (with 1 hashtag per row) that needs to be added to the old dataframe."
   ]
  },
  {
   "cell_type": "code",
   "execution_count": 58,
   "metadata": {
    "collapsed": false
   },
   "outputs": [],
   "source": [
    "addedHashtagsRowsList = []\n",
    "def multiplyHashtagRows(row, columns):\n",
    "    '''\n",
    "    Examine each row. If there are multiple hashtags, it will return the first one.\n",
    "    (so the first one will replace the list of hashtags in the df). Then for all the next ones,\n",
    "    it will make a copy of the row in the addedHashtagsRowsList, (in a dictionary format).\n",
    "    So this dictionary can in the end be transformed in a DF and added to the original DF.\n",
    "    (The speed is increased a lot by doing it this way!)\n",
    "    '''\n",
    "    htList = row.hashtag\n",
    "    if len(htList) > 1:\n",
    "        ## Making the dictionary\n",
    "        addedHashtag = {}\n",
    "        addedHashtag['createdAt'] = row.name #the df index\n",
    "        for col in columns:\n",
    "            addedHashtag[col] = row[col]\n",
    "        ## Copying the dict for each hashtag\n",
    "        i = 1\n",
    "        while i < len(htList) :\n",
    "            deepCopy = copy.deepcopy(addedHashtag)\n",
    "            deepCopy['hashtag'] = htList[i]\n",
    "            addedHashtagsRowsList.append(deepCopy)\n",
    "            i+=1\n",
    "    return htList[0] # return the first hashtag"
   ]
  },
  {
   "cell_type": "code",
   "execution_count": 59,
   "metadata": {
    "collapsed": false
   },
   "outputs": [
    {
     "name": "stdout",
     "output_type": "stream",
     "text": [
      "11:39:38 Multiplying the hashtag rows... (around 10 min)\n",
      "11:48:37 Finished! 3350600 rows will be added to the dataframe!\n"
     ]
    }
   ],
   "source": [
    "addedHashtagsRowsList = []\n",
    "tw5_1 = tw5.copy()\n",
    "pr('Multiplying the hashtag rows... (around 10 min)')\n",
    "tw5_1['hashtag'] = tw5.apply(multiplyHashtagRows, args=[tw5.columns,], axis=1)\n",
    "pr('Finished! {} rows will be added to the dataframe!'.format(len(addedHashtagsRowsList)))"
   ]
  },
  {
   "cell_type": "code",
   "execution_count": 60,
   "metadata": {
    "collapsed": false
   },
   "outputs": [
    {
     "name": "stdout",
     "output_type": "stream",
     "text": [
      "11:48:37 Starting to make the new dataframe with additionnal rows..\n",
      "11:48:50 Starting to append the two df... Old df size = 3875280\n",
      "11:48:56 Done! New df size = 7225880\n"
     ]
    }
   ],
   "source": [
    "pr('Starting to make the new dataframe with additionnal rows..')\n",
    "addedHashtagsDf = pd.DataFrame(addedHashtagsRowsList)\n",
    "addedHashtagsDf.set_index(['createdAt'], inplace=True)\n",
    "pr('Starting to append the two df... Old df size = {}'.format(len(tw5_1)))\n",
    "tw6 = tw5_1.append(addedHashtagsDf)\n",
    "pr('Done! New df size = {}'.format(len(tw6)))"
   ]
  },
  {
   "cell_type": "code",
   "execution_count": 61,
   "metadata": {
    "collapsed": false
   },
   "outputs": [
    {
     "name": "stdout",
     "output_type": "stream",
     "text": [
      "Example hahshtag:\n"
     ]
    },
    {
     "data": {
      "text/html": [
       "<div>\n",
       "<table border=\"1\" class=\"dataframe\">\n",
       "  <thead>\n",
       "    <tr style=\"text-align: right;\">\n",
       "      <th></th>\n",
       "      <th>followersCount</th>\n",
       "      <th>friendsCount</th>\n",
       "      <th>hashtag</th>\n",
       "      <th>id</th>\n",
       "      <th>inReplyTo</th>\n",
       "      <th>latitude</th>\n",
       "      <th>longitude</th>\n",
       "      <th>placeId</th>\n",
       "      <th>placeLatitude</th>\n",
       "      <th>placeLongitude</th>\n",
       "      <th>screenName</th>\n",
       "      <th>source</th>\n",
       "      <th>sourceName</th>\n",
       "      <th>sourceUrl</th>\n",
       "      <th>statusesCount</th>\n",
       "      <th>text</th>\n",
       "      <th>truncated</th>\n",
       "      <th>userId</th>\n",
       "      <th>userLocation</th>\n",
       "      <th>userName</th>\n",
       "    </tr>\n",
       "    <tr>\n",
       "      <th>createdAt</th>\n",
       "      <th></th>\n",
       "      <th></th>\n",
       "      <th></th>\n",
       "      <th></th>\n",
       "      <th></th>\n",
       "      <th></th>\n",
       "      <th></th>\n",
       "      <th></th>\n",
       "      <th></th>\n",
       "      <th></th>\n",
       "      <th></th>\n",
       "      <th></th>\n",
       "      <th></th>\n",
       "      <th></th>\n",
       "      <th></th>\n",
       "      <th></th>\n",
       "      <th></th>\n",
       "      <th></th>\n",
       "      <th></th>\n",
       "      <th></th>\n",
       "    </tr>\n",
       "  </thead>\n",
       "  <tbody>\n",
       "    <tr>\n",
       "      <th>2011-07-24 16:03:13</th>\n",
       "      <td>1121</td>\n",
       "      <td>763.0</td>\n",
       "      <td>vfb</td>\n",
       "      <td>95162125584039936</td>\n",
       "      <td>9.501397e+16</td>\n",
       "      <td>NaN</td>\n",
       "      <td>NaN</td>\n",
       "      <td>e401fb8eb4e7595a</td>\n",
       "      <td>47.5356</td>\n",
       "      <td>9.14004</td>\n",
       "      <td>eLd0raDo</td>\n",
       "      <td>14</td>\n",
       "      <td>Tweetbot for iOS</td>\n",
       "      <td>http://tapbots.com/tweetbot</td>\n",
       "      <td>6735.0</td>\n",
       "      <td>@mikstweed Wie lange ist es her, dass der #vfb...</td>\n",
       "      <td>NaN</td>\n",
       "      <td>921241</td>\n",
       "      <td>Kreuzlingen, TG, Switzerland</td>\n",
       "      <td>Markus Tressl</td>\n",
       "    </tr>\n",
       "    <tr>\n",
       "      <th>2012-07-29 16:15:54</th>\n",
       "      <td>1008</td>\n",
       "      <td>767.0</td>\n",
       "      <td>vfb</td>\n",
       "      <td>229611214802669570</td>\n",
       "      <td>NaN</td>\n",
       "      <td>47.6683</td>\n",
       "      <td>9.48077</td>\n",
       "      <td>7e00050f2f9230bc</td>\n",
       "      <td>47.6684</td>\n",
       "      <td>9.47092</td>\n",
       "      <td>jens_nagler</td>\n",
       "      <td>1</td>\n",
       "      <td>Twitter for iPhone</td>\n",
       "      <td>http://twitter.com/#!/download/iphone</td>\n",
       "      <td>1697.0</td>\n",
       "      <td>Man sollte ja nicht zu viel reininterpretieren...</td>\n",
       "      <td>NaN</td>\n",
       "      <td>5.71385e+07</td>\n",
       "      <td>Esslingen</td>\n",
       "      <td>Jens Nagler</td>\n",
       "    </tr>\n",
       "    <tr>\n",
       "      <th>2012-07-29 16:21:45</th>\n",
       "      <td>1008</td>\n",
       "      <td>767.0</td>\n",
       "      <td>vfb</td>\n",
       "      <td>229612686525231104</td>\n",
       "      <td>2.296124e+17</td>\n",
       "      <td>47.6682</td>\n",
       "      <td>9.48068</td>\n",
       "      <td>7e00050f2f9230bc</td>\n",
       "      <td>47.6684</td>\n",
       "      <td>9.47092</td>\n",
       "      <td>jens_nagler</td>\n",
       "      <td>1</td>\n",
       "      <td>Twitter for iPhone</td>\n",
       "      <td>http://twitter.com/#!/download/iphone</td>\n",
       "      <td>1697.0</td>\n",
       "      <td>@LLcurly Das Besondere daran ist, dass nur zwe...</td>\n",
       "      <td>NaN</td>\n",
       "      <td>5.71385e+07</td>\n",
       "      <td>Esslingen</td>\n",
       "      <td>Jens Nagler</td>\n",
       "    </tr>\n",
       "  </tbody>\n",
       "</table>\n",
       "</div>"
      ],
      "text/plain": [
       "                    followersCount  friendsCount hashtag                  id  \\\n",
       "createdAt                                                                      \n",
       "2011-07-24 16:03:13           1121         763.0     vfb   95162125584039936   \n",
       "2012-07-29 16:15:54           1008         767.0     vfb  229611214802669570   \n",
       "2012-07-29 16:21:45           1008         767.0     vfb  229612686525231104   \n",
       "\n",
       "                        inReplyTo latitude  longitude           placeId  \\\n",
       "createdAt                                                                 \n",
       "2011-07-24 16:03:13  9.501397e+16      NaN        NaN  e401fb8eb4e7595a   \n",
       "2012-07-29 16:15:54           NaN  47.6683    9.48077  7e00050f2f9230bc   \n",
       "2012-07-29 16:21:45  2.296124e+17  47.6682    9.48068  7e00050f2f9230bc   \n",
       "\n",
       "                    placeLatitude placeLongitude   screenName source  \\\n",
       "createdAt                                                              \n",
       "2011-07-24 16:03:13       47.5356        9.14004     eLd0raDo     14   \n",
       "2012-07-29 16:15:54       47.6684        9.47092  jens_nagler      1   \n",
       "2012-07-29 16:21:45       47.6684        9.47092  jens_nagler      1   \n",
       "\n",
       "                             sourceName  \\\n",
       "createdAt                                 \n",
       "2011-07-24 16:03:13    Tweetbot for iOS   \n",
       "2012-07-29 16:15:54  Twitter for iPhone   \n",
       "2012-07-29 16:21:45  Twitter for iPhone   \n",
       "\n",
       "                                                 sourceUrl  statusesCount  \\\n",
       "createdAt                                                                   \n",
       "2011-07-24 16:03:13            http://tapbots.com/tweetbot         6735.0   \n",
       "2012-07-29 16:15:54  http://twitter.com/#!/download/iphone         1697.0   \n",
       "2012-07-29 16:21:45  http://twitter.com/#!/download/iphone         1697.0   \n",
       "\n",
       "                                                                  text  \\\n",
       "createdAt                                                                \n",
       "2011-07-24 16:03:13  @mikstweed Wie lange ist es her, dass der #vfb...   \n",
       "2012-07-29 16:15:54  Man sollte ja nicht zu viel reininterpretieren...   \n",
       "2012-07-29 16:21:45  @LLcurly Das Besondere daran ist, dass nur zwe...   \n",
       "\n",
       "                    truncated       userId                  userLocation  \\\n",
       "createdAt                                                                  \n",
       "2011-07-24 16:03:13       NaN       921241  Kreuzlingen, TG, Switzerland   \n",
       "2012-07-29 16:15:54       NaN  5.71385e+07                     Esslingen   \n",
       "2012-07-29 16:21:45       NaN  5.71385e+07                     Esslingen   \n",
       "\n",
       "                          userName  \n",
       "createdAt                           \n",
       "2011-07-24 16:03:13  Markus Tressl  \n",
       "2012-07-29 16:15:54    Jens Nagler  \n",
       "2012-07-29 16:21:45    Jens Nagler  "
      ]
     },
     "execution_count": 61,
     "metadata": {},
     "output_type": "execute_result"
    }
   ],
   "source": [
    "print('Example hahshtag:')\n",
    "tw6[tw6['hashtag'] == addedHashtagsRowsList[0]['hashtag']].head(3)"
   ]
  },
  {
   "cell_type": "code",
   "execution_count": 62,
   "metadata": {
    "collapsed": false
   },
   "outputs": [
    {
     "data": {
      "text/plain": [
       "createdAt\n",
       "2010-02-23 09:59:41               fb\n",
       "2010-02-23 11:28:27              yam\n",
       "2010-02-23 17:47:11               24\n",
       "2010-02-23 18:19:03    iphoneography\n",
       "2010-02-23 18:31:46     partnermonth\n",
       "Name: hashtag, dtype: object"
      ]
     },
     "execution_count": 62,
     "metadata": {},
     "output_type": "execute_result"
    }
   ],
   "source": [
    "tw6.hashtag.head()"
   ]
  },
  {
   "cell_type": "markdown",
   "metadata": {},
   "source": [
    "## Grouping per hashtags per day"
   ]
  },
  {
   "cell_type": "code",
   "execution_count": 63,
   "metadata": {
    "collapsed": false
   },
   "outputs": [],
   "source": [
    "tw6.dropna(subset=['longitude'], inplace=True)\n",
    "tw6.dropna(subset=['latitude'], inplace=True)"
   ]
  },
  {
   "cell_type": "code",
   "execution_count": 64,
   "metadata": {
    "collapsed": false
   },
   "outputs": [],
   "source": [
    "tw6.latitude = tw6.latitude.apply(float)\n",
    "tw6.longitude = tw6.longitude.apply(float)"
   ]
  },
  {
   "cell_type": "code",
   "execution_count": 65,
   "metadata": {
    "collapsed": true
   },
   "outputs": [],
   "source": [
    "delimiter = '_$$$_'\n",
    "str_join = lambda x: delimiter.join(x)"
   ]
  },
  {
   "cell_type": "markdown",
   "metadata": {},
   "source": [
    "Function that applies to a dataframe will group each row by day and aggregate all its content:"
   ]
  },
  {
   "cell_type": "code",
   "execution_count": 66,
   "metadata": {
    "collapsed": false
   },
   "outputs": [],
   "source": [
    "def aggDate(df):\n",
    "    groupedDf = df.groupby(df.index.map(lambda x: x.date)).agg({'text' : str_join,\n",
    "                                                          'longitude' : np.median,\n",
    "                                                          'latitude' : np.median,\n",
    "                                                          'hashtag' : lambda x: x.iloc[0], ## the first occurence\n",
    "                                                          'numberOfTweets' : 'count'})\n",
    "    return groupedDf"
   ]
  },
  {
   "cell_type": "code",
   "execution_count": 67,
   "metadata": {
    "collapsed": false
   },
   "outputs": [
    {
     "name": "stdout",
     "output_type": "stream",
     "text": [
      "11:49:11 Making column number of tweets\n",
      "11:49:11 Starting group by hastag...\n",
      "11:49:11 Starting to put hashtag in dictionary... (around 50 min)\n",
      "11:54:20 10%\n",
      "11:58:57 20%\n",
      "12:03:30 30%\n",
      "12:08:06 40%\n",
      "12:12:42 50%\n",
      "12:17:17 60%\n",
      "12:21:49 70%\n",
      "12:26:22 80%\n",
      "12:30:55 90%\n",
      "12:35:24 100%\n",
      "12:35:24 Finished operations! Dictionary with 607601 different hashtags.\n"
     ]
    }
   ],
   "source": [
    "pr('Making column number of tweets')\n",
    "tw6['numberOfTweets'] = 1\n",
    "pr('Starting group by hastag...')\n",
    "gp = tw6.groupby('hashtag')\n",
    "pr('Starting to put hashtag in dictionary... (around 50 min)')\n",
    "\n",
    "count = 0\n",
    "lengp = len(gp)\n",
    "printingValue = int(lengp / 10)\n",
    "dictionary = {}\n",
    "for hashtag, df in gp:\n",
    "    dictionary[hashtag] = aggDate(df)\n",
    "    count += 1\n",
    "    if count % printingValue == 0:\n",
    "        pr(\"{:.0f}%\".format(count/lengp*100))\n",
    "pr('Finished operations! Dictionary with {} different hashtags.'.format(len(dictionary)))"
   ]
  },
  {
   "cell_type": "code",
   "execution_count": 68,
   "metadata": {
    "collapsed": false
   },
   "outputs": [
    {
     "name": "stdout",
     "output_type": "stream",
     "text": [
      "Dictionary with hashtags dataframes:\n"
     ]
    },
    {
     "data": {
      "text/html": [
       "<div>\n",
       "<table border=\"1\" class=\"dataframe\">\n",
       "  <thead>\n",
       "    <tr style=\"text-align: right;\">\n",
       "      <th></th>\n",
       "      <th>longitude</th>\n",
       "      <th>numberOfTweets</th>\n",
       "      <th>text</th>\n",
       "      <th>latitude</th>\n",
       "      <th>hashtag</th>\n",
       "    </tr>\n",
       "  </thead>\n",
       "  <tbody>\n",
       "    <tr>\n",
       "      <th>2016-08-02</th>\n",
       "      <td>7.33389</td>\n",
       "      <td>11</td>\n",
       "      <td>Le service du vin chez #ilcortile #mulhouse #c...</td>\n",
       "      <td>47.7475</td>\n",
       "      <td>ilcortile</td>\n",
       "    </tr>\n",
       "  </tbody>\n",
       "</table>\n",
       "</div>"
      ],
      "text/plain": [
       "            longitude  numberOfTweets  \\\n",
       "2016-08-02    7.33389              11   \n",
       "\n",
       "                                                         text  latitude  \\\n",
       "2016-08-02  Le service du vin chez #ilcortile #mulhouse #c...   47.7475   \n",
       "\n",
       "              hashtag  \n",
       "2016-08-02  ilcortile  "
      ]
     },
     "execution_count": 68,
     "metadata": {},
     "output_type": "execute_result"
    }
   ],
   "source": [
    "# aggDate(gp.get_group('twibisg')).head(3)\n",
    "# dictionary['twibisg'].head(3)\n",
    "print('Dictionary with hashtags dataframes:')\n",
    "dictionary[list(dictionary.keys())[5]].head(4)"
   ]
  },
  {
   "cell_type": "markdown",
   "metadata": {},
   "source": [
    "## Starting event detection"
   ]
  },
  {
   "cell_type": "markdown",
   "metadata": {},
   "source": [
    "Parameters that define events:"
   ]
  },
  {
   "cell_type": "code",
   "execution_count": 69,
   "metadata": {
    "collapsed": false
   },
   "outputs": [],
   "source": [
    "## Parameters of an event:\n",
    "MIN_TOT_NB_TWEETS = 20 ## The hashtag must have happened at least this number of times to be considered.\n",
    "MIN_NB_DAYS_WITH_HASHTAGS = 3 ## The hashtags must appear at least this number of different days to be considered.\n",
    "MIN_NB_TWEETS_DURING_EVENT = 5 ## To be considered an event, the hashtag must happen at least this nb of times during the day.\n",
    "THRESHOLD_ANOMALY_FACTOR = 2 ## The occurence of a hashtag during a single day must be above the mean by this FACTOR\n",
    "                             ## multiplied by the std to be considered as an anomaly.\n",
    "MAX_DURATION_OF_EVENT = timedelta(days=30) ## The maximum number of days we consider an event can happen\n",
    "MIN_DURATION_BEFORE_NEW_EVENT = timedelta(days=304) ## (= 10 months) The min time that should pass before an event can happen\n",
    "                                                    ## again and still be considered as event (ie. Christmas is an event\n",
    "                                                    ## each year)"
   ]
  },
  {
   "cell_type": "markdown",
   "metadata": {},
   "source": [
    "Helper functions to detect recurrent events that should be removed:"
   ]
  },
  {
   "cell_type": "code",
   "execution_count": 70,
   "metadata": {
    "collapsed": true
   },
   "outputs": [],
   "source": [
    "def isSpecificEventListIllegal(detectedEventDateList):\n",
    "    '''\n",
    "    Return true if the list of dates contain illegal tupples of events, so if the event is recurrent\n",
    "    which would mean it is not a real event.\n",
    "    '''\n",
    "    def datesAreIllegal(date1, date2, date3):\n",
    "        '''\n",
    "        Return true if the 3 dates are not to be considered as regular events.\n",
    "        '''\n",
    "        ## Return if the difference is too small to be considered as 2 different events\n",
    "        def diffIsSmall(timeDiff):  \n",
    "            return timeDiff < MAX_DURATION_OF_EVENT\n",
    "\n",
    "        ## Return true if the difference is not big enough to be an annual event.\n",
    "        def isDiffSuspect(timeDiff):\n",
    "            return timeDiff < MIN_DURATION_BEFORE_NEW_EVENT   \n",
    "\n",
    "        diff1 = abs(date1 - date2)\n",
    "        diff2 = abs(date2 - date3)\n",
    "        diff3 = abs(date3 - date1)\n",
    "\n",
    "        ## The difference is too small, it must be the same event\n",
    "        if diffIsSmall(diff1) or diffIsSmall(diff2) or diffIsSmall(diff3):\n",
    "            return False\n",
    "\n",
    "        ## If there are at least 2 out of 3 suspect difference, then the dates are illegal\n",
    "        if isDiffSuspect(diff1):\n",
    "            return isDiffSuspect(diff2) or isDiffSuspect(diff3)\n",
    "        else:\n",
    "            return isDiffSuspect(diff2) and isDiffSuspect(diff3)\n",
    "    \n",
    "    ## MAIN FUNCTION : ##\n",
    "    # Go through the list of events and try all \"triples\" to see if there is any illegal triples. This is a quickly done\n",
    "    # code to do that. Code complexity bellow is in O(k^3), with k being the size of the list. We will apply this function\n",
    "    # to n list so we will have an overall complexity in O(n*k^3). We can consider however that each list will\n",
    "    # be small so k can be considered as constant and therefore the overall complexity will be in O(n).\n",
    "    for i in range(len(detectedEventDateList) - 2):\n",
    "        for j in range(i, len(detectedEventDateList) - 1):\n",
    "            for k in range(j, len(detectedEventDateList)):\n",
    "                if datesAreIllegal(detectedEventDateList[i], detectedEventDateList[j], detectedEventDateList[k]):\n",
    "                    return True\n",
    "    return False"
   ]
  },
  {
   "cell_type": "code",
   "execution_count": 71,
   "metadata": {
    "collapsed": false,
    "scrolled": false
   },
   "outputs": [
    {
     "name": "stdout",
     "output_type": "stream",
     "text": [
      "12:35:24 Starting to compute 607601 dict items to detect event. (4 min)\n",
      "12:35:56 10%\n",
      "12:36:19 20%\n",
      "12:36:41 30%\n",
      "12:37:04 40%\n",
      "12:37:26 50%\n",
      "12:37:49 60%\n",
      "12:38:11 70%\n",
      "12:38:34 80%\n",
      "12:38:56 90%\n",
      "12:39:19 100%\n",
      "12:39:19 Finished! Number of events detected = 9611\n"
     ]
    }
   ],
   "source": [
    "pr('Starting to compute {} dict items to detect event. (4 min)'.format(len(dictionary)))\n",
    "nbOfEventDetected = 0\n",
    "count = 0\n",
    "printingValue = int(len(dictionary) / 10)\n",
    "for [h,df] in dictionary.items():\n",
    "    count += 1\n",
    "    if count % printingValue == 0:\n",
    "        pr(\"{:.0f}%\".format(count/len(dictionary)*100))\n",
    "    df['event'] = False\n",
    "    if len(df) > MIN_NB_DAYS_WITH_HASHTAGS:\n",
    "        if df['numberOfTweets'].sum() > MIN_TOT_NB_TWEETS:\n",
    "            threshold = df['numberOfTweets'].mean() + THRESHOLD_ANOMALY_FACTOR * df['numberOfTweets'].std()\n",
    "            df['event'] = df.numberOfTweets.apply(lambda x: x > threshold and x > MIN_NB_TWEETS_DURING_EVENT)\n",
    "            \n",
    "            ## Remove recurrent events:\n",
    "            detectedEventDf = df[df['event']]\n",
    "            if len(detectedEventDf) > 3 and isSpecificEventListIllegal(detectedEventDf.index):\n",
    "                df['event'] = False\n",
    "            nbOfEventDetected += len(df[df['event']])\n",
    "pr('Finished! Number of events detected = {}'.format(nbOfEventDetected))"
   ]
  },
  {
   "cell_type": "markdown",
   "metadata": {},
   "source": [
    "## Making single event dataframe"
   ]
  },
  {
   "cell_type": "code",
   "execution_count": 72,
   "metadata": {
    "collapsed": false
   },
   "outputs": [],
   "source": [
    "eventRowsList = []\n",
    "def applyToMakeEventDf(row):\n",
    "    if row.event:\n",
    "        rowToAdd = {'date': row.name, 'hashtag': row.hashtag, 'text': row.text,\n",
    "                    'longitude': row.longitude, 'latitude':row.latitude, 'numberOfTweets': row.numberOfTweets, }\n",
    "        eventRowsList.append(rowToAdd)"
   ]
  },
  {
   "cell_type": "code",
   "execution_count": 73,
   "metadata": {
    "collapsed": false
   },
   "outputs": [
    {
     "name": "stdout",
     "output_type": "stream",
     "text": [
      "12:39:19 Starting to make event df with 607601 dataframes. (around 6 min)\n",
      "12:39:52 10%\n",
      "12:40:24 20%\n",
      "12:40:57 30%\n",
      "12:41:29 40%\n",
      "12:42:02 50%\n",
      "12:42:35 60%\n",
      "12:43:08 70%\n",
      "12:43:41 80%\n",
      "12:44:14 90%\n",
      "12:44:47 100%\n",
      "12:44:47 Making new dataframe.\n",
      "12:44:47 Finished! Dataframe with 9611 rows\n"
     ]
    }
   ],
   "source": [
    "eventRowsList = []\n",
    "count = 0\n",
    "printingValue = int(len(dictionary) / 10)\n",
    "\n",
    "pr('Starting to make event df with {} dataframes. (around 6 min)'.format(len(dictionary)))\n",
    "for h, df in dictionary.items():\n",
    "    count += 1\n",
    "    if count % printingValue == 0:\n",
    "        pr(\"{:.0f}%\".format(count/len(dictionary)*100))\n",
    "        \n",
    "    ########## CHANGE DF TO MERGE CLOSE EVENTS ################\n",
    "    \n",
    "    df.apply(applyToMakeEventDf, axis=1)\n",
    "\n",
    "pr('Making new dataframe.')\n",
    "new_events = pd.DataFrame(eventRowsList)\n",
    "new_events.set_index(['date'], inplace=True)\n",
    "pr('Finished! Dataframe with {} rows'.format(len(new_events)))"
   ]
  },
  {
   "cell_type": "code",
   "execution_count": 74,
   "metadata": {
    "collapsed": false
   },
   "outputs": [
    {
     "name": "stdout",
     "output_type": "stream",
     "text": [
      "Events dataframe:\n"
     ]
    },
    {
     "data": {
      "text/html": [
       "<div>\n",
       "<table border=\"1\" class=\"dataframe\">\n",
       "  <thead>\n",
       "    <tr style=\"text-align: right;\">\n",
       "      <th></th>\n",
       "      <th>hashtag</th>\n",
       "      <th>latitude</th>\n",
       "      <th>longitude</th>\n",
       "      <th>numberOfTweets</th>\n",
       "      <th>text</th>\n",
       "    </tr>\n",
       "    <tr>\n",
       "      <th>date</th>\n",
       "      <th></th>\n",
       "      <th></th>\n",
       "      <th></th>\n",
       "      <th></th>\n",
       "      <th></th>\n",
       "    </tr>\n",
       "  </thead>\n",
       "  <tbody>\n",
       "    <tr>\n",
       "      <th>2014-05-04</th>\n",
       "      <td>starwarsday</td>\n",
       "      <td>46.19295</td>\n",
       "      <td>6.471575</td>\n",
       "      <td>12</td>\n",
       "      <td>C'est vêtu de mon T-Shirt SW que je vous souha...</td>\n",
       "    </tr>\n",
       "    <tr>\n",
       "      <th>2016-07-21</th>\n",
       "      <td>スイス情報</td>\n",
       "      <td>46.96320</td>\n",
       "      <td>7.466670</td>\n",
       "      <td>28</td>\n",
       "      <td>#ベルナーオーバーライド #スイスアルプス #ヒマワリ と共に。#アイガー #メンヒ #ユン...</td>\n",
       "    </tr>\n",
       "    <tr>\n",
       "      <th>2013-02-10</th>\n",
       "      <td>winterwonderland</td>\n",
       "      <td>47.03460</td>\n",
       "      <td>8.303840</td>\n",
       "      <td>11</td>\n",
       "      <td>#winterwonderland @ Schneestern http://t.co/Ji...</td>\n",
       "    </tr>\n",
       "    <tr>\n",
       "      <th>2013-12-27</th>\n",
       "      <td>winterwonderland</td>\n",
       "      <td>46.49730</td>\n",
       "      <td>8.138090</td>\n",
       "      <td>7</td>\n",
       "      <td>#WinterWonderland - oder nicht?\\n#Davos @ Golf...</td>\n",
       "    </tr>\n",
       "    <tr>\n",
       "      <th>2014-12-27</th>\n",
       "      <td>winterwonderland</td>\n",
       "      <td>46.48330</td>\n",
       "      <td>7.561030</td>\n",
       "      <td>9</td>\n",
       "      <td>#winterwonderland @ Berg (Dägerlen) http://t.c...</td>\n",
       "    </tr>\n",
       "    <tr>\n",
       "      <th>2014-12-28</th>\n",
       "      <td>winterwonderland</td>\n",
       "      <td>47.31875</td>\n",
       "      <td>8.544700</td>\n",
       "      <td>16</td>\n",
       "      <td>Im lovin it!!! #winterwonderland http://t.co/f...</td>\n",
       "    </tr>\n",
       "    <tr>\n",
       "      <th>2014-12-29</th>\n",
       "      <td>winterwonderland</td>\n",
       "      <td>46.97250</td>\n",
       "      <td>7.747200</td>\n",
       "      <td>15</td>\n",
       "      <td>Todays #winterwonderland at http://t.co/HiBFem...</td>\n",
       "    </tr>\n",
       "    <tr>\n",
       "      <th>2014-12-30</th>\n",
       "      <td>winterwonderland</td>\n",
       "      <td>47.17580</td>\n",
       "      <td>8.225200</td>\n",
       "      <td>9</td>\n",
       "      <td>On the way to work today #WinterWonderland #Zu...</td>\n",
       "    </tr>\n",
       "    <tr>\n",
       "      <th>2015-11-25</th>\n",
       "      <td>winterwonderland</td>\n",
       "      <td>46.98860</td>\n",
       "      <td>8.248910</td>\n",
       "      <td>7</td>\n",
       "      <td>Snowy lake view from the train station this mo...</td>\n",
       "    </tr>\n",
       "    <tr>\n",
       "      <th>2016-01-04</th>\n",
       "      <td>winterwonderland</td>\n",
       "      <td>46.32450</td>\n",
       "      <td>7.511010</td>\n",
       "      <td>8</td>\n",
       "      <td>Last day in #Winterwonderland ❄️❄️ @gstaadpala...</td>\n",
       "    </tr>\n",
       "    <tr>\n",
       "      <th>2014-02-18</th>\n",
       "      <td>german</td>\n",
       "      <td>46.94950</td>\n",
       "      <td>7.438800</td>\n",
       "      <td>8</td>\n",
       "      <td>For #german people from #Burma : #Adidas #mont...</td>\n",
       "    </tr>\n",
       "    <tr>\n",
       "      <th>2014-03-05</th>\n",
       "      <td>german</td>\n",
       "      <td>47.15950</td>\n",
       "      <td>8.529590</td>\n",
       "      <td>6</td>\n",
       "      <td>For #german people from #Vilnius, #Lithuania :...</td>\n",
       "    </tr>\n",
       "    <tr>\n",
       "      <th>2014-03-08</th>\n",
       "      <td>german</td>\n",
       "      <td>47.15950</td>\n",
       "      <td>9.553800</td>\n",
       "      <td>9</td>\n",
       "      <td>For #german people from #Malabo, #EquatorialGu...</td>\n",
       "    </tr>\n",
       "    <tr>\n",
       "      <th>2014-03-27</th>\n",
       "      <td>german</td>\n",
       "      <td>47.14870</td>\n",
       "      <td>9.521860</td>\n",
       "      <td>14</td>\n",
       "      <td>For #german people from #Groznyy, #Russia : Ad...</td>\n",
       "    </tr>\n",
       "    <tr>\n",
       "      <th>2014-04-02</th>\n",
       "      <td>german</td>\n",
       "      <td>46.98635</td>\n",
       "      <td>8.700630</td>\n",
       "      <td>8</td>\n",
       "      <td>For #german people from #Swaziland : #Adidas O...</td>\n",
       "    </tr>\n",
       "    <tr>\n",
       "      <th>2014-04-03</th>\n",
       "      <td>german</td>\n",
       "      <td>46.81320</td>\n",
       "      <td>8.223950</td>\n",
       "      <td>7</td>\n",
       "      <td>For #german people from #Chita, #Russia : #Adi...</td>\n",
       "    </tr>\n",
       "    <tr>\n",
       "      <th>2014-04-05</th>\n",
       "      <td>german</td>\n",
       "      <td>47.13790</td>\n",
       "      <td>9.521860</td>\n",
       "      <td>8</td>\n",
       "      <td>For #german people from #London, #UnitedKingdo...</td>\n",
       "    </tr>\n",
       "    <tr>\n",
       "      <th>2014-04-07</th>\n",
       "      <td>german</td>\n",
       "      <td>47.38430</td>\n",
       "      <td>8.529590</td>\n",
       "      <td>12</td>\n",
       "      <td>For #german people from #Peru : #Adidas Origin...</td>\n",
       "    </tr>\n",
       "    <tr>\n",
       "      <th>2014-04-11</th>\n",
       "      <td>german</td>\n",
       "      <td>47.13790</td>\n",
       "      <td>8.529590</td>\n",
       "      <td>9</td>\n",
       "      <td>For #german people from #Saskatoon, #Canada : ...</td>\n",
       "    </tr>\n",
       "    <tr>\n",
       "      <th>2014-04-14</th>\n",
       "      <td>german</td>\n",
       "      <td>47.04370</td>\n",
       "      <td>8.480330</td>\n",
       "      <td>6</td>\n",
       "      <td>For #german people from #Mamoudzou, #Mayotte :...</td>\n",
       "    </tr>\n",
       "    <tr>\n",
       "      <th>2012-05-26</th>\n",
       "      <td>suiça</td>\n",
       "      <td>46.84760</td>\n",
       "      <td>9.525055</td>\n",
       "      <td>6</td>\n",
       "      <td>Summer is coming!  #suiça #chur #summer #sun ...</td>\n",
       "    </tr>\n",
       "    <tr>\n",
       "      <th>2013-06-11</th>\n",
       "      <td>suiça</td>\n",
       "      <td>47.40875</td>\n",
       "      <td>8.565980</td>\n",
       "      <td>6</td>\n",
       "      <td>Good #wine and good #friends! #switzerland #eu...</td>\n",
       "    </tr>\n",
       "    <tr>\n",
       "      <th>2014-05-11</th>\n",
       "      <td>suiça</td>\n",
       "      <td>46.20850</td>\n",
       "      <td>6.146210</td>\n",
       "      <td>8</td>\n",
       "      <td>Bonjour Swiss ⏰ | #suiça #danielnasuiça #geneb...</td>\n",
       "    </tr>\n",
       "    <tr>\n",
       "      <th>2014-08-01</th>\n",
       "      <td>suiça</td>\n",
       "      <td>46.94800</td>\n",
       "      <td>7.443950</td>\n",
       "      <td>7</td>\n",
       "      <td>#suiça #suisse #switzerland #bern #berna #bern...</td>\n",
       "    </tr>\n",
       "    <tr>\n",
       "      <th>2014-08-02</th>\n",
       "      <td>suiça</td>\n",
       "      <td>46.69730</td>\n",
       "      <td>7.851980</td>\n",
       "      <td>7</td>\n",
       "      <td>Começando o dia bem, em Interlaken #suiça #sui...</td>\n",
       "    </tr>\n",
       "    <tr>\n",
       "      <th>2013-05-12</th>\n",
       "      <td>fencing</td>\n",
       "      <td>46.93950</td>\n",
       "      <td>7.466000</td>\n",
       "      <td>7</td>\n",
       "      <td>First step for the olympic champion's match is...</td>\n",
       "    </tr>\n",
       "    <tr>\n",
       "      <th>2014-07-03</th>\n",
       "      <td>fencing</td>\n",
       "      <td>46.01050</td>\n",
       "      <td>8.958730</td>\n",
       "      <td>9</td>\n",
       "      <td>Work in progress #fencing #emba @USInews teamb...</td>\n",
       "    </tr>\n",
       "    <tr>\n",
       "      <th>2015-12-08</th>\n",
       "      <td>thebestforchristmas</td>\n",
       "      <td>47.50180</td>\n",
       "      <td>9.745730</td>\n",
       "      <td>12</td>\n",
       "      <td>#thebestforchristmas @ #RÖMERVII #römerstr #br...</td>\n",
       "    </tr>\n",
       "    <tr>\n",
       "      <th>2013-01-26</th>\n",
       "      <td>jalan2familytodubaineurope</td>\n",
       "      <td>46.12880</td>\n",
       "      <td>8.984390</td>\n",
       "      <td>11</td>\n",
       "      <td>#snow #snowflakes #jalan2familytodubaineurope ...</td>\n",
       "    </tr>\n",
       "    <tr>\n",
       "      <th>2014-10-30</th>\n",
       "      <td>burkina</td>\n",
       "      <td>45.89600</td>\n",
       "      <td>6.128185</td>\n",
       "      <td>10</td>\n",
       "      <td>#Burkina: François #Compaoré, le frère du prés...</td>\n",
       "    </tr>\n",
       "    <tr>\n",
       "      <th>...</th>\n",
       "      <td>...</td>\n",
       "      <td>...</td>\n",
       "      <td>...</td>\n",
       "      <td>...</td>\n",
       "      <td>...</td>\n",
       "    </tr>\n",
       "    <tr>\n",
       "      <th>2014-05-03</th>\n",
       "      <td>maximuslxix</td>\n",
       "      <td>47.36460</td>\n",
       "      <td>7.153990</td>\n",
       "      <td>7</td>\n",
       "      <td>#113 #makebeautiful #Hipstamatic #Sergio #Maxi...</td>\n",
       "    </tr>\n",
       "    <tr>\n",
       "      <th>2012-10-02</th>\n",
       "      <td>easyjet</td>\n",
       "      <td>47.38055</td>\n",
       "      <td>8.519510</td>\n",
       "      <td>6</td>\n",
       "      <td>Upcoming: The #easyjet- #cta chronicles. A sto...</td>\n",
       "    </tr>\n",
       "    <tr>\n",
       "      <th>2012-11-19</th>\n",
       "      <td>istanbul</td>\n",
       "      <td>47.44370</td>\n",
       "      <td>8.839670</td>\n",
       "      <td>7</td>\n",
       "      <td>Altes Jahr, neue Pläne: #Istanbul für Mai 2013...</td>\n",
       "    </tr>\n",
       "    <tr>\n",
       "      <th>2014-03-03</th>\n",
       "      <td>istanbul</td>\n",
       "      <td>47.66260</td>\n",
       "      <td>9.488020</td>\n",
       "      <td>6</td>\n",
       "      <td>#istanbul #follower #germany#capture #photobyt...</td>\n",
       "    </tr>\n",
       "    <tr>\n",
       "      <th>2014-01-31</th>\n",
       "      <td>leinvasionibarbariche</td>\n",
       "      <td>45.97435</td>\n",
       "      <td>8.810770</td>\n",
       "      <td>6</td>\n",
       "      <td>#leinvasionibarbariche ma cosa sta dicendo sto...</td>\n",
       "    </tr>\n",
       "    <tr>\n",
       "      <th>2011-03-25</th>\n",
       "      <td>ipad2</td>\n",
       "      <td>47.37510</td>\n",
       "      <td>8.538960</td>\n",
       "      <td>41</td>\n",
       "      <td>@greezer der @ThBenkoe hat's schon #iPad2   ht...</td>\n",
       "    </tr>\n",
       "    <tr>\n",
       "      <th>2013-12-08</th>\n",
       "      <td>invisible</td>\n",
       "      <td>46.53645</td>\n",
       "      <td>6.579200</td>\n",
       "      <td>52</td>\n",
       "      <td>@Ashton5SOS i need your follow ashton..♡\\n#inv...</td>\n",
       "    </tr>\n",
       "    <tr>\n",
       "      <th>2014-02-14</th>\n",
       "      <td>valentinesday</td>\n",
       "      <td>46.88940</td>\n",
       "      <td>7.642045</td>\n",
       "      <td>56</td>\n",
       "      <td>Stell dir vor, es ist Valentinstag und keiner ...</td>\n",
       "    </tr>\n",
       "    <tr>\n",
       "      <th>2015-06-24</th>\n",
       "      <td>cão</td>\n",
       "      <td>47.57070</td>\n",
       "      <td>7.577140</td>\n",
       "      <td>13</td>\n",
       "      <td>#dog   #hund   #chien    #köpek  #kutya   #куч...</td>\n",
       "    </tr>\n",
       "    <tr>\n",
       "      <th>2015-11-19</th>\n",
       "      <td>cão</td>\n",
       "      <td>47.57430</td>\n",
       "      <td>7.608350</td>\n",
       "      <td>8</td>\n",
       "      <td>#dog  #hund  #chien  #köpek  #kutya  #куче  #c...</td>\n",
       "    </tr>\n",
       "    <tr>\n",
       "      <th>2012-12-06</th>\n",
       "      <td>davide</td>\n",
       "      <td>45.80560</td>\n",
       "      <td>8.837105</td>\n",
       "      <td>8</td>\n",
       "      <td>#davide nn mi piace punto!!!!\\n#permeèno  \\n#x...</td>\n",
       "    </tr>\n",
       "    <tr>\n",
       "      <th>2014-01-17</th>\n",
       "      <td>mnbasel</td>\n",
       "      <td>47.55460</td>\n",
       "      <td>7.589930</td>\n",
       "      <td>25</td>\n",
       "      <td>...da hat uns doch glatt jemand ne Burg vor di...</td>\n",
       "    </tr>\n",
       "    <tr>\n",
       "      <th>2012-07-27</th>\n",
       "      <td>london2012</td>\n",
       "      <td>46.15870</td>\n",
       "      <td>8.787640</td>\n",
       "      <td>71</td>\n",
       "      <td>#london2012 #olympics here we goooooo (@ Genèv...</td>\n",
       "    </tr>\n",
       "    <tr>\n",
       "      <th>2012-08-12</th>\n",
       "      <td>london2012</td>\n",
       "      <td>46.26065</td>\n",
       "      <td>8.407305</td>\n",
       "      <td>58</td>\n",
       "      <td>#London2012 ❤TURKEY❤ _$$$_Volleyball M: BUL IT...</td>\n",
       "    </tr>\n",
       "    <tr>\n",
       "      <th>2013-10-21</th>\n",
       "      <td>holdtight</td>\n",
       "      <td>47.38440</td>\n",
       "      <td>8.825105</td>\n",
       "      <td>60</td>\n",
       "      <td>CANT HANDLE WITH THIS OH MY GOOOOSH \\n#HoldTig...</td>\n",
       "    </tr>\n",
       "    <tr>\n",
       "      <th>2014-03-07</th>\n",
       "      <td>sma</td>\n",
       "      <td>47.37930</td>\n",
       "      <td>8.525395</td>\n",
       "      <td>8</td>\n",
       "      <td>Zu Besuch beim nächsten #sma Gewinner? @it360e...</td>\n",
       "    </tr>\n",
       "    <tr>\n",
       "      <th>2014-11-21</th>\n",
       "      <td>ilbossdellecerimonie</td>\n",
       "      <td>46.08950</td>\n",
       "      <td>10.318300</td>\n",
       "      <td>13</td>\n",
       "      <td>Si dai bravi ora via veloci che c'è #IlBossDel...</td>\n",
       "    </tr>\n",
       "    <tr>\n",
       "      <th>2013-12-01</th>\n",
       "      <td>balance</td>\n",
       "      <td>46.17860</td>\n",
       "      <td>6.136240</td>\n",
       "      <td>7</td>\n",
       "      <td>“Après une engueulade, les #Balance #Sagittair...</td>\n",
       "    </tr>\n",
       "    <tr>\n",
       "      <th>2016-07-24</th>\n",
       "      <td>sup</td>\n",
       "      <td>46.51270</td>\n",
       "      <td>6.528120</td>\n",
       "      <td>6</td>\n",
       "      <td>Nailed it! #sup #itsallaboutthecore #waterspor...</td>\n",
       "    </tr>\n",
       "    <tr>\n",
       "      <th>2013-11-10</th>\n",
       "      <td>avatar</td>\n",
       "      <td>46.23480</td>\n",
       "      <td>6.139755</td>\n",
       "      <td>12</td>\n",
       "      <td>Juste le début ça me soûle. #Avatar_$$$_#Avata...</td>\n",
       "    </tr>\n",
       "    <tr>\n",
       "      <th>2012-07-31</th>\n",
       "      <td>mu</td>\n",
       "      <td>45.79220</td>\n",
       "      <td>8.847580</td>\n",
       "      <td>6</td>\n",
       "      <td>@Opra31 peccato però, se sul logo del latte #M...</td>\n",
       "    </tr>\n",
       "    <tr>\n",
       "      <th>2013-05-04</th>\n",
       "      <td>rp13</td>\n",
       "      <td>47.53700</td>\n",
       "      <td>7.616360</td>\n",
       "      <td>8</td>\n",
       "      <td>Berlin #rp13 we are coming  - from the cutest ...</td>\n",
       "    </tr>\n",
       "    <tr>\n",
       "      <th>2013-05-05</th>\n",
       "      <td>rp13</td>\n",
       "      <td>47.39100</td>\n",
       "      <td>8.524990</td>\n",
       "      <td>7</td>\n",
       "      <td>Wir fliegen nach Berlin... #rp13 we're on the ...</td>\n",
       "    </tr>\n",
       "    <tr>\n",
       "      <th>2014-01-22</th>\n",
       "      <td>hiv</td>\n",
       "      <td>46.23320</td>\n",
       "      <td>6.133290</td>\n",
       "      <td>12</td>\n",
       "      <td>Julio Montaner from UBC speaking on not just a...</td>\n",
       "    </tr>\n",
       "    <tr>\n",
       "      <th>2014-04-10</th>\n",
       "      <td>hiv</td>\n",
       "      <td>46.23340</td>\n",
       "      <td>6.132725</td>\n",
       "      <td>10</td>\n",
       "      <td>We live a defining moment to scale up #HIV #pr...</td>\n",
       "    </tr>\n",
       "    <tr>\n",
       "      <th>2014-05-19</th>\n",
       "      <td>hiv</td>\n",
       "      <td>46.22690</td>\n",
       "      <td>6.140780</td>\n",
       "      <td>8</td>\n",
       "      <td>'Catalytic effort on other countries' #hiv #em...</td>\n",
       "    </tr>\n",
       "    <tr>\n",
       "      <th>2014-06-08</th>\n",
       "      <td>wemadeit</td>\n",
       "      <td>46.51770</td>\n",
       "      <td>6.631770</td>\n",
       "      <td>11</td>\n",
       "      <td>@IMDEMBA @imd_emba #Matterhorn #expedition @ze...</td>\n",
       "    </tr>\n",
       "    <tr>\n",
       "      <th>2016-08-16</th>\n",
       "      <td>nikesportswear</td>\n",
       "      <td>47.51110</td>\n",
       "      <td>6.797140</td>\n",
       "      <td>8</td>\n",
       "      <td>Nike air max 95 ultra jacquard en stock dès ma...</td>\n",
       "    </tr>\n",
       "    <tr>\n",
       "      <th>2014-03-21</th>\n",
       "      <td>نشر_سيرته</td>\n",
       "      <td>46.68350</td>\n",
       "      <td>7.675365</td>\n",
       "      <td>6</td>\n",
       "      <td>\"@Musa_al3azmi: أول مسجد بُني في الإسلام لجماع...</td>\n",
       "    </tr>\n",
       "    <tr>\n",
       "      <th>2016-03-28</th>\n",
       "      <td>weddingband</td>\n",
       "      <td>46.95000</td>\n",
       "      <td>7.450000</td>\n",
       "      <td>7</td>\n",
       "      <td>Engagementring#weddingring#custommadeengagemen...</td>\n",
       "    </tr>\n",
       "  </tbody>\n",
       "</table>\n",
       "<p>9611 rows × 5 columns</p>\n",
       "</div>"
      ],
      "text/plain": [
       "                               hashtag  latitude  longitude  numberOfTweets  \\\n",
       "date                                                                          \n",
       "2014-05-04                 starwarsday  46.19295   6.471575              12   \n",
       "2016-07-21                       スイス情報  46.96320   7.466670              28   \n",
       "2013-02-10            winterwonderland  47.03460   8.303840              11   \n",
       "2013-12-27            winterwonderland  46.49730   8.138090               7   \n",
       "2014-12-27            winterwonderland  46.48330   7.561030               9   \n",
       "2014-12-28            winterwonderland  47.31875   8.544700              16   \n",
       "2014-12-29            winterwonderland  46.97250   7.747200              15   \n",
       "2014-12-30            winterwonderland  47.17580   8.225200               9   \n",
       "2015-11-25            winterwonderland  46.98860   8.248910               7   \n",
       "2016-01-04            winterwonderland  46.32450   7.511010               8   \n",
       "2014-02-18                      german  46.94950   7.438800               8   \n",
       "2014-03-05                      german  47.15950   8.529590               6   \n",
       "2014-03-08                      german  47.15950   9.553800               9   \n",
       "2014-03-27                      german  47.14870   9.521860              14   \n",
       "2014-04-02                      german  46.98635   8.700630               8   \n",
       "2014-04-03                      german  46.81320   8.223950               7   \n",
       "2014-04-05                      german  47.13790   9.521860               8   \n",
       "2014-04-07                      german  47.38430   8.529590              12   \n",
       "2014-04-11                      german  47.13790   8.529590               9   \n",
       "2014-04-14                      german  47.04370   8.480330               6   \n",
       "2012-05-26                       suiça  46.84760   9.525055               6   \n",
       "2013-06-11                       suiça  47.40875   8.565980               6   \n",
       "2014-05-11                       suiça  46.20850   6.146210               8   \n",
       "2014-08-01                       suiça  46.94800   7.443950               7   \n",
       "2014-08-02                       suiça  46.69730   7.851980               7   \n",
       "2013-05-12                     fencing  46.93950   7.466000               7   \n",
       "2014-07-03                     fencing  46.01050   8.958730               9   \n",
       "2015-12-08         thebestforchristmas  47.50180   9.745730              12   \n",
       "2013-01-26  jalan2familytodubaineurope  46.12880   8.984390              11   \n",
       "2014-10-30                     burkina  45.89600   6.128185              10   \n",
       "...                                ...       ...        ...             ...   \n",
       "2014-05-03                 maximuslxix  47.36460   7.153990               7   \n",
       "2012-10-02                     easyjet  47.38055   8.519510               6   \n",
       "2012-11-19                    istanbul  47.44370   8.839670               7   \n",
       "2014-03-03                    istanbul  47.66260   9.488020               6   \n",
       "2014-01-31       leinvasionibarbariche  45.97435   8.810770               6   \n",
       "2011-03-25                       ipad2  47.37510   8.538960              41   \n",
       "2013-12-08                   invisible  46.53645   6.579200              52   \n",
       "2014-02-14               valentinesday  46.88940   7.642045              56   \n",
       "2015-06-24                         cão  47.57070   7.577140              13   \n",
       "2015-11-19                         cão  47.57430   7.608350               8   \n",
       "2012-12-06                      davide  45.80560   8.837105               8   \n",
       "2014-01-17                     mnbasel  47.55460   7.589930              25   \n",
       "2012-07-27                  london2012  46.15870   8.787640              71   \n",
       "2012-08-12                  london2012  46.26065   8.407305              58   \n",
       "2013-10-21                   holdtight  47.38440   8.825105              60   \n",
       "2014-03-07                         sma  47.37930   8.525395               8   \n",
       "2014-11-21        ilbossdellecerimonie  46.08950  10.318300              13   \n",
       "2013-12-01                     balance  46.17860   6.136240               7   \n",
       "2016-07-24                         sup  46.51270   6.528120               6   \n",
       "2013-11-10                      avatar  46.23480   6.139755              12   \n",
       "2012-07-31                          mu  45.79220   8.847580               6   \n",
       "2013-05-04                        rp13  47.53700   7.616360               8   \n",
       "2013-05-05                        rp13  47.39100   8.524990               7   \n",
       "2014-01-22                         hiv  46.23320   6.133290              12   \n",
       "2014-04-10                         hiv  46.23340   6.132725              10   \n",
       "2014-05-19                         hiv  46.22690   6.140780               8   \n",
       "2014-06-08                    wemadeit  46.51770   6.631770              11   \n",
       "2016-08-16              nikesportswear  47.51110   6.797140               8   \n",
       "2014-03-21                   نشر_سيرته  46.68350   7.675365               6   \n",
       "2016-03-28                 weddingband  46.95000   7.450000               7   \n",
       "\n",
       "                                                         text  \n",
       "date                                                           \n",
       "2014-05-04  C'est vêtu de mon T-Shirt SW que je vous souha...  \n",
       "2016-07-21  #ベルナーオーバーライド #スイスアルプス #ヒマワリ と共に。#アイガー #メンヒ #ユン...  \n",
       "2013-02-10  #winterwonderland @ Schneestern http://t.co/Ji...  \n",
       "2013-12-27  #WinterWonderland - oder nicht?\\n#Davos @ Golf...  \n",
       "2014-12-27  #winterwonderland @ Berg (Dägerlen) http://t.c...  \n",
       "2014-12-28  Im lovin it!!! #winterwonderland http://t.co/f...  \n",
       "2014-12-29  Todays #winterwonderland at http://t.co/HiBFem...  \n",
       "2014-12-30  On the way to work today #WinterWonderland #Zu...  \n",
       "2015-11-25  Snowy lake view from the train station this mo...  \n",
       "2016-01-04  Last day in #Winterwonderland ❄️❄️ @gstaadpala...  \n",
       "2014-02-18  For #german people from #Burma : #Adidas #mont...  \n",
       "2014-03-05  For #german people from #Vilnius, #Lithuania :...  \n",
       "2014-03-08  For #german people from #Malabo, #EquatorialGu...  \n",
       "2014-03-27  For #german people from #Groznyy, #Russia : Ad...  \n",
       "2014-04-02  For #german people from #Swaziland : #Adidas O...  \n",
       "2014-04-03  For #german people from #Chita, #Russia : #Adi...  \n",
       "2014-04-05  For #german people from #London, #UnitedKingdo...  \n",
       "2014-04-07  For #german people from #Peru : #Adidas Origin...  \n",
       "2014-04-11  For #german people from #Saskatoon, #Canada : ...  \n",
       "2014-04-14  For #german people from #Mamoudzou, #Mayotte :...  \n",
       "2012-05-26  Summer is coming!  #suiça #chur #summer #sun ...  \n",
       "2013-06-11  Good #wine and good #friends! #switzerland #eu...  \n",
       "2014-05-11  Bonjour Swiss ⏰ | #suiça #danielnasuiça #geneb...  \n",
       "2014-08-01  #suiça #suisse #switzerland #bern #berna #bern...  \n",
       "2014-08-02  Começando o dia bem, em Interlaken #suiça #sui...  \n",
       "2013-05-12  First step for the olympic champion's match is...  \n",
       "2014-07-03  Work in progress #fencing #emba @USInews teamb...  \n",
       "2015-12-08  #thebestforchristmas @ #RÖMERVII #römerstr #br...  \n",
       "2013-01-26  #snow #snowflakes #jalan2familytodubaineurope ...  \n",
       "2014-10-30  #Burkina: François #Compaoré, le frère du prés...  \n",
       "...                                                       ...  \n",
       "2014-05-03  #113 #makebeautiful #Hipstamatic #Sergio #Maxi...  \n",
       "2012-10-02  Upcoming: The #easyjet- #cta chronicles. A sto...  \n",
       "2012-11-19  Altes Jahr, neue Pläne: #Istanbul für Mai 2013...  \n",
       "2014-03-03  #istanbul #follower #germany#capture #photobyt...  \n",
       "2014-01-31  #leinvasionibarbariche ma cosa sta dicendo sto...  \n",
       "2011-03-25  @greezer der @ThBenkoe hat's schon #iPad2   ht...  \n",
       "2013-12-08  @Ashton5SOS i need your follow ashton..♡\\n#inv...  \n",
       "2014-02-14  Stell dir vor, es ist Valentinstag und keiner ...  \n",
       "2015-06-24  #dog   #hund   #chien    #köpek  #kutya   #куч...  \n",
       "2015-11-19  #dog  #hund  #chien  #köpek  #kutya  #куче  #c...  \n",
       "2012-12-06  #davide nn mi piace punto!!!!\\n#permeèno  \\n#x...  \n",
       "2014-01-17  ...da hat uns doch glatt jemand ne Burg vor di...  \n",
       "2012-07-27  #london2012 #olympics here we goooooo (@ Genèv...  \n",
       "2012-08-12  #London2012 ❤TURKEY❤ _$$$_Volleyball M: BUL IT...  \n",
       "2013-10-21  CANT HANDLE WITH THIS OH MY GOOOOSH \\n#HoldTig...  \n",
       "2014-03-07  Zu Besuch beim nächsten #sma Gewinner? @it360e...  \n",
       "2014-11-21  Si dai bravi ora via veloci che c'è #IlBossDel...  \n",
       "2013-12-01  “Après une engueulade, les #Balance #Sagittair...  \n",
       "2016-07-24  Nailed it! #sup #itsallaboutthecore #waterspor...  \n",
       "2013-11-10  Juste le début ça me soûle. #Avatar_$$$_#Avata...  \n",
       "2012-07-31  @Opra31 peccato però, se sul logo del latte #M...  \n",
       "2013-05-04  Berlin #rp13 we are coming  - from the cutest ...  \n",
       "2013-05-05  Wir fliegen nach Berlin... #rp13 we're on the ...  \n",
       "2014-01-22  Julio Montaner from UBC speaking on not just a...  \n",
       "2014-04-10  We live a defining moment to scale up #HIV #pr...  \n",
       "2014-05-19  'Catalytic effort on other countries' #hiv #em...  \n",
       "2014-06-08  @IMDEMBA @imd_emba #Matterhorn #expedition @ze...  \n",
       "2016-08-16  Nike air max 95 ultra jacquard en stock dès ma...  \n",
       "2014-03-21  \"@Musa_al3azmi: أول مسجد بُني في الإسلام لجماع...  \n",
       "2016-03-28  Engagementring#weddingring#custommadeengagemen...  \n",
       "\n",
       "[9611 rows x 5 columns]"
      ]
     },
     "execution_count": 74,
     "metadata": {},
     "output_type": "execute_result"
    }
   ],
   "source": [
    "print('Events dataframe:')\n",
    "new_events"
   ]
  },
  {
   "cell_type": "code",
   "execution_count": 75,
   "metadata": {
    "collapsed": false
   },
   "outputs": [
    {
     "name": "stdout",
     "output_type": "stream",
     "text": [
      "Linked dataframe of all days:\n"
     ]
    },
    {
     "data": {
      "text/html": [
       "<div>\n",
       "<table border=\"1\" class=\"dataframe\">\n",
       "  <thead>\n",
       "    <tr style=\"text-align: right;\">\n",
       "      <th></th>\n",
       "      <th>longitude</th>\n",
       "      <th>numberOfTweets</th>\n",
       "      <th>text</th>\n",
       "      <th>latitude</th>\n",
       "      <th>hashtag</th>\n",
       "      <th>event</th>\n",
       "    </tr>\n",
       "  </thead>\n",
       "  <tbody>\n",
       "    <tr>\n",
       "      <th>2012-05-04</th>\n",
       "      <td>9.144670</td>\n",
       "      <td>5</td>\n",
       "      <td>May the 4th be with you. #StarWarsDay_$$$_Obli...</td>\n",
       "      <td>47.03880</td>\n",
       "      <td>starwarsday</td>\n",
       "      <td>False</td>\n",
       "    </tr>\n",
       "    <tr>\n",
       "      <th>2013-05-04</th>\n",
       "      <td>6.927115</td>\n",
       "      <td>4</td>\n",
       "      <td>May the fourth be with you !\\n\\n#starwarsday h...</td>\n",
       "      <td>46.46465</td>\n",
       "      <td>starwarsday</td>\n",
       "      <td>False</td>\n",
       "    </tr>\n",
       "    <tr>\n",
       "      <th>2013-05-25</th>\n",
       "      <td>8.778790</td>\n",
       "      <td>1</td>\n",
       "      <td>May the force be with you! #starwarsweekend #s...</td>\n",
       "      <td>47.39330</td>\n",
       "      <td>starwarsday</td>\n",
       "      <td>False</td>\n",
       "    </tr>\n",
       "    <tr>\n",
       "      <th>2014-04-28</th>\n",
       "      <td>6.226690</td>\n",
       "      <td>1</td>\n",
       "      <td>Un petit coucou mes Padawans pour vous souhait...</td>\n",
       "      <td>46.19290</td>\n",
       "      <td>starwarsday</td>\n",
       "      <td>False</td>\n",
       "    </tr>\n",
       "    <tr>\n",
       "      <th>2014-05-03</th>\n",
       "      <td>7.155690</td>\n",
       "      <td>1</td>\n",
       "      <td>May the fourth be with you!\\n#StarWarsDay</td>\n",
       "      <td>46.79540</td>\n",
       "      <td>starwarsday</td>\n",
       "      <td>False</td>\n",
       "    </tr>\n",
       "    <tr>\n",
       "      <th>2014-05-04</th>\n",
       "      <td>6.471575</td>\n",
       "      <td>12</td>\n",
       "      <td>C'est vêtu de mon T-Shirt SW que je vous souha...</td>\n",
       "      <td>46.19295</td>\n",
       "      <td>starwarsday</td>\n",
       "      <td>True</td>\n",
       "    </tr>\n",
       "    <tr>\n",
       "      <th>2014-05-05</th>\n",
       "      <td>7.910100</td>\n",
       "      <td>1</td>\n",
       "      <td>Good morning Twitter people! After successfull...</td>\n",
       "      <td>47.34730</td>\n",
       "      <td>starwarsday</td>\n",
       "      <td>False</td>\n",
       "    </tr>\n",
       "    <tr>\n",
       "      <th>2015-05-04</th>\n",
       "      <td>6.634860</td>\n",
       "      <td>3</td>\n",
       "      <td>May the 4th be with you. #StarWarsDay #Lausann...</td>\n",
       "      <td>46.52250</td>\n",
       "      <td>starwarsday</td>\n",
       "      <td>False</td>\n",
       "    </tr>\n",
       "    <tr>\n",
       "      <th>2015-11-20</th>\n",
       "      <td>8.551670</td>\n",
       "      <td>1</td>\n",
       "      <td>Arbeiten ist schön!!! #srfdgst #theforceawaken...</td>\n",
       "      <td>47.41140</td>\n",
       "      <td>starwarsday</td>\n",
       "      <td>False</td>\n",
       "    </tr>\n",
       "    <tr>\n",
       "      <th>2016-05-04</th>\n",
       "      <td>6.882940</td>\n",
       "      <td>1</td>\n",
       "      <td>May the Fourth be with you! Happy #starwarsday...</td>\n",
       "      <td>46.44290</td>\n",
       "      <td>starwarsday</td>\n",
       "      <td>False</td>\n",
       "    </tr>\n",
       "  </tbody>\n",
       "</table>\n",
       "</div>"
      ],
      "text/plain": [
       "            longitude  numberOfTweets  \\\n",
       "2012-05-04   9.144670               5   \n",
       "2013-05-04   6.927115               4   \n",
       "2013-05-25   8.778790               1   \n",
       "2014-04-28   6.226690               1   \n",
       "2014-05-03   7.155690               1   \n",
       "2014-05-04   6.471575              12   \n",
       "2014-05-05   7.910100               1   \n",
       "2015-05-04   6.634860               3   \n",
       "2015-11-20   8.551670               1   \n",
       "2016-05-04   6.882940               1   \n",
       "\n",
       "                                                         text  latitude  \\\n",
       "2012-05-04  May the 4th be with you. #StarWarsDay_$$$_Obli...  47.03880   \n",
       "2013-05-04  May the fourth be with you !\\n\\n#starwarsday h...  46.46465   \n",
       "2013-05-25  May the force be with you! #starwarsweekend #s...  47.39330   \n",
       "2014-04-28  Un petit coucou mes Padawans pour vous souhait...  46.19290   \n",
       "2014-05-03          May the fourth be with you!\\n#StarWarsDay  46.79540   \n",
       "2014-05-04  C'est vêtu de mon T-Shirt SW que je vous souha...  46.19295   \n",
       "2014-05-05  Good morning Twitter people! After successfull...  47.34730   \n",
       "2015-05-04  May the 4th be with you. #StarWarsDay #Lausann...  46.52250   \n",
       "2015-11-20  Arbeiten ist schön!!! #srfdgst #theforceawaken...  47.41140   \n",
       "2016-05-04  May the Fourth be with you! Happy #starwarsday...  46.44290   \n",
       "\n",
       "                hashtag  event  \n",
       "2012-05-04  starwarsday  False  \n",
       "2013-05-04  starwarsday  False  \n",
       "2013-05-25  starwarsday  False  \n",
       "2014-04-28  starwarsday  False  \n",
       "2014-05-03  starwarsday  False  \n",
       "2014-05-04  starwarsday   True  \n",
       "2014-05-05  starwarsday  False  \n",
       "2015-05-04  starwarsday  False  \n",
       "2015-11-20  starwarsday  False  \n",
       "2016-05-04  starwarsday  False  "
      ]
     },
     "execution_count": 75,
     "metadata": {},
     "output_type": "execute_result"
    }
   ],
   "source": [
    "print('Linked dataframe of all days:')\n",
    "dictionary[new_events.iloc[0].hashtag].head(10)"
   ]
  },
  {
   "cell_type": "markdown",
   "metadata": {},
   "source": [
    "## Exporting data"
   ]
  },
  {
   "cell_type": "code",
   "execution_count": 76,
   "metadata": {
    "collapsed": false
   },
   "outputs": [
    {
     "data": {
      "text/html": [
       "<div>\n",
       "<table border=\"1\" class=\"dataframe\">\n",
       "  <thead>\n",
       "    <tr style=\"text-align: right;\">\n",
       "      <th></th>\n",
       "      <th>hashtag</th>\n",
       "      <th>latitude</th>\n",
       "      <th>longitude</th>\n",
       "      <th>numberOfTweets</th>\n",
       "      <th>text</th>\n",
       "      <th>date</th>\n",
       "    </tr>\n",
       "  </thead>\n",
       "  <tbody>\n",
       "    <tr>\n",
       "      <th>0</th>\n",
       "      <td>starwarsday</td>\n",
       "      <td>46.19295</td>\n",
       "      <td>6.471575</td>\n",
       "      <td>12</td>\n",
       "      <td>C'est vêtu de mon T-Shirt SW que je vous souha...</td>\n",
       "      <td>2014-05-04</td>\n",
       "    </tr>\n",
       "  </tbody>\n",
       "</table>\n",
       "</div>"
      ],
      "text/plain": [
       "       hashtag  latitude  longitude  numberOfTweets  \\\n",
       "0  starwarsday  46.19295   6.471575              12   \n",
       "\n",
       "                                                text        date  \n",
       "0  C'est vêtu de mon T-Shirt SW que je vous souha...  2014-05-04  "
      ]
     },
     "execution_count": 76,
     "metadata": {},
     "output_type": "execute_result"
    }
   ],
   "source": [
    "e_df = new_events.copy()\n",
    "e_df['date'] = e_df.index\n",
    "e_df.index = [i for i in range (len(e_df))]\n",
    "e_df.head(1)"
   ]
  },
  {
   "cell_type": "markdown",
   "metadata": {},
   "source": [
    "We are going to generate the right datetimes for the jsons:"
   ]
  },
  {
   "cell_type": "code",
   "execution_count": 77,
   "metadata": {
    "collapsed": true
   },
   "outputs": [],
   "source": [
    "epoch_dt = datetime(1970, 1, 1)\n",
    "def to_utc(date):\n",
    "    d_dt = datetime.combine(date, datetime.min.time())\n",
    "    return int((d_dt - epoch_dt).total_seconds()*1000)"
   ]
  },
  {
   "cell_type": "code",
   "execution_count": 78,
   "metadata": {
    "collapsed": true
   },
   "outputs": [],
   "source": [
    "def convert_to_unix_time(record):\n",
    "    datetime_index = pd.DatetimeIndex([datetime(record['year'], record['month'], 1)])\n",
    "    unix_time_index = datetime_index.astype(np.int64) // 10**6\n",
    "    return unix_time_index[0]"
   ]
  },
  {
   "cell_type": "code",
   "execution_count": 79,
   "metadata": {
    "collapsed": false
   },
   "outputs": [
    {
     "name": "stdout",
     "output_type": "stream",
     "text": [
      "12:44:47 Converting dates...\n",
      "12:44:50 Done.\n"
     ]
    },
    {
     "data": {
      "text/html": [
       "<div>\n",
       "<table border=\"1\" class=\"dataframe\">\n",
       "  <thead>\n",
       "    <tr style=\"text-align: right;\">\n",
       "      <th></th>\n",
       "      <th>hashtag</th>\n",
       "      <th>latitude</th>\n",
       "      <th>longitude</th>\n",
       "      <th>numberOfTweets</th>\n",
       "      <th>text</th>\n",
       "      <th>date</th>\n",
       "      <th>year</th>\n",
       "      <th>month</th>\n",
       "      <th>utc_date</th>\n",
       "      <th>unix_time</th>\n",
       "    </tr>\n",
       "  </thead>\n",
       "  <tbody>\n",
       "    <tr>\n",
       "      <th>0</th>\n",
       "      <td>starwarsday</td>\n",
       "      <td>46.19295</td>\n",
       "      <td>6.471575</td>\n",
       "      <td>12</td>\n",
       "      <td>C'est vêtu de mon T-Shirt SW que je vous souha...</td>\n",
       "      <td>2014-05-04</td>\n",
       "      <td>2014</td>\n",
       "      <td>5</td>\n",
       "      <td>1399161600000</td>\n",
       "      <td>1398902400000</td>\n",
       "    </tr>\n",
       "  </tbody>\n",
       "</table>\n",
       "</div>"
      ],
      "text/plain": [
       "       hashtag  latitude  longitude  numberOfTweets  \\\n",
       "0  starwarsday  46.19295   6.471575              12   \n",
       "\n",
       "                                                text        date  year  month  \\\n",
       "0  C'est vêtu de mon T-Shirt SW que je vous souha...  2014-05-04  2014      5   \n",
       "\n",
       "        utc_date      unix_time  \n",
       "0  1399161600000  1398902400000  "
      ]
     },
     "execution_count": 79,
     "metadata": {},
     "output_type": "execute_result"
    }
   ],
   "source": [
    "pr('Converting dates...')\n",
    "e_df['year'] = e_df['date'].apply(lambda x: x.year)\n",
    "e_df['month'] = e_df['date'].apply(lambda x: x.month)\n",
    "e_df['utc_date'] = e_df['date'].apply(lambda x: to_utc(x))\n",
    "e_df['unix_time'] = e_df.apply(convert_to_unix_time, axis=1)\n",
    "pr('Done.')\n",
    "e_df.head(1)"
   ]
  },
  {
   "cell_type": "markdown",
   "metadata": {},
   "source": [
    "Grouping by months and generating the dictionary for the json."
   ]
  },
  {
   "cell_type": "code",
   "execution_count": 80,
   "metadata": {
    "collapsed": true
   },
   "outputs": [],
   "source": [
    "e_gb_month = e_df.groupby(e_df.unix_time)"
   ]
  },
  {
   "cell_type": "code",
   "execution_count": 81,
   "metadata": {
    "collapsed": false
   },
   "outputs": [
    {
     "name": "stdout",
     "output_type": "stream",
     "text": [
      "12:44:50 Making event list...\n",
      "12:44:59 Done.\n"
     ]
    }
   ],
   "source": [
    "pr('Making event list...')\n",
    "months = []\n",
    "for month, df in e_gb_month:\n",
    "    days = []\n",
    "    for i in range (len(df)):\n",
    "        ht = df.iloc[i]['hashtag']\n",
    "        lat = df.iloc[i]['latitude']\n",
    "        lon = df.iloc[i]['longitude']\n",
    "        t_num = df.iloc[i]['numberOfTweets']\n",
    "        tweets = df.iloc[i]['text'].split(delimiter)\n",
    "        date = df.iloc[i]['utc_date']\n",
    "        \n",
    "        data_unit = { 'name': ht\n",
    "                    , 'latitude' : lat\n",
    "                    , 'longitude' : lon\n",
    "                    , 'tweets' : tweets\n",
    "                    , 'number_of_tweets' : str(t_num)\n",
    "                    , 'date' : int(date)}\n",
    "        days.append(data_unit)\n",
    "    \n",
    "    curr_month = {'date': int(month), 'data' : days}\n",
    "    months.append(curr_month)\n",
    "\n",
    "final_events = {'events' : months}\n",
    "pr('Done.')"
   ]
  },
  {
   "cell_type": "code",
   "execution_count": 82,
   "metadata": {
    "collapsed": false
   },
   "outputs": [
    {
     "name": "stdout",
     "output_type": "stream",
     "text": [
      "12:44:59 Exporting to json...\n",
      "12:45:00 Export done. File \"export_twitter_events_2017-01-30_12h44min59.json\" has been created.\n"
     ]
    }
   ],
   "source": [
    "exportFilename = 'export_twitter_events_' + datetime.now().strftime(\"%Y-%m-%d_%Hh%Mmin%S\") + '.json'\n",
    "exportPath =  os.path.join('data', exportFilename)\n",
    "\n",
    "pr('Exporting to json...')\n",
    "with open(exportPath, 'w') as f:\n",
    "     json.dump(final_events, f)\n",
    "pr('Export done. File \"{}\" has been created.'.format(exportFilename))"
   ]
  },
  {
   "cell_type": "code",
   "execution_count": null,
   "metadata": {
    "collapsed": true
   },
   "outputs": [],
   "source": []
  }
 ],
 "metadata": {
  "anaconda-cloud": {},
  "kernelspec": {
   "display_name": "Python [conda env:ADA-kernel]",
   "language": "python",
   "name": "conda-env-ADA-kernel-py"
  },
  "language_info": {
   "codemirror_mode": {
    "name": "ipython",
    "version": 3
   },
   "file_extension": ".py",
   "mimetype": "text/x-python",
   "name": "python",
   "nbconvert_exporter": "python",
   "pygments_lexer": "ipython3",
   "version": "3.5.2"
  }
 },
 "nbformat": 4,
 "nbformat_minor": 0
}
