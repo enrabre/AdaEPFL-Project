{
 "cells": [
  {
   "cell_type": "code",
   "execution_count": 47,
   "metadata": {
    "collapsed": false
   },
   "outputs": [],
   "source": [
    "import pandas as pd\n",
    "import numpy as np\n",
    "import os\n",
    "import seaborn as sns\n",
    "import datetime\n",
    "from sklearn.ensemble import RandomForestClassifier\n",
    "from sklearn.cluster import KMeans\n",
    "from sklearn.model_selection import KFold\n",
    "from sklearn import metrics\n",
    "import matplotlib.pyplot as plt\n",
    "from functools import reduce\n",
    "import math\n",
    "from collections import Counter\n",
    "import csv\n",
    "from datetime import datetime\n",
    "import re\n",
    "import copy\n",
    "import json\n",
    "from datetime import timedelta\n",
    "%matplotlib inline"
   ]
  },
  {
   "cell_type": "code",
   "execution_count": 6,
   "metadata": {
    "collapsed": true
   },
   "outputs": [],
   "source": [
    "def now():\n",
    "    return str(datetime.now().time())[:8]\n",
    "def pr(strToPrint):\n",
    "    print(now() + ' '+ strToPrint)\n",
    "\n",
    "from IPython.display import Audio\n",
    "sound_file = 'beep.wav'\n",
    "# pd.set_option('display.max_colwidth', -1)"
   ]
  },
  {
   "cell_type": "markdown",
   "metadata": {},
   "source": [
    "## Importing data"
   ]
  },
  {
   "cell_type": "markdown",
   "metadata": {},
   "source": [
    "Importing a sample of the dataset:"
   ]
  },
  {
   "cell_type": "code",
   "execution_count": 7,
   "metadata": {
    "collapsed": true
   },
   "outputs": [],
   "source": [
    "pickle_filename = os.path.join('data','head_100k_pickle.pkl')\n",
    "tw = pd.read_pickle(pickle_filename)"
   ]
  },
  {
   "cell_type": "markdown",
   "metadata": {},
   "source": [
    "Importing the whole dataset"
   ]
  },
  {
   "cell_type": "code",
   "execution_count": 8,
   "metadata": {
    "collapsed": false
   },
   "outputs": [
    {
     "name": "stdout",
     "output_type": "stream",
     "text": [
      "10:57:19 Starting to read file... (3 min)\n",
      "10:57:19 File is loaded!\n"
     ]
    }
   ],
   "source": [
    "columns_header = ['id', 'userId', 'createdAt', 'text', 'longitude', 'latitude', 'placeId',\n",
    "                  'inReplyTo', 'source', 'truncated', 'placeLatitude', 'placeLongitude', 'sourceName', 'sourceUrl',\n",
    "                 'userName', 'screenName', 'followersCount', 'friendsCount', 'statusesCount',\n",
    "                 'userLocation']\n",
    "\n",
    "filename = os.path.join('data','twex.tsv') # 'sample.tsv')\n",
    "pr('Starting to read file... (3 min)')\n",
    "# tw = pd.read_csv(filename, sep='\\t', encoding='utf-8', escapechar='\\\\', names=columns_header,\n",
    "#                       quoting=csv.QUOTE_NONE, na_values='N', header=None)\n",
    "\n",
    "pr('File is loaded!')\n",
    "# Audio(url=sound_file, autoplay=True)"
   ]
  },
  {
   "cell_type": "code",
   "execution_count": 9,
   "metadata": {
    "collapsed": false
   },
   "outputs": [
    {
     "data": {
      "text/html": [
       "<div>\n",
       "<table border=\"1\" class=\"dataframe\">\n",
       "  <thead>\n",
       "    <tr style=\"text-align: right;\">\n",
       "      <th></th>\n",
       "      <th>id</th>\n",
       "      <th>userId</th>\n",
       "      <th>createdAt</th>\n",
       "      <th>text</th>\n",
       "      <th>longitude</th>\n",
       "      <th>latitude</th>\n",
       "      <th>placeId</th>\n",
       "      <th>inReplyTo</th>\n",
       "      <th>source</th>\n",
       "      <th>truncated</th>\n",
       "      <th>placeLatitude</th>\n",
       "      <th>placeLongitude</th>\n",
       "      <th>sourceName</th>\n",
       "      <th>sourceUrl</th>\n",
       "      <th>userName</th>\n",
       "      <th>screenName</th>\n",
       "      <th>followersCount</th>\n",
       "      <th>friendsCount</th>\n",
       "      <th>statusesCount</th>\n",
       "      <th>userLocation</th>\n",
       "    </tr>\n",
       "  </thead>\n",
       "  <tbody>\n",
       "    <tr>\n",
       "      <th>0</th>\n",
       "      <td>9514097914</td>\n",
       "      <td>1.7341e+07</td>\n",
       "      <td>2010-02-23 05:55:51</td>\n",
       "      <td>Guuuuten Morgen! :-)</td>\n",
       "      <td>7.43926</td>\n",
       "      <td>46.9489</td>\n",
       "      <td>NaN</td>\n",
       "      <td>NaN</td>\n",
       "      <td>197</td>\n",
       "      <td>NaN</td>\n",
       "      <td>NaN</td>\n",
       "      <td>NaN</td>\n",
       "      <td>TwitBird</td>\n",
       "      <td>http://www.nibirutech.com</td>\n",
       "      <td>Tilman Jentzsch</td>\n",
       "      <td>blickwechsel</td>\n",
       "      <td>586</td>\n",
       "      <td>508.0</td>\n",
       "      <td>9016.0</td>\n",
       "      <td>Bern, Switzerland</td>\n",
       "    </tr>\n",
       "    <tr>\n",
       "      <th>1</th>\n",
       "      <td>9514846412</td>\n",
       "      <td>7.19828e+06</td>\n",
       "      <td>2010-02-23 06:22:40</td>\n",
       "      <td>Still the best coffee in town — at La Stanza h...</td>\n",
       "      <td>8.53781</td>\n",
       "      <td>47.3678</td>\n",
       "      <td>NaN</td>\n",
       "      <td>NaN</td>\n",
       "      <td>550</td>\n",
       "      <td>NaN</td>\n",
       "      <td>NaN</td>\n",
       "      <td>NaN</td>\n",
       "      <td>Gowalla</td>\n",
       "      <td>http://gowalla.com/</td>\n",
       "      <td>Nico Luchsinger</td>\n",
       "      <td>halbluchs</td>\n",
       "      <td>1820</td>\n",
       "      <td>703.0</td>\n",
       "      <td>4687.0</td>\n",
       "      <td>Zurich, Switzerland</td>\n",
       "    </tr>\n",
       "  </tbody>\n",
       "</table>\n",
       "</div>"
      ],
      "text/plain": [
       "           id       userId            createdAt  \\\n",
       "0  9514097914   1.7341e+07  2010-02-23 05:55:51   \n",
       "1  9514846412  7.19828e+06  2010-02-23 06:22:40   \n",
       "\n",
       "                                                text  longitude latitude  \\\n",
       "0                               Guuuuten Morgen! :-)    7.43926  46.9489   \n",
       "1  Still the best coffee in town — at La Stanza h...    8.53781  47.3678   \n",
       "\n",
       "  placeId  inReplyTo source truncated placeLatitude placeLongitude sourceName  \\\n",
       "0     NaN        NaN    197       NaN           NaN            NaN   TwitBird   \n",
       "1     NaN        NaN    550       NaN           NaN            NaN    Gowalla   \n",
       "\n",
       "                   sourceUrl         userName    screenName followersCount  \\\n",
       "0  http://www.nibirutech.com  Tilman Jentzsch  blickwechsel            586   \n",
       "1        http://gowalla.com/  Nico Luchsinger     halbluchs           1820   \n",
       "\n",
       "   friendsCount  statusesCount         userLocation  \n",
       "0         508.0         9016.0    Bern, Switzerland  \n",
       "1         703.0         4687.0  Zurich, Switzerland  "
      ]
     },
     "execution_count": 9,
     "metadata": {},
     "output_type": "execute_result"
    }
   ],
   "source": [
    "tw.head(2)"
   ]
  },
  {
   "cell_type": "markdown",
   "metadata": {},
   "source": [
    "## Extrating hashtags"
   ]
  },
  {
   "cell_type": "code",
   "execution_count": 10,
   "metadata": {
    "collapsed": true
   },
   "outputs": [],
   "source": [
    "def extract_hashtags(text):\n",
    "    ht_list = re.findall(r\"#(\\w+)\", text)\n",
    "    non_empty_hts = list(filter((lambda ht: ht != []), ht_list))\n",
    "    lowerCharList = [ht.lower() for ht in non_empty_hts]\n",
    "    return lowerCharList"
   ]
  },
  {
   "cell_type": "code",
   "execution_count": 11,
   "metadata": {
    "collapsed": false
   },
   "outputs": [
    {
     "name": "stdout",
     "output_type": "stream",
     "text": [
      "10:57:24 Making hashtags... (2 min)\n",
      "10:57:24 Done.\n"
     ]
    }
   ],
   "source": [
    "pr('Making hashtags... (2 min)')\n",
    "tw['hashtag'] = np.nan\n",
    "tw.hashtag = tw.text.apply(lambda x: extract_hashtags(str(x)))\n",
    "twh = tw.ix[tw.hashtag.apply(lambda x: len(x) != 0)]\n",
    "pr('Done.')"
   ]
  },
  {
   "cell_type": "code",
   "execution_count": 12,
   "metadata": {
    "collapsed": false
   },
   "outputs": [
    {
     "data": {
      "text/html": [
       "<div>\n",
       "<table border=\"1\" class=\"dataframe\">\n",
       "  <thead>\n",
       "    <tr style=\"text-align: right;\">\n",
       "      <th></th>\n",
       "      <th>id</th>\n",
       "      <th>userId</th>\n",
       "      <th>createdAt</th>\n",
       "      <th>text</th>\n",
       "      <th>longitude</th>\n",
       "      <th>latitude</th>\n",
       "      <th>placeId</th>\n",
       "      <th>inReplyTo</th>\n",
       "      <th>source</th>\n",
       "      <th>truncated</th>\n",
       "      <th>...</th>\n",
       "      <th>placeLongitude</th>\n",
       "      <th>sourceName</th>\n",
       "      <th>sourceUrl</th>\n",
       "      <th>userName</th>\n",
       "      <th>screenName</th>\n",
       "      <th>followersCount</th>\n",
       "      <th>friendsCount</th>\n",
       "      <th>statusesCount</th>\n",
       "      <th>userLocation</th>\n",
       "      <th>hashtag</th>\n",
       "    </tr>\n",
       "  </thead>\n",
       "  <tbody>\n",
       "    <tr>\n",
       "      <th>8</th>\n",
       "      <td>9519737890</td>\n",
       "      <td>1.46579e+07</td>\n",
       "      <td>2010-02-23 09:59:41</td>\n",
       "      <td>Magic spells run off after midnight, I guess s...</td>\n",
       "      <td>6.13870</td>\n",
       "      <td>46.175</td>\n",
       "      <td>NaN</td>\n",
       "      <td>NaN</td>\n",
       "      <td>1</td>\n",
       "      <td>NaN</td>\n",
       "      <td>...</td>\n",
       "      <td>NaN</td>\n",
       "      <td>Twitter for iPhone</td>\n",
       "      <td>http://twitter.com/#!/download/iphone</td>\n",
       "      <td>Javier Belmonte</td>\n",
       "      <td>vichango</td>\n",
       "      <td>167</td>\n",
       "      <td>277.0</td>\n",
       "      <td>2885.0</td>\n",
       "      <td>Geneva, Switzerland</td>\n",
       "      <td>[fb]</td>\n",
       "    </tr>\n",
       "    <tr>\n",
       "      <th>10</th>\n",
       "      <td>9521789689</td>\n",
       "      <td>9.96202e+06</td>\n",
       "      <td>2010-02-23 11:28:27</td>\n",
       "      <td>Limitas of public transportation! No taxi, rai...</td>\n",
       "      <td>6.33641</td>\n",
       "      <td>46.4631</td>\n",
       "      <td>NaN</td>\n",
       "      <td>NaN</td>\n",
       "      <td>550</td>\n",
       "      <td>NaN</td>\n",
       "      <td>...</td>\n",
       "      <td>NaN</td>\n",
       "      <td>Gowalla</td>\n",
       "      <td>http://gowalla.com/</td>\n",
       "      <td>Thomas Winter</td>\n",
       "      <td>thwinter</td>\n",
       "      <td>1070</td>\n",
       "      <td>1359.0</td>\n",
       "      <td>3349.0</td>\n",
       "      <td>Hettlingen CH / SanJose Ca</td>\n",
       "      <td>[yam]</td>\n",
       "    </tr>\n",
       "  </tbody>\n",
       "</table>\n",
       "<p>2 rows × 21 columns</p>\n",
       "</div>"
      ],
      "text/plain": [
       "            id       userId            createdAt  \\\n",
       "8   9519737890  1.46579e+07  2010-02-23 09:59:41   \n",
       "10  9521789689  9.96202e+06  2010-02-23 11:28:27   \n",
       "\n",
       "                                                 text  longitude latitude  \\\n",
       "8   Magic spells run off after midnight, I guess s...    6.13870   46.175   \n",
       "10  Limitas of public transportation! No taxi, rai...    6.33641  46.4631   \n",
       "\n",
       "   placeId  inReplyTo source truncated   ...   placeLongitude  \\\n",
       "8      NaN        NaN      1       NaN   ...              NaN   \n",
       "10     NaN        NaN    550       NaN   ...              NaN   \n",
       "\n",
       "            sourceName                              sourceUrl  \\\n",
       "8   Twitter for iPhone  http://twitter.com/#!/download/iphone   \n",
       "10             Gowalla                    http://gowalla.com/   \n",
       "\n",
       "           userName screenName followersCount friendsCount  statusesCount  \\\n",
       "8   Javier Belmonte   vichango            167        277.0         2885.0   \n",
       "10    Thomas Winter   thwinter           1070       1359.0         3349.0   \n",
       "\n",
       "                  userLocation hashtag  \n",
       "8          Geneva, Switzerland    [fb]  \n",
       "10  Hettlingen CH / SanJose Ca   [yam]  \n",
       "\n",
       "[2 rows x 21 columns]"
      ]
     },
     "execution_count": 12,
     "metadata": {},
     "output_type": "execute_result"
    }
   ],
   "source": [
    "twh.head(2)"
   ]
  },
  {
   "cell_type": "markdown",
   "metadata": {},
   "source": [
    "## Cleaning data and making date index"
   ]
  },
  {
   "cell_type": "code",
   "execution_count": 13,
   "metadata": {
    "collapsed": false
   },
   "outputs": [
    {
     "name": "stdout",
     "output_type": "stream",
     "text": [
      "The data have been reduced from 19719 tweets to 19719 tweets.\n"
     ]
    }
   ],
   "source": [
    "tw1 = twh.dropna(axis=0, how='any', subset=['text', 'createdAt'])\n",
    "print('The data have been reduced from {} tweets to {} tweets.'.format(len(twh), len(tw1)))"
   ]
  },
  {
   "cell_type": "code",
   "execution_count": 14,
   "metadata": {
    "collapsed": false
   },
   "outputs": [
    {
     "name": "stdout",
     "output_type": "stream",
     "text": [
      "10:57:26 Removing bad dates...\n",
      "10:57:26 Finished.\n"
     ]
    }
   ],
   "source": [
    "pr('Removing bad dates...')\n",
    "twhCleanDate = tw1[tw1['createdAt'].str.len() == 19]\n",
    "pr('Finished.')"
   ]
  },
  {
   "cell_type": "code",
   "execution_count": 15,
   "metadata": {
    "collapsed": false
   },
   "outputs": [
    {
     "name": "stdout",
     "output_type": "stream",
     "text": [
      "10:57:27 Starting to examine dates...\n",
      "10:57:27 There are 0 dates that cannot be transformed.\n"
     ]
    }
   ],
   "source": [
    "pr('Starting to examine dates...')\n",
    "import warnings\n",
    "warnings.filterwarnings('ignore')\n",
    "datetime_serie = twhCleanDate['createdAt'].convert_objects(convert_dates='coerce')\n",
    "dateNotConvertible = datetime_serie[pd.isnull(datetime_serie)]\n",
    "warnings.filterwarnings('default')\n",
    "pr('There are {} dates that cannot be transformed.'.format(len(dateNotConvertible)))"
   ]
  },
  {
   "cell_type": "code",
   "execution_count": 16,
   "metadata": {
    "collapsed": false,
    "scrolled": false
   },
   "outputs": [
    {
     "name": "stdout",
     "output_type": "stream",
     "text": [
      "10:57:27 Starting copy...\n",
      "10:57:27 Converting to datetime...\n",
      "10:57:27 Setting up new indices...\n",
      "10:57:27 Deleting old \"createdAt\" column...\n",
      "10:57:27 Done!\n"
     ]
    },
    {
     "data": {
      "text/html": [
       "<div>\n",
       "<table border=\"1\" class=\"dataframe\">\n",
       "  <thead>\n",
       "    <tr style=\"text-align: right;\">\n",
       "      <th></th>\n",
       "      <th>id</th>\n",
       "      <th>userId</th>\n",
       "      <th>text</th>\n",
       "      <th>longitude</th>\n",
       "      <th>latitude</th>\n",
       "      <th>placeId</th>\n",
       "      <th>inReplyTo</th>\n",
       "      <th>source</th>\n",
       "      <th>truncated</th>\n",
       "      <th>placeLatitude</th>\n",
       "      <th>placeLongitude</th>\n",
       "      <th>sourceName</th>\n",
       "      <th>sourceUrl</th>\n",
       "      <th>userName</th>\n",
       "      <th>screenName</th>\n",
       "      <th>followersCount</th>\n",
       "      <th>friendsCount</th>\n",
       "      <th>statusesCount</th>\n",
       "      <th>userLocation</th>\n",
       "      <th>hashtag</th>\n",
       "    </tr>\n",
       "    <tr>\n",
       "      <th>createdAt</th>\n",
       "      <th></th>\n",
       "      <th></th>\n",
       "      <th></th>\n",
       "      <th></th>\n",
       "      <th></th>\n",
       "      <th></th>\n",
       "      <th></th>\n",
       "      <th></th>\n",
       "      <th></th>\n",
       "      <th></th>\n",
       "      <th></th>\n",
       "      <th></th>\n",
       "      <th></th>\n",
       "      <th></th>\n",
       "      <th></th>\n",
       "      <th></th>\n",
       "      <th></th>\n",
       "      <th></th>\n",
       "      <th></th>\n",
       "      <th></th>\n",
       "    </tr>\n",
       "  </thead>\n",
       "  <tbody>\n",
       "    <tr>\n",
       "      <th>2010-02-23 09:59:41</th>\n",
       "      <td>9519737890</td>\n",
       "      <td>1.46579e+07</td>\n",
       "      <td>Magic spells run off after midnight, I guess s...</td>\n",
       "      <td>6.13870</td>\n",
       "      <td>46.175</td>\n",
       "      <td>NaN</td>\n",
       "      <td>NaN</td>\n",
       "      <td>1</td>\n",
       "      <td>NaN</td>\n",
       "      <td>NaN</td>\n",
       "      <td>NaN</td>\n",
       "      <td>Twitter for iPhone</td>\n",
       "      <td>http://twitter.com/#!/download/iphone</td>\n",
       "      <td>Javier Belmonte</td>\n",
       "      <td>vichango</td>\n",
       "      <td>167</td>\n",
       "      <td>277.0</td>\n",
       "      <td>2885.0</td>\n",
       "      <td>Geneva, Switzerland</td>\n",
       "      <td>[fb]</td>\n",
       "    </tr>\n",
       "    <tr>\n",
       "      <th>2010-02-23 11:28:27</th>\n",
       "      <td>9521789689</td>\n",
       "      <td>9.96202e+06</td>\n",
       "      <td>Limitas of public transportation! No taxi, rai...</td>\n",
       "      <td>6.33641</td>\n",
       "      <td>46.4631</td>\n",
       "      <td>NaN</td>\n",
       "      <td>NaN</td>\n",
       "      <td>550</td>\n",
       "      <td>NaN</td>\n",
       "      <td>NaN</td>\n",
       "      <td>NaN</td>\n",
       "      <td>Gowalla</td>\n",
       "      <td>http://gowalla.com/</td>\n",
       "      <td>Thomas Winter</td>\n",
       "      <td>thwinter</td>\n",
       "      <td>1070</td>\n",
       "      <td>1359.0</td>\n",
       "      <td>3349.0</td>\n",
       "      <td>Hettlingen CH / SanJose Ca</td>\n",
       "      <td>[yam]</td>\n",
       "    </tr>\n",
       "  </tbody>\n",
       "</table>\n",
       "</div>"
      ],
      "text/plain": [
       "                             id       userId  \\\n",
       "createdAt                                      \n",
       "2010-02-23 09:59:41  9519737890  1.46579e+07   \n",
       "2010-02-23 11:28:27  9521789689  9.96202e+06   \n",
       "\n",
       "                                                                  text  \\\n",
       "createdAt                                                                \n",
       "2010-02-23 09:59:41  Magic spells run off after midnight, I guess s...   \n",
       "2010-02-23 11:28:27  Limitas of public transportation! No taxi, rai...   \n",
       "\n",
       "                     longitude latitude placeId  inReplyTo source truncated  \\\n",
       "createdAt                                                                     \n",
       "2010-02-23 09:59:41    6.13870   46.175     NaN        NaN      1       NaN   \n",
       "2010-02-23 11:28:27    6.33641  46.4631     NaN        NaN    550       NaN   \n",
       "\n",
       "                    placeLatitude placeLongitude          sourceName  \\\n",
       "createdAt                                                              \n",
       "2010-02-23 09:59:41           NaN            NaN  Twitter for iPhone   \n",
       "2010-02-23 11:28:27           NaN            NaN             Gowalla   \n",
       "\n",
       "                                                 sourceUrl         userName  \\\n",
       "createdAt                                                                     \n",
       "2010-02-23 09:59:41  http://twitter.com/#!/download/iphone  Javier Belmonte   \n",
       "2010-02-23 11:28:27                    http://gowalla.com/    Thomas Winter   \n",
       "\n",
       "                    screenName followersCount  friendsCount  statusesCount  \\\n",
       "createdAt                                                                    \n",
       "2010-02-23 09:59:41   vichango            167         277.0         2885.0   \n",
       "2010-02-23 11:28:27   thwinter           1070        1359.0         3349.0   \n",
       "\n",
       "                                   userLocation hashtag  \n",
       "createdAt                                                \n",
       "2010-02-23 09:59:41         Geneva, Switzerland    [fb]  \n",
       "2010-02-23 11:28:27  Hettlingen CH / SanJose Ca   [yam]  "
      ]
     },
     "execution_count": 16,
     "metadata": {},
     "output_type": "execute_result"
    }
   ],
   "source": [
    "pr('Starting copy...') # (to avoid transformation problems)\n",
    "tw5 = twhCleanDate.copy()\n",
    "pr('Converting to datetime...')\n",
    "tw5['createdAt'] = pd.to_datetime(twhCleanDate['createdAt'])\n",
    "pr('Setting up new indices...')\n",
    "tw5.index = tw5['createdAt']\n",
    "pr('Deleting old \"createdAt\" column...')\n",
    "del tw5['createdAt']\n",
    "pr('Done!')\n",
    "tw5.head(2)"
   ]
  },
  {
   "cell_type": "code",
   "execution_count": 17,
   "metadata": {
    "collapsed": false
   },
   "outputs": [
    {
     "data": {
      "text/plain": [
       "createdAt\n",
       "2010-02-23 09:59:41               [fb]\n",
       "2010-02-23 11:28:27              [yam]\n",
       "2010-02-23 17:47:11          [24, vfb]\n",
       "2010-02-23 18:19:03    [iphoneography]\n",
       "2010-02-23 18:31:46     [partnermonth]\n",
       "2010-02-24 06:09:23      [insider, fb]\n",
       "Name: hashtag, dtype: object"
      ]
     },
     "execution_count": 17,
     "metadata": {},
     "output_type": "execute_result"
    }
   ],
   "source": [
    "tw5['hashtag'][:6]"
   ]
  },
  {
   "cell_type": "markdown",
   "metadata": {},
   "source": [
    "## Let's put one hashtag per row"
   ]
  },
  {
   "cell_type": "markdown",
   "metadata": {
    "collapsed": false
   },
   "source": [
    "We will make a dataframe with one row = one hashtag. This will be done by going through the dataframe, and making in parallel a list of rows (with 1 hashtag per row) that needs to be added to the old dataframe."
   ]
  },
  {
   "cell_type": "code",
   "execution_count": 18,
   "metadata": {
    "collapsed": false
   },
   "outputs": [],
   "source": [
    "addedHashtagsRowsList = []\n",
    "def multiplyHashtagRows(row, columns):\n",
    "    '''\n",
    "    Examine each row. If there are multiple hashtags, it will return the first one.\n",
    "    (so the first one will replace the list of hashtags in the df). Then for all the next ones,\n",
    "    it will make a copy of the row in the addedHashtagsRowsList, (in a dictionary format).\n",
    "    So this dictionary can in the end be transformed in a DF and added to the original DF.\n",
    "    (The speed is increased a lot by doing it this way!)\n",
    "    '''\n",
    "    htList = row.hashtag\n",
    "    if len(htList) > 1:\n",
    "        ## Making the dictionary\n",
    "        addedHashtag = {}\n",
    "        addedHashtag['createdAt'] = row.name #the df index\n",
    "        for col in columns:\n",
    "            addedHashtag[col] = row[col]\n",
    "        ## Copying the dict for each hashtag\n",
    "        i = 1\n",
    "        while i < len(htList) :\n",
    "            deepCopy = copy.deepcopy(addedHashtag)\n",
    "            deepCopy['hashtag'] = htList[i]\n",
    "            addedHashtagsRowsList.append(deepCopy)\n",
    "            i+=1\n",
    "    return htList[0] # return the first hashtag"
   ]
  },
  {
   "cell_type": "code",
   "execution_count": 19,
   "metadata": {
    "collapsed": false
   },
   "outputs": [
    {
     "name": "stdout",
     "output_type": "stream",
     "text": [
      "10:57:28 Multiplying the hashtag rows... (around 10 min)\n",
      "10:57:33 Finished! 8887 rows will be added to the dataframe!\n"
     ]
    }
   ],
   "source": [
    "addedHashtagsRowsList = []\n",
    "tw5_1 = tw5.copy()\n",
    "pr('Multiplying the hashtag rows... (around 10 min)')\n",
    "tw5_1['hashtag'] = tw5.apply(multiplyHashtagRows, args=[tw5.columns,], axis=1)\n",
    "pr('Finished! {} rows will be added to the dataframe!'.format(len(addedHashtagsRowsList)))"
   ]
  },
  {
   "cell_type": "code",
   "execution_count": 20,
   "metadata": {
    "collapsed": false
   },
   "outputs": [
    {
     "name": "stdout",
     "output_type": "stream",
     "text": [
      "10:57:33 Starting to make the new dataframe with additionnal rows..\n",
      "10:57:33 Starting to append the two df... Old df size = 19719\n",
      "10:57:33 Done! New df size = 28606\n"
     ]
    }
   ],
   "source": [
    "pr('Starting to make the new dataframe with additionnal rows..')\n",
    "addedHashtagsDf = pd.DataFrame(addedHashtagsRowsList)\n",
    "addedHashtagsDf.set_index(['createdAt'], inplace=True)\n",
    "pr('Starting to append the two df... Old df size = {}'.format(len(tw5_1)))\n",
    "tw6 = tw5_1.append(addedHashtagsDf)\n",
    "pr('Done! New df size = {}'.format(len(tw6)))"
   ]
  },
  {
   "cell_type": "code",
   "execution_count": 21,
   "metadata": {
    "collapsed": false
   },
   "outputs": [
    {
     "name": "stdout",
     "output_type": "stream",
     "text": [
      "Example hahshtag:\n"
     ]
    },
    {
     "data": {
      "text/html": [
       "<div>\n",
       "<table border=\"1\" class=\"dataframe\">\n",
       "  <thead>\n",
       "    <tr style=\"text-align: right;\">\n",
       "      <th></th>\n",
       "      <th>followersCount</th>\n",
       "      <th>friendsCount</th>\n",
       "      <th>hashtag</th>\n",
       "      <th>id</th>\n",
       "      <th>inReplyTo</th>\n",
       "      <th>latitude</th>\n",
       "      <th>longitude</th>\n",
       "      <th>placeId</th>\n",
       "      <th>placeLatitude</th>\n",
       "      <th>placeLongitude</th>\n",
       "      <th>screenName</th>\n",
       "      <th>source</th>\n",
       "      <th>sourceName</th>\n",
       "      <th>sourceUrl</th>\n",
       "      <th>statusesCount</th>\n",
       "      <th>text</th>\n",
       "      <th>truncated</th>\n",
       "      <th>userId</th>\n",
       "      <th>userLocation</th>\n",
       "      <th>userName</th>\n",
       "    </tr>\n",
       "    <tr>\n",
       "      <th>createdAt</th>\n",
       "      <th></th>\n",
       "      <th></th>\n",
       "      <th></th>\n",
       "      <th></th>\n",
       "      <th></th>\n",
       "      <th></th>\n",
       "      <th></th>\n",
       "      <th></th>\n",
       "      <th></th>\n",
       "      <th></th>\n",
       "      <th></th>\n",
       "      <th></th>\n",
       "      <th></th>\n",
       "      <th></th>\n",
       "      <th></th>\n",
       "      <th></th>\n",
       "      <th></th>\n",
       "      <th></th>\n",
       "      <th></th>\n",
       "      <th></th>\n",
       "    </tr>\n",
       "  </thead>\n",
       "  <tbody>\n",
       "    <tr>\n",
       "      <th>2011-07-24 16:03:13</th>\n",
       "      <td>1121</td>\n",
       "      <td>763.0</td>\n",
       "      <td>vfb</td>\n",
       "      <td>95162125584039936</td>\n",
       "      <td>9.501397e+16</td>\n",
       "      <td>NaN</td>\n",
       "      <td>NaN</td>\n",
       "      <td>e401fb8eb4e7595a</td>\n",
       "      <td>47.5356</td>\n",
       "      <td>9.14004</td>\n",
       "      <td>eLd0raDo</td>\n",
       "      <td>14</td>\n",
       "      <td>Tweetbot for iOS</td>\n",
       "      <td>http://tapbots.com/tweetbot</td>\n",
       "      <td>6735.0</td>\n",
       "      <td>@mikstweed Wie lange ist es her, dass der #vfb...</td>\n",
       "      <td>NaN</td>\n",
       "      <td>921241</td>\n",
       "      <td>Kreuzlingen, TG, Switzerland</td>\n",
       "      <td>Markus Tressl</td>\n",
       "    </tr>\n",
       "    <tr>\n",
       "      <th>2010-02-23 17:47:11</th>\n",
       "      <td>1121</td>\n",
       "      <td>763.0</td>\n",
       "      <td>vfb</td>\n",
       "      <td>9535390586</td>\n",
       "      <td>NaN</td>\n",
       "      <td>47.6463</td>\n",
       "      <td>9.16570</td>\n",
       "      <td>NaN</td>\n",
       "      <td>NaN</td>\n",
       "      <td>NaN</td>\n",
       "      <td>eLd0raDo</td>\n",
       "      <td>550</td>\n",
       "      <td>Gowalla</td>\n",
       "      <td>http://gowalla.com/</td>\n",
       "      <td>6735.0</td>\n",
       "      <td>So, Feierabend. Jetzt #24 und später #VfB. — a...</td>\n",
       "      <td>NaN</td>\n",
       "      <td>921241</td>\n",
       "      <td>Kreuzlingen, TG, Switzerland</td>\n",
       "      <td>Markus Tressl</td>\n",
       "    </tr>\n",
       "    <tr>\n",
       "      <th>2010-12-01 17:25:56</th>\n",
       "      <td>1317</td>\n",
       "      <td>830.0</td>\n",
       "      <td>vfb</td>\n",
       "      <td>10021795398684672</td>\n",
       "      <td>NaN</td>\n",
       "      <td>46.9499</td>\n",
       "      <td>7.47071</td>\n",
       "      <td>e38a1a641d02f8db</td>\n",
       "      <td>46.9543</td>\n",
       "      <td>7.39491</td>\n",
       "      <td>chm</td>\n",
       "      <td>1</td>\n",
       "      <td>Twitter for iPhone</td>\n",
       "      <td>http://twitter.com/#!/download/iphone</td>\n",
       "      <td>13552.0</td>\n",
       "      <td>So, und jetzt Flachmann suchen und dann ab ins...</td>\n",
       "      <td>NaN</td>\n",
       "      <td>120433</td>\n",
       "      <td>Bern, Switzerland</td>\n",
       "      <td>chm</td>\n",
       "    </tr>\n",
       "  </tbody>\n",
       "</table>\n",
       "</div>"
      ],
      "text/plain": [
       "                    followersCount  friendsCount hashtag                 id  \\\n",
       "createdAt                                                                     \n",
       "2011-07-24 16:03:13           1121         763.0     vfb  95162125584039936   \n",
       "2010-02-23 17:47:11           1121         763.0     vfb         9535390586   \n",
       "2010-12-01 17:25:56           1317         830.0     vfb  10021795398684672   \n",
       "\n",
       "                        inReplyTo latitude  longitude           placeId  \\\n",
       "createdAt                                                                 \n",
       "2011-07-24 16:03:13  9.501397e+16      NaN        NaN  e401fb8eb4e7595a   \n",
       "2010-02-23 17:47:11           NaN  47.6463    9.16570               NaN   \n",
       "2010-12-01 17:25:56           NaN  46.9499    7.47071  e38a1a641d02f8db   \n",
       "\n",
       "                    placeLatitude placeLongitude screenName source  \\\n",
       "createdAt                                                            \n",
       "2011-07-24 16:03:13       47.5356        9.14004   eLd0raDo     14   \n",
       "2010-02-23 17:47:11           NaN            NaN   eLd0raDo    550   \n",
       "2010-12-01 17:25:56       46.9543        7.39491        chm      1   \n",
       "\n",
       "                             sourceName  \\\n",
       "createdAt                                 \n",
       "2011-07-24 16:03:13    Tweetbot for iOS   \n",
       "2010-02-23 17:47:11             Gowalla   \n",
       "2010-12-01 17:25:56  Twitter for iPhone   \n",
       "\n",
       "                                                 sourceUrl  statusesCount  \\\n",
       "createdAt                                                                   \n",
       "2011-07-24 16:03:13            http://tapbots.com/tweetbot         6735.0   \n",
       "2010-02-23 17:47:11                    http://gowalla.com/         6735.0   \n",
       "2010-12-01 17:25:56  http://twitter.com/#!/download/iphone        13552.0   \n",
       "\n",
       "                                                                  text  \\\n",
       "createdAt                                                                \n",
       "2011-07-24 16:03:13  @mikstweed Wie lange ist es her, dass der #vfb...   \n",
       "2010-02-23 17:47:11  So, Feierabend. Jetzt #24 und später #VfB. — a...   \n",
       "2010-12-01 17:25:56  So, und jetzt Flachmann suchen und dann ab ins...   \n",
       "\n",
       "                    truncated  userId                  userLocation  \\\n",
       "createdAt                                                             \n",
       "2011-07-24 16:03:13       NaN  921241  Kreuzlingen, TG, Switzerland   \n",
       "2010-02-23 17:47:11       NaN  921241  Kreuzlingen, TG, Switzerland   \n",
       "2010-12-01 17:25:56       NaN  120433             Bern, Switzerland   \n",
       "\n",
       "                          userName  \n",
       "createdAt                           \n",
       "2011-07-24 16:03:13  Markus Tressl  \n",
       "2010-02-23 17:47:11  Markus Tressl  \n",
       "2010-12-01 17:25:56            chm  "
      ]
     },
     "execution_count": 21,
     "metadata": {},
     "output_type": "execute_result"
    }
   ],
   "source": [
    "print('Example hahshtag:')\n",
    "tw6[tw6['hashtag'] == addedHashtagsRowsList[0]['hashtag']].head(3)"
   ]
  },
  {
   "cell_type": "code",
   "execution_count": 22,
   "metadata": {
    "collapsed": false
   },
   "outputs": [
    {
     "data": {
      "text/plain": [
       "createdAt\n",
       "2010-02-23 09:59:41               fb\n",
       "2010-02-23 11:28:27              yam\n",
       "2010-02-23 17:47:11               24\n",
       "2010-02-23 18:19:03    iphoneography\n",
       "2010-02-23 18:31:46     partnermonth\n",
       "Name: hashtag, dtype: object"
      ]
     },
     "execution_count": 22,
     "metadata": {},
     "output_type": "execute_result"
    }
   ],
   "source": [
    "tw6.hashtag.head()"
   ]
  },
  {
   "cell_type": "markdown",
   "metadata": {},
   "source": [
    "## Grouping per hashtags per day"
   ]
  },
  {
   "cell_type": "code",
   "execution_count": 23,
   "metadata": {
    "collapsed": false
   },
   "outputs": [],
   "source": [
    "tw6.dropna(subset=['longitude'], inplace=True)\n",
    "tw6.dropna(subset=['latitude'], inplace=True)"
   ]
  },
  {
   "cell_type": "code",
   "execution_count": 24,
   "metadata": {
    "collapsed": false
   },
   "outputs": [],
   "source": [
    "tw6.latitude = tw6.latitude.apply(float)\n",
    "tw6.longitude = tw6.longitude.apply(float)"
   ]
  },
  {
   "cell_type": "code",
   "execution_count": 25,
   "metadata": {
    "collapsed": true
   },
   "outputs": [],
   "source": [
    "delimiter = '_$$$_'\n",
    "str_join = lambda x: delimiter.join(x)"
   ]
  },
  {
   "cell_type": "markdown",
   "metadata": {},
   "source": [
    "Function that applies to a dataframe will group each row by day and aggregate all its content:"
   ]
  },
  {
   "cell_type": "code",
   "execution_count": 26,
   "metadata": {
    "collapsed": false
   },
   "outputs": [],
   "source": [
    "def aggDate(df):\n",
    "    groupedDf = df.groupby(df.index.map(lambda x: x.date)).agg({'text' : str_join,\n",
    "                                                          'longitude' : np.median,\n",
    "                                                          'latitude' : np.median,\n",
    "                                                          'hashtag' : lambda x: x.iloc[0], ## the first occurence\n",
    "                                                          'numberOfTweets' : 'count'})\n",
    "    return groupedDf"
   ]
  },
  {
   "cell_type": "code",
   "execution_count": 27,
   "metadata": {
    "collapsed": false
   },
   "outputs": [
    {
     "name": "stdout",
     "output_type": "stream",
     "text": [
      "10:57:37 Making column number of tweets\n",
      "10:57:37 Starting group by hastag...\n",
      "10:57:37 Starting to put hashtag in dictionary... (around 50 min)\n",
      "10:57:44 10%\n",
      "10:57:52 20%\n",
      "10:57:59 30%\n",
      "10:58:05 40%\n",
      "10:58:11 50%\n",
      "10:58:18 60%\n",
      "10:58:24 70%\n",
      "10:58:30 80%\n",
      "10:58:37 90%\n",
      "10:58:43 100%\n",
      "10:58:43 Finished operations! Dictionary with 9410 different hashtags.\n"
     ]
    }
   ],
   "source": [
    "pr('Making column number of tweets')\n",
    "tw6['numberOfTweets'] = 1\n",
    "pr('Starting group by hastag...')\n",
    "gp = tw6.groupby('hashtag')\n",
    "pr('Starting to put hashtag in dictionary... (around 50 min)')\n",
    "\n",
    "count = 0\n",
    "lengp = len(gp)\n",
    "printingValue = int(lengp / 10)\n",
    "dictionary = {}\n",
    "for hashtag, df in gp:\n",
    "    dictionary[hashtag] = aggDate(df)\n",
    "    count += 1\n",
    "    if count % printingValue == 0:\n",
    "        pr(\"{:.0f}%\".format(count/lengp*100))\n",
    "pr('Finished operations! Dictionary with {} different hashtags.'.format(len(dictionary)))"
   ]
  },
  {
   "cell_type": "code",
   "execution_count": 29,
   "metadata": {
    "collapsed": false
   },
   "outputs": [
    {
     "name": "stdout",
     "output_type": "stream",
     "text": [
      "Dictionary with hashtags dataframes:\n"
     ]
    },
    {
     "data": {
      "text/html": [
       "<div>\n",
       "<table border=\"1\" class=\"dataframe\">\n",
       "  <thead>\n",
       "    <tr style=\"text-align: right;\">\n",
       "      <th></th>\n",
       "      <th>hashtag</th>\n",
       "      <th>text</th>\n",
       "      <th>longitude</th>\n",
       "      <th>numberOfTweets</th>\n",
       "      <th>latitude</th>\n",
       "    </tr>\n",
       "  </thead>\n",
       "  <tbody>\n",
       "    <tr>\n",
       "      <th>2010-03-24</th>\n",
       "      <td>passtimes</td>\n",
       "      <td>It's amazing how relaxing it is to watch falli...</td>\n",
       "      <td>6.15248</td>\n",
       "      <td>1</td>\n",
       "      <td>46.2043</td>\n",
       "    </tr>\n",
       "  </tbody>\n",
       "</table>\n",
       "</div>"
      ],
      "text/plain": [
       "              hashtag                                               text  \\\n",
       "2010-03-24  passtimes  It's amazing how relaxing it is to watch falli...   \n",
       "\n",
       "            longitude  numberOfTweets  latitude  \n",
       "2010-03-24    6.15248               1   46.2043  "
      ]
     },
     "execution_count": 29,
     "metadata": {},
     "output_type": "execute_result"
    }
   ],
   "source": [
    "# aggDate(gp.get_group('twibisg')).head(3)\n",
    "# dictionary['twibisg'].head(3)\n",
    "print('Dictionary with hashtags dataframes:')\n",
    "dictionary[list(dictionary.keys())[5]].head(4)"
   ]
  },
  {
   "cell_type": "markdown",
   "metadata": {},
   "source": [
    "## Starting event detection"
   ]
  },
  {
   "cell_type": "markdown",
   "metadata": {},
   "source": [
    "Parameters that define events:"
   ]
  },
  {
   "cell_type": "code",
   "execution_count": 69,
   "metadata": {
    "collapsed": false
   },
   "outputs": [],
   "source": [
    "## Parameters of an event:\n",
    "MIN_TOT_NB_TWEETS = 20 ## The hashtag must have happened at least this number of times to be considered.\n",
    "MIN_NB_DAYS_WITH_HASHTAGS = 3 ## The hashtags must appear at least this number of different days to be considered.\n",
    "MIN_NB_TWEETS_DURING_EVENT = 5 ## To be considered an event, the hashtag must happen at least this nb of times during the day.\n",
    "THRESHOLD_ANOMALY_FACTOR = 3 ## The occurence of a hashtag during a single day must be above the mean by this FACTOR\n",
    "                             ## multiplied by the std to be considered as an anomaly.\n",
    "MAX_DURATION_OF_EVENT = timedelta(days=30) ## The maximum number of days we consider an event can happen\n",
    "MIN_DURATION_BEFORE_NEW_EVENT = timedelta(days=304) ## (= 10 months) The min time that should pass before an event can happen\n",
    "                                                    ## again and still be considered as event (ie. Christmas is an event\n",
    "                                                    ## each year)"
   ]
  },
  {
   "cell_type": "markdown",
   "metadata": {},
   "source": [
    "Helper functions to detect recurrent events that should be removed:"
   ]
  },
  {
   "cell_type": "code",
   "execution_count": 63,
   "metadata": {
    "collapsed": true
   },
   "outputs": [],
   "source": [
    "def isSpecificEventListIllegal(detectedEventDateList):\n",
    "    '''\n",
    "    Return true if the list of dates contain illegal tupples of events, so if the event is recurrent\n",
    "    which would mean it is not a real event.\n",
    "    '''\n",
    "    def datesAreIllegal(date1, date2, date3):\n",
    "        '''\n",
    "        Return true if the 3 dates are not to be considered as regular events.\n",
    "        '''\n",
    "        ## Return if the difference is too small to be considered as 2 different events\n",
    "        def diffIsSmall(timeDiff):  \n",
    "            return timeDiff < MAX_DURATION_OF_EVENT\n",
    "\n",
    "        ## Return true if the difference is not big enough to be an annual event.\n",
    "        def isDiffSuspect(timeDiff):\n",
    "            return timeDiff < MIN_DURATION_BEFORE_NEW_EVENT   \n",
    "\n",
    "        diff1 = abs(date1 - date2)\n",
    "        diff2 = abs(date2 - date3)\n",
    "        diff3 = abs(date3 - date1)\n",
    "\n",
    "        ## The difference is too small, it must be the same event\n",
    "        if diffIsSmall(diff1) or diffIsSmall(diff2) or diffIsSmall(diff3):\n",
    "            return False\n",
    "\n",
    "        ## If there are at least 2 out of 3 suspect difference, then the dates are illegal\n",
    "        if isDiffSuspect(diff1):\n",
    "            return isDiffSuspect(diff2) or isDiffSuspect(diff3)\n",
    "        else:\n",
    "            return isDiffSuspect(diff2) and isDiffSuspect(diff3)\n",
    "    \n",
    "    ## MAIN FUNCTION : ##\n",
    "    # Go through the list of events and try all \"triples\" to see if there is any illegal triples. This is a quickly done\n",
    "    # code to do that. Code complexity bellow is in O(k^3), with k being the size of the list. We will apply this function\n",
    "    # to n list so we will have an overall complexity in O(n*k^3). We can consider however that each list will\n",
    "    # be small so k can be considered as constant and therefore the overall complexity will be in O(n).\n",
    "    for i in range(len(detectedEventDateList) - 2):\n",
    "        for j in range(i, len(detectedEventDateList) - 1):\n",
    "            for k in range(j, len(detectedEventDateList)):\n",
    "                if datesAreIllegal(detectedEventDateList[i], detectedEventDateList[j], detectedEventDateList[k]):\n",
    "                    return True\n",
    "    return False"
   ]
  },
  {
   "cell_type": "code",
   "execution_count": 64,
   "metadata": {
    "collapsed": false,
    "scrolled": false
   },
   "outputs": [
    {
     "name": "stdout",
     "output_type": "stream",
     "text": [
      "11:23:00 Starting to compute 9410 dict items to detect event. (4 min)\n",
      "11:23:00 10%\n",
      "11:23:00 20%\n",
      "11:23:00 30%\n",
      "11:23:01 40%\n",
      "11:23:01 50%\n",
      "11:23:01 60%\n",
      "11:23:01 70%\n",
      "11:23:02 80%\n",
      "11:23:02 90%\n",
      "11:23:02 100%\n",
      "11:23:02 Finished! Number of events detected = 14\n"
     ]
    }
   ],
   "source": [
    "pr('Starting to compute {} dict items to detect event. (4 min)'.format(len(dictionary)))\n",
    "nbOfEventDetected = 0\n",
    "count = 0\n",
    "printingValue = int(len(dictionary) / 10)\n",
    "for [h,df] in dictionary.items():\n",
    "    count += 1\n",
    "    if count % printingValue == 0:\n",
    "        pr(\"{:.0f}%\".format(count/len(dictionary)*100))\n",
    "    df['event'] = False\n",
    "    if len(df) > MIN_NB_DAYS_WITH_HASHTAGS:\n",
    "        if df['numberOfTweets'].sum() > MIN_TOT_NB_TWEETS:\n",
    "            threshold = df['numberOfTweets'].mean() + THRESHOLD_ANOMALY_FACTOR * df['numberOfTweets'].std()\n",
    "            df['event'] = df.numberOfTweets.apply(lambda x: x > threshold and x > MIN_NB_TWEETS_DURING_EVENT)\n",
    "            \n",
    "            ## Remove recurrent events:\n",
    "            detectedEventDf = df[df['event']]\n",
    "            if len(detectedEventDf) > 3 and isSpecificEventListIllegal(detectedEventDf.index):\n",
    "                df['event'] = False\n",
    "            nbOfEventDetected += len(df[df['event']])\n",
    "pr('Finished! Number of events detected = {}'.format(nbOfEventDetected))"
   ]
  },
  {
   "cell_type": "markdown",
   "metadata": {},
   "source": [
    "## Making single event dataframe"
   ]
  },
  {
   "cell_type": "code",
   "execution_count": 65,
   "metadata": {
    "collapsed": false
   },
   "outputs": [],
   "source": [
    "eventRowsList = []\n",
    "def applyToMakeEventDf(row):\n",
    "    if row.event:\n",
    "        rowToAdd = {'date': row.name, 'hashtag': row.hashtag, 'text': row.text,\n",
    "                    'longitude': row.longitude, 'latitude':row.latitude, 'numberOfTweets': row.numberOfTweets, }\n",
    "        eventRowsList.append(rowToAdd)"
   ]
  },
  {
   "cell_type": "code",
   "execution_count": 66,
   "metadata": {
    "collapsed": false
   },
   "outputs": [
    {
     "name": "stdout",
     "output_type": "stream",
     "text": [
      "11:23:05 Starting to make event df with 9410 dataframes. (around 6 min)\n",
      "11:23:05 10%\n",
      "11:23:06 20%\n",
      "11:23:07 30%\n",
      "11:23:07 40%\n",
      "11:23:08 50%\n",
      "11:23:09 60%\n",
      "11:23:09 70%\n",
      "11:23:10 80%\n",
      "11:23:11 90%\n",
      "11:23:11 100%\n",
      "11:23:11 Making new dataframe.\n",
      "11:23:11 Finished! Dataframe with 14 rows\n"
     ]
    }
   ],
   "source": [
    "eventRowsList = []\n",
    "count = 0\n",
    "printingValue = int(len(dictionary) / 10)\n",
    "\n",
    "pr('Starting to make event df with {} dataframes. (around 6 min)'.format(len(dictionary)))\n",
    "for h, df in dictionary.items():\n",
    "    count += 1\n",
    "    if count % printingValue == 0:\n",
    "        pr(\"{:.0f}%\".format(count/len(dictionary)*100))\n",
    "    df.apply(applyToMakeEventDf, axis=1)\n",
    "\n",
    "pr('Making new dataframe.')\n",
    "new_events = pd.DataFrame(eventRowsList)\n",
    "new_events.set_index(['date'], inplace=True)\n",
    "pr('Finished! Dataframe with {} rows'.format(len(new_events)))"
   ]
  },
  {
   "cell_type": "code",
   "execution_count": 67,
   "metadata": {
    "collapsed": false
   },
   "outputs": [
    {
     "name": "stdout",
     "output_type": "stream",
     "text": [
      "Old events df:\n"
     ]
    },
    {
     "data": {
      "text/html": [
       "<div>\n",
       "<table border=\"1\" class=\"dataframe\">\n",
       "  <thead>\n",
       "    <tr style=\"text-align: right;\">\n",
       "      <th></th>\n",
       "      <th>hashtag</th>\n",
       "      <th>latitude</th>\n",
       "      <th>longitude</th>\n",
       "      <th>numberOfTweets</th>\n",
       "      <th>text</th>\n",
       "    </tr>\n",
       "    <tr>\n",
       "      <th>date</th>\n",
       "      <th></th>\n",
       "      <th></th>\n",
       "      <th></th>\n",
       "      <th></th>\n",
       "      <th></th>\n",
       "    </tr>\n",
       "  </thead>\n",
       "  <tbody>\n",
       "    <tr>\n",
       "      <th>2010-06-16</th>\n",
       "      <td>worldcup</td>\n",
       "      <td>47.21025</td>\n",
       "      <td>8.409725</td>\n",
       "      <td>12</td>\n",
       "      <td>With Swiss colleagues watching Switzerland vs ...</td>\n",
       "    </tr>\n",
       "    <tr>\n",
       "      <th>2011-08-02</th>\n",
       "      <td>android</td>\n",
       "      <td>47.50000</td>\n",
       "      <td>8.750000</td>\n",
       "      <td>6</td>\n",
       "      <td>@AniseSmith oh no!  But that means I have to b...</td>\n",
       "    </tr>\n",
       "    <tr>\n",
       "      <th>2011-10-06</th>\n",
       "      <td>luzern</td>\n",
       "      <td>47.05095</td>\n",
       "      <td>8.308910</td>\n",
       "      <td>6</td>\n",
       "      <td>Landscape with the Lac des quatre cantons. #lu...</td>\n",
       "    </tr>\n",
       "    <tr>\n",
       "      <th>2011-09-07</th>\n",
       "      <td>smgzh</td>\n",
       "      <td>47.36490</td>\n",
       "      <td>8.546870</td>\n",
       "      <td>13</td>\n",
       "      <td>Läck! Ist das früh heute... #smgzh_$$$_#smgzh,...</td>\n",
       "    </tr>\n",
       "    <tr>\n",
       "      <th>2010-06-16</th>\n",
       "      <td>sui</td>\n",
       "      <td>47.37880</td>\n",
       "      <td>8.538030</td>\n",
       "      <td>25</td>\n",
       "      <td>#sui wonderful_$$$_en plus du goal, j'aurai mi...</td>\n",
       "    </tr>\n",
       "    <tr>\n",
       "      <th>2010-07-30</th>\n",
       "      <td>iphone4</td>\n",
       "      <td>47.37540</td>\n",
       "      <td>8.538800</td>\n",
       "      <td>10</td>\n",
       "      <td>Ok, here's the queue. 05:56 CET #iPhone4 #aszh...</td>\n",
       "    </tr>\n",
       "    <tr>\n",
       "      <th>2010-12-08</th>\n",
       "      <td>switzerland</td>\n",
       "      <td>47.36380</td>\n",
       "      <td>8.534930</td>\n",
       "      <td>9</td>\n",
       "      <td>India's cell-phone marketing: 545 million hand...</td>\n",
       "    </tr>\n",
       "    <tr>\n",
       "      <th>2011-06-18</th>\n",
       "      <td>zvilla</td>\n",
       "      <td>47.22570</td>\n",
       "      <td>8.818970</td>\n",
       "      <td>29</td>\n",
       "      <td>Die Regenblache ist gespannt. Auf der #zVilla ...</td>\n",
       "    </tr>\n",
       "    <tr>\n",
       "      <th>2011-08-09</th>\n",
       "      <td>twibisg</td>\n",
       "      <td>47.48410</td>\n",
       "      <td>9.549050</td>\n",
       "      <td>6</td>\n",
       "      <td>genau die gleiche frage wollte ich auch an @va...</td>\n",
       "    </tr>\n",
       "    <tr>\n",
       "      <th>2011-03-25</th>\n",
       "      <td>ipad2</td>\n",
       "      <td>47.37510</td>\n",
       "      <td>8.538960</td>\n",
       "      <td>41</td>\n",
       "      <td>@greezer der @ThBenkoe hat's schon #iPad2   ht...</td>\n",
       "    </tr>\n",
       "    <tr>\n",
       "      <th>2010-07-07</th>\n",
       "      <td>ger</td>\n",
       "      <td>47.47690</td>\n",
       "      <td>8.303375</td>\n",
       "      <td>8</td>\n",
       "      <td>Bin so langsam doch etwas nervös... #ger :-)_$...</td>\n",
       "    </tr>\n",
       "    <tr>\n",
       "      <th>2010-12-03</th>\n",
       "      <td>ff</td>\n",
       "      <td>47.58760</td>\n",
       "      <td>9.624350</td>\n",
       "      <td>6</td>\n",
       "      <td>Huiiiiiii ich bin von @jetztlaecheln und @seli...</td>\n",
       "    </tr>\n",
       "    <tr>\n",
       "      <th>2011-06-10</th>\n",
       "      <td>ff</td>\n",
       "      <td>47.38020</td>\n",
       "      <td>8.518810</td>\n",
       "      <td>7</td>\n",
       "      <td>Hoy mi #ff va para @Palermo41 @Brais_sete y @t...</td>\n",
       "    </tr>\n",
       "    <tr>\n",
       "      <th>2010-07-03</th>\n",
       "      <td>twittboat</td>\n",
       "      <td>47.37560</td>\n",
       "      <td>8.542245</td>\n",
       "      <td>12</td>\n",
       "      <td>Jetzt höre ich schon NRJ um mich mental auf al...</td>\n",
       "    </tr>\n",
       "    <tr>\n",
       "      <th>2011-06-08</th>\n",
       "      <td>ios5</td>\n",
       "      <td>47.48500</td>\n",
       "      <td>8.297210</td>\n",
       "      <td>9</td>\n",
       "      <td>@AndreBonhote einstellungen gemacht? #ios5  ht...</td>\n",
       "    </tr>\n",
       "    <tr>\n",
       "      <th>2011-10-23</th>\n",
       "      <td>ew11</td>\n",
       "      <td>47.40770</td>\n",
       "      <td>8.684660</td>\n",
       "      <td>14</td>\n",
       "      <td>bin jetzt schon genervt #ew11_$$$_ich lass mir...</td>\n",
       "    </tr>\n",
       "    <tr>\n",
       "      <th>2011-10-02</th>\n",
       "      <td>fcz</td>\n",
       "      <td>47.38230</td>\n",
       "      <td>8.503910</td>\n",
       "      <td>13</td>\n",
       "      <td>@DavidWiederkehr doch! Man kann, wenn man will...</td>\n",
       "    </tr>\n",
       "    <tr>\n",
       "      <th>2010-09-04</th>\n",
       "      <td>schwstv</td>\n",
       "      <td>47.46250</td>\n",
       "      <td>9.041300</td>\n",
       "      <td>10</td>\n",
       "      <td>@hofrat genau #schwstv http://twitpic.com/2l5e...</td>\n",
       "    </tr>\n",
       "    <tr>\n",
       "      <th>2011-06-17</th>\n",
       "      <td>sbb</td>\n",
       "      <td>47.37805</td>\n",
       "      <td>8.537705</td>\n",
       "      <td>6</td>\n",
       "      <td>Au wei! Mein gegenüber schafft es nicht, die F...</td>\n",
       "    </tr>\n",
       "    <tr>\n",
       "      <th>2011-09-26</th>\n",
       "      <td>identica</td>\n",
       "      <td>47.49045</td>\n",
       "      <td>8.700950</td>\n",
       "      <td>8</td>\n",
       "      <td>#identica — very often in dents like http://x....</td>\n",
       "    </tr>\n",
       "    <tr>\n",
       "      <th>2011-10-20</th>\n",
       "      <td>identica</td>\n",
       "      <td>47.38480</td>\n",
       "      <td>8.530405</td>\n",
       "      <td>8</td>\n",
       "      <td>Just a test: does #Identica show #twitpic pict...</td>\n",
       "    </tr>\n",
       "    <tr>\n",
       "      <th>2011-05-27</th>\n",
       "      <td>velo</td>\n",
       "      <td>47.14380</td>\n",
       "      <td>8.896060</td>\n",
       "      <td>13</td>\n",
       "      <td>20 % progress …Pause! #Velo #Heimfahrt_$$$_25 ...</td>\n",
       "    </tr>\n",
       "    <tr>\n",
       "      <th>2011-09-11</th>\n",
       "      <td>osx</td>\n",
       "      <td>47.50000</td>\n",
       "      <td>8.750000</td>\n",
       "      <td>6</td>\n",
       "      <td>Hm, whys #OSX not using the #VPN I've just now...</td>\n",
       "    </tr>\n",
       "    <tr>\n",
       "      <th>2010-03-07</th>\n",
       "      <td>fb</td>\n",
       "      <td>46.93770</td>\n",
       "      <td>7.419190</td>\n",
       "      <td>6</td>\n",
       "      <td>watching a classic, 1979's Alien: \"In space no...</td>\n",
       "    </tr>\n",
       "    <tr>\n",
       "      <th>2010-06-18</th>\n",
       "      <td>fb</td>\n",
       "      <td>47.26020</td>\n",
       "      <td>8.531695</td>\n",
       "      <td>12</td>\n",
       "      <td>Juhu los gehts an Soniaphere nach Jonschwil #f...</td>\n",
       "    </tr>\n",
       "    <tr>\n",
       "      <th>2010-10-15</th>\n",
       "      <td>fb</td>\n",
       "      <td>46.88070</td>\n",
       "      <td>6.871080</td>\n",
       "      <td>6</td>\n",
       "      <td>mon vieux iBook G4 partira aux USA avec moi… l...</td>\n",
       "    </tr>\n",
       "    <tr>\n",
       "      <th>2010-11-19</th>\n",
       "      <td>fb</td>\n",
       "      <td>47.32440</td>\n",
       "      <td>8.470960</td>\n",
       "      <td>7</td>\n",
       "      <td>Heute erstmals 'Manne choched' - mal schauen w...</td>\n",
       "    </tr>\n",
       "    <tr>\n",
       "      <th>2010-11-23</th>\n",
       "      <td>fb</td>\n",
       "      <td>47.40880</td>\n",
       "      <td>8.541770</td>\n",
       "      <td>7</td>\n",
       "      <td>The minutes when I'm about to sleep in are usu...</td>\n",
       "    </tr>\n",
       "    <tr>\n",
       "      <th>2011-01-30</th>\n",
       "      <td>fb</td>\n",
       "      <td>47.44990</td>\n",
       "      <td>8.562230</td>\n",
       "      <td>7</td>\n",
       "      <td>hat jetzt den WhatsApp Messenger! Mal sehn was...</td>\n",
       "    </tr>\n",
       "    <tr>\n",
       "      <th>2011-02-02</th>\n",
       "      <td>fb</td>\n",
       "      <td>47.37050</td>\n",
       "      <td>8.541770</td>\n",
       "      <td>6</td>\n",
       "      <td>Nach streetview und artview macht Guugl mit .c...</td>\n",
       "    </tr>\n",
       "    <tr>\n",
       "      <th>2011-03-24</th>\n",
       "      <td>fb</td>\n",
       "      <td>47.36530</td>\n",
       "      <td>8.528645</td>\n",
       "      <td>6</td>\n",
       "      <td>Taking a break on the Rhine - 360 view: http:/...</td>\n",
       "    </tr>\n",
       "    <tr>\n",
       "      <th>2011-03-27</th>\n",
       "      <td>fb</td>\n",
       "      <td>47.79020</td>\n",
       "      <td>7.350260</td>\n",
       "      <td>8</td>\n",
       "      <td>Preparation du guacamole pour les fajitas de m...</td>\n",
       "    </tr>\n",
       "    <tr>\n",
       "      <th>2011-04-10</th>\n",
       "      <td>fb</td>\n",
       "      <td>47.35490</td>\n",
       "      <td>7.739610</td>\n",
       "      <td>6</td>\n",
       "      <td>Gorgeous day at the beach #fb  http://plixi.co...</td>\n",
       "    </tr>\n",
       "    <tr>\n",
       "      <th>2011-04-30</th>\n",
       "      <td>fb</td>\n",
       "      <td>47.37235</td>\n",
       "      <td>8.538220</td>\n",
       "      <td>6</td>\n",
       "      <td>Bloody \"boyfriend\" fashion trend. My wardrobe ...</td>\n",
       "    </tr>\n",
       "    <tr>\n",
       "      <th>2011-05-14</th>\n",
       "      <td>fb</td>\n",
       "      <td>47.51325</td>\n",
       "      <td>8.132070</td>\n",
       "      <td>6</td>\n",
       "      <td>Lesen schadet der dummheit. #fb http://campl.u...</td>\n",
       "    </tr>\n",
       "    <tr>\n",
       "      <th>2011-05-15</th>\n",
       "      <td>fb</td>\n",
       "      <td>47.27860</td>\n",
       "      <td>8.888470</td>\n",
       "      <td>6</td>\n",
       "      <td>Those who are not fit should just give up. #fb...</td>\n",
       "    </tr>\n",
       "    <tr>\n",
       "      <th>2011-06-03</th>\n",
       "      <td>fb</td>\n",
       "      <td>47.37360</td>\n",
       "      <td>8.538230</td>\n",
       "      <td>7</td>\n",
       "      <td>Konnte gerade im Franz Carl Weber zum ersten m...</td>\n",
       "    </tr>\n",
       "    <tr>\n",
       "      <th>2011-07-28</th>\n",
       "      <td>fb</td>\n",
       "      <td>47.13750</td>\n",
       "      <td>8.063050</td>\n",
       "      <td>6</td>\n",
       "      <td>Gepäck hats auch geschafft ;) Nice! Und arriva...</td>\n",
       "    </tr>\n",
       "    <tr>\n",
       "      <th>2011-08-04</th>\n",
       "      <td>fb</td>\n",
       "      <td>47.57995</td>\n",
       "      <td>8.951925</td>\n",
       "      <td>6</td>\n",
       "      <td>anyone up for selun (churfirsten) this weekend...</td>\n",
       "    </tr>\n",
       "    <tr>\n",
       "      <th>2011-08-12</th>\n",
       "      <td>fb</td>\n",
       "      <td>47.22580</td>\n",
       "      <td>8.818900</td>\n",
       "      <td>9</td>\n",
       "      <td>Very interesting experiment: living with robot...</td>\n",
       "    </tr>\n",
       "    <tr>\n",
       "      <th>2011-08-20</th>\n",
       "      <td>fb</td>\n",
       "      <td>47.29985</td>\n",
       "      <td>8.654930</td>\n",
       "      <td>6</td>\n",
       "      <td>They have those crazy new Basketball rules in ...</td>\n",
       "    </tr>\n",
       "    <tr>\n",
       "      <th>2011-09-15</th>\n",
       "      <td>fb</td>\n",
       "      <td>46.28750</td>\n",
       "      <td>7.884050</td>\n",
       "      <td>7</td>\n",
       "      <td>Official key handover completed earlier so thi...</td>\n",
       "    </tr>\n",
       "    <tr>\n",
       "      <th>2011-09-16</th>\n",
       "      <td>fb</td>\n",
       "      <td>46.67270</td>\n",
       "      <td>7.884210</td>\n",
       "      <td>7</td>\n",
       "      <td>Die Krankenschwester sagte, ich kann gehen, we...</td>\n",
       "    </tr>\n",
       "  </tbody>\n",
       "</table>\n",
       "</div>"
      ],
      "text/plain": [
       "                hashtag  latitude  longitude  numberOfTweets  \\\n",
       "date                                                           \n",
       "2010-06-16     worldcup  47.21025   8.409725              12   \n",
       "2011-08-02      android  47.50000   8.750000               6   \n",
       "2011-10-06       luzern  47.05095   8.308910               6   \n",
       "2011-09-07        smgzh  47.36490   8.546870              13   \n",
       "2010-06-16          sui  47.37880   8.538030              25   \n",
       "2010-07-30      iphone4  47.37540   8.538800              10   \n",
       "2010-12-08  switzerland  47.36380   8.534930               9   \n",
       "2011-06-18       zvilla  47.22570   8.818970              29   \n",
       "2011-08-09      twibisg  47.48410   9.549050               6   \n",
       "2011-03-25        ipad2  47.37510   8.538960              41   \n",
       "2010-07-07          ger  47.47690   8.303375               8   \n",
       "2010-12-03           ff  47.58760   9.624350               6   \n",
       "2011-06-10           ff  47.38020   8.518810               7   \n",
       "2010-07-03    twittboat  47.37560   8.542245              12   \n",
       "2011-06-08         ios5  47.48500   8.297210               9   \n",
       "2011-10-23         ew11  47.40770   8.684660              14   \n",
       "2011-10-02          fcz  47.38230   8.503910              13   \n",
       "2010-09-04      schwstv  47.46250   9.041300              10   \n",
       "2011-06-17          sbb  47.37805   8.537705               6   \n",
       "2011-09-26     identica  47.49045   8.700950               8   \n",
       "2011-10-20     identica  47.38480   8.530405               8   \n",
       "2011-05-27         velo  47.14380   8.896060              13   \n",
       "2011-09-11          osx  47.50000   8.750000               6   \n",
       "2010-03-07           fb  46.93770   7.419190               6   \n",
       "2010-06-18           fb  47.26020   8.531695              12   \n",
       "2010-10-15           fb  46.88070   6.871080               6   \n",
       "2010-11-19           fb  47.32440   8.470960               7   \n",
       "2010-11-23           fb  47.40880   8.541770               7   \n",
       "2011-01-30           fb  47.44990   8.562230               7   \n",
       "2011-02-02           fb  47.37050   8.541770               6   \n",
       "2011-03-24           fb  47.36530   8.528645               6   \n",
       "2011-03-27           fb  47.79020   7.350260               8   \n",
       "2011-04-10           fb  47.35490   7.739610               6   \n",
       "2011-04-30           fb  47.37235   8.538220               6   \n",
       "2011-05-14           fb  47.51325   8.132070               6   \n",
       "2011-05-15           fb  47.27860   8.888470               6   \n",
       "2011-06-03           fb  47.37360   8.538230               7   \n",
       "2011-07-28           fb  47.13750   8.063050               6   \n",
       "2011-08-04           fb  47.57995   8.951925               6   \n",
       "2011-08-12           fb  47.22580   8.818900               9   \n",
       "2011-08-20           fb  47.29985   8.654930               6   \n",
       "2011-09-15           fb  46.28750   7.884050               7   \n",
       "2011-09-16           fb  46.67270   7.884210               7   \n",
       "\n",
       "                                                         text  \n",
       "date                                                           \n",
       "2010-06-16  With Swiss colleagues watching Switzerland vs ...  \n",
       "2011-08-02  @AniseSmith oh no!  But that means I have to b...  \n",
       "2011-10-06  Landscape with the Lac des quatre cantons. #lu...  \n",
       "2011-09-07  Läck! Ist das früh heute... #smgzh_$$$_#smgzh,...  \n",
       "2010-06-16  #sui wonderful_$$$_en plus du goal, j'aurai mi...  \n",
       "2010-07-30  Ok, here's the queue. 05:56 CET #iPhone4 #aszh...  \n",
       "2010-12-08  India's cell-phone marketing: 545 million hand...  \n",
       "2011-06-18  Die Regenblache ist gespannt. Auf der #zVilla ...  \n",
       "2011-08-09  genau die gleiche frage wollte ich auch an @va...  \n",
       "2011-03-25  @greezer der @ThBenkoe hat's schon #iPad2   ht...  \n",
       "2010-07-07  Bin so langsam doch etwas nervös... #ger :-)_$...  \n",
       "2010-12-03  Huiiiiiii ich bin von @jetztlaecheln und @seli...  \n",
       "2011-06-10  Hoy mi #ff va para @Palermo41 @Brais_sete y @t...  \n",
       "2010-07-03  Jetzt höre ich schon NRJ um mich mental auf al...  \n",
       "2011-06-08  @AndreBonhote einstellungen gemacht? #ios5  ht...  \n",
       "2011-10-23  bin jetzt schon genervt #ew11_$$$_ich lass mir...  \n",
       "2011-10-02  @DavidWiederkehr doch! Man kann, wenn man will...  \n",
       "2010-09-04  @hofrat genau #schwstv http://twitpic.com/2l5e...  \n",
       "2011-06-17  Au wei! Mein gegenüber schafft es nicht, die F...  \n",
       "2011-09-26  #identica — very often in dents like http://x....  \n",
       "2011-10-20  Just a test: does #Identica show #twitpic pict...  \n",
       "2011-05-27  20 % progress …Pause! #Velo #Heimfahrt_$$$_25 ...  \n",
       "2011-09-11  Hm, whys #OSX not using the #VPN I've just now...  \n",
       "2010-03-07  watching a classic, 1979's Alien: \"In space no...  \n",
       "2010-06-18  Juhu los gehts an Soniaphere nach Jonschwil #f...  \n",
       "2010-10-15  mon vieux iBook G4 partira aux USA avec moi… l...  \n",
       "2010-11-19  Heute erstmals 'Manne choched' - mal schauen w...  \n",
       "2010-11-23  The minutes when I'm about to sleep in are usu...  \n",
       "2011-01-30  hat jetzt den WhatsApp Messenger! Mal sehn was...  \n",
       "2011-02-02  Nach streetview und artview macht Guugl mit .c...  \n",
       "2011-03-24  Taking a break on the Rhine - 360 view: http:/...  \n",
       "2011-03-27  Preparation du guacamole pour les fajitas de m...  \n",
       "2011-04-10  Gorgeous day at the beach #fb  http://plixi.co...  \n",
       "2011-04-30  Bloody \"boyfriend\" fashion trend. My wardrobe ...  \n",
       "2011-05-14  Lesen schadet der dummheit. #fb http://campl.u...  \n",
       "2011-05-15  Those who are not fit should just give up. #fb...  \n",
       "2011-06-03  Konnte gerade im Franz Carl Weber zum ersten m...  \n",
       "2011-07-28  Gepäck hats auch geschafft ;) Nice! Und arriva...  \n",
       "2011-08-04  anyone up for selun (churfirsten) this weekend...  \n",
       "2011-08-12  Very interesting experiment: living with robot...  \n",
       "2011-08-20  They have those crazy new Basketball rules in ...  \n",
       "2011-09-15  Official key handover completed earlier so thi...  \n",
       "2011-09-16  Die Krankenschwester sagte, ich kann gehen, we...  "
      ]
     },
     "execution_count": 67,
     "metadata": {},
     "output_type": "execute_result"
    }
   ],
   "source": [
    "print('Old events df:')\n",
    "oldEvents"
   ]
  },
  {
   "cell_type": "code",
   "execution_count": 68,
   "metadata": {
    "collapsed": false
   },
   "outputs": [
    {
     "name": "stdout",
     "output_type": "stream",
     "text": [
      "Events dataframe:\n"
     ]
    },
    {
     "data": {
      "text/html": [
       "<div>\n",
       "<table border=\"1\" class=\"dataframe\">\n",
       "  <thead>\n",
       "    <tr style=\"text-align: right;\">\n",
       "      <th></th>\n",
       "      <th>hashtag</th>\n",
       "      <th>latitude</th>\n",
       "      <th>longitude</th>\n",
       "      <th>numberOfTweets</th>\n",
       "      <th>text</th>\n",
       "    </tr>\n",
       "    <tr>\n",
       "      <th>date</th>\n",
       "      <th></th>\n",
       "      <th></th>\n",
       "      <th></th>\n",
       "      <th></th>\n",
       "      <th></th>\n",
       "    </tr>\n",
       "  </thead>\n",
       "  <tbody>\n",
       "    <tr>\n",
       "      <th>2010-06-16</th>\n",
       "      <td>worldcup</td>\n",
       "      <td>47.21025</td>\n",
       "      <td>8.409725</td>\n",
       "      <td>12</td>\n",
       "      <td>With Swiss colleagues watching Switzerland vs ...</td>\n",
       "    </tr>\n",
       "    <tr>\n",
       "      <th>2011-08-02</th>\n",
       "      <td>android</td>\n",
       "      <td>47.50000</td>\n",
       "      <td>8.750000</td>\n",
       "      <td>6</td>\n",
       "      <td>@AniseSmith oh no!  But that means I have to b...</td>\n",
       "    </tr>\n",
       "    <tr>\n",
       "      <th>2011-10-06</th>\n",
       "      <td>luzern</td>\n",
       "      <td>47.05095</td>\n",
       "      <td>8.308910</td>\n",
       "      <td>6</td>\n",
       "      <td>Landscape with the Lac des quatre cantons. #lu...</td>\n",
       "    </tr>\n",
       "    <tr>\n",
       "      <th>2010-07-30</th>\n",
       "      <td>iphone4</td>\n",
       "      <td>47.37540</td>\n",
       "      <td>8.538800</td>\n",
       "      <td>10</td>\n",
       "      <td>Ok, here's the queue. 05:56 CET #iPhone4 #aszh...</td>\n",
       "    </tr>\n",
       "    <tr>\n",
       "      <th>2010-12-08</th>\n",
       "      <td>switzerland</td>\n",
       "      <td>47.36380</td>\n",
       "      <td>8.534930</td>\n",
       "      <td>9</td>\n",
       "      <td>India's cell-phone marketing: 545 million hand...</td>\n",
       "    </tr>\n",
       "    <tr>\n",
       "      <th>2011-06-18</th>\n",
       "      <td>zvilla</td>\n",
       "      <td>47.22570</td>\n",
       "      <td>8.818970</td>\n",
       "      <td>29</td>\n",
       "      <td>Die Regenblache ist gespannt. Auf der #zVilla ...</td>\n",
       "    </tr>\n",
       "    <tr>\n",
       "      <th>2011-03-25</th>\n",
       "      <td>ipad2</td>\n",
       "      <td>47.37510</td>\n",
       "      <td>8.538960</td>\n",
       "      <td>41</td>\n",
       "      <td>@greezer der @ThBenkoe hat's schon #iPad2   ht...</td>\n",
       "    </tr>\n",
       "    <tr>\n",
       "      <th>2010-12-03</th>\n",
       "      <td>ff</td>\n",
       "      <td>47.58760</td>\n",
       "      <td>9.624350</td>\n",
       "      <td>6</td>\n",
       "      <td>Huiiiiiii ich bin von @jetztlaecheln und @seli...</td>\n",
       "    </tr>\n",
       "    <tr>\n",
       "      <th>2011-06-10</th>\n",
       "      <td>ff</td>\n",
       "      <td>47.38020</td>\n",
       "      <td>8.518810</td>\n",
       "      <td>7</td>\n",
       "      <td>Hoy mi #ff va para @Palermo41 @Brais_sete y @t...</td>\n",
       "    </tr>\n",
       "    <tr>\n",
       "      <th>2011-06-17</th>\n",
       "      <td>sbb</td>\n",
       "      <td>47.37805</td>\n",
       "      <td>8.537705</td>\n",
       "      <td>6</td>\n",
       "      <td>Au wei! Mein gegenüber schafft es nicht, die F...</td>\n",
       "    </tr>\n",
       "    <tr>\n",
       "      <th>2011-05-27</th>\n",
       "      <td>velo</td>\n",
       "      <td>47.14380</td>\n",
       "      <td>8.896060</td>\n",
       "      <td>13</td>\n",
       "      <td>20 % progress …Pause! #Velo #Heimfahrt_$$$_25 ...</td>\n",
       "    </tr>\n",
       "    <tr>\n",
       "      <th>2010-06-18</th>\n",
       "      <td>fb</td>\n",
       "      <td>47.26020</td>\n",
       "      <td>8.531695</td>\n",
       "      <td>12</td>\n",
       "      <td>Juhu los gehts an Soniaphere nach Jonschwil #f...</td>\n",
       "    </tr>\n",
       "    <tr>\n",
       "      <th>2011-03-27</th>\n",
       "      <td>fb</td>\n",
       "      <td>47.79020</td>\n",
       "      <td>7.350260</td>\n",
       "      <td>8</td>\n",
       "      <td>Preparation du guacamole pour les fajitas de m...</td>\n",
       "    </tr>\n",
       "    <tr>\n",
       "      <th>2011-08-12</th>\n",
       "      <td>fb</td>\n",
       "      <td>47.22580</td>\n",
       "      <td>8.818900</td>\n",
       "      <td>9</td>\n",
       "      <td>Very interesting experiment: living with robot...</td>\n",
       "    </tr>\n",
       "  </tbody>\n",
       "</table>\n",
       "</div>"
      ],
      "text/plain": [
       "                hashtag  latitude  longitude  numberOfTweets  \\\n",
       "date                                                           \n",
       "2010-06-16     worldcup  47.21025   8.409725              12   \n",
       "2011-08-02      android  47.50000   8.750000               6   \n",
       "2011-10-06       luzern  47.05095   8.308910               6   \n",
       "2010-07-30      iphone4  47.37540   8.538800              10   \n",
       "2010-12-08  switzerland  47.36380   8.534930               9   \n",
       "2011-06-18       zvilla  47.22570   8.818970              29   \n",
       "2011-03-25        ipad2  47.37510   8.538960              41   \n",
       "2010-12-03           ff  47.58760   9.624350               6   \n",
       "2011-06-10           ff  47.38020   8.518810               7   \n",
       "2011-06-17          sbb  47.37805   8.537705               6   \n",
       "2011-05-27         velo  47.14380   8.896060              13   \n",
       "2010-06-18           fb  47.26020   8.531695              12   \n",
       "2011-03-27           fb  47.79020   7.350260               8   \n",
       "2011-08-12           fb  47.22580   8.818900               9   \n",
       "\n",
       "                                                         text  \n",
       "date                                                           \n",
       "2010-06-16  With Swiss colleagues watching Switzerland vs ...  \n",
       "2011-08-02  @AniseSmith oh no!  But that means I have to b...  \n",
       "2011-10-06  Landscape with the Lac des quatre cantons. #lu...  \n",
       "2010-07-30  Ok, here's the queue. 05:56 CET #iPhone4 #aszh...  \n",
       "2010-12-08  India's cell-phone marketing: 545 million hand...  \n",
       "2011-06-18  Die Regenblache ist gespannt. Auf der #zVilla ...  \n",
       "2011-03-25  @greezer der @ThBenkoe hat's schon #iPad2   ht...  \n",
       "2010-12-03  Huiiiiiii ich bin von @jetztlaecheln und @seli...  \n",
       "2011-06-10  Hoy mi #ff va para @Palermo41 @Brais_sete y @t...  \n",
       "2011-06-17  Au wei! Mein gegenüber schafft es nicht, die F...  \n",
       "2011-05-27  20 % progress …Pause! #Velo #Heimfahrt_$$$_25 ...  \n",
       "2010-06-18  Juhu los gehts an Soniaphere nach Jonschwil #f...  \n",
       "2011-03-27  Preparation du guacamole pour les fajitas de m...  \n",
       "2011-08-12  Very interesting experiment: living with robot...  "
      ]
     },
     "execution_count": 68,
     "metadata": {},
     "output_type": "execute_result"
    }
   ],
   "source": [
    "print('Events dataframe:')\n",
    "new_events"
   ]
  },
  {
   "cell_type": "code",
   "execution_count": 35,
   "metadata": {
    "collapsed": false
   },
   "outputs": [
    {
     "name": "stdout",
     "output_type": "stream",
     "text": [
      "Linked dataframe of all days:\n"
     ]
    },
    {
     "data": {
      "text/html": [
       "<div>\n",
       "<table border=\"1\" class=\"dataframe\">\n",
       "  <thead>\n",
       "    <tr style=\"text-align: right;\">\n",
       "      <th></th>\n",
       "      <th>hashtag</th>\n",
       "      <th>text</th>\n",
       "      <th>longitude</th>\n",
       "      <th>numberOfTweets</th>\n",
       "      <th>latitude</th>\n",
       "      <th>event</th>\n",
       "    </tr>\n",
       "  </thead>\n",
       "  <tbody>\n",
       "    <tr>\n",
       "      <th>2010-06-10</th>\n",
       "      <td>worldcup</td>\n",
       "      <td>Les italiens sont prêts pour la coupe du monde...</td>\n",
       "      <td>7.380340</td>\n",
       "      <td>1</td>\n",
       "      <td>46.23410</td>\n",
       "      <td>False</td>\n",
       "    </tr>\n",
       "    <tr>\n",
       "      <th>2010-06-11</th>\n",
       "      <td>worldcup</td>\n",
       "      <td>#worldcup C'est parti pour un mois de foot \\o/...</td>\n",
       "      <td>6.645310</td>\n",
       "      <td>3</td>\n",
       "      <td>46.51730</td>\n",
       "      <td>False</td>\n",
       "    </tr>\n",
       "    <tr>\n",
       "      <th>2010-06-12</th>\n",
       "      <td>worldcup</td>\n",
       "      <td>I would blame bp for that result! #worldcup #e...</td>\n",
       "      <td>8.527640</td>\n",
       "      <td>1</td>\n",
       "      <td>47.39250</td>\n",
       "      <td>False</td>\n",
       "    </tr>\n",
       "    <tr>\n",
       "      <th>2010-06-13</th>\n",
       "      <td>worldcup</td>\n",
       "      <td>\"Vokuhila oder wie die Tröten heissen.\" #world...</td>\n",
       "      <td>9.159270</td>\n",
       "      <td>2</td>\n",
       "      <td>47.35055</td>\n",
       "      <td>False</td>\n",
       "    </tr>\n",
       "    <tr>\n",
       "      <th>2010-06-14</th>\n",
       "      <td>worldcup</td>\n",
       "      <td>Mondiali 2010: si comincia. http://twitpic.com...</td>\n",
       "      <td>9.664400</td>\n",
       "      <td>1</td>\n",
       "      <td>45.83860</td>\n",
       "      <td>False</td>\n",
       "    </tr>\n",
       "    <tr>\n",
       "      <th>2010-06-16</th>\n",
       "      <td>worldcup</td>\n",
       "      <td>With Swiss colleagues watching Switzerland vs ...</td>\n",
       "      <td>8.409725</td>\n",
       "      <td>12</td>\n",
       "      <td>47.21025</td>\n",
       "      <td>True</td>\n",
       "    </tr>\n",
       "    <tr>\n",
       "      <th>2010-06-17</th>\n",
       "      <td>worldcup</td>\n",
       "      <td>Kicked out of the house by Knitting Club so fo...</td>\n",
       "      <td>7.436690</td>\n",
       "      <td>1</td>\n",
       "      <td>46.94690</td>\n",
       "      <td>False</td>\n",
       "    </tr>\n",
       "    <tr>\n",
       "      <th>2010-06-18</th>\n",
       "      <td>worldcup</td>\n",
       "      <td>Könnt ihr nicht konkreter tweeten, damit ich a...</td>\n",
       "      <td>7.951700</td>\n",
       "      <td>1</td>\n",
       "      <td>47.55150</td>\n",
       "      <td>False</td>\n",
       "    </tr>\n",
       "    <tr>\n",
       "      <th>2010-06-24</th>\n",
       "      <td>worldcup</td>\n",
       "      <td>I'm so happy Italy and France are out of the #...</td>\n",
       "      <td>8.540860</td>\n",
       "      <td>1</td>\n",
       "      <td>47.36430</td>\n",
       "      <td>False</td>\n",
       "    </tr>\n",
       "    <tr>\n",
       "      <th>2010-06-26</th>\n",
       "      <td>worldcup</td>\n",
       "      <td>Meine #worldcup App zeigt morgen Nachmittag pl...</td>\n",
       "      <td>7.433060</td>\n",
       "      <td>1</td>\n",
       "      <td>46.94290</td>\n",
       "      <td>False</td>\n",
       "    </tr>\n",
       "  </tbody>\n",
       "</table>\n",
       "</div>"
      ],
      "text/plain": [
       "             hashtag                                               text  \\\n",
       "2010-06-10  worldcup  Les italiens sont prêts pour la coupe du monde...   \n",
       "2010-06-11  worldcup  #worldcup C'est parti pour un mois de foot \\o/...   \n",
       "2010-06-12  worldcup  I would blame bp for that result! #worldcup #e...   \n",
       "2010-06-13  worldcup  \"Vokuhila oder wie die Tröten heissen.\" #world...   \n",
       "2010-06-14  worldcup  Mondiali 2010: si comincia. http://twitpic.com...   \n",
       "2010-06-16  worldcup  With Swiss colleagues watching Switzerland vs ...   \n",
       "2010-06-17  worldcup  Kicked out of the house by Knitting Club so fo...   \n",
       "2010-06-18  worldcup  Könnt ihr nicht konkreter tweeten, damit ich a...   \n",
       "2010-06-24  worldcup  I'm so happy Italy and France are out of the #...   \n",
       "2010-06-26  worldcup  Meine #worldcup App zeigt morgen Nachmittag pl...   \n",
       "\n",
       "            longitude  numberOfTweets  latitude  event  \n",
       "2010-06-10   7.380340               1  46.23410  False  \n",
       "2010-06-11   6.645310               3  46.51730  False  \n",
       "2010-06-12   8.527640               1  47.39250  False  \n",
       "2010-06-13   9.159270               2  47.35055  False  \n",
       "2010-06-14   9.664400               1  45.83860  False  \n",
       "2010-06-16   8.409725              12  47.21025   True  \n",
       "2010-06-17   7.436690               1  46.94690  False  \n",
       "2010-06-18   7.951700               1  47.55150  False  \n",
       "2010-06-24   8.540860               1  47.36430  False  \n",
       "2010-06-26   7.433060               1  46.94290  False  "
      ]
     },
     "execution_count": 35,
     "metadata": {},
     "output_type": "execute_result"
    }
   ],
   "source": [
    "print('Linked dataframe of all days:')\n",
    "dictionary[new_events.iloc[0].hashtag].head(10)"
   ]
  },
  {
   "cell_type": "markdown",
   "metadata": {},
   "source": [
    "## Exporting data"
   ]
  },
  {
   "cell_type": "code",
   "execution_count": 55,
   "metadata": {
    "collapsed": false
   },
   "outputs": [
    {
     "data": {
      "text/html": [
       "<div>\n",
       "<table border=\"1\" class=\"dataframe\">\n",
       "  <thead>\n",
       "    <tr style=\"text-align: right;\">\n",
       "      <th></th>\n",
       "      <th>hashtag</th>\n",
       "      <th>latitude</th>\n",
       "      <th>longitude</th>\n",
       "      <th>numberOfTweets</th>\n",
       "      <th>text</th>\n",
       "      <th>date</th>\n",
       "    </tr>\n",
       "  </thead>\n",
       "  <tbody>\n",
       "    <tr>\n",
       "      <th>0</th>\n",
       "      <td>worldcup</td>\n",
       "      <td>47.21025</td>\n",
       "      <td>8.409725</td>\n",
       "      <td>12</td>\n",
       "      <td>With Swiss colleagues watching Switzerland vs ...</td>\n",
       "      <td>2010-06-16</td>\n",
       "    </tr>\n",
       "  </tbody>\n",
       "</table>\n",
       "</div>"
      ],
      "text/plain": [
       "    hashtag  latitude  longitude  numberOfTweets  \\\n",
       "0  worldcup  47.21025   8.409725              12   \n",
       "\n",
       "                                                text        date  \n",
       "0  With Swiss colleagues watching Switzerland vs ...  2010-06-16  "
      ]
     },
     "execution_count": 55,
     "metadata": {},
     "output_type": "execute_result"
    }
   ],
   "source": [
    "e_df = new_events.copy()\n",
    "e_df['date'] = e_df.index\n",
    "e_df.index = [i for i in range (len(e_df))]\n",
    "e_df.head(1)"
   ]
  },
  {
   "cell_type": "markdown",
   "metadata": {},
   "source": [
    "We are going to generate the right datetimes for the jsons:"
   ]
  },
  {
   "cell_type": "code",
   "execution_count": 56,
   "metadata": {
    "collapsed": true
   },
   "outputs": [],
   "source": [
    "epoch_dt = datetime(1970, 1, 1)\n",
    "def to_utc(date):\n",
    "    d_dt = datetime.combine(date, datetime.min.time())\n",
    "    return int((d_dt - epoch_dt).total_seconds()*1000)"
   ]
  },
  {
   "cell_type": "code",
   "execution_count": 57,
   "metadata": {
    "collapsed": true
   },
   "outputs": [],
   "source": [
    "def convert_to_unix_time(record):\n",
    "    datetime_index = pd.DatetimeIndex([datetime(record['year'], record['month'], 1)])\n",
    "    unix_time_index = datetime_index.astype(np.int64) // 10**6\n",
    "    return unix_time_index[0]"
   ]
  },
  {
   "cell_type": "code",
   "execution_count": 58,
   "metadata": {
    "collapsed": false
   },
   "outputs": [
    {
     "name": "stdout",
     "output_type": "stream",
     "text": [
      "11:22:33 Converting dates...\n",
      "11:22:33 Done.\n"
     ]
    },
    {
     "data": {
      "text/html": [
       "<div>\n",
       "<table border=\"1\" class=\"dataframe\">\n",
       "  <thead>\n",
       "    <tr style=\"text-align: right;\">\n",
       "      <th></th>\n",
       "      <th>hashtag</th>\n",
       "      <th>latitude</th>\n",
       "      <th>longitude</th>\n",
       "      <th>numberOfTweets</th>\n",
       "      <th>text</th>\n",
       "      <th>date</th>\n",
       "      <th>year</th>\n",
       "      <th>month</th>\n",
       "      <th>utc_date</th>\n",
       "      <th>unix_time</th>\n",
       "    </tr>\n",
       "  </thead>\n",
       "  <tbody>\n",
       "    <tr>\n",
       "      <th>0</th>\n",
       "      <td>worldcup</td>\n",
       "      <td>47.21025</td>\n",
       "      <td>8.409725</td>\n",
       "      <td>12</td>\n",
       "      <td>With Swiss colleagues watching Switzerland vs ...</td>\n",
       "      <td>2010-06-16</td>\n",
       "      <td>2010</td>\n",
       "      <td>6</td>\n",
       "      <td>1276646400000</td>\n",
       "      <td>1275350400000</td>\n",
       "    </tr>\n",
       "  </tbody>\n",
       "</table>\n",
       "</div>"
      ],
      "text/plain": [
       "    hashtag  latitude  longitude  numberOfTweets  \\\n",
       "0  worldcup  47.21025   8.409725              12   \n",
       "\n",
       "                                                text        date  year  month  \\\n",
       "0  With Swiss colleagues watching Switzerland vs ...  2010-06-16  2010      6   \n",
       "\n",
       "        utc_date      unix_time  \n",
       "0  1276646400000  1275350400000  "
      ]
     },
     "execution_count": 58,
     "metadata": {},
     "output_type": "execute_result"
    }
   ],
   "source": [
    "pr('Converting dates...')\n",
    "e_df['year'] = e_df['date'].apply(lambda x: x.year)\n",
    "e_df['month'] = e_df['date'].apply(lambda x: x.month)\n",
    "e_df['utc_date'] = e_df['date'].apply(lambda x: to_utc(x))\n",
    "e_df['unix_time'] = e_df.apply(convert_to_unix_time, axis=1)\n",
    "pr('Done.')\n",
    "e_df.head(1)"
   ]
  },
  {
   "cell_type": "markdown",
   "metadata": {},
   "source": [
    "Grouping by months and generating the dictionary for the json."
   ]
  },
  {
   "cell_type": "code",
   "execution_count": 59,
   "metadata": {
    "collapsed": true
   },
   "outputs": [],
   "source": [
    "e_gb_month = e_df.groupby(e_df.unix_time)"
   ]
  },
  {
   "cell_type": "code",
   "execution_count": 60,
   "metadata": {
    "collapsed": false
   },
   "outputs": [
    {
     "name": "stdout",
     "output_type": "stream",
     "text": [
      "11:22:34 Making event list...\n",
      "11:22:34 Done.\n"
     ]
    }
   ],
   "source": [
    "pr('Making event list...')\n",
    "months = []\n",
    "for month, df in e_gb_month:\n",
    "    days = []\n",
    "    for i in range (len(df)):\n",
    "        ht = df.iloc[i]['hashtag']\n",
    "        lat = df.iloc[i]['latitude']\n",
    "        lon = df.iloc[i]['longitude']\n",
    "        t_num = df.iloc[i]['numberOfTweets']\n",
    "        tweets = df.iloc[i]['text'].split(delimiter)\n",
    "        date = df.iloc[i]['utc_date']\n",
    "        \n",
    "        data_unit = { 'name': ht\n",
    "                    , 'latitude' : lat\n",
    "                    , 'longitude' : lon\n",
    "                    , 'tweets' : tweets\n",
    "                    , 'number_of_tweets' : str(t_num)\n",
    "                    , 'date' : int(date)}\n",
    "        days.append(data_unit)\n",
    "    \n",
    "    curr_month = {'date': int(month), 'data' : days}\n",
    "    months.append(curr_month)\n",
    "\n",
    "final_events = {'events' : months}\n",
    "pr('Done.')"
   ]
  },
  {
   "cell_type": "code",
   "execution_count": 61,
   "metadata": {
    "collapsed": false
   },
   "outputs": [
    {
     "name": "stdout",
     "output_type": "stream",
     "text": [
      "11:22:35 Exporting to json...\n",
      "11:22:35 Export done. File \"export_twitter_events_2017-01-30_11h22min35.json\" has been created.\n"
     ]
    }
   ],
   "source": [
    "exportFilename = 'export_twitter_events_' + datetime.now().strftime(\"%Y-%m-%d_%Hh%Mmin%S\") + '.json'\n",
    "exportPath =  os.path.join('data', exportFilename)\n",
    "\n",
    "pr('Exporting to json...')\n",
    "with open(exportPath, 'w') as f:\n",
    "     json.dump(final_events, f)\n",
    "pr('Export done. File \"{}\" has been created.'.format(exportFilename))"
   ]
  },
  {
   "cell_type": "code",
   "execution_count": null,
   "metadata": {
    "collapsed": true
   },
   "outputs": [],
   "source": []
  }
 ],
 "metadata": {
  "anaconda-cloud": {},
  "kernelspec": {
   "display_name": "Python [ADA]",
   "language": "python",
   "name": "Python [ADA]"
  },
  "language_info": {
   "codemirror_mode": {
    "name": "ipython",
    "version": 3
   },
   "file_extension": ".py",
   "mimetype": "text/x-python",
   "name": "python",
   "nbconvert_exporter": "python",
   "pygments_lexer": "ipython3",
   "version": "3.5.2"
  }
 },
 "nbformat": 4,
 "nbformat_minor": 0
}
