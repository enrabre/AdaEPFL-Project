{
 "cells": [
  {
   "cell_type": "code",
   "execution_count": 1,
   "metadata": {
    "collapsed": false
   },
   "outputs": [],
   "source": [
    "import pandas as pd\n",
    "import numpy as np\n",
    "import os\n",
    "import seaborn as sns\n",
    "import datetime\n",
    "from sklearn.ensemble import RandomForestClassifier\n",
    "from sklearn.cluster import KMeans\n",
    "from sklearn.model_selection import KFold\n",
    "from sklearn import metrics\n",
    "import matplotlib.pyplot as plt\n",
    "from functools import reduce\n",
    "import math\n",
    "from collections import Counter\n",
    "import csv\n",
    "from datetime import datetime\n",
    "import re\n",
    "import copy\n",
    "import json\n",
    "from datetime import timedelta\n",
    "from operator import itemgetter\n",
    "%matplotlib inline"
   ]
  },
  {
   "cell_type": "code",
   "execution_count": 2,
   "metadata": {
    "collapsed": true
   },
   "outputs": [],
   "source": [
    "def now():\n",
    "    return str(datetime.now().time())[:8]\n",
    "def pr(strToPrint):\n",
    "    print(now() + ' '+ strToPrint)\n",
    "\n",
    "from IPython.display import Audio\n",
    "sound_file = 'beep.wav'\n",
    "# pd.set_option('display.max_colwidth', -1)"
   ]
  },
  {
   "cell_type": "markdown",
   "metadata": {},
   "source": [
    "## Importing data"
   ]
  },
  {
   "cell_type": "markdown",
   "metadata": {},
   "source": [
    "Importing a sample of the dataset:"
   ]
  },
  {
   "cell_type": "code",
   "execution_count": 3,
   "metadata": {
    "collapsed": true
   },
   "outputs": [],
   "source": [
    "pickle_filename = os.path.join('data','head_100k_pickle.pkl')\n",
    "tw = pd.read_pickle(pickle_filename)"
   ]
  },
  {
   "cell_type": "markdown",
   "metadata": {},
   "source": [
    "Importing the whole dataset"
   ]
  },
  {
   "cell_type": "code",
   "execution_count": 4,
   "metadata": {
    "collapsed": false
   },
   "outputs": [
    {
     "name": "stdout",
     "output_type": "stream",
     "text": [
      "00:45:44 Starting to read file... (3 min)\n",
      "00:45:44 File is loaded!\n"
     ]
    }
   ],
   "source": [
    "columns_header = ['id', 'userId', 'createdAt', 'text', 'longitude', 'latitude', 'placeId',\n",
    "                  'inReplyTo', 'source', 'truncated', 'placeLatitude', 'placeLongitude', 'sourceName', 'sourceUrl',\n",
    "                 'userName', 'screenName', 'followersCount', 'friendsCount', 'statusesCount',\n",
    "                 'userLocation']\n",
    "\n",
    "filename = os.path.join('data','twex.tsv') # 'sample.tsv')\n",
    "pr('Starting to read file... (3 min)')\n",
    "# tw = pd.read_csv(filename, sep='\\t', encoding='utf-8', escapechar='\\\\', names=columns_header,\n",
    "#                       quoting=csv.QUOTE_NONE, na_values='N', header=None)\n",
    "\n",
    "pr('File is loaded!')\n",
    "# Audio(url=sound_file, autoplay=True)"
   ]
  },
  {
   "cell_type": "code",
   "execution_count": 5,
   "metadata": {
    "collapsed": false
   },
   "outputs": [
    {
     "data": {
      "text/html": [
       "<div>\n",
       "<table border=\"1\" class=\"dataframe\">\n",
       "  <thead>\n",
       "    <tr style=\"text-align: right;\">\n",
       "      <th></th>\n",
       "      <th>id</th>\n",
       "      <th>userId</th>\n",
       "      <th>createdAt</th>\n",
       "      <th>text</th>\n",
       "      <th>longitude</th>\n",
       "      <th>latitude</th>\n",
       "      <th>placeId</th>\n",
       "      <th>inReplyTo</th>\n",
       "      <th>source</th>\n",
       "      <th>truncated</th>\n",
       "      <th>placeLatitude</th>\n",
       "      <th>placeLongitude</th>\n",
       "      <th>sourceName</th>\n",
       "      <th>sourceUrl</th>\n",
       "      <th>userName</th>\n",
       "      <th>screenName</th>\n",
       "      <th>followersCount</th>\n",
       "      <th>friendsCount</th>\n",
       "      <th>statusesCount</th>\n",
       "      <th>userLocation</th>\n",
       "    </tr>\n",
       "  </thead>\n",
       "  <tbody>\n",
       "    <tr>\n",
       "      <th>0</th>\n",
       "      <td>9514097914</td>\n",
       "      <td>1.7341e+07</td>\n",
       "      <td>2010-02-23 05:55:51</td>\n",
       "      <td>Guuuuten Morgen! :-)</td>\n",
       "      <td>7.43926</td>\n",
       "      <td>46.9489</td>\n",
       "      <td>NaN</td>\n",
       "      <td>NaN</td>\n",
       "      <td>197</td>\n",
       "      <td>NaN</td>\n",
       "      <td>NaN</td>\n",
       "      <td>NaN</td>\n",
       "      <td>TwitBird</td>\n",
       "      <td>http://www.nibirutech.com</td>\n",
       "      <td>Tilman Jentzsch</td>\n",
       "      <td>blickwechsel</td>\n",
       "      <td>586</td>\n",
       "      <td>508.0</td>\n",
       "      <td>9016.0</td>\n",
       "      <td>Bern, Switzerland</td>\n",
       "    </tr>\n",
       "    <tr>\n",
       "      <th>1</th>\n",
       "      <td>9514846412</td>\n",
       "      <td>7.19828e+06</td>\n",
       "      <td>2010-02-23 06:22:40</td>\n",
       "      <td>Still the best coffee in town — at La Stanza h...</td>\n",
       "      <td>8.53781</td>\n",
       "      <td>47.3678</td>\n",
       "      <td>NaN</td>\n",
       "      <td>NaN</td>\n",
       "      <td>550</td>\n",
       "      <td>NaN</td>\n",
       "      <td>NaN</td>\n",
       "      <td>NaN</td>\n",
       "      <td>Gowalla</td>\n",
       "      <td>http://gowalla.com/</td>\n",
       "      <td>Nico Luchsinger</td>\n",
       "      <td>halbluchs</td>\n",
       "      <td>1820</td>\n",
       "      <td>703.0</td>\n",
       "      <td>4687.0</td>\n",
       "      <td>Zurich, Switzerland</td>\n",
       "    </tr>\n",
       "  </tbody>\n",
       "</table>\n",
       "</div>"
      ],
      "text/plain": [
       "           id       userId            createdAt  \\\n",
       "0  9514097914   1.7341e+07  2010-02-23 05:55:51   \n",
       "1  9514846412  7.19828e+06  2010-02-23 06:22:40   \n",
       "\n",
       "                                                text  longitude latitude  \\\n",
       "0                               Guuuuten Morgen! :-)    7.43926  46.9489   \n",
       "1  Still the best coffee in town — at La Stanza h...    8.53781  47.3678   \n",
       "\n",
       "  placeId  inReplyTo source truncated placeLatitude placeLongitude sourceName  \\\n",
       "0     NaN        NaN    197       NaN           NaN            NaN   TwitBird   \n",
       "1     NaN        NaN    550       NaN           NaN            NaN    Gowalla   \n",
       "\n",
       "                   sourceUrl         userName    screenName followersCount  \\\n",
       "0  http://www.nibirutech.com  Tilman Jentzsch  blickwechsel            586   \n",
       "1        http://gowalla.com/  Nico Luchsinger     halbluchs           1820   \n",
       "\n",
       "   friendsCount  statusesCount         userLocation  \n",
       "0         508.0         9016.0    Bern, Switzerland  \n",
       "1         703.0         4687.0  Zurich, Switzerland  "
      ]
     },
     "execution_count": 5,
     "metadata": {},
     "output_type": "execute_result"
    }
   ],
   "source": [
    "tw.head(2)"
   ]
  },
  {
   "cell_type": "markdown",
   "metadata": {},
   "source": [
    "## Extrating hashtags"
   ]
  },
  {
   "cell_type": "code",
   "execution_count": 6,
   "metadata": {
    "collapsed": true
   },
   "outputs": [],
   "source": [
    "def extract_hashtags(text):\n",
    "    ht_list = re.findall(r\"#(\\w+)\", text)\n",
    "    non_empty_hts = list(filter((lambda ht: ht != []), ht_list))\n",
    "    lowerCharList = [ht.lower() for ht in non_empty_hts]\n",
    "    return lowerCharList"
   ]
  },
  {
   "cell_type": "code",
   "execution_count": 7,
   "metadata": {
    "collapsed": false
   },
   "outputs": [
    {
     "name": "stdout",
     "output_type": "stream",
     "text": [
      "00:45:45 Making hashtags... (2 min)\n",
      "00:45:45 Done.\n"
     ]
    }
   ],
   "source": [
    "pr('Making hashtags... (2 min)')\n",
    "tw['hashtag'] = np.nan\n",
    "tw.hashtag = tw.text.apply(lambda x: extract_hashtags(str(x)))\n",
    "twh = tw.ix[tw.hashtag.apply(lambda x: len(x) != 0)]\n",
    "pr('Done.')"
   ]
  },
  {
   "cell_type": "code",
   "execution_count": 8,
   "metadata": {
    "collapsed": false
   },
   "outputs": [
    {
     "data": {
      "text/html": [
       "<div>\n",
       "<table border=\"1\" class=\"dataframe\">\n",
       "  <thead>\n",
       "    <tr style=\"text-align: right;\">\n",
       "      <th></th>\n",
       "      <th>id</th>\n",
       "      <th>userId</th>\n",
       "      <th>createdAt</th>\n",
       "      <th>text</th>\n",
       "      <th>longitude</th>\n",
       "      <th>latitude</th>\n",
       "      <th>placeId</th>\n",
       "      <th>inReplyTo</th>\n",
       "      <th>source</th>\n",
       "      <th>truncated</th>\n",
       "      <th>...</th>\n",
       "      <th>placeLongitude</th>\n",
       "      <th>sourceName</th>\n",
       "      <th>sourceUrl</th>\n",
       "      <th>userName</th>\n",
       "      <th>screenName</th>\n",
       "      <th>followersCount</th>\n",
       "      <th>friendsCount</th>\n",
       "      <th>statusesCount</th>\n",
       "      <th>userLocation</th>\n",
       "      <th>hashtag</th>\n",
       "    </tr>\n",
       "  </thead>\n",
       "  <tbody>\n",
       "    <tr>\n",
       "      <th>8</th>\n",
       "      <td>9519737890</td>\n",
       "      <td>1.46579e+07</td>\n",
       "      <td>2010-02-23 09:59:41</td>\n",
       "      <td>Magic spells run off after midnight, I guess s...</td>\n",
       "      <td>6.13870</td>\n",
       "      <td>46.175</td>\n",
       "      <td>NaN</td>\n",
       "      <td>NaN</td>\n",
       "      <td>1</td>\n",
       "      <td>NaN</td>\n",
       "      <td>...</td>\n",
       "      <td>NaN</td>\n",
       "      <td>Twitter for iPhone</td>\n",
       "      <td>http://twitter.com/#!/download/iphone</td>\n",
       "      <td>Javier Belmonte</td>\n",
       "      <td>vichango</td>\n",
       "      <td>167</td>\n",
       "      <td>277.0</td>\n",
       "      <td>2885.0</td>\n",
       "      <td>Geneva, Switzerland</td>\n",
       "      <td>[fb]</td>\n",
       "    </tr>\n",
       "    <tr>\n",
       "      <th>10</th>\n",
       "      <td>9521789689</td>\n",
       "      <td>9.96202e+06</td>\n",
       "      <td>2010-02-23 11:28:27</td>\n",
       "      <td>Limitas of public transportation! No taxi, rai...</td>\n",
       "      <td>6.33641</td>\n",
       "      <td>46.4631</td>\n",
       "      <td>NaN</td>\n",
       "      <td>NaN</td>\n",
       "      <td>550</td>\n",
       "      <td>NaN</td>\n",
       "      <td>...</td>\n",
       "      <td>NaN</td>\n",
       "      <td>Gowalla</td>\n",
       "      <td>http://gowalla.com/</td>\n",
       "      <td>Thomas Winter</td>\n",
       "      <td>thwinter</td>\n",
       "      <td>1070</td>\n",
       "      <td>1359.0</td>\n",
       "      <td>3349.0</td>\n",
       "      <td>Hettlingen CH / SanJose Ca</td>\n",
       "      <td>[yam]</td>\n",
       "    </tr>\n",
       "  </tbody>\n",
       "</table>\n",
       "<p>2 rows × 21 columns</p>\n",
       "</div>"
      ],
      "text/plain": [
       "            id       userId            createdAt  \\\n",
       "8   9519737890  1.46579e+07  2010-02-23 09:59:41   \n",
       "10  9521789689  9.96202e+06  2010-02-23 11:28:27   \n",
       "\n",
       "                                                 text  longitude latitude  \\\n",
       "8   Magic spells run off after midnight, I guess s...    6.13870   46.175   \n",
       "10  Limitas of public transportation! No taxi, rai...    6.33641  46.4631   \n",
       "\n",
       "   placeId  inReplyTo source truncated   ...   placeLongitude  \\\n",
       "8      NaN        NaN      1       NaN   ...              NaN   \n",
       "10     NaN        NaN    550       NaN   ...              NaN   \n",
       "\n",
       "            sourceName                              sourceUrl  \\\n",
       "8   Twitter for iPhone  http://twitter.com/#!/download/iphone   \n",
       "10             Gowalla                    http://gowalla.com/   \n",
       "\n",
       "           userName screenName followersCount friendsCount  statusesCount  \\\n",
       "8   Javier Belmonte   vichango            167        277.0         2885.0   \n",
       "10    Thomas Winter   thwinter           1070       1359.0         3349.0   \n",
       "\n",
       "                  userLocation hashtag  \n",
       "8          Geneva, Switzerland    [fb]  \n",
       "10  Hettlingen CH / SanJose Ca   [yam]  \n",
       "\n",
       "[2 rows x 21 columns]"
      ]
     },
     "execution_count": 8,
     "metadata": {},
     "output_type": "execute_result"
    }
   ],
   "source": [
    "twh.head(2)"
   ]
  },
  {
   "cell_type": "markdown",
   "metadata": {},
   "source": [
    "## Cleaning data and making date index"
   ]
  },
  {
   "cell_type": "code",
   "execution_count": 9,
   "metadata": {
    "collapsed": false
   },
   "outputs": [
    {
     "name": "stdout",
     "output_type": "stream",
     "text": [
      "The data have been reduced from 19719 tweets to 19719 tweets.\n"
     ]
    }
   ],
   "source": [
    "tw1 = twh.dropna(axis=0, how='any', subset=['text', 'createdAt'])\n",
    "print('The data have been reduced from {} tweets to {} tweets.'.format(len(twh), len(tw1)))"
   ]
  },
  {
   "cell_type": "code",
   "execution_count": 10,
   "metadata": {
    "collapsed": false
   },
   "outputs": [
    {
     "name": "stdout",
     "output_type": "stream",
     "text": [
      "00:45:45 Removing bad dates...\n",
      "00:45:45 Finished.\n"
     ]
    }
   ],
   "source": [
    "pr('Removing bad dates...')\n",
    "twhCleanDate = tw1[tw1['createdAt'].str.len() == 19]\n",
    "pr('Finished.')"
   ]
  },
  {
   "cell_type": "code",
   "execution_count": 11,
   "metadata": {
    "collapsed": false
   },
   "outputs": [
    {
     "name": "stdout",
     "output_type": "stream",
     "text": [
      "00:45:45 Starting to examine dates...\n",
      "00:45:46 There are 0 dates that cannot be transformed.\n"
     ]
    }
   ],
   "source": [
    "pr('Starting to examine dates...')\n",
    "import warnings\n",
    "warnings.filterwarnings('ignore')\n",
    "datetime_serie = twhCleanDate['createdAt'].convert_objects(convert_dates='coerce')\n",
    "dateNotConvertible = datetime_serie[pd.isnull(datetime_serie)]\n",
    "warnings.filterwarnings('default')\n",
    "pr('There are {} dates that cannot be transformed.'.format(len(dateNotConvertible)))"
   ]
  },
  {
   "cell_type": "code",
   "execution_count": 12,
   "metadata": {
    "collapsed": false,
    "scrolled": false
   },
   "outputs": [
    {
     "name": "stdout",
     "output_type": "stream",
     "text": [
      "00:45:46 Starting copy...\n",
      "00:45:46 Converting to datetime...\n",
      "00:45:46 Setting up new indices...\n",
      "00:45:46 Deleting old \"createdAt\" column...\n",
      "00:45:46 Done!\n"
     ]
    },
    {
     "data": {
      "text/html": [
       "<div>\n",
       "<table border=\"1\" class=\"dataframe\">\n",
       "  <thead>\n",
       "    <tr style=\"text-align: right;\">\n",
       "      <th></th>\n",
       "      <th>id</th>\n",
       "      <th>userId</th>\n",
       "      <th>text</th>\n",
       "      <th>longitude</th>\n",
       "      <th>latitude</th>\n",
       "      <th>placeId</th>\n",
       "      <th>inReplyTo</th>\n",
       "      <th>source</th>\n",
       "      <th>truncated</th>\n",
       "      <th>placeLatitude</th>\n",
       "      <th>placeLongitude</th>\n",
       "      <th>sourceName</th>\n",
       "      <th>sourceUrl</th>\n",
       "      <th>userName</th>\n",
       "      <th>screenName</th>\n",
       "      <th>followersCount</th>\n",
       "      <th>friendsCount</th>\n",
       "      <th>statusesCount</th>\n",
       "      <th>userLocation</th>\n",
       "      <th>hashtag</th>\n",
       "    </tr>\n",
       "    <tr>\n",
       "      <th>createdAt</th>\n",
       "      <th></th>\n",
       "      <th></th>\n",
       "      <th></th>\n",
       "      <th></th>\n",
       "      <th></th>\n",
       "      <th></th>\n",
       "      <th></th>\n",
       "      <th></th>\n",
       "      <th></th>\n",
       "      <th></th>\n",
       "      <th></th>\n",
       "      <th></th>\n",
       "      <th></th>\n",
       "      <th></th>\n",
       "      <th></th>\n",
       "      <th></th>\n",
       "      <th></th>\n",
       "      <th></th>\n",
       "      <th></th>\n",
       "      <th></th>\n",
       "    </tr>\n",
       "  </thead>\n",
       "  <tbody>\n",
       "    <tr>\n",
       "      <th>2010-02-23 09:59:41</th>\n",
       "      <td>9519737890</td>\n",
       "      <td>1.46579e+07</td>\n",
       "      <td>Magic spells run off after midnight, I guess s...</td>\n",
       "      <td>6.13870</td>\n",
       "      <td>46.175</td>\n",
       "      <td>NaN</td>\n",
       "      <td>NaN</td>\n",
       "      <td>1</td>\n",
       "      <td>NaN</td>\n",
       "      <td>NaN</td>\n",
       "      <td>NaN</td>\n",
       "      <td>Twitter for iPhone</td>\n",
       "      <td>http://twitter.com/#!/download/iphone</td>\n",
       "      <td>Javier Belmonte</td>\n",
       "      <td>vichango</td>\n",
       "      <td>167</td>\n",
       "      <td>277.0</td>\n",
       "      <td>2885.0</td>\n",
       "      <td>Geneva, Switzerland</td>\n",
       "      <td>[fb]</td>\n",
       "    </tr>\n",
       "    <tr>\n",
       "      <th>2010-02-23 11:28:27</th>\n",
       "      <td>9521789689</td>\n",
       "      <td>9.96202e+06</td>\n",
       "      <td>Limitas of public transportation! No taxi, rai...</td>\n",
       "      <td>6.33641</td>\n",
       "      <td>46.4631</td>\n",
       "      <td>NaN</td>\n",
       "      <td>NaN</td>\n",
       "      <td>550</td>\n",
       "      <td>NaN</td>\n",
       "      <td>NaN</td>\n",
       "      <td>NaN</td>\n",
       "      <td>Gowalla</td>\n",
       "      <td>http://gowalla.com/</td>\n",
       "      <td>Thomas Winter</td>\n",
       "      <td>thwinter</td>\n",
       "      <td>1070</td>\n",
       "      <td>1359.0</td>\n",
       "      <td>3349.0</td>\n",
       "      <td>Hettlingen CH / SanJose Ca</td>\n",
       "      <td>[yam]</td>\n",
       "    </tr>\n",
       "  </tbody>\n",
       "</table>\n",
       "</div>"
      ],
      "text/plain": [
       "                             id       userId  \\\n",
       "createdAt                                      \n",
       "2010-02-23 09:59:41  9519737890  1.46579e+07   \n",
       "2010-02-23 11:28:27  9521789689  9.96202e+06   \n",
       "\n",
       "                                                                  text  \\\n",
       "createdAt                                                                \n",
       "2010-02-23 09:59:41  Magic spells run off after midnight, I guess s...   \n",
       "2010-02-23 11:28:27  Limitas of public transportation! No taxi, rai...   \n",
       "\n",
       "                     longitude latitude placeId  inReplyTo source truncated  \\\n",
       "createdAt                                                                     \n",
       "2010-02-23 09:59:41    6.13870   46.175     NaN        NaN      1       NaN   \n",
       "2010-02-23 11:28:27    6.33641  46.4631     NaN        NaN    550       NaN   \n",
       "\n",
       "                    placeLatitude placeLongitude          sourceName  \\\n",
       "createdAt                                                              \n",
       "2010-02-23 09:59:41           NaN            NaN  Twitter for iPhone   \n",
       "2010-02-23 11:28:27           NaN            NaN             Gowalla   \n",
       "\n",
       "                                                 sourceUrl         userName  \\\n",
       "createdAt                                                                     \n",
       "2010-02-23 09:59:41  http://twitter.com/#!/download/iphone  Javier Belmonte   \n",
       "2010-02-23 11:28:27                    http://gowalla.com/    Thomas Winter   \n",
       "\n",
       "                    screenName followersCount  friendsCount  statusesCount  \\\n",
       "createdAt                                                                    \n",
       "2010-02-23 09:59:41   vichango            167         277.0         2885.0   \n",
       "2010-02-23 11:28:27   thwinter           1070        1359.0         3349.0   \n",
       "\n",
       "                                   userLocation hashtag  \n",
       "createdAt                                                \n",
       "2010-02-23 09:59:41         Geneva, Switzerland    [fb]  \n",
       "2010-02-23 11:28:27  Hettlingen CH / SanJose Ca   [yam]  "
      ]
     },
     "execution_count": 12,
     "metadata": {},
     "output_type": "execute_result"
    }
   ],
   "source": [
    "pr('Starting copy...') # (to avoid transformation problems)\n",
    "tw5 = twhCleanDate.copy()\n",
    "pr('Converting to datetime...')\n",
    "tw5['createdAt'] = pd.to_datetime(twhCleanDate['createdAt'])\n",
    "pr('Setting up new indices...')\n",
    "tw5.index = tw5['createdAt']\n",
    "pr('Deleting old \"createdAt\" column...')\n",
    "del tw5['createdAt']\n",
    "pr('Done!')\n",
    "tw5.head(2)"
   ]
  },
  {
   "cell_type": "code",
   "execution_count": 13,
   "metadata": {
    "collapsed": false
   },
   "outputs": [
    {
     "data": {
      "text/plain": [
       "createdAt\n",
       "2010-02-23 09:59:41               [fb]\n",
       "2010-02-23 11:28:27              [yam]\n",
       "2010-02-23 17:47:11          [24, vfb]\n",
       "2010-02-23 18:19:03    [iphoneography]\n",
       "2010-02-23 18:31:46     [partnermonth]\n",
       "2010-02-24 06:09:23      [insider, fb]\n",
       "Name: hashtag, dtype: object"
      ]
     },
     "execution_count": 13,
     "metadata": {},
     "output_type": "execute_result"
    }
   ],
   "source": [
    "tw5['hashtag'][:6]"
   ]
  },
  {
   "cell_type": "markdown",
   "metadata": {},
   "source": [
    "## Let's put one hashtag per row"
   ]
  },
  {
   "cell_type": "markdown",
   "metadata": {
    "collapsed": false
   },
   "source": [
    "We will make a dataframe with one row = one hashtag. This will be done by going through the dataframe, and making in parallel a list of rows (with 1 hashtag per row) that needs to be added to the old dataframe."
   ]
  },
  {
   "cell_type": "code",
   "execution_count": 14,
   "metadata": {
    "collapsed": false
   },
   "outputs": [],
   "source": [
    "addedHashtagsRowsList = []\n",
    "def multiplyHashtagRows(row, columns):\n",
    "    '''\n",
    "    Examine each row. If there are multiple hashtags, it will return the first one.\n",
    "    (so the first one will replace the list of hashtags in the df). Then for all the next ones,\n",
    "    it will make a copy of the row in the addedHashtagsRowsList, (in a dictionary format).\n",
    "    So this dictionary can in the end be transformed in a DF and added to the original DF.\n",
    "    (The speed is increased a lot by doing it this way!)\n",
    "    '''\n",
    "    htList = row.hashtag\n",
    "    if len(htList) > 1:\n",
    "        ## Making the dictionary\n",
    "        addedHashtag = {}\n",
    "        addedHashtag['createdAt'] = row.name #the df index\n",
    "        for col in columns:\n",
    "            addedHashtag[col] = row[col]\n",
    "        ## Copying the dict for each hashtag\n",
    "        i = 1\n",
    "        while i < len(htList) :\n",
    "            deepCopy = copy.deepcopy(addedHashtag)\n",
    "            deepCopy['hashtag'] = htList[i]\n",
    "            addedHashtagsRowsList.append(deepCopy)\n",
    "            i+=1\n",
    "    return htList[0] # return the first hashtag"
   ]
  },
  {
   "cell_type": "code",
   "execution_count": 15,
   "metadata": {
    "collapsed": false
   },
   "outputs": [
    {
     "name": "stdout",
     "output_type": "stream",
     "text": [
      "00:45:46 Multiplying the hashtag rows... (around 10 min)\n",
      "00:45:50 Finished! 8887 rows will be added to the dataframe!\n"
     ]
    }
   ],
   "source": [
    "addedHashtagsRowsList = []\n",
    "tw5_1 = tw5.copy()\n",
    "pr('Multiplying the hashtag rows... (around 10 min)')\n",
    "tw5_1['hashtag'] = tw5.apply(multiplyHashtagRows, args=[tw5.columns,], axis=1)\n",
    "pr('Finished! {} rows will be added to the dataframe!'.format(len(addedHashtagsRowsList)))"
   ]
  },
  {
   "cell_type": "code",
   "execution_count": 16,
   "metadata": {
    "collapsed": false
   },
   "outputs": [
    {
     "name": "stdout",
     "output_type": "stream",
     "text": [
      "00:45:50 Starting to make the new dataframe with additionnal rows..\n",
      "00:45:50 Starting to append the two df... Old df size = 19719\n",
      "00:45:50 Done! New df size = 28606\n"
     ]
    }
   ],
   "source": [
    "pr('Starting to make the new dataframe with additionnal rows..')\n",
    "addedHashtagsDf = pd.DataFrame(addedHashtagsRowsList)\n",
    "addedHashtagsDf.set_index(['createdAt'], inplace=True)\n",
    "pr('Starting to append the two df... Old df size = {}'.format(len(tw5_1)))\n",
    "tw6 = tw5_1.append(addedHashtagsDf)\n",
    "pr('Done! New df size = {}'.format(len(tw6)))"
   ]
  },
  {
   "cell_type": "code",
   "execution_count": 17,
   "metadata": {
    "collapsed": false
   },
   "outputs": [
    {
     "name": "stdout",
     "output_type": "stream",
     "text": [
      "Example hahshtag:\n"
     ]
    },
    {
     "data": {
      "text/html": [
       "<div>\n",
       "<table border=\"1\" class=\"dataframe\">\n",
       "  <thead>\n",
       "    <tr style=\"text-align: right;\">\n",
       "      <th></th>\n",
       "      <th>followersCount</th>\n",
       "      <th>friendsCount</th>\n",
       "      <th>hashtag</th>\n",
       "      <th>id</th>\n",
       "      <th>inReplyTo</th>\n",
       "      <th>latitude</th>\n",
       "      <th>longitude</th>\n",
       "      <th>placeId</th>\n",
       "      <th>placeLatitude</th>\n",
       "      <th>placeLongitude</th>\n",
       "      <th>screenName</th>\n",
       "      <th>source</th>\n",
       "      <th>sourceName</th>\n",
       "      <th>sourceUrl</th>\n",
       "      <th>statusesCount</th>\n",
       "      <th>text</th>\n",
       "      <th>truncated</th>\n",
       "      <th>userId</th>\n",
       "      <th>userLocation</th>\n",
       "      <th>userName</th>\n",
       "    </tr>\n",
       "    <tr>\n",
       "      <th>createdAt</th>\n",
       "      <th></th>\n",
       "      <th></th>\n",
       "      <th></th>\n",
       "      <th></th>\n",
       "      <th></th>\n",
       "      <th></th>\n",
       "      <th></th>\n",
       "      <th></th>\n",
       "      <th></th>\n",
       "      <th></th>\n",
       "      <th></th>\n",
       "      <th></th>\n",
       "      <th></th>\n",
       "      <th></th>\n",
       "      <th></th>\n",
       "      <th></th>\n",
       "      <th></th>\n",
       "      <th></th>\n",
       "      <th></th>\n",
       "      <th></th>\n",
       "    </tr>\n",
       "  </thead>\n",
       "  <tbody>\n",
       "    <tr>\n",
       "      <th>2011-07-24 16:03:13</th>\n",
       "      <td>1121</td>\n",
       "      <td>763.0</td>\n",
       "      <td>vfb</td>\n",
       "      <td>95162125584039936</td>\n",
       "      <td>9.501397e+16</td>\n",
       "      <td>NaN</td>\n",
       "      <td>NaN</td>\n",
       "      <td>e401fb8eb4e7595a</td>\n",
       "      <td>47.5356</td>\n",
       "      <td>9.14004</td>\n",
       "      <td>eLd0raDo</td>\n",
       "      <td>14</td>\n",
       "      <td>Tweetbot for iOS</td>\n",
       "      <td>http://tapbots.com/tweetbot</td>\n",
       "      <td>6735.0</td>\n",
       "      <td>@mikstweed Wie lange ist es her, dass der #vfb...</td>\n",
       "      <td>NaN</td>\n",
       "      <td>921241</td>\n",
       "      <td>Kreuzlingen, TG, Switzerland</td>\n",
       "      <td>Markus Tressl</td>\n",
       "    </tr>\n",
       "    <tr>\n",
       "      <th>2010-02-23 17:47:11</th>\n",
       "      <td>1121</td>\n",
       "      <td>763.0</td>\n",
       "      <td>vfb</td>\n",
       "      <td>9535390586</td>\n",
       "      <td>NaN</td>\n",
       "      <td>47.6463</td>\n",
       "      <td>9.16570</td>\n",
       "      <td>NaN</td>\n",
       "      <td>NaN</td>\n",
       "      <td>NaN</td>\n",
       "      <td>eLd0raDo</td>\n",
       "      <td>550</td>\n",
       "      <td>Gowalla</td>\n",
       "      <td>http://gowalla.com/</td>\n",
       "      <td>6735.0</td>\n",
       "      <td>So, Feierabend. Jetzt #24 und später #VfB. — a...</td>\n",
       "      <td>NaN</td>\n",
       "      <td>921241</td>\n",
       "      <td>Kreuzlingen, TG, Switzerland</td>\n",
       "      <td>Markus Tressl</td>\n",
       "    </tr>\n",
       "    <tr>\n",
       "      <th>2010-12-01 17:25:56</th>\n",
       "      <td>1317</td>\n",
       "      <td>830.0</td>\n",
       "      <td>vfb</td>\n",
       "      <td>10021795398684672</td>\n",
       "      <td>NaN</td>\n",
       "      <td>46.9499</td>\n",
       "      <td>7.47071</td>\n",
       "      <td>e38a1a641d02f8db</td>\n",
       "      <td>46.9543</td>\n",
       "      <td>7.39491</td>\n",
       "      <td>chm</td>\n",
       "      <td>1</td>\n",
       "      <td>Twitter for iPhone</td>\n",
       "      <td>http://twitter.com/#!/download/iphone</td>\n",
       "      <td>13552.0</td>\n",
       "      <td>So, und jetzt Flachmann suchen und dann ab ins...</td>\n",
       "      <td>NaN</td>\n",
       "      <td>120433</td>\n",
       "      <td>Bern, Switzerland</td>\n",
       "      <td>chm</td>\n",
       "    </tr>\n",
       "  </tbody>\n",
       "</table>\n",
       "</div>"
      ],
      "text/plain": [
       "                    followersCount  friendsCount hashtag                 id  \\\n",
       "createdAt                                                                     \n",
       "2011-07-24 16:03:13           1121         763.0     vfb  95162125584039936   \n",
       "2010-02-23 17:47:11           1121         763.0     vfb         9535390586   \n",
       "2010-12-01 17:25:56           1317         830.0     vfb  10021795398684672   \n",
       "\n",
       "                        inReplyTo latitude  longitude           placeId  \\\n",
       "createdAt                                                                 \n",
       "2011-07-24 16:03:13  9.501397e+16      NaN        NaN  e401fb8eb4e7595a   \n",
       "2010-02-23 17:47:11           NaN  47.6463    9.16570               NaN   \n",
       "2010-12-01 17:25:56           NaN  46.9499    7.47071  e38a1a641d02f8db   \n",
       "\n",
       "                    placeLatitude placeLongitude screenName source  \\\n",
       "createdAt                                                            \n",
       "2011-07-24 16:03:13       47.5356        9.14004   eLd0raDo     14   \n",
       "2010-02-23 17:47:11           NaN            NaN   eLd0raDo    550   \n",
       "2010-12-01 17:25:56       46.9543        7.39491        chm      1   \n",
       "\n",
       "                             sourceName  \\\n",
       "createdAt                                 \n",
       "2011-07-24 16:03:13    Tweetbot for iOS   \n",
       "2010-02-23 17:47:11             Gowalla   \n",
       "2010-12-01 17:25:56  Twitter for iPhone   \n",
       "\n",
       "                                                 sourceUrl  statusesCount  \\\n",
       "createdAt                                                                   \n",
       "2011-07-24 16:03:13            http://tapbots.com/tweetbot         6735.0   \n",
       "2010-02-23 17:47:11                    http://gowalla.com/         6735.0   \n",
       "2010-12-01 17:25:56  http://twitter.com/#!/download/iphone        13552.0   \n",
       "\n",
       "                                                                  text  \\\n",
       "createdAt                                                                \n",
       "2011-07-24 16:03:13  @mikstweed Wie lange ist es her, dass der #vfb...   \n",
       "2010-02-23 17:47:11  So, Feierabend. Jetzt #24 und später #VfB. — a...   \n",
       "2010-12-01 17:25:56  So, und jetzt Flachmann suchen und dann ab ins...   \n",
       "\n",
       "                    truncated  userId                  userLocation  \\\n",
       "createdAt                                                             \n",
       "2011-07-24 16:03:13       NaN  921241  Kreuzlingen, TG, Switzerland   \n",
       "2010-02-23 17:47:11       NaN  921241  Kreuzlingen, TG, Switzerland   \n",
       "2010-12-01 17:25:56       NaN  120433             Bern, Switzerland   \n",
       "\n",
       "                          userName  \n",
       "createdAt                           \n",
       "2011-07-24 16:03:13  Markus Tressl  \n",
       "2010-02-23 17:47:11  Markus Tressl  \n",
       "2010-12-01 17:25:56            chm  "
      ]
     },
     "execution_count": 17,
     "metadata": {},
     "output_type": "execute_result"
    }
   ],
   "source": [
    "print('Example hahshtag:')\n",
    "tw6[tw6['hashtag'] == addedHashtagsRowsList[0]['hashtag']].head(3)"
   ]
  },
  {
   "cell_type": "code",
   "execution_count": 18,
   "metadata": {
    "collapsed": false
   },
   "outputs": [
    {
     "data": {
      "text/plain": [
       "createdAt\n",
       "2010-02-23 09:59:41               fb\n",
       "2010-02-23 11:28:27              yam\n",
       "2010-02-23 17:47:11               24\n",
       "2010-02-23 18:19:03    iphoneography\n",
       "2010-02-23 18:31:46     partnermonth\n",
       "Name: hashtag, dtype: object"
      ]
     },
     "execution_count": 18,
     "metadata": {},
     "output_type": "execute_result"
    }
   ],
   "source": [
    "tw6.hashtag.head()"
   ]
  },
  {
   "cell_type": "markdown",
   "metadata": {},
   "source": [
    "## Grouping per hashtags per day"
   ]
  },
  {
   "cell_type": "code",
   "execution_count": 19,
   "metadata": {
    "collapsed": false
   },
   "outputs": [],
   "source": [
    "tw6.dropna(subset=['longitude'], inplace=True)\n",
    "tw6.dropna(subset=['latitude'], inplace=True)"
   ]
  },
  {
   "cell_type": "code",
   "execution_count": 20,
   "metadata": {
    "collapsed": false
   },
   "outputs": [],
   "source": [
    "tw6.latitude = tw6.latitude.apply(float)\n",
    "tw6.longitude = tw6.longitude.apply(float)"
   ]
  },
  {
   "cell_type": "code",
   "execution_count": 21,
   "metadata": {
    "collapsed": true
   },
   "outputs": [],
   "source": [
    "delimiter = '_$$$_'\n",
    "str_join = lambda x: delimiter.join(x)"
   ]
  },
  {
   "cell_type": "markdown",
   "metadata": {},
   "source": [
    "Function that applies to a dataframe will group each row by day and aggregate all its content:"
   ]
  },
  {
   "cell_type": "code",
   "execution_count": 22,
   "metadata": {
    "collapsed": false
   },
   "outputs": [],
   "source": [
    "def aggDate(df):\n",
    "    groupedDf = df.groupby(df.index.map(lambda x: x.date)).agg({'text' : str_join,\n",
    "                                                          'longitude' : np.median,\n",
    "                                                          'latitude' : np.median,\n",
    "                                                          'hashtag' : lambda x: x.iloc[0], ## the first occurence\n",
    "                                                          'numberOfTweets' : 'count'})\n",
    "    return groupedDf"
   ]
  },
  {
   "cell_type": "code",
   "execution_count": 23,
   "metadata": {
    "collapsed": false
   },
   "outputs": [
    {
     "name": "stdout",
     "output_type": "stream",
     "text": [
      "00:45:51 Making column number of tweets\n",
      "00:45:51 Starting group by hastag...\n",
      "00:45:51 Starting to put hashtag in dictionary... (around 50 min)\n",
      "00:45:57 10%\n",
      "00:46:03 20%\n",
      "00:46:09 30%\n",
      "00:46:15 40%\n",
      "00:46:21 50%\n",
      "00:46:27 60%\n",
      "00:46:33 70%\n",
      "00:46:39 80%\n",
      "00:46:45 90%\n",
      "00:46:51 100%\n",
      "00:46:51 Finished operations! Dictionary with 9410 different hashtags.\n"
     ]
    }
   ],
   "source": [
    "pr('Making column number of tweets')\n",
    "tw6['numberOfTweets'] = 1\n",
    "pr('Starting group by hastag...')\n",
    "gp = tw6.groupby('hashtag')\n",
    "pr('Starting to put hashtag in dictionary... (around 50 min)')\n",
    "\n",
    "count = 0\n",
    "lengp = len(gp)\n",
    "printingValue = int(lengp / 10)\n",
    "dictionary = {}\n",
    "for hashtag, df in gp:\n",
    "    dictionary[hashtag] = aggDate(df)\n",
    "    count += 1\n",
    "    if count % printingValue == 0:\n",
    "        pr(\"{:.0f}%\".format(count/lengp*100))\n",
    "pr('Finished operations! Dictionary with {} different hashtags.'.format(len(dictionary)))"
   ]
  },
  {
   "cell_type": "code",
   "execution_count": 24,
   "metadata": {
    "collapsed": false
   },
   "outputs": [
    {
     "name": "stdout",
     "output_type": "stream",
     "text": [
      "Dictionary with hashtags dataframes:\n"
     ]
    },
    {
     "data": {
      "text/html": [
       "<div>\n",
       "<table border=\"1\" class=\"dataframe\">\n",
       "  <thead>\n",
       "    <tr style=\"text-align: right;\">\n",
       "      <th></th>\n",
       "      <th>latitude</th>\n",
       "      <th>hashtag</th>\n",
       "      <th>numberOfTweets</th>\n",
       "      <th>text</th>\n",
       "      <th>longitude</th>\n",
       "    </tr>\n",
       "  </thead>\n",
       "  <tbody>\n",
       "    <tr>\n",
       "      <th>2011-10-07</th>\n",
       "      <td>47.6419</td>\n",
       "      <td>hadoopworld</td>\n",
       "      <td>1</td>\n",
       "      <td>@fgdrf1976 A few engineers from @MeMoNewsAG wi...</td>\n",
       "      <td>9.18538</td>\n",
       "    </tr>\n",
       "  </tbody>\n",
       "</table>\n",
       "</div>"
      ],
      "text/plain": [
       "            latitude      hashtag  numberOfTweets  \\\n",
       "2011-10-07   47.6419  hadoopworld               1   \n",
       "\n",
       "                                                         text  longitude  \n",
       "2011-10-07  @fgdrf1976 A few engineers from @MeMoNewsAG wi...    9.18538  "
      ]
     },
     "execution_count": 24,
     "metadata": {},
     "output_type": "execute_result"
    }
   ],
   "source": [
    "# aggDate(gp.get_group('twibisg')).head(3)\n",
    "# dictionary['twibisg'].head(3)\n",
    "print('Dictionary with hashtags dataframes:')\n",
    "dictionary[list(dictionary.keys())[5]].head(4)"
   ]
  },
  {
   "cell_type": "markdown",
   "metadata": {},
   "source": [
    "## Event detection (with elimination of recurrent events)"
   ]
  },
  {
   "cell_type": "markdown",
   "metadata": {},
   "source": [
    "Parameters that define events:"
   ]
  },
  {
   "cell_type": "code",
   "execution_count": 25,
   "metadata": {
    "collapsed": false
   },
   "outputs": [],
   "source": [
    "## Parameters of an event:\n",
    "MIN_TOT_NB_TWEETS = 20 ## The hashtag must have happened at least this number of times to be considered.\n",
    "MIN_NB_DAYS_WITH_HASHTAGS = 3 ## The hashtags must appear at least this number of different days to be considered.\n",
    "MIN_NB_TWEETS_DURING_EVENT = 4 ## To be considered an event, the hashtag must happen at least this nb of times during the day.\n",
    "THRESHOLD_ANOMALY_FACTOR = 1.5 ## The occurence of a hashtag during a single day must be above the mean by this FACTOR\n",
    "                             ## multiplied by the std to be considered as an anomaly.\n",
    "MAX_DURATION_OF_EVENT = timedelta(days=30) ## The maximum number of days we consider an event can happen\n",
    "MIN_DURATION_BEFORE_NEW_EVENT = timedelta(days=304) ## (= 10 months) The min time that should pass before an event can happen\n",
    "                                                    ## again and still be considered as event (ie. Christmas is an event\n",
    "                                                    ## each year)"
   ]
  },
  {
   "cell_type": "markdown",
   "metadata": {},
   "source": [
    "Helper functions to detect recurrent events that should be removed:"
   ]
  },
  {
   "cell_type": "code",
   "execution_count": 26,
   "metadata": {
    "collapsed": true
   },
   "outputs": [],
   "source": [
    "def isSpecificEventListIllegal(detectedEventDateList):\n",
    "    '''\n",
    "    Return true if the list of dates contain illegal tupples of events, so if the event is recurrent\n",
    "    which would mean it is not a real event.\n",
    "    '''\n",
    "    def datesAreIllegal(date1, date2, date3):\n",
    "        '''\n",
    "        Return true if the 3 dates are not to be considered as regular events.\n",
    "        '''\n",
    "        ## Return if the difference is too small to be considered as 2 different events\n",
    "        def diffIsSmall(timeDiff):  \n",
    "            return timeDiff < MAX_DURATION_OF_EVENT\n",
    "\n",
    "        ## Return true if the difference is not big enough to be an annual event.\n",
    "        def isDiffSuspect(timeDiff):\n",
    "            return timeDiff < MIN_DURATION_BEFORE_NEW_EVENT   \n",
    "\n",
    "        diff1 = abs(date1 - date2)\n",
    "        diff2 = abs(date2 - date3)\n",
    "        diff3 = abs(date3 - date1)\n",
    "\n",
    "        ## The difference is too small, it must be the same event\n",
    "        if diffIsSmall(diff1) or diffIsSmall(diff2) or diffIsSmall(diff3):\n",
    "            return False\n",
    "\n",
    "        ## If there are at least 2 out of 3 suspect difference, then the dates are illegal\n",
    "        if isDiffSuspect(diff1):\n",
    "            return isDiffSuspect(diff2) or isDiffSuspect(diff3)\n",
    "        else:\n",
    "            return isDiffSuspect(diff2) and isDiffSuspect(diff3)\n",
    "    \n",
    "    ## MAIN FUNCTION : ##\n",
    "    # Go through the list of events and try all \"triples\" to see if there is any illegal triples. This is a quickly done\n",
    "    # code to do that. Code complexity bellow is in O(k^3), with k being the size of the list. We will apply this function\n",
    "    # to n list so we will have an overall complexity in O(n*k^3). We can consider however that each list will\n",
    "    # be small so k can be considered as constant and therefore the overall complexity will be in O(n).\n",
    "    for i in range(len(detectedEventDateList) - 2):\n",
    "        for j in range(i, len(detectedEventDateList) - 1):\n",
    "            for k in range(j, len(detectedEventDateList)):\n",
    "                if datesAreIllegal(detectedEventDateList[i], detectedEventDateList[j], detectedEventDateList[k]):\n",
    "                    return True\n",
    "    return False"
   ]
  },
  {
   "cell_type": "markdown",
   "metadata": {},
   "source": [
    "Main method to detect event according to all our criterias."
   ]
  },
  {
   "cell_type": "code",
   "execution_count": 27,
   "metadata": {
    "collapsed": false,
    "scrolled": false
   },
   "outputs": [
    {
     "name": "stdout",
     "output_type": "stream",
     "text": [
      "00:46:51 Starting to compute 9410 dict items to detect event. (4 min)\n",
      "00:46:52 10%\n",
      "00:46:52 20%\n",
      "00:46:53 30%\n",
      "00:46:53 40%\n",
      "00:46:54 50%\n",
      "00:46:54 60%\n",
      "00:46:55 70%\n",
      "00:46:55 80%\n",
      "00:46:56 90%\n",
      "00:46:56 100%\n",
      "00:46:56 Finished! Number of events detected = 37\n"
     ]
    }
   ],
   "source": [
    "pr('Starting to compute {} dict items to detect event. (4 min)'.format(len(dictionary)))\n",
    "nbOfEventDetected = 0\n",
    "count = 0\n",
    "printingValue = int(len(dictionary) / 10)\n",
    "for [h,df] in dictionary.items():\n",
    "    count += 1\n",
    "    if count % printingValue == 0:\n",
    "        pr(\"{:.0f}%\".format(count/len(dictionary)*100))\n",
    "    df['event'] = False\n",
    "    if len(df) > MIN_NB_DAYS_WITH_HASHTAGS:\n",
    "        if df['numberOfTweets'].sum() > MIN_TOT_NB_TWEETS:\n",
    "            threshold = df['numberOfTweets'].mean() + THRESHOLD_ANOMALY_FACTOR * df['numberOfTweets'].std()\n",
    "            df['event'] = df.numberOfTweets.apply(lambda x: x > threshold and x > MIN_NB_TWEETS_DURING_EVENT)\n",
    "            \n",
    "            ## Remove recurrent events:\n",
    "            detectedEventDf = df[df['event']]\n",
    "            if len(detectedEventDf) > 2 and isSpecificEventListIllegal(detectedEventDf.index):\n",
    "                df['event'] = False\n",
    "            nbOfEventDetected += len(df[df['event']])\n",
    "pr('Finished! Number of events detected = {}'.format(nbOfEventDetected))"
   ]
  },
  {
   "cell_type": "markdown",
   "metadata": {},
   "source": [
    "## Merging close events and grouping into single event dataframe"
   ]
  },
  {
   "cell_type": "markdown",
   "metadata": {},
   "source": [
    "Here, we have a function that is going to merge events that are considered as too \"close\" to each other to be considered individually."
   ]
  },
  {
   "cell_type": "code",
   "execution_count": 28,
   "metadata": {
    "collapsed": false
   },
   "outputs": [],
   "source": [
    "def mergeCloseEvents(rowsList):\n",
    "    '''\n",
    "    Take a list of dictionary, where each dictionary is a \"row\" of the event df, which contained detected events.\n",
    "    It will process the list to detect event that are close and merge them together.\n",
    "    Return : the processed list of event.\n",
    "    '''\n",
    "    \n",
    "    def areCloseEvents(event1, event2):\n",
    "        '''\n",
    "        Return true is 2 events dates are defined as \"close\"\n",
    "        '''\n",
    "        return abs(event1['date'] - event2['date']) < MAX_DURATION_OF_EVENT\n",
    "        \n",
    "    def mergeCloseEventsSublist(closeEventList):\n",
    "        '''\n",
    "        This will be applied to each close event sublist. It will merge all events into one unique event.\n",
    "        The event will consist of the total number of tweets, with the concatenation of the tweet texts and the mean\n",
    "        of longitude/latitude. A meanDate will be defined as a ponderated mean between all dates.\n",
    "        The final date will be the one that is in the closeEventList and is closest to this mean date.\n",
    "        We did this to keep the meaning of the date if it had some, and not have some meaningless \"mean-date\".\n",
    "        '''\n",
    "        latitude = 0\n",
    "        longitude = 0\n",
    "        numberOfTweets = 0\n",
    "        text = \"\"\n",
    "        originalDate = closeEventList[0]['date']\n",
    "        dateDiff = timedelta(days=0)\n",
    "        first = True        \n",
    "        for tweet in closeEventList:\n",
    "            longitude += tweet['longitude']\n",
    "            latitude += tweet['latitude'] \n",
    "            numberOfTweets += tweet['numberOfTweets']\n",
    "            if first:\n",
    "                text = tweet['text']\n",
    "                first = False\n",
    "            else:\n",
    "                text += delimiter + tweet['text']\n",
    "                dateDiff = dateDiff + (tweet['date'] - originalDate) * tweet['numberOfTweets']\n",
    "\n",
    "        ## It is multiplied by 2 then soustracted to round correctly to the nearest day\n",
    "        meanDate = originalDate + 2* dateDiff / numberOfTweets - dateDiff / numberOfTweets        \n",
    "        latitude = latitude / len(closeEventList)\n",
    "        longitude = longitude / len(closeEventList)\n",
    "        \n",
    "        ## We are going to detect the event the closest to the mean date\n",
    "        minSelectedDate = closeEventList[0]['date']\n",
    "        minDistance = abs(closeEventList[0]['date'] - meanDate)\n",
    "        for tweet in closeEventList:\n",
    "            if abs(tweet['date'] - meanDate) < minDistance:\n",
    "                minSelectedDate = tweet['date']    \n",
    "        \n",
    "        return {'date': minSelectedDate, 'hashtag': closeEventList[0]['hashtag'], 'text': text,\n",
    "                    'longitude': longitude, 'latitude':latitude, 'numberOfTweets': numberOfTweets, }\n",
    "    \n",
    "    ############ -----  MAIN METHOD  ----- ############\n",
    "    \n",
    "    ## If the list is big enough, go through the list and form an export list and merge elements that needs to.\n",
    "    if len(rowsList) < 2:\n",
    "        return rowsList\n",
    "    else:\n",
    "        firstLastPosOfItemsToMerge = []\n",
    "        sortedRowsList = sorted(rowsList, key=itemgetter('date')) \n",
    "        exportedEventList = []\n",
    "        ## This goes through the *sorted* list and add the pair of indices (first indice and last indice) where events \n",
    "        ## that should be merged appear.\n",
    "        lastEventWasClose = False\n",
    "        firstItem = -1\n",
    "        for i in range(0, len(sortedRowsList)-1):\n",
    "            if areCloseEvents(sortedRowsList[i], sortedRowsList[i+1]):\n",
    "                if not lastEventWasClose: # So it is the first pairs of the sublist of close events in the whole list\n",
    "                    firstItem = i\n",
    "                    lastEventWasClose = True\n",
    "            else:\n",
    "                if lastEventWasClose: # So the list has just ended.\n",
    "                    exportedEventList.append(mergeCloseEventsSublist(sortedRowsList[firstItem:i+1]))\n",
    "                    lastEventWasClose = False\n",
    "                else: # The element is by itself, let's append it\n",
    "                    exportedEventList.append(sortedRowsList[i])  \n",
    "        if lastEventWasClose: # If there were events to merge till the last elem of list\n",
    "            exportedEventList.append(mergeCloseEventsSublist(sortedRowsList[firstItem:len(sortedRowsList)]))\n",
    "        else:\n",
    "            exportedEventList.append(sortedRowsList[len(sortedRowsList)-1])\n",
    "    \n",
    "    return exportedEventList"
   ]
  },
  {
   "cell_type": "markdown",
   "metadata": {},
   "source": [
    "This function will be applied to each dataframe. If a row is detected as an event, it will be added to the locaRowsList which will be used to make a general dataframe of all the events."
   ]
  },
  {
   "cell_type": "code",
   "execution_count": 29,
   "metadata": {
    "collapsed": false
   },
   "outputs": [],
   "source": [
    "localRowsList = []\n",
    "def applyToMakeEventDf(row):\n",
    "    if row.event:\n",
    "        rowToAdd = {'date': row.name, 'hashtag': row.hashtag, 'text': row.text,\n",
    "                    'longitude': row.longitude, 'latitude':row.latitude, 'numberOfTweets': row.numberOfTweets, }\n",
    "        global localRowsList\n",
    "        localRowsList.append(rowToAdd)"
   ]
  },
  {
   "cell_type": "code",
   "execution_count": 30,
   "metadata": {
    "collapsed": false
   },
   "outputs": [
    {
     "name": "stdout",
     "output_type": "stream",
     "text": [
      "00:46:57 Starting to make event df with 9410 dataframes. (around 6 min)\n",
      "00:46:57 10%\n",
      "00:46:58 20%\n",
      "00:46:59 30%\n",
      "00:47:00 40%\n",
      "00:47:00 50%\n",
      "00:47:01 60%\n",
      "00:47:02 70%\n",
      "00:47:03 80%\n",
      "00:47:04 90%\n",
      "00:47:04 100%\n",
      "00:47:04 Making new dataframe.\n",
      "00:47:04 Finished! Dataframe with 33 rows\n"
     ]
    }
   ],
   "source": [
    "eventRowsList = []\n",
    "localRowsList = []\n",
    "count = 0\n",
    "printingValue = int(len(dictionary) / 10)\n",
    "\n",
    "pr('Starting to make event df with {} dataframes. (around 6 min)'.format(len(dictionary)))\n",
    "for h, df in dictionary.items():\n",
    "    global localRowsList\n",
    "    localRowsList = []\n",
    "    count += 1\n",
    "    if count % printingValue == 0:\n",
    "        pr(\"{:.0f}%\".format(count/len(dictionary)*100))\n",
    "        \n",
    "    df.apply(applyToMakeEventDf, axis=1)\n",
    "    mergedList = mergeCloseEvents(localRowsList) # merging close events\n",
    "    eventRowsList += mergedList\n",
    "\n",
    "pr('Making new dataframe.')\n",
    "new_events = pd.DataFrame(eventRowsList)\n",
    "new_events.set_index(['date'], inplace=True)\n",
    "pr('Finished! Dataframe with {} rows'.format(len(new_events)))"
   ]
  },
  {
   "cell_type": "code",
   "execution_count": 42,
   "metadata": {
    "collapsed": false,
    "scrolled": false
   },
   "outputs": [
    {
     "name": "stdout",
     "output_type": "stream",
     "text": [
      "Events dataframe:\n"
     ]
    },
    {
     "data": {
      "text/html": [
       "<div>\n",
       "<table border=\"1\" class=\"dataframe\">\n",
       "  <thead>\n",
       "    <tr style=\"text-align: right;\">\n",
       "      <th></th>\n",
       "      <th>hashtag</th>\n",
       "      <th>latitude</th>\n",
       "      <th>longitude</th>\n",
       "      <th>numberOfTweets</th>\n",
       "      <th>text</th>\n",
       "    </tr>\n",
       "    <tr>\n",
       "      <th>date</th>\n",
       "      <th></th>\n",
       "      <th></th>\n",
       "      <th></th>\n",
       "      <th></th>\n",
       "      <th></th>\n",
       "    </tr>\n",
       "  </thead>\n",
       "  <tbody>\n",
       "    <tr>\n",
       "      <th>2010-05-26</th>\n",
       "      <td>ipad</td>\n",
       "      <td>47.315700</td>\n",
       "      <td>8.552750</td>\n",
       "      <td>5</td>\n",
       "      <td>@shibby Vielleicht \"noch\" nicht? Das #iPad mit...</td>\n",
       "    </tr>\n",
       "    <tr>\n",
       "      <th>2010-12-08</th>\n",
       "      <td>switzerland</td>\n",
       "      <td>47.363800</td>\n",
       "      <td>8.534930</td>\n",
       "      <td>9</td>\n",
       "      <td>India's cell-phone marketing: 545 million hand...</td>\n",
       "    </tr>\n",
       "    <tr>\n",
       "      <th>2010-07-03</th>\n",
       "      <td>twittboat</td>\n",
       "      <td>47.375600</td>\n",
       "      <td>8.542245</td>\n",
       "      <td>12</td>\n",
       "      <td>Jetzt höre ich schon NRJ um mich mental auf al...</td>\n",
       "    </tr>\n",
       "    <tr>\n",
       "      <th>2011-07-16</th>\n",
       "      <td>osx</td>\n",
       "      <td>47.499500</td>\n",
       "      <td>8.728720</td>\n",
       "      <td>5</td>\n",
       "      <td>Wäre das schön, wenn's auf #OSX sowas wie #ZFS...</td>\n",
       "    </tr>\n",
       "    <tr>\n",
       "      <th>2011-09-11</th>\n",
       "      <td>osx</td>\n",
       "      <td>47.500000</td>\n",
       "      <td>8.750000</td>\n",
       "      <td>6</td>\n",
       "      <td>Hm, whys #OSX not using the #VPN I've just now...</td>\n",
       "    </tr>\n",
       "    <tr>\n",
       "      <th>2011-05-02</th>\n",
       "      <td>chtd</td>\n",
       "      <td>47.562300</td>\n",
       "      <td>7.599410</td>\n",
       "      <td>15</td>\n",
       "      <td>I'm at Microsoft Techdays 11 Basel #chtd w/ @f...</td>\n",
       "    </tr>\n",
       "    <tr>\n",
       "      <th>2011-06-08</th>\n",
       "      <td>ios5</td>\n",
       "      <td>47.452575</td>\n",
       "      <td>8.278775</td>\n",
       "      <td>15</td>\n",
       "      <td>@Mirkowelle iTunes Beta installieren. #iOS5_$$...</td>\n",
       "    </tr>\n",
       "    <tr>\n",
       "      <th>2011-10-12</th>\n",
       "      <td>ios5</td>\n",
       "      <td>47.417550</td>\n",
       "      <td>9.094210</td>\n",
       "      <td>6</td>\n",
       "      <td>@TeleboyCH Möchte halt nicht mehr mit PC arbei...</td>\n",
       "    </tr>\n",
       "    <tr>\n",
       "      <th>2011-11-14</th>\n",
       "      <td>zurich</td>\n",
       "      <td>47.418000</td>\n",
       "      <td>8.558890</td>\n",
       "      <td>5</td>\n",
       "      <td>Starting to be safe to assume that the camp in...</td>\n",
       "    </tr>\n",
       "    <tr>\n",
       "      <th>2010-06-16</th>\n",
       "      <td>wm</td>\n",
       "      <td>47.376000</td>\n",
       "      <td>8.539340</td>\n",
       "      <td>5</td>\n",
       "      <td>Frage mich gerade, ob allen #wm -Fanatikern kl...</td>\n",
       "    </tr>\n",
       "  </tbody>\n",
       "</table>\n",
       "</div>"
      ],
      "text/plain": [
       "                hashtag   latitude  longitude  numberOfTweets  \\\n",
       "date                                                            \n",
       "2010-05-26         ipad  47.315700   8.552750               5   \n",
       "2010-12-08  switzerland  47.363800   8.534930               9   \n",
       "2010-07-03    twittboat  47.375600   8.542245              12   \n",
       "2011-07-16          osx  47.499500   8.728720               5   \n",
       "2011-09-11          osx  47.500000   8.750000               6   \n",
       "2011-05-02         chtd  47.562300   7.599410              15   \n",
       "2011-06-08         ios5  47.452575   8.278775              15   \n",
       "2011-10-12         ios5  47.417550   9.094210               6   \n",
       "2011-11-14       zurich  47.418000   8.558890               5   \n",
       "2010-06-16           wm  47.376000   8.539340               5   \n",
       "\n",
       "                                                         text  \n",
       "date                                                           \n",
       "2010-05-26  @shibby Vielleicht \"noch\" nicht? Das #iPad mit...  \n",
       "2010-12-08  India's cell-phone marketing: 545 million hand...  \n",
       "2010-07-03  Jetzt höre ich schon NRJ um mich mental auf al...  \n",
       "2011-07-16  Wäre das schön, wenn's auf #OSX sowas wie #ZFS...  \n",
       "2011-09-11  Hm, whys #OSX not using the #VPN I've just now...  \n",
       "2011-05-02  I'm at Microsoft Techdays 11 Basel #chtd w/ @f...  \n",
       "2011-06-08  @Mirkowelle iTunes Beta installieren. #iOS5_$$...  \n",
       "2011-10-12  @TeleboyCH Möchte halt nicht mehr mit PC arbei...  \n",
       "2011-11-14  Starting to be safe to assume that the camp in...  \n",
       "2010-06-16  Frage mich gerade, ob allen #wm -Fanatikern kl...  "
      ]
     },
     "execution_count": 42,
     "metadata": {},
     "output_type": "execute_result"
    }
   ],
   "source": [
    "print('Events dataframe:')\n",
    "new_events.head(10)"
   ]
  },
  {
   "cell_type": "code",
   "execution_count": 32,
   "metadata": {
    "collapsed": false
   },
   "outputs": [
    {
     "name": "stdout",
     "output_type": "stream",
     "text": [
      "Linked dataframe of all days:\n"
     ]
    },
    {
     "data": {
      "text/html": [
       "<div>\n",
       "<table border=\"1\" class=\"dataframe\">\n",
       "  <thead>\n",
       "    <tr style=\"text-align: right;\">\n",
       "      <th></th>\n",
       "      <th>latitude</th>\n",
       "      <th>hashtag</th>\n",
       "      <th>numberOfTweets</th>\n",
       "      <th>text</th>\n",
       "      <th>longitude</th>\n",
       "      <th>event</th>\n",
       "    </tr>\n",
       "  </thead>\n",
       "  <tbody>\n",
       "    <tr>\n",
       "      <th>2010-03-11</th>\n",
       "      <td>47.35320</td>\n",
       "      <td>ipad</td>\n",
       "      <td>1</td>\n",
       "      <td>Der #iPad hat bereits einen Preis gewonnen! 43...</td>\n",
       "      <td>7.907140</td>\n",
       "      <td>False</td>\n",
       "    </tr>\n",
       "    <tr>\n",
       "      <th>2010-03-26</th>\n",
       "      <td>47.55220</td>\n",
       "      <td>ipad</td>\n",
       "      <td>1</td>\n",
       "      <td>Dali nas http://bit.ly/cXnFst #apple zeli izne...</td>\n",
       "      <td>8.853100</td>\n",
       "      <td>False</td>\n",
       "    </tr>\n",
       "    <tr>\n",
       "      <th>2010-04-03</th>\n",
       "      <td>46.88080</td>\n",
       "      <td>ipad</td>\n",
       "      <td>1</td>\n",
       "      <td>Schön währs #iPad #Heute  http://flic.kr/p/7Qt5ZW</td>\n",
       "      <td>8.644520</td>\n",
       "      <td>False</td>\n",
       "    </tr>\n",
       "    <tr>\n",
       "      <th>2010-04-05</th>\n",
       "      <td>46.96045</td>\n",
       "      <td>ipad</td>\n",
       "      <td>2</td>\n",
       "      <td>@monoblog ouu - dann wird es aber eng im bejew...</td>\n",
       "      <td>7.585460</td>\n",
       "      <td>False</td>\n",
       "    </tr>\n",
       "    <tr>\n",
       "      <th>2010-04-12</th>\n",
       "      <td>47.46835</td>\n",
       "      <td>ipad</td>\n",
       "      <td>2</td>\n",
       "      <td>Voll einverstanden !! Lese: http://bit.ly/duXG...</td>\n",
       "      <td>8.292905</td>\n",
       "      <td>False</td>\n",
       "    </tr>\n",
       "    <tr>\n",
       "      <th>2010-04-14</th>\n",
       "      <td>47.45930</td>\n",
       "      <td>ipad</td>\n",
       "      <td>1</td>\n",
       "      <td>Yeah ! Baby du fühlst dich geil an - mein iPad...</td>\n",
       "      <td>8.254480</td>\n",
       "      <td>False</td>\n",
       "    </tr>\n",
       "    <tr>\n",
       "      <th>2010-04-16</th>\n",
       "      <td>46.17860</td>\n",
       "      <td>ipad</td>\n",
       "      <td>3</td>\n",
       "      <td>Allez hop, l'iPad comme vous ne l'avez encore ...</td>\n",
       "      <td>6.246840</td>\n",
       "      <td>False</td>\n",
       "    </tr>\n",
       "    <tr>\n",
       "      <th>2010-04-17</th>\n",
       "      <td>47.16190</td>\n",
       "      <td>ipad</td>\n",
       "      <td>1</td>\n",
       "      <td>Uff, Instapaper sync dauert ja eeeewigs! #ipad</td>\n",
       "      <td>8.291050</td>\n",
       "      <td>False</td>\n",
       "    </tr>\n",
       "    <tr>\n",
       "      <th>2010-04-21</th>\n",
       "      <td>46.17860</td>\n",
       "      <td>ipad</td>\n",
       "      <td>2</td>\n",
       "      <td>Just found a real browser for  #iPad : #icab f...</td>\n",
       "      <td>6.246840</td>\n",
       "      <td>False</td>\n",
       "    </tr>\n",
       "    <tr>\n",
       "      <th>2010-04-29</th>\n",
       "      <td>47.42790</td>\n",
       "      <td>ipad</td>\n",
       "      <td>2</td>\n",
       "      <td>@bewuethr Smells like win spirit: Nach einem N...</td>\n",
       "      <td>8.412835</td>\n",
       "      <td>False</td>\n",
       "    </tr>\n",
       "  </tbody>\n",
       "</table>\n",
       "</div>"
      ],
      "text/plain": [
       "            latitude hashtag  numberOfTweets  \\\n",
       "2010-03-11  47.35320    ipad               1   \n",
       "2010-03-26  47.55220    ipad               1   \n",
       "2010-04-03  46.88080    ipad               1   \n",
       "2010-04-05  46.96045    ipad               2   \n",
       "2010-04-12  47.46835    ipad               2   \n",
       "2010-04-14  47.45930    ipad               1   \n",
       "2010-04-16  46.17860    ipad               3   \n",
       "2010-04-17  47.16190    ipad               1   \n",
       "2010-04-21  46.17860    ipad               2   \n",
       "2010-04-29  47.42790    ipad               2   \n",
       "\n",
       "                                                         text  longitude  \\\n",
       "2010-03-11  Der #iPad hat bereits einen Preis gewonnen! 43...   7.907140   \n",
       "2010-03-26  Dali nas http://bit.ly/cXnFst #apple zeli izne...   8.853100   \n",
       "2010-04-03  Schön währs #iPad #Heute  http://flic.kr/p/7Qt5ZW   8.644520   \n",
       "2010-04-05  @monoblog ouu - dann wird es aber eng im bejew...   7.585460   \n",
       "2010-04-12  Voll einverstanden !! Lese: http://bit.ly/duXG...   8.292905   \n",
       "2010-04-14  Yeah ! Baby du fühlst dich geil an - mein iPad...   8.254480   \n",
       "2010-04-16  Allez hop, l'iPad comme vous ne l'avez encore ...   6.246840   \n",
       "2010-04-17     Uff, Instapaper sync dauert ja eeeewigs! #ipad   8.291050   \n",
       "2010-04-21  Just found a real browser for  #iPad : #icab f...   6.246840   \n",
       "2010-04-29  @bewuethr Smells like win spirit: Nach einem N...   8.412835   \n",
       "\n",
       "            event  \n",
       "2010-03-11  False  \n",
       "2010-03-26  False  \n",
       "2010-04-03  False  \n",
       "2010-04-05  False  \n",
       "2010-04-12  False  \n",
       "2010-04-14  False  \n",
       "2010-04-16  False  \n",
       "2010-04-17  False  \n",
       "2010-04-21  False  \n",
       "2010-04-29  False  "
      ]
     },
     "execution_count": 32,
     "metadata": {},
     "output_type": "execute_result"
    }
   ],
   "source": [
    "print('Linked dataframe of all days:')\n",
    "dictionary[new_events.iloc[0].hashtag].head(10)"
   ]
  },
  {
   "cell_type": "markdown",
   "metadata": {},
   "source": [
    "## Exporting data"
   ]
  },
  {
   "cell_type": "code",
   "execution_count": 33,
   "metadata": {
    "collapsed": false
   },
   "outputs": [
    {
     "name": "stdout",
     "output_type": "stream",
     "text": [
      "There are 33 events.\n"
     ]
    }
   ],
   "source": [
    "total_number_of_events = len(new_events)\n",
    "print('There are {} events.'.format(total_number_of_events))"
   ]
  },
  {
   "cell_type": "code",
   "execution_count": 34,
   "metadata": {
    "collapsed": false
   },
   "outputs": [
    {
     "data": {
      "text/html": [
       "<div>\n",
       "<table border=\"1\" class=\"dataframe\">\n",
       "  <thead>\n",
       "    <tr style=\"text-align: right;\">\n",
       "      <th></th>\n",
       "      <th>hashtag</th>\n",
       "      <th>latitude</th>\n",
       "      <th>longitude</th>\n",
       "      <th>numberOfTweets</th>\n",
       "      <th>text</th>\n",
       "      <th>date</th>\n",
       "    </tr>\n",
       "  </thead>\n",
       "  <tbody>\n",
       "    <tr>\n",
       "      <th>0</th>\n",
       "      <td>ipad</td>\n",
       "      <td>47.3157</td>\n",
       "      <td>8.55275</td>\n",
       "      <td>5</td>\n",
       "      <td>@shibby Vielleicht \"noch\" nicht? Das #iPad mit...</td>\n",
       "      <td>2010-05-26</td>\n",
       "    </tr>\n",
       "  </tbody>\n",
       "</table>\n",
       "</div>"
      ],
      "text/plain": [
       "  hashtag  latitude  longitude  numberOfTweets  \\\n",
       "0    ipad   47.3157    8.55275               5   \n",
       "\n",
       "                                                text        date  \n",
       "0  @shibby Vielleicht \"noch\" nicht? Das #iPad mit...  2010-05-26  "
      ]
     },
     "execution_count": 34,
     "metadata": {},
     "output_type": "execute_result"
    }
   ],
   "source": [
    "e_df = new_events.copy()\n",
    "e_df['date'] = e_df.index\n",
    "e_df.index = [i for i in range (len(e_df))]\n",
    "e_df.head(1)"
   ]
  },
  {
   "cell_type": "markdown",
   "metadata": {},
   "source": [
    "We are going to generate the right datetimes for the jsons:"
   ]
  },
  {
   "cell_type": "code",
   "execution_count": 35,
   "metadata": {
    "collapsed": true
   },
   "outputs": [],
   "source": [
    "epoch_dt = datetime(1970, 1, 1)\n",
    "def to_utc(date):\n",
    "    d_dt = datetime.combine(date, datetime.min.time())\n",
    "    return int((d_dt - epoch_dt).total_seconds()*1000)"
   ]
  },
  {
   "cell_type": "code",
   "execution_count": 36,
   "metadata": {
    "collapsed": true
   },
   "outputs": [],
   "source": [
    "def convert_to_unix_time(record):\n",
    "    datetime_index = pd.DatetimeIndex([datetime(record['year'], record['month'], 1)])\n",
    "    unix_time_index = datetime_index.astype(np.int64) // 10**6\n",
    "    return unix_time_index[0]"
   ]
  },
  {
   "cell_type": "code",
   "execution_count": 37,
   "metadata": {
    "collapsed": false
   },
   "outputs": [
    {
     "name": "stdout",
     "output_type": "stream",
     "text": [
      "00:47:05 Converting dates...\n",
      "00:47:05 Done.\n"
     ]
    },
    {
     "data": {
      "text/html": [
       "<div>\n",
       "<table border=\"1\" class=\"dataframe\">\n",
       "  <thead>\n",
       "    <tr style=\"text-align: right;\">\n",
       "      <th></th>\n",
       "      <th>hashtag</th>\n",
       "      <th>latitude</th>\n",
       "      <th>longitude</th>\n",
       "      <th>numberOfTweets</th>\n",
       "      <th>text</th>\n",
       "      <th>date</th>\n",
       "      <th>year</th>\n",
       "      <th>month</th>\n",
       "      <th>utc_date</th>\n",
       "      <th>unix_time</th>\n",
       "    </tr>\n",
       "  </thead>\n",
       "  <tbody>\n",
       "    <tr>\n",
       "      <th>0</th>\n",
       "      <td>ipad</td>\n",
       "      <td>47.3157</td>\n",
       "      <td>8.55275</td>\n",
       "      <td>5</td>\n",
       "      <td>@shibby Vielleicht \"noch\" nicht? Das #iPad mit...</td>\n",
       "      <td>2010-05-26</td>\n",
       "      <td>2010</td>\n",
       "      <td>5</td>\n",
       "      <td>1274832000000</td>\n",
       "      <td>1272672000000</td>\n",
       "    </tr>\n",
       "  </tbody>\n",
       "</table>\n",
       "</div>"
      ],
      "text/plain": [
       "  hashtag  latitude  longitude  numberOfTweets  \\\n",
       "0    ipad   47.3157    8.55275               5   \n",
       "\n",
       "                                                text        date  year  month  \\\n",
       "0  @shibby Vielleicht \"noch\" nicht? Das #iPad mit...  2010-05-26  2010      5   \n",
       "\n",
       "        utc_date      unix_time  \n",
       "0  1274832000000  1272672000000  "
      ]
     },
     "execution_count": 37,
     "metadata": {},
     "output_type": "execute_result"
    }
   ],
   "source": [
    "pr('Converting dates...')\n",
    "e_df['year'] = e_df['date'].apply(lambda x: x.year)\n",
    "e_df['month'] = e_df['date'].apply(lambda x: x.month)\n",
    "e_df['utc_date'] = e_df['date'].apply(lambda x: to_utc(x))\n",
    "e_df['unix_time'] = e_df.apply(convert_to_unix_time, axis=1)\n",
    "pr('Done.')\n",
    "e_df.head(1)"
   ]
  },
  {
   "cell_type": "markdown",
   "metadata": {},
   "source": [
    "Grouping by months and generating the dictionary for the json."
   ]
  },
  {
   "cell_type": "code",
   "execution_count": 38,
   "metadata": {
    "collapsed": true
   },
   "outputs": [],
   "source": [
    "e_gb_month = e_df.groupby(e_df.unix_time)"
   ]
  },
  {
   "cell_type": "code",
   "execution_count": 39,
   "metadata": {
    "collapsed": false
   },
   "outputs": [
    {
     "name": "stdout",
     "output_type": "stream",
     "text": [
      "00:47:05 Making event list...\n",
      "00:47:05 Done.\n"
     ]
    }
   ],
   "source": [
    "pr('Making event list...')\n",
    "months = []\n",
    "for month, df in e_gb_month:\n",
    "    days = []\n",
    "    for i in range (len(df)):\n",
    "        ht = df.iloc[i]['hashtag']\n",
    "        lat = df.iloc[i]['latitude']\n",
    "        lon = df.iloc[i]['longitude']\n",
    "        t_num = df.iloc[i]['numberOfTweets']\n",
    "        tweets = df.iloc[i]['text'].split(delimiter)\n",
    "        date = df.iloc[i]['utc_date']\n",
    "        \n",
    "        data_unit = { 'name': ht\n",
    "                    , 'latitude' : lat\n",
    "                    , 'longitude' : lon\n",
    "                    , 'tweets' : tweets\n",
    "                    , 'number_of_tweets' : str(t_num)\n",
    "                    , 'date' : int(date)}\n",
    "        days.append(data_unit)\n",
    "    \n",
    "    curr_month = {'date': int(month), 'data' : days}\n",
    "    months.append(curr_month)\n",
    "\n",
    "final_events = {'events' : months}\n",
    "pr('Done.')"
   ]
  },
  {
   "cell_type": "code",
   "execution_count": 40,
   "metadata": {
    "collapsed": false
   },
   "outputs": [
    {
     "name": "stdout",
     "output_type": "stream",
     "text": [
      "00:47:05 Exporting to json...\n",
      "00:47:05 Export done. File \"export_twitter_events_2017-01-31_00h47min05_33_events.json\" has been created.\n"
     ]
    }
   ],
   "source": [
    "exportFilename = 'export_twitter_events_' + datetime.now().strftime(\"%Y-%m-%d_%Hh%Mmin%S\") + \\\n",
    "'_' + str(total_number_of_events)+ '_events.json'\n",
    "exportPath =  os.path.join('data', exportFilename)\n",
    "\n",
    "pr('Exporting to json...')\n",
    "with open(exportPath, 'w') as f:\n",
    "     json.dump(final_events, f)\n",
    "pr('Export done. File \"{}\" has been created.'.format(exportFilename))"
   ]
  },
  {
   "cell_type": "code",
   "execution_count": null,
   "metadata": {
    "collapsed": true
   },
   "outputs": [],
   "source": []
  }
 ],
 "metadata": {
  "anaconda-cloud": {},
  "kernelspec": {
   "display_name": "Python [ADA]",
   "language": "python",
   "name": "Python [ADA]"
  },
  "language_info": {
   "codemirror_mode": {
    "name": "ipython",
    "version": 3
   },
   "file_extension": ".py",
   "mimetype": "text/x-python",
   "name": "python",
   "nbconvert_exporter": "python",
   "pygments_lexer": "ipython3",
   "version": "3.5.2"
  }
 },
 "nbformat": 4,
 "nbformat_minor": 0
}
