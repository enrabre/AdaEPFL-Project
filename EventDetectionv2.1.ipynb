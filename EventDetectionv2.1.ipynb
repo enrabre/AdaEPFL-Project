{
 "cells": [
  {
   "cell_type": "code",
   "execution_count": 1,
   "metadata": {
    "collapsed": false
   },
   "outputs": [],
   "source": [
    "import pandas as pd\n",
    "import numpy as np\n",
    "import os\n",
    "import seaborn as sns\n",
    "import datetime\n",
    "from sklearn.ensemble import RandomForestClassifier\n",
    "from sklearn.cluster import KMeans\n",
    "from sklearn.model_selection import KFold\n",
    "from sklearn import metrics\n",
    "import matplotlib.pyplot as plt\n",
    "from functools import reduce\n",
    "import math\n",
    "from collections import Counter\n",
    "import csv\n",
    "from datetime import datetime\n",
    "import re\n",
    "import copy\n",
    "import json\n",
    "from datetime import timedelta\n",
    "from operator import itemgetter\n",
    "%matplotlib inline"
   ]
  },
  {
   "cell_type": "code",
   "execution_count": 2,
   "metadata": {
    "collapsed": true
   },
   "outputs": [],
   "source": [
    "def now():\n",
    "    return str(datetime.now().time())[:8]\n",
    "def pr(strToPrint):\n",
    "    print(now() + ' '+ strToPrint)\n",
    "\n",
    "from IPython.display import Audio\n",
    "sound_file = 'beep.wav'\n",
    "# pd.set_option('display.max_colwidth', -1)"
   ]
  },
  {
   "cell_type": "markdown",
   "metadata": {},
   "source": [
    "## Importing data"
   ]
  },
  {
   "cell_type": "markdown",
   "metadata": {},
   "source": [
    "Importing a sample of the dataset:"
   ]
  },
  {
   "cell_type": "code",
   "execution_count": 3,
   "metadata": {
    "collapsed": true
   },
   "outputs": [],
   "source": [
    "pickle_filename = os.path.join('data','head_100k_pickle.pkl')\n",
    "tw = pd.read_pickle(pickle_filename)"
   ]
  },
  {
   "cell_type": "markdown",
   "metadata": {},
   "source": [
    "Importing the whole dataset"
   ]
  },
  {
   "cell_type": "code",
   "execution_count": 4,
   "metadata": {
    "collapsed": false
   },
   "outputs": [
    {
     "name": "stdout",
     "output_type": "stream",
     "text": [
      "10:01:26 Starting to read file... (3 min)\n"
     ]
    },
    {
     "name": "stderr",
     "output_type": "stream",
     "text": [
      "C:\\Users\\Daniel\\Anaconda3\\envs\\ADA-kernel\\lib\\site-packages\\IPython\\core\\interactiveshell.py:2717: DtypeWarning: Columns (0,1,2,3,5,6,8,9,10,11,12,13,14,15,16,19) have mixed types. Specify dtype option on import or set low_memory=False.\n",
      "  interactivity=interactivity, compiler=compiler, result=result)\n"
     ]
    },
    {
     "name": "stdout",
     "output_type": "stream",
     "text": [
      "10:04:03 File is loaded!\n"
     ]
    }
   ],
   "source": [
    "columns_header = ['id', 'userId', 'createdAt', 'text', 'longitude', 'latitude', 'placeId',\n",
    "                  'inReplyTo', 'source', 'truncated', 'placeLatitude', 'placeLongitude', 'sourceName', 'sourceUrl',\n",
    "                 'userName', 'screenName', 'followersCount', 'friendsCount', 'statusesCount',\n",
    "                 'userLocation']\n",
    "\n",
    "filename = os.path.join('data','twex.tsv') # 'sample.tsv')\n",
    "pr('Starting to read file... (3 min)')\n",
    "tw = pd.read_csv(filename, sep='\\t', encoding='utf-8', escapechar='\\\\', names=columns_header,\n",
    "                      quoting=csv.QUOTE_NONE, na_values='N', header=None)\n",
    "\n",
    "pr('File is loaded!')\n",
    "# Audio(url=sound_file, autoplay=True)"
   ]
  },
  {
   "cell_type": "code",
   "execution_count": 5,
   "metadata": {
    "collapsed": false
   },
   "outputs": [
    {
     "data": {
      "text/html": [
       "<div>\n",
       "<table border=\"1\" class=\"dataframe\">\n",
       "  <thead>\n",
       "    <tr style=\"text-align: right;\">\n",
       "      <th></th>\n",
       "      <th>id</th>\n",
       "      <th>userId</th>\n",
       "      <th>createdAt</th>\n",
       "      <th>text</th>\n",
       "      <th>longitude</th>\n",
       "      <th>latitude</th>\n",
       "      <th>placeId</th>\n",
       "      <th>inReplyTo</th>\n",
       "      <th>source</th>\n",
       "      <th>truncated</th>\n",
       "      <th>placeLatitude</th>\n",
       "      <th>placeLongitude</th>\n",
       "      <th>sourceName</th>\n",
       "      <th>sourceUrl</th>\n",
       "      <th>userName</th>\n",
       "      <th>screenName</th>\n",
       "      <th>followersCount</th>\n",
       "      <th>friendsCount</th>\n",
       "      <th>statusesCount</th>\n",
       "      <th>userLocation</th>\n",
       "    </tr>\n",
       "  </thead>\n",
       "  <tbody>\n",
       "    <tr>\n",
       "      <th>0</th>\n",
       "      <td>9514097914</td>\n",
       "      <td>1.7341e+07</td>\n",
       "      <td>2010-02-23 05:55:51</td>\n",
       "      <td>Guuuuten Morgen! :-)</td>\n",
       "      <td>7.43926</td>\n",
       "      <td>46.9489</td>\n",
       "      <td>NaN</td>\n",
       "      <td>NaN</td>\n",
       "      <td>197</td>\n",
       "      <td>NaN</td>\n",
       "      <td>NaN</td>\n",
       "      <td>NaN</td>\n",
       "      <td>TwitBird</td>\n",
       "      <td>http://www.nibirutech.com</td>\n",
       "      <td>Tilman Jentzsch</td>\n",
       "      <td>blickwechsel</td>\n",
       "      <td>586</td>\n",
       "      <td>508.0</td>\n",
       "      <td>9016.0</td>\n",
       "      <td>Bern, Switzerland</td>\n",
       "    </tr>\n",
       "    <tr>\n",
       "      <th>1</th>\n",
       "      <td>9514846412</td>\n",
       "      <td>7.19828e+06</td>\n",
       "      <td>2010-02-23 06:22:40</td>\n",
       "      <td>Still the best coffee in town — at La Stanza h...</td>\n",
       "      <td>8.53781</td>\n",
       "      <td>47.3678</td>\n",
       "      <td>NaN</td>\n",
       "      <td>NaN</td>\n",
       "      <td>550</td>\n",
       "      <td>NaN</td>\n",
       "      <td>NaN</td>\n",
       "      <td>NaN</td>\n",
       "      <td>Gowalla</td>\n",
       "      <td>http://gowalla.com/</td>\n",
       "      <td>Nico Luchsinger</td>\n",
       "      <td>halbluchs</td>\n",
       "      <td>1820</td>\n",
       "      <td>703.0</td>\n",
       "      <td>4687.0</td>\n",
       "      <td>Zurich, Switzerland</td>\n",
       "    </tr>\n",
       "  </tbody>\n",
       "</table>\n",
       "</div>"
      ],
      "text/plain": [
       "           id       userId            createdAt  \\\n",
       "0  9514097914   1.7341e+07  2010-02-23 05:55:51   \n",
       "1  9514846412  7.19828e+06  2010-02-23 06:22:40   \n",
       "\n",
       "                                                text  longitude latitude  \\\n",
       "0                               Guuuuten Morgen! :-)    7.43926  46.9489   \n",
       "1  Still the best coffee in town — at La Stanza h...    8.53781  47.3678   \n",
       "\n",
       "  placeId  inReplyTo source truncated placeLatitude placeLongitude sourceName  \\\n",
       "0     NaN        NaN    197       NaN           NaN            NaN   TwitBird   \n",
       "1     NaN        NaN    550       NaN           NaN            NaN    Gowalla   \n",
       "\n",
       "                   sourceUrl         userName    screenName followersCount  \\\n",
       "0  http://www.nibirutech.com  Tilman Jentzsch  blickwechsel            586   \n",
       "1        http://gowalla.com/  Nico Luchsinger     halbluchs           1820   \n",
       "\n",
       "   friendsCount  statusesCount         userLocation  \n",
       "0         508.0         9016.0    Bern, Switzerland  \n",
       "1         703.0         4687.0  Zurich, Switzerland  "
      ]
     },
     "execution_count": 5,
     "metadata": {},
     "output_type": "execute_result"
    }
   ],
   "source": [
    "tw.head(2)"
   ]
  },
  {
   "cell_type": "markdown",
   "metadata": {},
   "source": [
    "## Extrating hashtags"
   ]
  },
  {
   "cell_type": "code",
   "execution_count": 6,
   "metadata": {
    "collapsed": true
   },
   "outputs": [],
   "source": [
    "def extract_hashtags(text):\n",
    "    ht_list = re.findall(r\"#(\\w+)\", text)\n",
    "    non_empty_hts = list(filter((lambda ht: ht != []), ht_list))\n",
    "    lowerCharList = [ht.lower() for ht in non_empty_hts]\n",
    "    return lowerCharList"
   ]
  },
  {
   "cell_type": "code",
   "execution_count": 7,
   "metadata": {
    "collapsed": false
   },
   "outputs": [
    {
     "name": "stdout",
     "output_type": "stream",
     "text": [
      "10:04:03 Making hashtags... (2 min)\n",
      "10:05:47 Done.\n"
     ]
    }
   ],
   "source": [
    "pr('Making hashtags... (2 min)')\n",
    "tw['hashtag'] = np.nan\n",
    "tw.hashtag = tw.text.apply(lambda x: extract_hashtags(str(x)))\n",
    "twh = tw.ix[tw.hashtag.apply(lambda x: len(x) != 0)]\n",
    "pr('Done.')"
   ]
  },
  {
   "cell_type": "code",
   "execution_count": 8,
   "metadata": {
    "collapsed": false
   },
   "outputs": [
    {
     "data": {
      "text/html": [
       "<div>\n",
       "<table border=\"1\" class=\"dataframe\">\n",
       "  <thead>\n",
       "    <tr style=\"text-align: right;\">\n",
       "      <th></th>\n",
       "      <th>id</th>\n",
       "      <th>userId</th>\n",
       "      <th>createdAt</th>\n",
       "      <th>text</th>\n",
       "      <th>longitude</th>\n",
       "      <th>latitude</th>\n",
       "      <th>placeId</th>\n",
       "      <th>inReplyTo</th>\n",
       "      <th>source</th>\n",
       "      <th>truncated</th>\n",
       "      <th>...</th>\n",
       "      <th>placeLongitude</th>\n",
       "      <th>sourceName</th>\n",
       "      <th>sourceUrl</th>\n",
       "      <th>userName</th>\n",
       "      <th>screenName</th>\n",
       "      <th>followersCount</th>\n",
       "      <th>friendsCount</th>\n",
       "      <th>statusesCount</th>\n",
       "      <th>userLocation</th>\n",
       "      <th>hashtag</th>\n",
       "    </tr>\n",
       "  </thead>\n",
       "  <tbody>\n",
       "    <tr>\n",
       "      <th>8</th>\n",
       "      <td>9519737890</td>\n",
       "      <td>1.46579e+07</td>\n",
       "      <td>2010-02-23 09:59:41</td>\n",
       "      <td>Magic spells run off after midnight, I guess s...</td>\n",
       "      <td>6.13870</td>\n",
       "      <td>46.175</td>\n",
       "      <td>NaN</td>\n",
       "      <td>NaN</td>\n",
       "      <td>1</td>\n",
       "      <td>NaN</td>\n",
       "      <td>...</td>\n",
       "      <td>NaN</td>\n",
       "      <td>Twitter for iPhone</td>\n",
       "      <td>http://twitter.com/#!/download/iphone</td>\n",
       "      <td>Javier Belmonte</td>\n",
       "      <td>vichango</td>\n",
       "      <td>167</td>\n",
       "      <td>277.0</td>\n",
       "      <td>2885.0</td>\n",
       "      <td>Geneva, Switzerland</td>\n",
       "      <td>[fb]</td>\n",
       "    </tr>\n",
       "    <tr>\n",
       "      <th>10</th>\n",
       "      <td>9521789689</td>\n",
       "      <td>9.96202e+06</td>\n",
       "      <td>2010-02-23 11:28:27</td>\n",
       "      <td>Limitas of public transportation! No taxi, rai...</td>\n",
       "      <td>6.33641</td>\n",
       "      <td>46.4631</td>\n",
       "      <td>NaN</td>\n",
       "      <td>NaN</td>\n",
       "      <td>550</td>\n",
       "      <td>NaN</td>\n",
       "      <td>...</td>\n",
       "      <td>NaN</td>\n",
       "      <td>Gowalla</td>\n",
       "      <td>http://gowalla.com/</td>\n",
       "      <td>Thomas Winter</td>\n",
       "      <td>thwinter</td>\n",
       "      <td>1070</td>\n",
       "      <td>1359.0</td>\n",
       "      <td>3349.0</td>\n",
       "      <td>Hettlingen CH / SanJose Ca</td>\n",
       "      <td>[yam]</td>\n",
       "    </tr>\n",
       "  </tbody>\n",
       "</table>\n",
       "<p>2 rows × 21 columns</p>\n",
       "</div>"
      ],
      "text/plain": [
       "            id       userId            createdAt  \\\n",
       "8   9519737890  1.46579e+07  2010-02-23 09:59:41   \n",
       "10  9521789689  9.96202e+06  2010-02-23 11:28:27   \n",
       "\n",
       "                                                 text  longitude latitude  \\\n",
       "8   Magic spells run off after midnight, I guess s...    6.13870   46.175   \n",
       "10  Limitas of public transportation! No taxi, rai...    6.33641  46.4631   \n",
       "\n",
       "   placeId  inReplyTo source truncated   ...   placeLongitude  \\\n",
       "8      NaN        NaN      1       NaN   ...              NaN   \n",
       "10     NaN        NaN    550       NaN   ...              NaN   \n",
       "\n",
       "            sourceName                              sourceUrl  \\\n",
       "8   Twitter for iPhone  http://twitter.com/#!/download/iphone   \n",
       "10             Gowalla                    http://gowalla.com/   \n",
       "\n",
       "           userName screenName followersCount friendsCount  statusesCount  \\\n",
       "8   Javier Belmonte   vichango            167        277.0         2885.0   \n",
       "10    Thomas Winter   thwinter           1070       1359.0         3349.0   \n",
       "\n",
       "                  userLocation hashtag  \n",
       "8          Geneva, Switzerland    [fb]  \n",
       "10  Hettlingen CH / SanJose Ca   [yam]  \n",
       "\n",
       "[2 rows x 21 columns]"
      ]
     },
     "execution_count": 8,
     "metadata": {},
     "output_type": "execute_result"
    }
   ],
   "source": [
    "twh.head(2)"
   ]
  },
  {
   "cell_type": "markdown",
   "metadata": {},
   "source": [
    "## Cleaning data and making date index"
   ]
  },
  {
   "cell_type": "code",
   "execution_count": 9,
   "metadata": {
    "collapsed": false
   },
   "outputs": [
    {
     "name": "stdout",
     "output_type": "stream",
     "text": [
      "The data have been reduced from 3875280 tweets to 3875280 tweets.\n"
     ]
    }
   ],
   "source": [
    "tw1 = twh.dropna(axis=0, how='any', subset=['text', 'createdAt'])\n",
    "print('The data have been reduced from {} tweets to {} tweets.'.format(len(twh), len(tw1)))"
   ]
  },
  {
   "cell_type": "code",
   "execution_count": 10,
   "metadata": {
    "collapsed": false
   },
   "outputs": [
    {
     "name": "stdout",
     "output_type": "stream",
     "text": [
      "10:05:50 Removing bad dates...\n",
      "10:05:53 Finished.\n"
     ]
    }
   ],
   "source": [
    "pr('Removing bad dates...')\n",
    "twhCleanDate = tw1[tw1['createdAt'].str.len() == 19]\n",
    "pr('Finished.')"
   ]
  },
  {
   "cell_type": "code",
   "execution_count": 11,
   "metadata": {
    "collapsed": false
   },
   "outputs": [
    {
     "name": "stdout",
     "output_type": "stream",
     "text": [
      "10:05:53 Starting to examine dates...\n",
      "10:05:55 There are 0 dates that cannot be transformed.\n"
     ]
    }
   ],
   "source": [
    "pr('Starting to examine dates...')\n",
    "import warnings\n",
    "warnings.filterwarnings('ignore')\n",
    "datetime_serie = twhCleanDate['createdAt'].convert_objects(convert_dates='coerce')\n",
    "dateNotConvertible = datetime_serie[pd.isnull(datetime_serie)]\n",
    "warnings.filterwarnings('default')\n",
    "pr('There are {} dates that cannot be transformed.'.format(len(dateNotConvertible)))"
   ]
  },
  {
   "cell_type": "code",
   "execution_count": 12,
   "metadata": {
    "collapsed": false,
    "scrolled": false
   },
   "outputs": [
    {
     "name": "stdout",
     "output_type": "stream",
     "text": [
      "10:05:55 Starting copy...\n",
      "10:05:56 Converting to datetime...\n",
      "10:05:59 Setting up new indices...\n",
      "10:05:59 Deleting old \"createdAt\" column...\n",
      "10:05:59 Done!\n"
     ]
    },
    {
     "data": {
      "text/html": [
       "<div>\n",
       "<table border=\"1\" class=\"dataframe\">\n",
       "  <thead>\n",
       "    <tr style=\"text-align: right;\">\n",
       "      <th></th>\n",
       "      <th>id</th>\n",
       "      <th>userId</th>\n",
       "      <th>text</th>\n",
       "      <th>longitude</th>\n",
       "      <th>latitude</th>\n",
       "      <th>placeId</th>\n",
       "      <th>inReplyTo</th>\n",
       "      <th>source</th>\n",
       "      <th>truncated</th>\n",
       "      <th>placeLatitude</th>\n",
       "      <th>placeLongitude</th>\n",
       "      <th>sourceName</th>\n",
       "      <th>sourceUrl</th>\n",
       "      <th>userName</th>\n",
       "      <th>screenName</th>\n",
       "      <th>followersCount</th>\n",
       "      <th>friendsCount</th>\n",
       "      <th>statusesCount</th>\n",
       "      <th>userLocation</th>\n",
       "      <th>hashtag</th>\n",
       "    </tr>\n",
       "    <tr>\n",
       "      <th>createdAt</th>\n",
       "      <th></th>\n",
       "      <th></th>\n",
       "      <th></th>\n",
       "      <th></th>\n",
       "      <th></th>\n",
       "      <th></th>\n",
       "      <th></th>\n",
       "      <th></th>\n",
       "      <th></th>\n",
       "      <th></th>\n",
       "      <th></th>\n",
       "      <th></th>\n",
       "      <th></th>\n",
       "      <th></th>\n",
       "      <th></th>\n",
       "      <th></th>\n",
       "      <th></th>\n",
       "      <th></th>\n",
       "      <th></th>\n",
       "      <th></th>\n",
       "    </tr>\n",
       "  </thead>\n",
       "  <tbody>\n",
       "    <tr>\n",
       "      <th>2010-02-23 09:59:41</th>\n",
       "      <td>9519737890</td>\n",
       "      <td>1.46579e+07</td>\n",
       "      <td>Magic spells run off after midnight, I guess s...</td>\n",
       "      <td>6.13870</td>\n",
       "      <td>46.175</td>\n",
       "      <td>NaN</td>\n",
       "      <td>NaN</td>\n",
       "      <td>1</td>\n",
       "      <td>NaN</td>\n",
       "      <td>NaN</td>\n",
       "      <td>NaN</td>\n",
       "      <td>Twitter for iPhone</td>\n",
       "      <td>http://twitter.com/#!/download/iphone</td>\n",
       "      <td>Javier Belmonte</td>\n",
       "      <td>vichango</td>\n",
       "      <td>167</td>\n",
       "      <td>277.0</td>\n",
       "      <td>2885.0</td>\n",
       "      <td>Geneva, Switzerland</td>\n",
       "      <td>[fb]</td>\n",
       "    </tr>\n",
       "    <tr>\n",
       "      <th>2010-02-23 11:28:27</th>\n",
       "      <td>9521789689</td>\n",
       "      <td>9.96202e+06</td>\n",
       "      <td>Limitas of public transportation! No taxi, rai...</td>\n",
       "      <td>6.33641</td>\n",
       "      <td>46.4631</td>\n",
       "      <td>NaN</td>\n",
       "      <td>NaN</td>\n",
       "      <td>550</td>\n",
       "      <td>NaN</td>\n",
       "      <td>NaN</td>\n",
       "      <td>NaN</td>\n",
       "      <td>Gowalla</td>\n",
       "      <td>http://gowalla.com/</td>\n",
       "      <td>Thomas Winter</td>\n",
       "      <td>thwinter</td>\n",
       "      <td>1070</td>\n",
       "      <td>1359.0</td>\n",
       "      <td>3349.0</td>\n",
       "      <td>Hettlingen CH / SanJose Ca</td>\n",
       "      <td>[yam]</td>\n",
       "    </tr>\n",
       "  </tbody>\n",
       "</table>\n",
       "</div>"
      ],
      "text/plain": [
       "                             id       userId  \\\n",
       "createdAt                                      \n",
       "2010-02-23 09:59:41  9519737890  1.46579e+07   \n",
       "2010-02-23 11:28:27  9521789689  9.96202e+06   \n",
       "\n",
       "                                                                  text  \\\n",
       "createdAt                                                                \n",
       "2010-02-23 09:59:41  Magic spells run off after midnight, I guess s...   \n",
       "2010-02-23 11:28:27  Limitas of public transportation! No taxi, rai...   \n",
       "\n",
       "                     longitude latitude placeId  inReplyTo source truncated  \\\n",
       "createdAt                                                                     \n",
       "2010-02-23 09:59:41    6.13870   46.175     NaN        NaN      1       NaN   \n",
       "2010-02-23 11:28:27    6.33641  46.4631     NaN        NaN    550       NaN   \n",
       "\n",
       "                    placeLatitude placeLongitude          sourceName  \\\n",
       "createdAt                                                              \n",
       "2010-02-23 09:59:41           NaN            NaN  Twitter for iPhone   \n",
       "2010-02-23 11:28:27           NaN            NaN             Gowalla   \n",
       "\n",
       "                                                 sourceUrl         userName  \\\n",
       "createdAt                                                                     \n",
       "2010-02-23 09:59:41  http://twitter.com/#!/download/iphone  Javier Belmonte   \n",
       "2010-02-23 11:28:27                    http://gowalla.com/    Thomas Winter   \n",
       "\n",
       "                    screenName followersCount  friendsCount  statusesCount  \\\n",
       "createdAt                                                                    \n",
       "2010-02-23 09:59:41   vichango            167         277.0         2885.0   \n",
       "2010-02-23 11:28:27   thwinter           1070        1359.0         3349.0   \n",
       "\n",
       "                                   userLocation hashtag  \n",
       "createdAt                                                \n",
       "2010-02-23 09:59:41         Geneva, Switzerland    [fb]  \n",
       "2010-02-23 11:28:27  Hettlingen CH / SanJose Ca   [yam]  "
      ]
     },
     "execution_count": 12,
     "metadata": {},
     "output_type": "execute_result"
    }
   ],
   "source": [
    "pr('Starting copy...') # (to avoid transformation problems)\n",
    "tw5 = twhCleanDate.copy()\n",
    "pr('Converting to datetime...')\n",
    "tw5['createdAt'] = pd.to_datetime(twhCleanDate['createdAt'])\n",
    "pr('Setting up new indices...')\n",
    "tw5.index = tw5['createdAt']\n",
    "pr('Deleting old \"createdAt\" column...')\n",
    "del tw5['createdAt']\n",
    "pr('Done!')\n",
    "tw5.head(2)"
   ]
  },
  {
   "cell_type": "code",
   "execution_count": 13,
   "metadata": {
    "collapsed": false
   },
   "outputs": [
    {
     "data": {
      "text/plain": [
       "createdAt\n",
       "2010-02-23 09:59:41               [fb]\n",
       "2010-02-23 11:28:27              [yam]\n",
       "2010-02-23 17:47:11          [24, vfb]\n",
       "2010-02-23 18:19:03    [iphoneography]\n",
       "2010-02-23 18:31:46     [partnermonth]\n",
       "2010-02-24 06:09:23      [insider, fb]\n",
       "Name: hashtag, dtype: object"
      ]
     },
     "execution_count": 13,
     "metadata": {},
     "output_type": "execute_result"
    }
   ],
   "source": [
    "tw5['hashtag'][:6]"
   ]
  },
  {
   "cell_type": "markdown",
   "metadata": {},
   "source": [
    "## Let's put one hashtag per row"
   ]
  },
  {
   "cell_type": "markdown",
   "metadata": {
    "collapsed": false
   },
   "source": [
    "We will make a dataframe with one row = one hashtag. This will be done by going through the dataframe, and making in parallel a list of rows (with 1 hashtag per row) that needs to be added to the old dataframe."
   ]
  },
  {
   "cell_type": "code",
   "execution_count": 14,
   "metadata": {
    "collapsed": false
   },
   "outputs": [],
   "source": [
    "addedHashtagsRowsList = []\n",
    "def multiplyHashtagRows(row, columns):\n",
    "    '''\n",
    "    Examine each row. If there are multiple hashtags, it will return the first one.\n",
    "    (so the first one will replace the list of hashtags in the df). Then for all the next ones,\n",
    "    it will make a copy of the row in the addedHashtagsRowsList, (in a dictionary format).\n",
    "    So this dictionary can in the end be transformed in a DF and added to the original DF.\n",
    "    (The speed is increased a lot by doing it this way!)\n",
    "    '''\n",
    "    htList = row.hashtag\n",
    "    if len(htList) > 1:\n",
    "        ## Making the dictionary\n",
    "        addedHashtag = {}\n",
    "        addedHashtag['createdAt'] = row.name #the df index\n",
    "        for col in columns:\n",
    "            addedHashtag[col] = row[col]\n",
    "        ## Copying the dict for each hashtag\n",
    "        i = 1\n",
    "        while i < len(htList) :\n",
    "            deepCopy = copy.deepcopy(addedHashtag)\n",
    "            deepCopy['hashtag'] = htList[i]\n",
    "            addedHashtagsRowsList.append(deepCopy)\n",
    "            i+=1\n",
    "    return htList[0] # return the first hashtag"
   ]
  },
  {
   "cell_type": "code",
   "execution_count": 15,
   "metadata": {
    "collapsed": false
   },
   "outputs": [
    {
     "name": "stdout",
     "output_type": "stream",
     "text": [
      "10:06:00 Multiplying the hashtag rows... (around 10 min)\n",
      "10:15:02 Finished! 3350600 rows will be added to the dataframe!\n"
     ]
    }
   ],
   "source": [
    "addedHashtagsRowsList = []\n",
    "tw5_1 = tw5.copy()\n",
    "pr('Multiplying the hashtag rows... (around 10 min)')\n",
    "tw5_1['hashtag'] = tw5.apply(multiplyHashtagRows, args=[tw5.columns,], axis=1)\n",
    "pr('Finished! {} rows will be added to the dataframe!'.format(len(addedHashtagsRowsList)))"
   ]
  },
  {
   "cell_type": "code",
   "execution_count": 16,
   "metadata": {
    "collapsed": false
   },
   "outputs": [
    {
     "name": "stdout",
     "output_type": "stream",
     "text": [
      "10:15:02 Starting to make the new dataframe with additionnal rows..\n",
      "10:15:16 Starting to append the two df... Old df size = 3875280\n",
      "10:15:21 Done! New df size = 7225880\n"
     ]
    }
   ],
   "source": [
    "pr('Starting to make the new dataframe with additionnal rows..')\n",
    "addedHashtagsDf = pd.DataFrame(addedHashtagsRowsList)\n",
    "addedHashtagsDf.set_index(['createdAt'], inplace=True)\n",
    "pr('Starting to append the two df... Old df size = {}'.format(len(tw5_1)))\n",
    "tw6 = tw5_1.append(addedHashtagsDf)\n",
    "pr('Done! New df size = {}'.format(len(tw6)))"
   ]
  },
  {
   "cell_type": "code",
   "execution_count": 17,
   "metadata": {
    "collapsed": false
   },
   "outputs": [
    {
     "name": "stdout",
     "output_type": "stream",
     "text": [
      "Example hahshtag:\n"
     ]
    },
    {
     "data": {
      "text/html": [
       "<div>\n",
       "<table border=\"1\" class=\"dataframe\">\n",
       "  <thead>\n",
       "    <tr style=\"text-align: right;\">\n",
       "      <th></th>\n",
       "      <th>followersCount</th>\n",
       "      <th>friendsCount</th>\n",
       "      <th>hashtag</th>\n",
       "      <th>id</th>\n",
       "      <th>inReplyTo</th>\n",
       "      <th>latitude</th>\n",
       "      <th>longitude</th>\n",
       "      <th>placeId</th>\n",
       "      <th>placeLatitude</th>\n",
       "      <th>placeLongitude</th>\n",
       "      <th>screenName</th>\n",
       "      <th>source</th>\n",
       "      <th>sourceName</th>\n",
       "      <th>sourceUrl</th>\n",
       "      <th>statusesCount</th>\n",
       "      <th>text</th>\n",
       "      <th>truncated</th>\n",
       "      <th>userId</th>\n",
       "      <th>userLocation</th>\n",
       "      <th>userName</th>\n",
       "    </tr>\n",
       "    <tr>\n",
       "      <th>createdAt</th>\n",
       "      <th></th>\n",
       "      <th></th>\n",
       "      <th></th>\n",
       "      <th></th>\n",
       "      <th></th>\n",
       "      <th></th>\n",
       "      <th></th>\n",
       "      <th></th>\n",
       "      <th></th>\n",
       "      <th></th>\n",
       "      <th></th>\n",
       "      <th></th>\n",
       "      <th></th>\n",
       "      <th></th>\n",
       "      <th></th>\n",
       "      <th></th>\n",
       "      <th></th>\n",
       "      <th></th>\n",
       "      <th></th>\n",
       "      <th></th>\n",
       "    </tr>\n",
       "  </thead>\n",
       "  <tbody>\n",
       "    <tr>\n",
       "      <th>2011-07-24 16:03:13</th>\n",
       "      <td>1121</td>\n",
       "      <td>763.0</td>\n",
       "      <td>vfb</td>\n",
       "      <td>95162125584039936</td>\n",
       "      <td>9.501397e+16</td>\n",
       "      <td>NaN</td>\n",
       "      <td>NaN</td>\n",
       "      <td>e401fb8eb4e7595a</td>\n",
       "      <td>47.5356</td>\n",
       "      <td>9.14004</td>\n",
       "      <td>eLd0raDo</td>\n",
       "      <td>14</td>\n",
       "      <td>Tweetbot for iOS</td>\n",
       "      <td>http://tapbots.com/tweetbot</td>\n",
       "      <td>6735.0</td>\n",
       "      <td>@mikstweed Wie lange ist es her, dass der #vfb...</td>\n",
       "      <td>NaN</td>\n",
       "      <td>921241</td>\n",
       "      <td>Kreuzlingen, TG, Switzerland</td>\n",
       "      <td>Markus Tressl</td>\n",
       "    </tr>\n",
       "    <tr>\n",
       "      <th>2012-07-29 16:15:54</th>\n",
       "      <td>1008</td>\n",
       "      <td>767.0</td>\n",
       "      <td>vfb</td>\n",
       "      <td>229611214802669570</td>\n",
       "      <td>NaN</td>\n",
       "      <td>47.6683</td>\n",
       "      <td>9.48077</td>\n",
       "      <td>7e00050f2f9230bc</td>\n",
       "      <td>47.6684</td>\n",
       "      <td>9.47092</td>\n",
       "      <td>jens_nagler</td>\n",
       "      <td>1</td>\n",
       "      <td>Twitter for iPhone</td>\n",
       "      <td>http://twitter.com/#!/download/iphone</td>\n",
       "      <td>1697.0</td>\n",
       "      <td>Man sollte ja nicht zu viel reininterpretieren...</td>\n",
       "      <td>NaN</td>\n",
       "      <td>5.71385e+07</td>\n",
       "      <td>Esslingen</td>\n",
       "      <td>Jens Nagler</td>\n",
       "    </tr>\n",
       "    <tr>\n",
       "      <th>2012-07-29 16:21:45</th>\n",
       "      <td>1008</td>\n",
       "      <td>767.0</td>\n",
       "      <td>vfb</td>\n",
       "      <td>229612686525231104</td>\n",
       "      <td>2.296124e+17</td>\n",
       "      <td>47.6682</td>\n",
       "      <td>9.48068</td>\n",
       "      <td>7e00050f2f9230bc</td>\n",
       "      <td>47.6684</td>\n",
       "      <td>9.47092</td>\n",
       "      <td>jens_nagler</td>\n",
       "      <td>1</td>\n",
       "      <td>Twitter for iPhone</td>\n",
       "      <td>http://twitter.com/#!/download/iphone</td>\n",
       "      <td>1697.0</td>\n",
       "      <td>@LLcurly Das Besondere daran ist, dass nur zwe...</td>\n",
       "      <td>NaN</td>\n",
       "      <td>5.71385e+07</td>\n",
       "      <td>Esslingen</td>\n",
       "      <td>Jens Nagler</td>\n",
       "    </tr>\n",
       "  </tbody>\n",
       "</table>\n",
       "</div>"
      ],
      "text/plain": [
       "                    followersCount  friendsCount hashtag                  id  \\\n",
       "createdAt                                                                      \n",
       "2011-07-24 16:03:13           1121         763.0     vfb   95162125584039936   \n",
       "2012-07-29 16:15:54           1008         767.0     vfb  229611214802669570   \n",
       "2012-07-29 16:21:45           1008         767.0     vfb  229612686525231104   \n",
       "\n",
       "                        inReplyTo latitude  longitude           placeId  \\\n",
       "createdAt                                                                 \n",
       "2011-07-24 16:03:13  9.501397e+16      NaN        NaN  e401fb8eb4e7595a   \n",
       "2012-07-29 16:15:54           NaN  47.6683    9.48077  7e00050f2f9230bc   \n",
       "2012-07-29 16:21:45  2.296124e+17  47.6682    9.48068  7e00050f2f9230bc   \n",
       "\n",
       "                    placeLatitude placeLongitude   screenName source  \\\n",
       "createdAt                                                              \n",
       "2011-07-24 16:03:13       47.5356        9.14004     eLd0raDo     14   \n",
       "2012-07-29 16:15:54       47.6684        9.47092  jens_nagler      1   \n",
       "2012-07-29 16:21:45       47.6684        9.47092  jens_nagler      1   \n",
       "\n",
       "                             sourceName  \\\n",
       "createdAt                                 \n",
       "2011-07-24 16:03:13    Tweetbot for iOS   \n",
       "2012-07-29 16:15:54  Twitter for iPhone   \n",
       "2012-07-29 16:21:45  Twitter for iPhone   \n",
       "\n",
       "                                                 sourceUrl  statusesCount  \\\n",
       "createdAt                                                                   \n",
       "2011-07-24 16:03:13            http://tapbots.com/tweetbot         6735.0   \n",
       "2012-07-29 16:15:54  http://twitter.com/#!/download/iphone         1697.0   \n",
       "2012-07-29 16:21:45  http://twitter.com/#!/download/iphone         1697.0   \n",
       "\n",
       "                                                                  text  \\\n",
       "createdAt                                                                \n",
       "2011-07-24 16:03:13  @mikstweed Wie lange ist es her, dass der #vfb...   \n",
       "2012-07-29 16:15:54  Man sollte ja nicht zu viel reininterpretieren...   \n",
       "2012-07-29 16:21:45  @LLcurly Das Besondere daran ist, dass nur zwe...   \n",
       "\n",
       "                    truncated       userId                  userLocation  \\\n",
       "createdAt                                                                  \n",
       "2011-07-24 16:03:13       NaN       921241  Kreuzlingen, TG, Switzerland   \n",
       "2012-07-29 16:15:54       NaN  5.71385e+07                     Esslingen   \n",
       "2012-07-29 16:21:45       NaN  5.71385e+07                     Esslingen   \n",
       "\n",
       "                          userName  \n",
       "createdAt                           \n",
       "2011-07-24 16:03:13  Markus Tressl  \n",
       "2012-07-29 16:15:54    Jens Nagler  \n",
       "2012-07-29 16:21:45    Jens Nagler  "
      ]
     },
     "execution_count": 17,
     "metadata": {},
     "output_type": "execute_result"
    }
   ],
   "source": [
    "print('Example hahshtag:')\n",
    "tw6[tw6['hashtag'] == addedHashtagsRowsList[0]['hashtag']].head(3)"
   ]
  },
  {
   "cell_type": "code",
   "execution_count": 18,
   "metadata": {
    "collapsed": false
   },
   "outputs": [
    {
     "data": {
      "text/plain": [
       "createdAt\n",
       "2010-02-23 09:59:41               fb\n",
       "2010-02-23 11:28:27              yam\n",
       "2010-02-23 17:47:11               24\n",
       "2010-02-23 18:19:03    iphoneography\n",
       "2010-02-23 18:31:46     partnermonth\n",
       "Name: hashtag, dtype: object"
      ]
     },
     "execution_count": 18,
     "metadata": {},
     "output_type": "execute_result"
    }
   ],
   "source": [
    "tw6.hashtag.head()"
   ]
  },
  {
   "cell_type": "markdown",
   "metadata": {},
   "source": [
    "## Grouping per hashtags per day"
   ]
  },
  {
   "cell_type": "code",
   "execution_count": 19,
   "metadata": {
    "collapsed": false
   },
   "outputs": [],
   "source": [
    "tw6.dropna(subset=['longitude'], inplace=True)\n",
    "tw6.dropna(subset=['latitude'], inplace=True)"
   ]
  },
  {
   "cell_type": "code",
   "execution_count": 20,
   "metadata": {
    "collapsed": false
   },
   "outputs": [],
   "source": [
    "tw6.latitude = tw6.latitude.apply(float)\n",
    "tw6.longitude = tw6.longitude.apply(float)"
   ]
  },
  {
   "cell_type": "code",
   "execution_count": 21,
   "metadata": {
    "collapsed": true
   },
   "outputs": [],
   "source": [
    "delimiter = '_$$$_'\n",
    "str_join = lambda x: delimiter.join(x)"
   ]
  },
  {
   "cell_type": "markdown",
   "metadata": {},
   "source": [
    "Function that applies to a dataframe will group each row by day and aggregate all its content:"
   ]
  },
  {
   "cell_type": "code",
   "execution_count": 22,
   "metadata": {
    "collapsed": false
   },
   "outputs": [],
   "source": [
    "def aggDate(df):\n",
    "    temp = df.groupby(df.index.map(lambda x: x.date))\n",
    "    groupedDf = temp.agg({  'text' : str_join,\n",
    "                            'longitude' : np.median,\n",
    "                            'latitude' : np.median,\n",
    "                            'hashtag' : lambda x: x.iloc[0], ## the first occurence\n",
    "                            'numberOfTweets' : 'count',\n",
    "                            'userId' : pd.Series.nunique})\n",
    "    return groupedDf"
   ]
  },
  {
   "cell_type": "code",
   "execution_count": 23,
   "metadata": {
    "collapsed": false
   },
   "outputs": [
    {
     "name": "stdout",
     "output_type": "stream",
     "text": [
      "10:15:37 Making column number of tweets\n",
      "10:15:37 Starting group by hastag...\n",
      "10:15:37 Starting to put hashtag in dictionary... (around 50 min)\n",
      "10:20:36 10%\n",
      "10:25:15 20%\n",
      "10:29:44 30%\n",
      "10:34:19 40%\n",
      "10:38:49 50%\n",
      "10:43:21 60%\n",
      "10:47:50 70%\n",
      "10:52:26 80%\n",
      "10:56:56 90%\n",
      "11:01:23 100%\n",
      "11:01:23 Finished operations! Dictionary with 607601 different hashtags.\n"
     ]
    }
   ],
   "source": [
    "pr('Starting to compute {} dict items to detect event. (4 min)'.format(len(dictionary)))\n",
    "nbOfEventDetected = 0\n",
    "count = 0\n",
    "printingValue = int(len(dictionary) / 10)\n",
    "for [h,df] in dictionary.items():\n",
    "    count += 1\n",
    "    if count % printingValue == 0:\n",
    "        pr(\"{:.0f}%\".format(count/len(dictionary)*100))\n",
    "    df['event'] = False\n",
    "    if len(df) > MIN_NB_DAYS_WITH_HASHTAGS:\n",
    "        if df['numberOfTweets'].sum() > MIN_TOT_NB_TWEETS:\n",
    "            if df['userId'][0] > 1:\n",
    "                threshold = df['numberOfTweets'].mean() + THRESHOLD_ANOMALY_FACTOR * df['numberOfTweets'].std()\n",
    "                df['event'] = df.numberOfTweets.apply(lambda x: x > threshold and x > MIN_NB_TWEETS_DURING_EVENT)\n",
    "            \n",
    "            ## Remove recurrent events:\n",
    "            detectedEventDf = df[df['event']]\n",
    "            if len(detectedEventDf) > 2 and isSpecificEventListIllegal(detectedEventDf.index):\n",
    "                df['event'] = False\n",
    "            nbOfEventDetected += len(df[df['event']])\n",
    "pr('Finished! Number of events detected = {}'.format(nbOfEventDetected))"
   ]
  },
  {
   "cell_type": "code",
   "execution_count": 24,
   "metadata": {
    "collapsed": false
   },
   "outputs": [
    {
     "name": "stdout",
     "output_type": "stream",
     "text": [
      "Dictionary with hashtags dataframes:\n"
     ]
    },
    {
     "data": {
      "text/html": [
       "<div>\n",
       "<table border=\"1\" class=\"dataframe\">\n",
       "  <thead>\n",
       "    <tr style=\"text-align: right;\">\n",
       "      <th></th>\n",
       "      <th>text</th>\n",
       "      <th>latitude</th>\n",
       "      <th>hashtag</th>\n",
       "      <th>longitude</th>\n",
       "      <th>numberOfTweets</th>\n",
       "    </tr>\n",
       "  </thead>\n",
       "  <tbody>\n",
       "    <tr>\n",
       "      <th>2014-03-12</th>\n",
       "      <td>Para la gente de #Trenton, NJ -: #Adidas #Sorp...</td>\n",
       "      <td>47.1379</td>\n",
       "      <td>sorprendente</td>\n",
       "      <td>9.52186</td>\n",
       "      <td>1</td>\n",
       "    </tr>\n",
       "    <tr>\n",
       "      <th>2014-04-07</th>\n",
       "      <td>Vamos #Celebrar Adidas #Achievement #Pendiente...</td>\n",
       "      <td>46.2058</td>\n",
       "      <td>sorprendente</td>\n",
       "      <td>6.14188</td>\n",
       "      <td>1</td>\n",
       "    </tr>\n",
       "    <tr>\n",
       "      <th>2014-04-11</th>\n",
       "      <td>Per le persone da #PapuaNewGuinea: #Adidas #Ta...</td>\n",
       "      <td>47.3843</td>\n",
       "      <td>sorprendente</td>\n",
       "      <td>8.52959</td>\n",
       "      <td>1</td>\n",
       "    </tr>\n",
       "  </tbody>\n",
       "</table>\n",
       "</div>"
      ],
      "text/plain": [
       "                                                         text  latitude  \\\n",
       "2014-03-12  Para la gente de #Trenton, NJ -: #Adidas #Sorp...   47.1379   \n",
       "2014-04-07  Vamos #Celebrar Adidas #Achievement #Pendiente...   46.2058   \n",
       "2014-04-11  Per le persone da #PapuaNewGuinea: #Adidas #Ta...   47.3843   \n",
       "\n",
       "                 hashtag  longitude  numberOfTweets  \n",
       "2014-03-12  sorprendente    9.52186               1  \n",
       "2014-04-07  sorprendente    6.14188               1  \n",
       "2014-04-11  sorprendente    8.52959               1  "
      ]
     },
     "execution_count": 24,
     "metadata": {},
     "output_type": "execute_result"
    }
   ],
   "source": [
    "# aggDate(gp.get_group('twibisg')).head(3)\n",
    "# dictionary['twibisg'].head(3)\n",
    "print('Dictionary with hashtags dataframes:')\n",
    "dictionary[list(dictionary.keys())[5]].head(4)"
   ]
  },
  {
   "cell_type": "markdown",
   "metadata": {},
   "source": [
    "## Event detection (with elimination of recurrent events)"
   ]
  },
  {
   "cell_type": "markdown",
   "metadata": {},
   "source": [
    "Parameters that define events:"
   ]
  },
  {
   "cell_type": "code",
   "execution_count": 25,
   "metadata": {
    "collapsed": false
   },
   "outputs": [],
   "source": [
    "## Parameters of an event:\n",
    "MIN_TOT_NB_TWEETS = 20 ## The hashtag must have happened at least this number of times to be considered.\n",
    "MIN_NB_DAYS_WITH_HASHTAGS = 3 ## The hashtags must appear at least this number of different days to be considered.\n",
    "MIN_NB_TWEETS_DURING_EVENT = 7 ## To be considered an event, the hashtag must happen at least this nb of times during the day.\n",
    "THRESHOLD_ANOMALY_FACTOR = 2.5 ## The occurence of a hashtag during a single day must be above the mean by this FACTOR\n",
    "                             ## multiplied by the std to be considered as an anomaly.\n",
    "MAX_DURATION_OF_EVENT = timedelta(days=30) ## The maximum number of days we consider an event can happen\n",
    "MIN_DURATION_BEFORE_NEW_EVENT = timedelta(days=304) ## (= 10 months) The min time that should pass before an event can happen\n",
    "                                                    ## again and still be considered as event (ie. Christmas is an event\n",
    "                                                    ## each year)"
   ]
  },
  {
   "cell_type": "markdown",
   "metadata": {},
   "source": [
    "Helper functions to detect recurrent events that should be removed:"
   ]
  },
  {
   "cell_type": "code",
   "execution_count": 26,
   "metadata": {
    "collapsed": true
   },
   "outputs": [],
   "source": [
    "def isSpecificEventListIllegal(detectedEventDateList):\n",
    "    '''\n",
    "    Return true if the list of dates contain illegal tupples of events, so if the event is recurrent\n",
    "    which would mean it is not a real event.\n",
    "    '''\n",
    "    def datesAreIllegal(date1, date2, date3):\n",
    "        '''\n",
    "        Return true if the 3 dates are not to be considered as regular events.\n",
    "        '''\n",
    "        ## Return if the difference is too small to be considered as 2 different events\n",
    "        def diffIsSmall(timeDiff):  \n",
    "            return timeDiff < MAX_DURATION_OF_EVENT\n",
    "\n",
    "        ## Return true if the difference is not big enough to be an annual event.\n",
    "        def isDiffSuspect(timeDiff):\n",
    "            return timeDiff < MIN_DURATION_BEFORE_NEW_EVENT   \n",
    "\n",
    "        diff1 = abs(date1 - date2)\n",
    "        diff2 = abs(date2 - date3)\n",
    "        diff3 = abs(date3 - date1)\n",
    "\n",
    "        ## The difference is too small, it must be the same event\n",
    "        if diffIsSmall(diff1) or diffIsSmall(diff2) or diffIsSmall(diff3):\n",
    "            return False\n",
    "\n",
    "        ## If there are at least 2 out of 3 suspect difference, then the dates are illegal\n",
    "        if isDiffSuspect(diff1):\n",
    "            return isDiffSuspect(diff2) or isDiffSuspect(diff3)\n",
    "        else:\n",
    "            return isDiffSuspect(diff2) and isDiffSuspect(diff3)\n",
    "    \n",
    "    ## MAIN FUNCTION : ##\n",
    "    # Go through the list of events and try all \"triples\" to see if there is any illegal triples. This is a quickly done\n",
    "    # code to do that. Code complexity bellow is in O(k^3), with k being the size of the list. We will apply this function\n",
    "    # to n list so we will have an overall complexity in O(n*k^3). We can consider however that each list will\n",
    "    # be small so k can be considered as constant and therefore the overall complexity will be in O(n).\n",
    "    for i in range(len(detectedEventDateList) - 2):\n",
    "        for j in range(i, len(detectedEventDateList) - 1):\n",
    "            for k in range(j, len(detectedEventDateList)):\n",
    "                if datesAreIllegal(detectedEventDateList[i], detectedEventDateList[j], detectedEventDateList[k]):\n",
    "                    return True\n",
    "    return False"
   ]
  },
  {
   "cell_type": "markdown",
   "metadata": {},
   "source": [
    "Main method to detect event according to all our criterias."
   ]
  },
  {
   "cell_type": "code",
   "execution_count": 27,
   "metadata": {
    "collapsed": false,
    "scrolled": false
   },
   "outputs": [
    {
     "name": "stdout",
     "output_type": "stream",
     "text": [
      "11:01:24 Starting to compute 607601 dict items to detect event. (4 min)\n",
      "11:01:46 10%\n",
      "11:02:08 20%\n",
      "11:02:30 30%\n",
      "11:02:52 40%\n",
      "11:03:14 50%\n",
      "11:03:36 60%\n",
      "11:04:13 70%\n",
      "11:04:35 80%\n",
      "11:04:58 90%\n",
      "11:05:20 100%\n",
      "11:05:20 Finished! Number of events detected = 7028\n"
     ]
    }
   ],
   "source": [
    "pr('Starting to compute {} dict items to detect event. (4 min)'.format(len(dictionary)))\n",
    "nbOfEventDetected = 0\n",
    "count = 0\n",
    "printingValue = int(len(dictionary) / 10)\n",
    "for [h,df] in dictionary.items():\n",
    "    count += 1\n",
    "    if count % printingValue == 0:\n",
    "        pr(\"{:.0f}%\".format(count/len(dictionary)*100))\n",
    "    df['event'] = False\n",
    "    if len(df) > MIN_NB_DAYS_WITH_HASHTAGS:\n",
    "        if df['numberOfTweets'].sum() > MIN_TOT_NB_TWEETS:\n",
    "            threshold = df['numberOfTweets'].mean() + THRESHOLD_ANOMALY_FACTOR * df['numberOfTweets'].std()\n",
    "            df['event'] = df.numberOfTweets.apply(lambda x: x >= threshold and x >= MIN_NB_TWEETS_DURING_EVENT)\n",
    "            \n",
    "            ## Remove recurrent events:\n",
    "            detectedEventDf = df[df['event']]\n",
    "            if len(detectedEventDf) > 2 and isSpecificEventListIllegal(detectedEventDf.index):\n",
    "                df['event'] = False\n",
    "            nbOfEventDetected += len(df[df['event']])\n",
    "pr('Finished! Number of events detected = {}'.format(nbOfEventDetected))"
   ]
  },
  {
   "cell_type": "markdown",
   "metadata": {},
   "source": [
    "## Merging close events and grouping into single event dataframe"
   ]
  },
  {
   "cell_type": "markdown",
   "metadata": {},
   "source": [
    "Here, we have a function that is going to merge events that are considered as too \"close\" to each other to be considered individually."
   ]
  },
  {
   "cell_type": "code",
   "execution_count": 28,
   "metadata": {
    "collapsed": false
   },
   "outputs": [],
   "source": [
    "def mergeCloseEvents(rowsList):\n",
    "    '''\n",
    "    Take a list of dictionary, where each dictionary is a \"row\" of the event df, which contained detected events.\n",
    "    It will process the list to detect event that are close and merge them together.\n",
    "    Return : the processed list of event.\n",
    "    '''\n",
    "    \n",
    "    def areCloseEvents(event1, event2):\n",
    "        '''\n",
    "        Return true is 2 events dates are defined as \"close\"\n",
    "        '''\n",
    "        return abs(event1['date'] - event2['date']) < MAX_DURATION_OF_EVENT\n",
    "        \n",
    "    def mergeCloseEventsSublist(closeEventList):\n",
    "        '''\n",
    "        This will be applied to each close event sublist. It will merge all events into one unique event.\n",
    "        The event will consist of the total number of tweets, with the concatenation of the tweet texts and the mean\n",
    "        of longitude/latitude. A meanDate will be defined as a ponderated mean between all dates.\n",
    "        The final date will be the one that is in the closeEventList and is closest to this mean date.\n",
    "        We did this to keep the meaning of the date if it had some, and not have some meaningless \"mean-date\".\n",
    "        '''\n",
    "        latitude = 0\n",
    "        longitude = 0\n",
    "        numberOfTweets = 0\n",
    "        text = \"\"\n",
    "        originalDate = closeEventList[0]['date']\n",
    "        dateDiff = timedelta(days=0)\n",
    "        first = True        \n",
    "        for tweet in closeEventList:\n",
    "            longitude += tweet['longitude']\n",
    "            latitude += tweet['latitude'] \n",
    "            numberOfTweets += tweet['numberOfTweets']\n",
    "            if first:\n",
    "                text = tweet['text']\n",
    "                first = False\n",
    "            else:\n",
    "                text += delimiter + tweet['text']\n",
    "                dateDiff = dateDiff + (tweet['date'] - originalDate) * tweet['numberOfTweets']\n",
    "\n",
    "        ## It is multiplied by 2 then soustracted to round correctly to the nearest day\n",
    "        meanDate = originalDate + 2* dateDiff / numberOfTweets - dateDiff / numberOfTweets        \n",
    "        latitude = latitude / len(closeEventList)\n",
    "        longitude = longitude / len(closeEventList)\n",
    "        \n",
    "        ## We are going to detect the event the closest to the mean date\n",
    "        minSelectedDate = closeEventList[0]['date']\n",
    "        minDistance = abs(closeEventList[0]['date'] - meanDate)\n",
    "        for tweet in closeEventList:\n",
    "            if abs(tweet['date'] - meanDate) < minDistance:\n",
    "                minSelectedDate = tweet['date']    \n",
    "        \n",
    "        return {'date': minSelectedDate, 'hashtag': closeEventList[0]['hashtag'], 'text': text,\n",
    "                    'longitude': longitude, 'latitude':latitude, 'numberOfTweets': numberOfTweets, }\n",
    "    \n",
    "    ############ -----  MAIN METHOD  ----- ############\n",
    "    \n",
    "    ## If the list is big enough, go through the list and form an export list and merge elements that needs to.\n",
    "    if len(rowsList) < 2:\n",
    "        return rowsList\n",
    "    else:\n",
    "        firstLastPosOfItemsToMerge = []\n",
    "        sortedRowsList = sorted(rowsList, key=itemgetter('date')) \n",
    "        exportedEventList = []\n",
    "        ## This goes through the *sorted* list and add the pair of indices (first indice and last indice) where events \n",
    "        ## that should be merged appear.\n",
    "        lastEventWasClose = False\n",
    "        firstItem = -1\n",
    "        for i in range(0, len(sortedRowsList)-1):\n",
    "            if areCloseEvents(sortedRowsList[i], sortedRowsList[i+1]):\n",
    "                if not lastEventWasClose: # So it is the first pairs of the sublist of close events in the whole list\n",
    "                    firstItem = i\n",
    "                    lastEventWasClose = True\n",
    "            else:\n",
    "                if lastEventWasClose: # So the list has just ended.\n",
    "                    exportedEventList.append(mergeCloseEventsSublist(sortedRowsList[firstItem:i+1]))\n",
    "                    lastEventWasClose = False\n",
    "                else: # The element is by itself, let's append it\n",
    "                    exportedEventList.append(sortedRowsList[i])  \n",
    "        if lastEventWasClose: # If there were events to merge till the last elem of list\n",
    "            exportedEventList.append(mergeCloseEventsSublist(sortedRowsList[firstItem:len(sortedRowsList)]))\n",
    "        else:\n",
    "            exportedEventList.append(sortedRowsList[len(sortedRowsList)-1])\n",
    "    \n",
    "    return exportedEventList"
   ]
  },
  {
   "cell_type": "markdown",
   "metadata": {},
   "source": [
    "This function will be applied to each dataframe. If a row is detected as an event, it will be added to the locaRowsList which will be used to make a general dataframe of all the events."
   ]
  },
  {
   "cell_type": "code",
   "execution_count": 29,
   "metadata": {
    "collapsed": false
   },
   "outputs": [],
   "source": [
    "localRowsList = []\n",
    "def applyToMakeEventDf(row):\n",
    "    if row.event:\n",
    "        rowToAdd = {'date': row.name, 'hashtag': row.hashtag, 'text': row.text,\n",
    "                    'longitude': row.longitude, 'latitude':row.latitude, 'numberOfTweets': row.numberOfTweets, }\n",
    "        global localRowsList\n",
    "        localRowsList.append(rowToAdd)"
   ]
  },
  {
   "cell_type": "code",
   "execution_count": 30,
   "metadata": {
    "collapsed": false
   },
   "outputs": [
    {
     "name": "stdout",
     "output_type": "stream",
     "text": [
      "11:05:20 Starting to make event df with 607601 dataframes. (around 6 min)\n",
      "11:05:52 10%\n",
      "11:06:24 20%\n",
      "11:06:56 30%\n",
      "11:07:29 40%\n",
      "11:08:01 50%\n",
      "11:08:33 60%\n",
      "11:09:05 70%\n",
      "11:09:37 80%\n",
      "11:10:09 90%\n",
      "11:10:41 100%\n",
      "11:10:41 Making new dataframe.\n",
      "11:10:41 Finished! Dataframe with 5436 rows\n"
     ]
    }
   ],
   "source": [
    "eventRowsList = []\n",
    "localRowsList = []\n",
    "count = 0\n",
    "printingValue = int(len(dictionary) / 10)\n",
    "\n",
    "pr('Starting to make event df with {} dataframes. (around 6 min)'.format(len(dictionary)))\n",
    "for h, df in dictionary.items():\n",
    "    global localRowsList\n",
    "    localRowsList = []\n",
    "    count += 1\n",
    "    if count % printingValue == 0:\n",
    "        pr(\"{:.0f}%\".format(count/len(dictionary)*100))\n",
    "        \n",
    "    df.apply(applyToMakeEventDf, axis=1)\n",
    "    mergedList = mergeCloseEvents(localRowsList) # merging close events\n",
    "    eventRowsList += mergedList\n",
    "\n",
    "pr('Making new dataframe.')\n",
    "new_events = pd.DataFrame(eventRowsList)\n",
    "new_events.set_index(['date'], inplace=True)\n",
    "pr('Finished! Dataframe with {} rows'.format(len(new_events)))"
   ]
  },
  {
   "cell_type": "code",
   "execution_count": 41,
   "metadata": {
    "collapsed": false,
    "scrolled": true
   },
   "outputs": [
    {
     "name": "stdout",
     "output_type": "stream",
     "text": [
      "Events dataframe:\n"
     ]
    },
    {
     "data": {
      "text/html": [
       "<div>\n",
       "<table border=\"1\" class=\"dataframe\">\n",
       "  <thead>\n",
       "    <tr style=\"text-align: right;\">\n",
       "      <th></th>\n",
       "      <th>hashtag</th>\n",
       "      <th>latitude</th>\n",
       "      <th>longitude</th>\n",
       "      <th>numberOfTweets</th>\n",
       "      <th>text</th>\n",
       "    </tr>\n",
       "    <tr>\n",
       "      <th>date</th>\n",
       "      <th></th>\n",
       "      <th></th>\n",
       "      <th></th>\n",
       "      <th></th>\n",
       "      <th></th>\n",
       "    </tr>\n",
       "  </thead>\n",
       "  <tbody>\n",
       "    <tr>\n",
       "      <th>2015-10-26</th>\n",
       "      <td>cigars</td>\n",
       "      <td>47.36630</td>\n",
       "      <td>8.451350</td>\n",
       "      <td>10</td>\n",
       "      <td>#Swiss #HabanosDay 2015 #hostess #Cuban #cigar...</td>\n",
       "    </tr>\n",
       "    <tr>\n",
       "      <th>2012-09-30</th>\n",
       "      <td>atheism</td>\n",
       "      <td>46.46470</td>\n",
       "      <td>6.898390</td>\n",
       "      <td>8</td>\n",
       "      <td>I'm very happy to be a gentile, an infidel, an...</td>\n",
       "    </tr>\n",
       "    <tr>\n",
       "      <th>2014-03-09</th>\n",
       "      <td>carnival</td>\n",
       "      <td>46.37285</td>\n",
       "      <td>7.990435</td>\n",
       "      <td>8</td>\n",
       "      <td>#carnival #party (@ Ex Jolly Roger) http://t.c...</td>\n",
       "    </tr>\n",
       "    <tr>\n",
       "      <th>2015-03-03</th>\n",
       "      <td>instacars</td>\n",
       "      <td>46.23390</td>\n",
       "      <td>6.118480</td>\n",
       "      <td>14</td>\n",
       "      <td>#Opel #Karl #instacar #instacars #cars #cartas...</td>\n",
       "    </tr>\n",
       "    <tr>\n",
       "      <th>2011-05-27</th>\n",
       "      <td>velo</td>\n",
       "      <td>47.14380</td>\n",
       "      <td>8.896060</td>\n",
       "      <td>13</td>\n",
       "      <td>20 % progress …Pause! #Velo #Heimfahrt_$$$_25 ...</td>\n",
       "    </tr>\n",
       "    <tr>\n",
       "      <th>2016-06-14</th>\n",
       "      <td>αυτοκόλλητηετικέτα</td>\n",
       "      <td>47.56510</td>\n",
       "      <td>7.592140</td>\n",
       "      <td>23</td>\n",
       "      <td>#sticker  #oblakin  #nálepka  #αυτοκόλλητηετικ...</td>\n",
       "    </tr>\n",
       "    <tr>\n",
       "      <th>2015-08-05</th>\n",
       "      <td>08</td>\n",
       "      <td>46.57900</td>\n",
       "      <td>8.421210</td>\n",
       "      <td>13</td>\n",
       "      <td>#05#08#2015 #Selkingen #Valais#Wallis #TravelD...</td>\n",
       "    </tr>\n",
       "    <tr>\n",
       "      <th>2016-08-13</th>\n",
       "      <td>08</td>\n",
       "      <td>46.66020</td>\n",
       "      <td>8.670280</td>\n",
       "      <td>19</td>\n",
       "      <td>#13#08#2016 #ontheroadagain #TripAroundSwitzer...</td>\n",
       "    </tr>\n",
       "    <tr>\n",
       "      <th>2014-06-15</th>\n",
       "      <td>bih</td>\n",
       "      <td>47.05340</td>\n",
       "      <td>7.448055</td>\n",
       "      <td>58</td>\n",
       "      <td>#BIH #BIH #BIH #BIH #BIH #BIH #BIH #BIH #BIH #...</td>\n",
       "    </tr>\n",
       "    <tr>\n",
       "      <th>2015-06-16</th>\n",
       "      <td>خالد_القرني</td>\n",
       "      <td>46.20560</td>\n",
       "      <td>6.153340</td>\n",
       "      <td>9</td>\n",
       "      <td>#خالد_القرني #صوره #تصوير #تصويري #الصور #انست...</td>\n",
       "    </tr>\n",
       "    <tr>\n",
       "      <th>2013-11-29</th>\n",
       "      <td>tomodell</td>\n",
       "      <td>45.97600</td>\n",
       "      <td>9.189440</td>\n",
       "      <td>38</td>\n",
       "      <td>@tompeterodell favourite book? #tomodell #ikno...</td>\n",
       "    </tr>\n",
       "    <tr>\n",
       "      <th>2015-05-16</th>\n",
       "      <td>hawaii50</td>\n",
       "      <td>47.82040</td>\n",
       "      <td>6.358910</td>\n",
       "      <td>10</td>\n",
       "      <td>@m6  C'est parti pour #Hawaii50, et ça commenc...</td>\n",
       "    </tr>\n",
       "    <tr>\n",
       "      <th>2015-06-06</th>\n",
       "      <td>miralago</td>\n",
       "      <td>46.19130</td>\n",
       "      <td>9.022500</td>\n",
       "      <td>13</td>\n",
       "      <td>#щвейцария #аскона #локарно #локарноэторай #sw...</td>\n",
       "    </tr>\n",
       "    <tr>\n",
       "      <th>2015-07-16</th>\n",
       "      <td>businessmgmt</td>\n",
       "      <td>46.94790</td>\n",
       "      <td>7.444610</td>\n",
       "      <td>7</td>\n",
       "      <td>If you're a #BusinessMgmt professional in #Ber...</td>\n",
       "    </tr>\n",
       "    <tr>\n",
       "      <th>2015-09-07</th>\n",
       "      <td>businessmgmt</td>\n",
       "      <td>46.94790</td>\n",
       "      <td>7.444610</td>\n",
       "      <td>7</td>\n",
       "      <td>Expedia Europe #BusinessMgmt #Job: Manager, Sa...</td>\n",
       "    </tr>\n",
       "    <tr>\n",
       "      <th>2015-03-03</th>\n",
       "      <td>twitterkurds</td>\n",
       "      <td>46.22730</td>\n",
       "      <td>6.141290</td>\n",
       "      <td>7</td>\n",
       "      <td>\"And we're left to ask, what have we done agai...</td>\n",
       "    </tr>\n",
       "    <tr>\n",
       "      <th>2013-06-25</th>\n",
       "      <td>share</td>\n",
       "      <td>45.96960</td>\n",
       "      <td>8.892340</td>\n",
       "      <td>10</td>\n",
       "      <td>@femkesongs #share this #video #around #the #w...</td>\n",
       "    </tr>\n",
       "    <tr>\n",
       "      <th>2014-11-29</th>\n",
       "      <td>share</td>\n",
       "      <td>46.39310</td>\n",
       "      <td>6.603690</td>\n",
       "      <td>27</td>\n",
       "      <td>#Listen #share #download #new mashup Martin ga...</td>\n",
       "    </tr>\n",
       "    <tr>\n",
       "      <th>2014-09-08</th>\n",
       "      <td>hrc27</td>\n",
       "      <td>46.22800</td>\n",
       "      <td>6.141920</td>\n",
       "      <td>54</td>\n",
       "      <td>LIVE - ZH provieds breif update on Middle-East...</td>\n",
       "    </tr>\n",
       "    <tr>\n",
       "      <th>2013-02-24</th>\n",
       "      <td>non</td>\n",
       "      <td>47.04820</td>\n",
       "      <td>8.305560</td>\n",
       "      <td>7</td>\n",
       "      <td>#non è forte colui che non cade mai ma colui c...</td>\n",
       "    </tr>\n",
       "    <tr>\n",
       "      <th>2013-11-10</th>\n",
       "      <td>one</td>\n",
       "      <td>46.98820</td>\n",
       "      <td>6.907780</td>\n",
       "      <td>11</td>\n",
       "      <td>@Nialloffaccount Tomorrow it's my birthday can...</td>\n",
       "    </tr>\n",
       "    <tr>\n",
       "      <th>2012-10-13</th>\n",
       "      <td>sostato</td>\n",
       "      <td>45.79660</td>\n",
       "      <td>8.419260</td>\n",
       "      <td>21</td>\n",
       "      <td>Tonucci: Nessun bambino fino a 10 anni esce pi...</td>\n",
       "    </tr>\n",
       "    <tr>\n",
       "      <th>2013-04-25</th>\n",
       "      <td>team</td>\n",
       "      <td>46.53200</td>\n",
       "      <td>6.594770</td>\n",
       "      <td>7</td>\n",
       "      <td>#team #schyzo_$$$_TRIKI #daemons #milano #aft ...</td>\n",
       "    </tr>\n",
       "    <tr>\n",
       "      <th>2014-04-07</th>\n",
       "      <td>team</td>\n",
       "      <td>47.38430</td>\n",
       "      <td>8.529590</td>\n",
       "      <td>8</td>\n",
       "      <td>@ryanscottlum @CHEAPFLIGHTEXPE @rootbeersoup @...</td>\n",
       "    </tr>\n",
       "    <tr>\n",
       "      <th>2012-04-26</th>\n",
       "      <td>mode</td>\n",
       "      <td>47.23400</td>\n",
       "      <td>9.599250</td>\n",
       "      <td>10</td>\n",
       "      <td>#beauty #girl #jakobkasimir #model #fashion #m...</td>\n",
       "    </tr>\n",
       "    <tr>\n",
       "      <th>2012-07-09</th>\n",
       "      <td>mode</td>\n",
       "      <td>47.49890</td>\n",
       "      <td>9.750320</td>\n",
       "      <td>7</td>\n",
       "      <td>@laurapfanner #fashion #mode #model #church #p...</td>\n",
       "    </tr>\n",
       "    <tr>\n",
       "      <th>2015-10-28</th>\n",
       "      <td>mode</td>\n",
       "      <td>47.42530</td>\n",
       "      <td>9.085530</td>\n",
       "      <td>7</td>\n",
       "      <td>#portrait #canon #gabii500 #fiat #jonschwil #s...</td>\n",
       "    </tr>\n",
       "    <tr>\n",
       "      <th>2013-05-05</th>\n",
       "      <td>weloveyouzayn</td>\n",
       "      <td>46.18730</td>\n",
       "      <td>6.105140</td>\n",
       "      <td>21</td>\n",
       "      <td>#weloveyouzayn_$$$_#WeLoveYouZayn #ZaynWeLoveY...</td>\n",
       "    </tr>\n",
       "    <tr>\n",
       "      <th>2013-03-23</th>\n",
       "      <td>igersbasel</td>\n",
       "      <td>47.55640</td>\n",
       "      <td>7.592450</td>\n",
       "      <td>7</td>\n",
       "      <td>#InstaMeetBasel #Basel230313 #IGersBasel #IGer...</td>\n",
       "    </tr>\n",
       "    <tr>\n",
       "      <th>2014-09-12</th>\n",
       "      <td>esa</td>\n",
       "      <td>46.21970</td>\n",
       "      <td>6.138100</td>\n",
       "      <td>9</td>\n",
       "      <td>The #esa anniversary event just started. Feeli...</td>\n",
       "    </tr>\n",
       "    <tr>\n",
       "      <th>2014-07-21</th>\n",
       "      <td>totem</td>\n",
       "      <td>47.57710</td>\n",
       "      <td>6.755370</td>\n",
       "      <td>36</td>\n",
       "      <td>@AnselElgort PLS #TOTEM http://t.co/T0FDEmjfZv...</td>\n",
       "    </tr>\n",
       "    <tr>\n",
       "      <th>2014-09-03</th>\n",
       "      <td>bestidol</td>\n",
       "      <td>46.94980</td>\n",
       "      <td>7.439510</td>\n",
       "      <td>7</td>\n",
       "      <td>@haenni__luca #newsingle #comingsoon #ICantGet...</td>\n",
       "    </tr>\n",
       "    <tr>\n",
       "      <th>2015-05-30</th>\n",
       "      <td>bodybuilding</td>\n",
       "      <td>46.15460</td>\n",
       "      <td>8.963730</td>\n",
       "      <td>9</td>\n",
       "      <td>Be a leader not a boss! #bodybuilding #bodybui...</td>\n",
       "    </tr>\n",
       "    <tr>\n",
       "      <th>2014-06-17</th>\n",
       "      <td>rus</td>\n",
       "      <td>47.24440</td>\n",
       "      <td>6.070335</td>\n",
       "      <td>26</td>\n",
       "      <td>Ajmo braćo Rusi ! #RUS #RUSKOR #CoupeDuMonde_$...</td>\n",
       "    </tr>\n",
       "    <tr>\n",
       "      <th>2014-01-03</th>\n",
       "      <td>ice</td>\n",
       "      <td>47.41180</td>\n",
       "      <td>8.555290</td>\n",
       "      <td>7</td>\n",
       "      <td>Trapped behind #ice in #braunwald #zwergenhöle...</td>\n",
       "    </tr>\n",
       "    <tr>\n",
       "      <th>2014-04-25</th>\n",
       "      <td>ice</td>\n",
       "      <td>45.94140</td>\n",
       "      <td>7.656390</td>\n",
       "      <td>7</td>\n",
       "      <td>#ice cave at Plateau Rosà mt. 3.850 #ice #snow...</td>\n",
       "    </tr>\n",
       "    <tr>\n",
       "      <th>2016-01-16</th>\n",
       "      <td>ice</td>\n",
       "      <td>46.72525</td>\n",
       "      <td>9.053527</td>\n",
       "      <td>31</td>\n",
       "      <td>Stepping on a lake!! #ice #lake #silvaplana #n...</td>\n",
       "    </tr>\n",
       "    <tr>\n",
       "      <th>2012-04-22</th>\n",
       "      <td>nt1</td>\n",
       "      <td>47.27140</td>\n",
       "      <td>5.985520</td>\n",
       "      <td>7</td>\n",
       "      <td>JERSEY SHORE SUR #NT1 !_$$$_#NT1 JE VAIS SUR L...</td>\n",
       "    </tr>\n",
       "    <tr>\n",
       "      <th>2012-08-28</th>\n",
       "      <td>nt1</td>\n",
       "      <td>47.74260</td>\n",
       "      <td>7.315150</td>\n",
       "      <td>11</td>\n",
       "      <td>Regarder #NT1 tous Different ya des addict sex...</td>\n",
       "    </tr>\n",
       "    <tr>\n",
       "      <th>2014-03-25</th>\n",
       "      <td>ateam</td>\n",
       "      <td>47.34530</td>\n",
       "      <td>8.337360</td>\n",
       "      <td>28</td>\n",
       "      <td>“@Mallin_Official: #ATeam #VoteAnton #KCA _$$$...</td>\n",
       "    </tr>\n",
       "    <tr>\n",
       "      <th>2013-12-22</th>\n",
       "      <td>navidad</td>\n",
       "      <td>46.74960</td>\n",
       "      <td>7.543760</td>\n",
       "      <td>14</td>\n",
       "      <td>#Schweiz #suisse #suiza #Kärselen #Weihnachtsb...</td>\n",
       "    </tr>\n",
       "    <tr>\n",
       "      <th>2014-01-02</th>\n",
       "      <td>nsrouge</td>\n",
       "      <td>46.46300</td>\n",
       "      <td>6.356700</td>\n",
       "      <td>17</td>\n",
       "      <td>#nsrouge_$$$_#nsrouge pour Leopoldine c'est fi...</td>\n",
       "    </tr>\n",
       "    <tr>\n",
       "      <th>2012-11-04</th>\n",
       "      <td>path</td>\n",
       "      <td>47.20990</td>\n",
       "      <td>9.712000</td>\n",
       "      <td>14</td>\n",
       "      <td>#austria #vorarlberg #path #iphoneonly #insta ...</td>\n",
       "    </tr>\n",
       "    <tr>\n",
       "      <th>2013-05-12</th>\n",
       "      <td>path</td>\n",
       "      <td>46.89520</td>\n",
       "      <td>6.768935</td>\n",
       "      <td>17</td>\n",
       "      <td>Nouveau reseaux sociaux #Path c est vraiment p...</td>\n",
       "    </tr>\n",
       "    <tr>\n",
       "      <th>2015-07-11</th>\n",
       "      <td>openair</td>\n",
       "      <td>46.74870</td>\n",
       "      <td>7.649180</td>\n",
       "      <td>11</td>\n",
       "      <td>pabloinfernal #openair #openair #hünibach #mus...</td>\n",
       "    </tr>\n",
       "    <tr>\n",
       "      <th>2016-06-26</th>\n",
       "      <td>openair</td>\n",
       "      <td>47.39260</td>\n",
       "      <td>8.521390</td>\n",
       "      <td>14</td>\n",
       "      <td>The band \"Cheibe Balagan\" at the #openair #wip...</td>\n",
       "    </tr>\n",
       "    <tr>\n",
       "      <th>2016-08-11</th>\n",
       "      <td>openair</td>\n",
       "      <td>47.28410</td>\n",
       "      <td>7.954850</td>\n",
       "      <td>8</td>\n",
       "      <td>#openair #heitere #volksschlager #goodmood #zo...</td>\n",
       "    </tr>\n",
       "    <tr>\n",
       "      <th>2013-06-25</th>\n",
       "      <td>health</td>\n",
       "      <td>46.19330</td>\n",
       "      <td>6.150670</td>\n",
       "      <td>31</td>\n",
       "      <td>Health Financing a new global health trend but...</td>\n",
       "    </tr>\n",
       "    <tr>\n",
       "      <th>2014-05-19</th>\n",
       "      <td>health</td>\n",
       "      <td>46.22170</td>\n",
       "      <td>6.140760</td>\n",
       "      <td>11</td>\n",
       "      <td>Join us this evening at Palais des Nations for...</td>\n",
       "    </tr>\n",
       "    <tr>\n",
       "      <th>2012-10-25</th>\n",
       "      <td>fog</td>\n",
       "      <td>47.35770</td>\n",
       "      <td>8.976840</td>\n",
       "      <td>7</td>\n",
       "      <td>Back in the #fog. #drivinghome @ Stoss Pass ht...</td>\n",
       "    </tr>\n",
       "  </tbody>\n",
       "</table>\n",
       "</div>"
      ],
      "text/plain": [
       "                       hashtag  latitude  longitude  numberOfTweets  \\\n",
       "date                                                                  \n",
       "2015-10-26              cigars  47.36630   8.451350              10   \n",
       "2012-09-30             atheism  46.46470   6.898390               8   \n",
       "2014-03-09            carnival  46.37285   7.990435               8   \n",
       "2015-03-03           instacars  46.23390   6.118480              14   \n",
       "2011-05-27                velo  47.14380   8.896060              13   \n",
       "2016-06-14  αυτοκόλλητηετικέτα  47.56510   7.592140              23   \n",
       "2015-08-05                  08  46.57900   8.421210              13   \n",
       "2016-08-13                  08  46.66020   8.670280              19   \n",
       "2014-06-15                 bih  47.05340   7.448055              58   \n",
       "2015-06-16         خالد_القرني  46.20560   6.153340               9   \n",
       "2013-11-29            tomodell  45.97600   9.189440              38   \n",
       "2015-05-16            hawaii50  47.82040   6.358910              10   \n",
       "2015-06-06            miralago  46.19130   9.022500              13   \n",
       "2015-07-16        businessmgmt  46.94790   7.444610               7   \n",
       "2015-09-07        businessmgmt  46.94790   7.444610               7   \n",
       "2015-03-03        twitterkurds  46.22730   6.141290               7   \n",
       "2013-06-25               share  45.96960   8.892340              10   \n",
       "2014-11-29               share  46.39310   6.603690              27   \n",
       "2014-09-08               hrc27  46.22800   6.141920              54   \n",
       "2013-02-24                 non  47.04820   8.305560               7   \n",
       "2013-11-10                 one  46.98820   6.907780              11   \n",
       "2012-10-13             sostato  45.79660   8.419260              21   \n",
       "2013-04-25                team  46.53200   6.594770               7   \n",
       "2014-04-07                team  47.38430   8.529590               8   \n",
       "2012-04-26                mode  47.23400   9.599250              10   \n",
       "2012-07-09                mode  47.49890   9.750320               7   \n",
       "2015-10-28                mode  47.42530   9.085530               7   \n",
       "2013-05-05       weloveyouzayn  46.18730   6.105140              21   \n",
       "2013-03-23          igersbasel  47.55640   7.592450               7   \n",
       "2014-09-12                 esa  46.21970   6.138100               9   \n",
       "2014-07-21               totem  47.57710   6.755370              36   \n",
       "2014-09-03            bestidol  46.94980   7.439510               7   \n",
       "2015-05-30        bodybuilding  46.15460   8.963730               9   \n",
       "2014-06-17                 rus  47.24440   6.070335              26   \n",
       "2014-01-03                 ice  47.41180   8.555290               7   \n",
       "2014-04-25                 ice  45.94140   7.656390               7   \n",
       "2016-01-16                 ice  46.72525   9.053527              31   \n",
       "2012-04-22                 nt1  47.27140   5.985520               7   \n",
       "2012-08-28                 nt1  47.74260   7.315150              11   \n",
       "2014-03-25               ateam  47.34530   8.337360              28   \n",
       "2013-12-22             navidad  46.74960   7.543760              14   \n",
       "2014-01-02             nsrouge  46.46300   6.356700              17   \n",
       "2012-11-04                path  47.20990   9.712000              14   \n",
       "2013-05-12                path  46.89520   6.768935              17   \n",
       "2015-07-11             openair  46.74870   7.649180              11   \n",
       "2016-06-26             openair  47.39260   8.521390              14   \n",
       "2016-08-11             openair  47.28410   7.954850               8   \n",
       "2013-06-25              health  46.19330   6.150670              31   \n",
       "2014-05-19              health  46.22170   6.140760              11   \n",
       "2012-10-25                 fog  47.35770   8.976840               7   \n",
       "\n",
       "                                                         text  \n",
       "date                                                           \n",
       "2015-10-26  #Swiss #HabanosDay 2015 #hostess #Cuban #cigar...  \n",
       "2012-09-30  I'm very happy to be a gentile, an infidel, an...  \n",
       "2014-03-09  #carnival #party (@ Ex Jolly Roger) http://t.c...  \n",
       "2015-03-03  #Opel #Karl #instacar #instacars #cars #cartas...  \n",
       "2011-05-27  20 % progress …Pause! #Velo #Heimfahrt_$$$_25 ...  \n",
       "2016-06-14  #sticker  #oblakin  #nálepka  #αυτοκόλλητηετικ...  \n",
       "2015-08-05  #05#08#2015 #Selkingen #Valais#Wallis #TravelD...  \n",
       "2016-08-13  #13#08#2016 #ontheroadagain #TripAroundSwitzer...  \n",
       "2014-06-15  #BIH #BIH #BIH #BIH #BIH #BIH #BIH #BIH #BIH #...  \n",
       "2015-06-16  #خالد_القرني #صوره #تصوير #تصويري #الصور #انست...  \n",
       "2013-11-29  @tompeterodell favourite book? #tomodell #ikno...  \n",
       "2015-05-16  @m6  C'est parti pour #Hawaii50, et ça commenc...  \n",
       "2015-06-06  #щвейцария #аскона #локарно #локарноэторай #sw...  \n",
       "2015-07-16  If you're a #BusinessMgmt professional in #Ber...  \n",
       "2015-09-07  Expedia Europe #BusinessMgmt #Job: Manager, Sa...  \n",
       "2015-03-03  \"And we're left to ask, what have we done agai...  \n",
       "2013-06-25  @femkesongs #share this #video #around #the #w...  \n",
       "2014-11-29  #Listen #share #download #new mashup Martin ga...  \n",
       "2014-09-08  LIVE - ZH provieds breif update on Middle-East...  \n",
       "2013-02-24  #non è forte colui che non cade mai ma colui c...  \n",
       "2013-11-10  @Nialloffaccount Tomorrow it's my birthday can...  \n",
       "2012-10-13  Tonucci: Nessun bambino fino a 10 anni esce pi...  \n",
       "2013-04-25  #team #schyzo_$$$_TRIKI #daemons #milano #aft ...  \n",
       "2014-04-07  @ryanscottlum @CHEAPFLIGHTEXPE @rootbeersoup @...  \n",
       "2012-04-26  #beauty #girl #jakobkasimir #model #fashion #m...  \n",
       "2012-07-09  @laurapfanner #fashion #mode #model #church #p...  \n",
       "2015-10-28  #portrait #canon #gabii500 #fiat #jonschwil #s...  \n",
       "2013-05-05  #weloveyouzayn_$$$_#WeLoveYouZayn #ZaynWeLoveY...  \n",
       "2013-03-23  #InstaMeetBasel #Basel230313 #IGersBasel #IGer...  \n",
       "2014-09-12  The #esa anniversary event just started. Feeli...  \n",
       "2014-07-21  @AnselElgort PLS #TOTEM http://t.co/T0FDEmjfZv...  \n",
       "2014-09-03  @haenni__luca #newsingle #comingsoon #ICantGet...  \n",
       "2015-05-30  Be a leader not a boss! #bodybuilding #bodybui...  \n",
       "2014-06-17  Ajmo braćo Rusi ! #RUS #RUSKOR #CoupeDuMonde_$...  \n",
       "2014-01-03  Trapped behind #ice in #braunwald #zwergenhöle...  \n",
       "2014-04-25  #ice cave at Plateau Rosà mt. 3.850 #ice #snow...  \n",
       "2016-01-16  Stepping on a lake!! #ice #lake #silvaplana #n...  \n",
       "2012-04-22  JERSEY SHORE SUR #NT1 !_$$$_#NT1 JE VAIS SUR L...  \n",
       "2012-08-28  Regarder #NT1 tous Different ya des addict sex...  \n",
       "2014-03-25  “@Mallin_Official: #ATeam #VoteAnton #KCA _$$$...  \n",
       "2013-12-22  #Schweiz #suisse #suiza #Kärselen #Weihnachtsb...  \n",
       "2014-01-02  #nsrouge_$$$_#nsrouge pour Leopoldine c'est fi...  \n",
       "2012-11-04  #austria #vorarlberg #path #iphoneonly #insta ...  \n",
       "2013-05-12  Nouveau reseaux sociaux #Path c est vraiment p...  \n",
       "2015-07-11  pabloinfernal #openair #openair #hünibach #mus...  \n",
       "2016-06-26  The band \"Cheibe Balagan\" at the #openair #wip...  \n",
       "2016-08-11  #openair #heitere #volksschlager #goodmood #zo...  \n",
       "2013-06-25  Health Financing a new global health trend but...  \n",
       "2014-05-19  Join us this evening at Palais des Nations for...  \n",
       "2012-10-25  Back in the #fog. #drivinghome @ Stoss Pass ht...  "
      ]
     },
     "execution_count": 41,
     "metadata": {},
     "output_type": "execute_result"
    }
   ],
   "source": [
    "print('Events dataframe:')\n",
    "new_events.head(50)"
   ]
  },
  {
   "cell_type": "code",
   "execution_count": 32,
   "metadata": {
    "collapsed": false
   },
   "outputs": [
    {
     "name": "stdout",
     "output_type": "stream",
     "text": [
      "Linked dataframe of all days:\n"
     ]
    },
    {
     "data": {
      "text/html": [
       "<div>\n",
       "<table border=\"1\" class=\"dataframe\">\n",
       "  <thead>\n",
       "    <tr style=\"text-align: right;\">\n",
       "      <th></th>\n",
       "      <th>text</th>\n",
       "      <th>latitude</th>\n",
       "      <th>hashtag</th>\n",
       "      <th>longitude</th>\n",
       "      <th>numberOfTweets</th>\n",
       "      <th>event</th>\n",
       "    </tr>\n",
       "  </thead>\n",
       "  <tbody>\n",
       "    <tr>\n",
       "      <th>2012-08-29</th>\n",
       "      <td>This #RyJ #CedrosDeLuxeNo1 from the 70s is one...</td>\n",
       "      <td>47.4062</td>\n",
       "      <td>cigars</td>\n",
       "      <td>9.60897</td>\n",
       "      <td>1</td>\n",
       "      <td>False</td>\n",
       "    </tr>\n",
       "    <tr>\n",
       "      <th>2012-10-24</th>\n",
       "      <td>@HabanoSy @PerfectSmokes For #cigars which're ...</td>\n",
       "      <td>47.4063</td>\n",
       "      <td>cigars</td>\n",
       "      <td>9.60882</td>\n",
       "      <td>1</td>\n",
       "      <td>False</td>\n",
       "    </tr>\n",
       "    <tr>\n",
       "      <th>2012-12-26</th>\n",
       "      <td>on avait dit rendez-vous chez Zyno... #davidof...</td>\n",
       "      <td>46.2727</td>\n",
       "      <td>cigars</td>\n",
       "      <td>6.13460</td>\n",
       "      <td>1</td>\n",
       "      <td>False</td>\n",
       "    </tr>\n",
       "    <tr>\n",
       "      <th>2012-12-27</th>\n",
       "      <td>#cigare #cigares #cigare #cigars #davidoff @ G...</td>\n",
       "      <td>46.2727</td>\n",
       "      <td>cigars</td>\n",
       "      <td>6.13460</td>\n",
       "      <td>1</td>\n",
       "      <td>False</td>\n",
       "    </tr>\n",
       "    <tr>\n",
       "      <th>2013-01-26</th>\n",
       "      <td>#Coffee to start the day. #noStarbucks #Cigars...</td>\n",
       "      <td>47.4062</td>\n",
       "      <td>cigars</td>\n",
       "      <td>9.60882</td>\n",
       "      <td>1</td>\n",
       "      <td>False</td>\n",
       "    </tr>\n",
       "    <tr>\n",
       "      <th>2013-02-08</th>\n",
       "      <td>#Cigars #collage #Diplomaticos #Montecristo #C...</td>\n",
       "      <td>47.4062</td>\n",
       "      <td>cigars</td>\n",
       "      <td>9.60882</td>\n",
       "      <td>1</td>\n",
       "      <td>False</td>\n",
       "    </tr>\n",
       "    <tr>\n",
       "      <th>2013-02-16</th>\n",
       "      <td>#Partagas #collage #cigars #Cigarians @ Casa B...</td>\n",
       "      <td>47.4062</td>\n",
       "      <td>cigars</td>\n",
       "      <td>9.60882</td>\n",
       "      <td>1</td>\n",
       "      <td>False</td>\n",
       "    </tr>\n",
       "    <tr>\n",
       "      <th>2013-03-05</th>\n",
       "      <td>#Cigars #LaGloriaCubana #MedailledOr #No3 #Cig...</td>\n",
       "      <td>47.4062</td>\n",
       "      <td>cigars</td>\n",
       "      <td>9.60882</td>\n",
       "      <td>1</td>\n",
       "      <td>False</td>\n",
       "    </tr>\n",
       "    <tr>\n",
       "      <th>2013-03-20</th>\n",
       "      <td>Does that mean #cigars are allowed!!!! #cigari...</td>\n",
       "      <td>46.4446</td>\n",
       "      <td>cigars</td>\n",
       "      <td>6.21659</td>\n",
       "      <td>1</td>\n",
       "      <td>False</td>\n",
       "    </tr>\n",
       "    <tr>\n",
       "      <th>2013-03-30</th>\n",
       "      <td>Tonite's choice of #cigars: #Cohiba #35Anivers...</td>\n",
       "      <td>47.4062</td>\n",
       "      <td>cigars</td>\n",
       "      <td>9.60882</td>\n",
       "      <td>1</td>\n",
       "      <td>False</td>\n",
       "    </tr>\n",
       "  </tbody>\n",
       "</table>\n",
       "</div>"
      ],
      "text/plain": [
       "                                                         text  latitude  \\\n",
       "2012-08-29  This #RyJ #CedrosDeLuxeNo1 from the 70s is one...   47.4062   \n",
       "2012-10-24  @HabanoSy @PerfectSmokes For #cigars which're ...   47.4063   \n",
       "2012-12-26  on avait dit rendez-vous chez Zyno... #davidof...   46.2727   \n",
       "2012-12-27  #cigare #cigares #cigare #cigars #davidoff @ G...   46.2727   \n",
       "2013-01-26  #Coffee to start the day. #noStarbucks #Cigars...   47.4062   \n",
       "2013-02-08  #Cigars #collage #Diplomaticos #Montecristo #C...   47.4062   \n",
       "2013-02-16  #Partagas #collage #cigars #Cigarians @ Casa B...   47.4062   \n",
       "2013-03-05  #Cigars #LaGloriaCubana #MedailledOr #No3 #Cig...   47.4062   \n",
       "2013-03-20  Does that mean #cigars are allowed!!!! #cigari...   46.4446   \n",
       "2013-03-30  Tonite's choice of #cigars: #Cohiba #35Anivers...   47.4062   \n",
       "\n",
       "           hashtag  longitude  numberOfTweets  event  \n",
       "2012-08-29  cigars    9.60897               1  False  \n",
       "2012-10-24  cigars    9.60882               1  False  \n",
       "2012-12-26  cigars    6.13460               1  False  \n",
       "2012-12-27  cigars    6.13460               1  False  \n",
       "2013-01-26  cigars    9.60882               1  False  \n",
       "2013-02-08  cigars    9.60882               1  False  \n",
       "2013-02-16  cigars    9.60882               1  False  \n",
       "2013-03-05  cigars    9.60882               1  False  \n",
       "2013-03-20  cigars    6.21659               1  False  \n",
       "2013-03-30  cigars    9.60882               1  False  "
      ]
     },
     "execution_count": 32,
     "metadata": {},
     "output_type": "execute_result"
    }
   ],
   "source": [
    "print('Linked dataframe of all days:')\n",
    "dictionary[new_events.iloc[0].hashtag].head(10)"
   ]
  },
  {
   "cell_type": "markdown",
   "metadata": {},
   "source": [
    "## Exporting data"
   ]
  },
  {
   "cell_type": "code",
   "execution_count": 33,
   "metadata": {
    "collapsed": false
   },
   "outputs": [
    {
     "name": "stdout",
     "output_type": "stream",
     "text": [
      "There are 5436 events.\n"
     ]
    }
   ],
   "source": [
    "total_number_of_events = len(new_events)\n",
    "print('There are {} events.'.format(total_number_of_events))"
   ]
  },
  {
   "cell_type": "code",
   "execution_count": 34,
   "metadata": {
    "collapsed": false
   },
   "outputs": [
    {
     "data": {
      "text/html": [
       "<div>\n",
       "<table border=\"1\" class=\"dataframe\">\n",
       "  <thead>\n",
       "    <tr style=\"text-align: right;\">\n",
       "      <th></th>\n",
       "      <th>hashtag</th>\n",
       "      <th>latitude</th>\n",
       "      <th>longitude</th>\n",
       "      <th>numberOfTweets</th>\n",
       "      <th>text</th>\n",
       "      <th>date</th>\n",
       "    </tr>\n",
       "  </thead>\n",
       "  <tbody>\n",
       "    <tr>\n",
       "      <th>0</th>\n",
       "      <td>cigars</td>\n",
       "      <td>47.3663</td>\n",
       "      <td>8.45135</td>\n",
       "      <td>10</td>\n",
       "      <td>#Swiss #HabanosDay 2015 #hostess #Cuban #cigar...</td>\n",
       "      <td>2015-10-26</td>\n",
       "    </tr>\n",
       "  </tbody>\n",
       "</table>\n",
       "</div>"
      ],
      "text/plain": [
       "  hashtag  latitude  longitude  numberOfTweets  \\\n",
       "0  cigars   47.3663    8.45135              10   \n",
       "\n",
       "                                                text        date  \n",
       "0  #Swiss #HabanosDay 2015 #hostess #Cuban #cigar...  2015-10-26  "
      ]
     },
     "execution_count": 34,
     "metadata": {},
     "output_type": "execute_result"
    }
   ],
   "source": [
    "e_df = new_events.copy()\n",
    "e_df['date'] = e_df.index\n",
    "e_df.index = [i for i in range (len(e_df))]\n",
    "e_df.head(1)"
   ]
  },
  {
   "cell_type": "markdown",
   "metadata": {},
   "source": [
    "We are going to generate the right datetimes for the jsons:"
   ]
  },
  {
   "cell_type": "code",
   "execution_count": 35,
   "metadata": {
    "collapsed": true
   },
   "outputs": [],
   "source": [
    "epoch_dt = datetime(1970, 1, 1)\n",
    "def to_utc(date):\n",
    "    d_dt = datetime.combine(date, datetime.min.time())\n",
    "    return int((d_dt - epoch_dt).total_seconds()*1000)"
   ]
  },
  {
   "cell_type": "code",
   "execution_count": 36,
   "metadata": {
    "collapsed": true
   },
   "outputs": [],
   "source": [
    "def convert_to_unix_time(record):\n",
    "    datetime_index = pd.DatetimeIndex([datetime(record['year'], record['month'], 1)])\n",
    "    unix_time_index = datetime_index.astype(np.int64) // 10**6\n",
    "    return unix_time_index[0]"
   ]
  },
  {
   "cell_type": "code",
   "execution_count": 37,
   "metadata": {
    "collapsed": false
   },
   "outputs": [
    {
     "name": "stdout",
     "output_type": "stream",
     "text": [
      "11:10:41 Converting dates...\n",
      "11:10:42 Done.\n"
     ]
    },
    {
     "data": {
      "text/html": [
       "<div>\n",
       "<table border=\"1\" class=\"dataframe\">\n",
       "  <thead>\n",
       "    <tr style=\"text-align: right;\">\n",
       "      <th></th>\n",
       "      <th>hashtag</th>\n",
       "      <th>latitude</th>\n",
       "      <th>longitude</th>\n",
       "      <th>numberOfTweets</th>\n",
       "      <th>text</th>\n",
       "      <th>date</th>\n",
       "      <th>year</th>\n",
       "      <th>month</th>\n",
       "      <th>utc_date</th>\n",
       "      <th>unix_time</th>\n",
       "    </tr>\n",
       "  </thead>\n",
       "  <tbody>\n",
       "    <tr>\n",
       "      <th>0</th>\n",
       "      <td>cigars</td>\n",
       "      <td>47.3663</td>\n",
       "      <td>8.45135</td>\n",
       "      <td>10</td>\n",
       "      <td>#Swiss #HabanosDay 2015 #hostess #Cuban #cigar...</td>\n",
       "      <td>2015-10-26</td>\n",
       "      <td>2015</td>\n",
       "      <td>10</td>\n",
       "      <td>1445817600000</td>\n",
       "      <td>1443657600000</td>\n",
       "    </tr>\n",
       "  </tbody>\n",
       "</table>\n",
       "</div>"
      ],
      "text/plain": [
       "  hashtag  latitude  longitude  numberOfTweets  \\\n",
       "0  cigars   47.3663    8.45135              10   \n",
       "\n",
       "                                                text        date  year  month  \\\n",
       "0  #Swiss #HabanosDay 2015 #hostess #Cuban #cigar...  2015-10-26  2015     10   \n",
       "\n",
       "        utc_date      unix_time  \n",
       "0  1445817600000  1443657600000  "
      ]
     },
     "execution_count": 37,
     "metadata": {},
     "output_type": "execute_result"
    }
   ],
   "source": [
    "pr('Converting dates...')\n",
    "e_df['year'] = e_df['date'].apply(lambda x: x.year)\n",
    "e_df['month'] = e_df['date'].apply(lambda x: x.month)\n",
    "e_df['utc_date'] = e_df['date'].apply(lambda x: to_utc(x))\n",
    "e_df['unix_time'] = e_df.apply(convert_to_unix_time, axis=1)\n",
    "pr('Done.')\n",
    "e_df.head(1)"
   ]
  },
  {
   "cell_type": "markdown",
   "metadata": {},
   "source": [
    "Grouping by months and generating the dictionary for the json."
   ]
  },
  {
   "cell_type": "code",
   "execution_count": 38,
   "metadata": {
    "collapsed": true
   },
   "outputs": [],
   "source": [
    "e_gb_month = e_df.groupby(e_df.unix_time)"
   ]
  },
  {
   "cell_type": "code",
   "execution_count": 39,
   "metadata": {
    "collapsed": false
   },
   "outputs": [
    {
     "name": "stdout",
     "output_type": "stream",
     "text": [
      "11:10:42 Making event list...\n",
      "11:10:48 Done.\n"
     ]
    }
   ],
   "source": [
    "pr('Making event list...')\n",
    "months = []\n",
    "for month, df in e_gb_month:\n",
    "    days = []\n",
    "    for i in range (len(df)):\n",
    "        ht = df.iloc[i]['hashtag']\n",
    "        lat = df.iloc[i]['latitude']\n",
    "        lon = df.iloc[i]['longitude']\n",
    "        t_num = df.iloc[i]['numberOfTweets']\n",
    "        tweets = df.iloc[i]['text'].split(delimiter)\n",
    "        date = df.iloc[i]['utc_date']\n",
    "        \n",
    "        data_unit = { 'name': ht\n",
    "                    , 'latitude' : lat\n",
    "                    , 'longitude' : lon\n",
    "                    , 'tweets' : tweets\n",
    "                    , 'number_of_tweets' : str(t_num)\n",
    "                    , 'date' : int(date)}\n",
    "        days.append(data_unit)\n",
    "    \n",
    "    curr_month = {'date': int(month), 'data' : days}\n",
    "    months.append(curr_month)\n",
    "\n",
    "final_events = {'events' : months}\n",
    "pr('Done.')"
   ]
  },
  {
   "cell_type": "code",
   "execution_count": 40,
   "metadata": {
    "collapsed": false
   },
   "outputs": [
    {
     "name": "stdout",
     "output_type": "stream",
     "text": [
      "11:10:48 Exporting to json...\n",
      "11:10:48 Export done. File \"export_twitter_events_2017-01-31_11h10min48_5436_events.json\" has been created.\n"
     ]
    }
   ],
   "source": [
    "exportFilename = 'export_twitter_events_' + datetime.now().strftime(\"%Y-%m-%d_%Hh%Mmin%S\") + \\\n",
    "'_' + str(total_number_of_events)+ '_events.json'\n",
    "exportPath =  os.path.join('data', exportFilename)\n",
    "\n",
    "pr('Exporting to json...')\n",
    "with open(exportPath, 'w') as f:\n",
    "     json.dump(final_events, f)\n",
    "pr('Export done. File \"{}\" has been created.'.format(exportFilename))"
   ]
  },
  {
   "cell_type": "code",
   "execution_count": null,
   "metadata": {
    "collapsed": true
   },
   "outputs": [],
   "source": []
  }
 ],
 "metadata": {
  "anaconda-cloud": {},
  "kernelspec": {
   "display_name": "Python [Root]",
   "language": "python",
   "name": "Python [Root]"
  },
  "language_info": {
   "codemirror_mode": {
    "name": "ipython",
    "version": 3
   },
   "file_extension": ".py",
   "mimetype": "text/x-python",
   "name": "python",
   "nbconvert_exporter": "python",
   "pygments_lexer": "ipython3",
   "version": "3.5.2"
  }
 },
 "nbformat": 4,
 "nbformat_minor": 0
}
