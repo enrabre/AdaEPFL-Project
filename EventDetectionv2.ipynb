{
 "cells": [
  {
   "cell_type": "code",
   "execution_count": 40,
   "metadata": {
    "collapsed": false
   },
   "outputs": [],
   "source": [
    "import pandas as pd\n",
    "import numpy as np\n",
    "import os\n",
    "import seaborn as sns\n",
    "import datetime\n",
    "from sklearn.ensemble import RandomForestClassifier\n",
    "from sklearn.cluster import KMeans\n",
    "from sklearn.model_selection import KFold\n",
    "from sklearn import metrics\n",
    "import matplotlib.pyplot as plt\n",
    "from functools import reduce\n",
    "import math\n",
    "from collections import Counter\n",
    "import csv\n",
    "from datetime import datetime\n",
    "import re\n",
    "import copy\n",
    "import json\n",
    "%matplotlib inline"
   ]
  },
  {
   "cell_type": "code",
   "execution_count": 41,
   "metadata": {
    "collapsed": true
   },
   "outputs": [],
   "source": [
    "def now():\n",
    "    return str(datetime.now().time())[:8]\n",
    "def pr(strToPrint):\n",
    "    print(now() + ' '+ strToPrint)\n",
    "\n",
    "from IPython.display import Audio\n",
    "sound_file = 'beep.wav'\n",
    "# pd.set_option('display.max_colwidth', -1)"
   ]
  },
  {
   "cell_type": "markdown",
   "metadata": {},
   "source": [
    "## Importing data"
   ]
  },
  {
   "cell_type": "markdown",
   "metadata": {},
   "source": [
    "Importing a sample of the dataset:"
   ]
  },
  {
   "cell_type": "code",
   "execution_count": 42,
   "metadata": {
    "collapsed": true
   },
   "outputs": [],
   "source": [
    "pickle_filename = os.path.join('data','head_100k_pickle.pkl')\n",
    "tw = pd.read_pickle(pickle_filename)"
   ]
  },
  {
   "cell_type": "markdown",
   "metadata": {},
   "source": [
    "Importing the whole dataset"
   ]
  },
  {
   "cell_type": "code",
   "execution_count": 43,
   "metadata": {
    "collapsed": false
   },
   "outputs": [
    {
     "name": "stdout",
     "output_type": "stream",
     "text": [
      "19:03:17 Starting to read file... (3 min)\n",
      "19:03:17 File is loaded!\n"
     ]
    }
   ],
   "source": [
    "columns_header = ['id', 'userId', 'createdAt', 'text', 'longitude', 'latitude', 'placeId',\n",
    "                  'inReplyTo', 'source', 'truncated', 'placeLatitude', 'placeLongitude', 'sourceName', 'sourceUrl',\n",
    "                 'userName', 'screenName', 'followersCount', 'friendsCount', 'statusesCount',\n",
    "                 'userLocation']\n",
    "\n",
    "filename = os.path.join('data','twex.tsv') # 'sample.tsv')\n",
    "pr('Starting to read file... (3 min)')\n",
    "# tw = pd.read_csv(filename, sep='\\t', encoding='utf-8', escapechar='\\\\', names=columns_header,\n",
    "#                       quoting=csv.QUOTE_NONE, na_values='N', header=None)\n",
    "\n",
    "pr('File is loaded!')\n",
    "# Audio(url=sound_file, autoplay=True)"
   ]
  },
  {
   "cell_type": "code",
   "execution_count": 44,
   "metadata": {
    "collapsed": false
   },
   "outputs": [
    {
     "data": {
      "text/html": [
       "<div>\n",
       "<table border=\"1\" class=\"dataframe\">\n",
       "  <thead>\n",
       "    <tr style=\"text-align: right;\">\n",
       "      <th></th>\n",
       "      <th>id</th>\n",
       "      <th>userId</th>\n",
       "      <th>createdAt</th>\n",
       "      <th>text</th>\n",
       "      <th>longitude</th>\n",
       "      <th>latitude</th>\n",
       "      <th>placeId</th>\n",
       "      <th>inReplyTo</th>\n",
       "      <th>source</th>\n",
       "      <th>truncated</th>\n",
       "      <th>placeLatitude</th>\n",
       "      <th>placeLongitude</th>\n",
       "      <th>sourceName</th>\n",
       "      <th>sourceUrl</th>\n",
       "      <th>userName</th>\n",
       "      <th>screenName</th>\n",
       "      <th>followersCount</th>\n",
       "      <th>friendsCount</th>\n",
       "      <th>statusesCount</th>\n",
       "      <th>userLocation</th>\n",
       "    </tr>\n",
       "  </thead>\n",
       "  <tbody>\n",
       "    <tr>\n",
       "      <th>0</th>\n",
       "      <td>9514097914</td>\n",
       "      <td>17341045.0</td>\n",
       "      <td>2010-02-23 05:55:51</td>\n",
       "      <td>Guuuuten Morgen! :-)</td>\n",
       "      <td>7.43926</td>\n",
       "      <td>46.9489</td>\n",
       "      <td>NaN</td>\n",
       "      <td>NaN</td>\n",
       "      <td>197.0</td>\n",
       "      <td>NaN</td>\n",
       "      <td>NaN</td>\n",
       "      <td>NaN</td>\n",
       "      <td>NaN</td>\n",
       "      <td>NaN</td>\n",
       "      <td>NaN</td>\n",
       "      <td>NaN</td>\n",
       "      <td>NaN</td>\n",
       "      <td>NaN</td>\n",
       "      <td>NaN</td>\n",
       "      <td>NaN</td>\n",
       "    </tr>\n",
       "    <tr>\n",
       "      <th>1</th>\n",
       "      <td>NaN</td>\n",
       "      <td>NaN</td>\n",
       "      <td>NaN</td>\n",
       "      <td>TwitBird</td>\n",
       "      <td>http://www.nibirutech.com</td>\n",
       "      <td>Tilman Jentzsch</td>\n",
       "      <td>blickwechsel</td>\n",
       "      <td>586.0</td>\n",
       "      <td>508.0</td>\n",
       "      <td>9016.0</td>\n",
       "      <td>Bern, Switzerland</td>\n",
       "      <td>NaN</td>\n",
       "      <td>NaN</td>\n",
       "      <td>NaN</td>\n",
       "      <td>NaN</td>\n",
       "      <td>NaN</td>\n",
       "      <td>NaN</td>\n",
       "      <td>NaN</td>\n",
       "      <td>NaN</td>\n",
       "      <td>NaN</td>\n",
       "    </tr>\n",
       "  </tbody>\n",
       "</table>\n",
       "</div>"
      ],
      "text/plain": [
       "           id      userId            createdAt                  text  \\\n",
       "0  9514097914  17341045.0  2010-02-23 05:55:51  Guuuuten Morgen! :-)   \n",
       "1         NaN         NaN                  NaN              TwitBird   \n",
       "\n",
       "                   longitude         latitude       placeId  inReplyTo  \\\n",
       "0                    7.43926          46.9489           NaN        NaN   \n",
       "1  http://www.nibirutech.com  Tilman Jentzsch  blickwechsel      586.0   \n",
       "\n",
       "   source  truncated      placeLatitude  placeLongitude  sourceName  \\\n",
       "0   197.0        NaN                NaN             NaN         NaN   \n",
       "1   508.0     9016.0  Bern, Switzerland             NaN         NaN   \n",
       "\n",
       "   sourceUrl  userName  screenName  followersCount  friendsCount  \\\n",
       "0        NaN       NaN         NaN             NaN           NaN   \n",
       "1        NaN       NaN         NaN             NaN           NaN   \n",
       "\n",
       "   statusesCount  userLocation  \n",
       "0            NaN           NaN  \n",
       "1            NaN           NaN  "
      ]
     },
     "execution_count": 44,
     "metadata": {},
     "output_type": "execute_result"
    }
   ],
   "source": [
    "tw.head(2)"
   ]
  },
  {
   "cell_type": "markdown",
   "metadata": {},
   "source": [
    "## Extrating hashtags"
   ]
  },
  {
   "cell_type": "code",
   "execution_count": 45,
   "metadata": {
    "collapsed": true
   },
   "outputs": [],
   "source": [
    "def extract_hashtags(text):\n",
    "    ht_list = re.findall(r\"#(\\w+)\", text)\n",
    "    non_empty_hts = list(filter((lambda ht: ht != []), ht_list))\n",
    "    lowerCharList = [ht.lower() for ht in non_empty_hts]\n",
    "    return lowerCharList"
   ]
  },
  {
   "cell_type": "code",
   "execution_count": 46,
   "metadata": {
    "collapsed": false
   },
   "outputs": [
    {
     "name": "stdout",
     "output_type": "stream",
     "text": [
      "19:03:18 Making hashtags... (2 min)\n",
      "19:03:39 Done.\n"
     ]
    }
   ],
   "source": [
    "pr('Making hashtags... (2 min)')\n",
    "tw['hashtag'] = np.nan\n",
    "tw.hashtag = tw.text.apply(lambda x: extract_hashtags(str(x)))\n",
    "twh = tw.ix[tw.hashtag.apply(lambda x: len(x) != 0)]\n",
    "pr('Done.')"
   ]
  },
  {
   "cell_type": "code",
   "execution_count": 47,
   "metadata": {
    "collapsed": false
   },
   "outputs": [
    {
     "data": {
      "text/html": [
       "<div>\n",
       "<table border=\"1\" class=\"dataframe\">\n",
       "  <thead>\n",
       "    <tr style=\"text-align: right;\">\n",
       "      <th></th>\n",
       "      <th>id</th>\n",
       "      <th>userId</th>\n",
       "      <th>createdAt</th>\n",
       "      <th>text</th>\n",
       "      <th>longitude</th>\n",
       "      <th>latitude</th>\n",
       "      <th>placeId</th>\n",
       "      <th>inReplyTo</th>\n",
       "      <th>source</th>\n",
       "      <th>truncated</th>\n",
       "      <th>...</th>\n",
       "      <th>placeLongitude</th>\n",
       "      <th>sourceName</th>\n",
       "      <th>sourceUrl</th>\n",
       "      <th>userName</th>\n",
       "      <th>screenName</th>\n",
       "      <th>followersCount</th>\n",
       "      <th>friendsCount</th>\n",
       "      <th>statusesCount</th>\n",
       "      <th>userLocation</th>\n",
       "      <th>hashtag</th>\n",
       "    </tr>\n",
       "  </thead>\n",
       "  <tbody>\n",
       "    <tr>\n",
       "      <th>16</th>\n",
       "      <td>9519737890</td>\n",
       "      <td>14657884.0</td>\n",
       "      <td>2010-02-23 09:59:41</td>\n",
       "      <td>Magic spells run off after midnight, I guess s...</td>\n",
       "      <td>6.1387</td>\n",
       "      <td>46.175</td>\n",
       "      <td>NaN</td>\n",
       "      <td>NaN</td>\n",
       "      <td>1.0</td>\n",
       "      <td>NaN</td>\n",
       "      <td>...</td>\n",
       "      <td>NaN</td>\n",
       "      <td>NaN</td>\n",
       "      <td>NaN</td>\n",
       "      <td>NaN</td>\n",
       "      <td>NaN</td>\n",
       "      <td>NaN</td>\n",
       "      <td>NaN</td>\n",
       "      <td>NaN</td>\n",
       "      <td>NaN</td>\n",
       "      <td>[fb]</td>\n",
       "    </tr>\n",
       "    <tr>\n",
       "      <th>20</th>\n",
       "      <td>9521789689</td>\n",
       "      <td>9962022.0</td>\n",
       "      <td>2010-02-23 11:28:27</td>\n",
       "      <td>Limitas of public transportation! No taxi, rai...</td>\n",
       "      <td>6.33641</td>\n",
       "      <td>46.4631</td>\n",
       "      <td>NaN</td>\n",
       "      <td>NaN</td>\n",
       "      <td>550.0</td>\n",
       "      <td>NaN</td>\n",
       "      <td>...</td>\n",
       "      <td>NaN</td>\n",
       "      <td>NaN</td>\n",
       "      <td>NaN</td>\n",
       "      <td>NaN</td>\n",
       "      <td>NaN</td>\n",
       "      <td>NaN</td>\n",
       "      <td>NaN</td>\n",
       "      <td>NaN</td>\n",
       "      <td>NaN</td>\n",
       "      <td>[yam]</td>\n",
       "    </tr>\n",
       "  </tbody>\n",
       "</table>\n",
       "<p>2 rows × 21 columns</p>\n",
       "</div>"
      ],
      "text/plain": [
       "            id      userId            createdAt  \\\n",
       "16  9519737890  14657884.0  2010-02-23 09:59:41   \n",
       "20  9521789689   9962022.0  2010-02-23 11:28:27   \n",
       "\n",
       "                                                 text longitude latitude  \\\n",
       "16  Magic spells run off after midnight, I guess s...    6.1387   46.175   \n",
       "20  Limitas of public transportation! No taxi, rai...   6.33641  46.4631   \n",
       "\n",
       "   placeId  inReplyTo  source  truncated   ...    placeLongitude  sourceName  \\\n",
       "16     NaN        NaN     1.0        NaN   ...               NaN         NaN   \n",
       "20     NaN        NaN   550.0        NaN   ...               NaN         NaN   \n",
       "\n",
       "    sourceUrl  userName  screenName  followersCount  friendsCount  \\\n",
       "16        NaN       NaN         NaN             NaN           NaN   \n",
       "20        NaN       NaN         NaN             NaN           NaN   \n",
       "\n",
       "    statusesCount  userLocation  hashtag  \n",
       "16            NaN           NaN     [fb]  \n",
       "20            NaN           NaN    [yam]  \n",
       "\n",
       "[2 rows x 21 columns]"
      ]
     },
     "execution_count": 47,
     "metadata": {},
     "output_type": "execute_result"
    }
   ],
   "source": [
    "twh.head(2)"
   ]
  },
  {
   "cell_type": "markdown",
   "metadata": {},
   "source": [
    "## Cleaning data and making date index"
   ]
  },
  {
   "cell_type": "code",
   "execution_count": 48,
   "metadata": {
    "collapsed": false
   },
   "outputs": [
    {
     "name": "stdout",
     "output_type": "stream",
     "text": [
      "The data have been reduced from 79200 tweets to 79200 tweets.\n"
     ]
    }
   ],
   "source": [
    "tw1 = twh.dropna(axis=0, how='any', subset=['text', 'createdAt'])\n",
    "print('The data have been reduced from {} tweets to {} tweets.'.format(len(twh), len(tw1)))"
   ]
  },
  {
   "cell_type": "code",
   "execution_count": 49,
   "metadata": {
    "collapsed": false
   },
   "outputs": [
    {
     "name": "stdout",
     "output_type": "stream",
     "text": [
      "19:03:40 Removing bad dates...\n",
      "19:03:40 Finished.\n"
     ]
    }
   ],
   "source": [
    "pr('Removing bad dates...')\n",
    "twhCleanDate = tw1[tw1['createdAt'].str.len() == 19]\n",
    "pr('Finished.')"
   ]
  },
  {
   "cell_type": "code",
   "execution_count": 50,
   "metadata": {
    "collapsed": false
   },
   "outputs": [
    {
     "name": "stdout",
     "output_type": "stream",
     "text": [
      "19:03:40 Starting to examine dates...\n",
      "19:03:41 There are 0 dates that cannot be transformed.\n"
     ]
    }
   ],
   "source": [
    "pr('Starting to examine dates...')\n",
    "import warnings\n",
    "warnings.filterwarnings('ignore')\n",
    "datetime_serie = twhCleanDate['createdAt'].convert_objects(convert_dates='coerce')\n",
    "dateNotConvertible = datetime_serie[pd.isnull(datetime_serie)]\n",
    "warnings.filterwarnings('default')\n",
    "pr('There are {} dates that cannot be transformed.'.format(len(dateNotConvertible)))"
   ]
  },
  {
   "cell_type": "code",
   "execution_count": 51,
   "metadata": {
    "collapsed": false,
    "scrolled": false
   },
   "outputs": [
    {
     "name": "stdout",
     "output_type": "stream",
     "text": [
      "19:03:41 Starting copy...\n",
      "19:03:41 Converting to datetime...\n",
      "19:03:41 Setting up new indices...\n",
      "19:03:41 Deleting old \"createdAt\" column...\n",
      "19:03:41 Done!\n"
     ]
    },
    {
     "data": {
      "text/html": [
       "<div>\n",
       "<table border=\"1\" class=\"dataframe\">\n",
       "  <thead>\n",
       "    <tr style=\"text-align: right;\">\n",
       "      <th></th>\n",
       "      <th>id</th>\n",
       "      <th>userId</th>\n",
       "      <th>text</th>\n",
       "      <th>longitude</th>\n",
       "      <th>latitude</th>\n",
       "      <th>placeId</th>\n",
       "      <th>inReplyTo</th>\n",
       "      <th>source</th>\n",
       "      <th>truncated</th>\n",
       "      <th>placeLatitude</th>\n",
       "      <th>placeLongitude</th>\n",
       "      <th>sourceName</th>\n",
       "      <th>sourceUrl</th>\n",
       "      <th>userName</th>\n",
       "      <th>screenName</th>\n",
       "      <th>followersCount</th>\n",
       "      <th>friendsCount</th>\n",
       "      <th>statusesCount</th>\n",
       "      <th>userLocation</th>\n",
       "      <th>hashtag</th>\n",
       "    </tr>\n",
       "    <tr>\n",
       "      <th>createdAt</th>\n",
       "      <th></th>\n",
       "      <th></th>\n",
       "      <th></th>\n",
       "      <th></th>\n",
       "      <th></th>\n",
       "      <th></th>\n",
       "      <th></th>\n",
       "      <th></th>\n",
       "      <th></th>\n",
       "      <th></th>\n",
       "      <th></th>\n",
       "      <th></th>\n",
       "      <th></th>\n",
       "      <th></th>\n",
       "      <th></th>\n",
       "      <th></th>\n",
       "      <th></th>\n",
       "      <th></th>\n",
       "      <th></th>\n",
       "      <th></th>\n",
       "    </tr>\n",
       "  </thead>\n",
       "  <tbody>\n",
       "    <tr>\n",
       "      <th>2010-02-23 09:59:41</th>\n",
       "      <td>9519737890</td>\n",
       "      <td>14657884.0</td>\n",
       "      <td>Magic spells run off after midnight, I guess s...</td>\n",
       "      <td>6.1387</td>\n",
       "      <td>46.175</td>\n",
       "      <td>NaN</td>\n",
       "      <td>NaN</td>\n",
       "      <td>1.0</td>\n",
       "      <td>NaN</td>\n",
       "      <td>NaN</td>\n",
       "      <td>NaN</td>\n",
       "      <td>NaN</td>\n",
       "      <td>NaN</td>\n",
       "      <td>NaN</td>\n",
       "      <td>NaN</td>\n",
       "      <td>NaN</td>\n",
       "      <td>NaN</td>\n",
       "      <td>NaN</td>\n",
       "      <td>NaN</td>\n",
       "      <td>[fb]</td>\n",
       "    </tr>\n",
       "    <tr>\n",
       "      <th>2010-02-23 11:28:27</th>\n",
       "      <td>9521789689</td>\n",
       "      <td>9962022.0</td>\n",
       "      <td>Limitas of public transportation! No taxi, rai...</td>\n",
       "      <td>6.33641</td>\n",
       "      <td>46.4631</td>\n",
       "      <td>NaN</td>\n",
       "      <td>NaN</td>\n",
       "      <td>550.0</td>\n",
       "      <td>NaN</td>\n",
       "      <td>NaN</td>\n",
       "      <td>NaN</td>\n",
       "      <td>NaN</td>\n",
       "      <td>NaN</td>\n",
       "      <td>NaN</td>\n",
       "      <td>NaN</td>\n",
       "      <td>NaN</td>\n",
       "      <td>NaN</td>\n",
       "      <td>NaN</td>\n",
       "      <td>NaN</td>\n",
       "      <td>[yam]</td>\n",
       "    </tr>\n",
       "  </tbody>\n",
       "</table>\n",
       "</div>"
      ],
      "text/plain": [
       "                             id      userId  \\\n",
       "createdAt                                     \n",
       "2010-02-23 09:59:41  9519737890  14657884.0   \n",
       "2010-02-23 11:28:27  9521789689   9962022.0   \n",
       "\n",
       "                                                                  text  \\\n",
       "createdAt                                                                \n",
       "2010-02-23 09:59:41  Magic spells run off after midnight, I guess s...   \n",
       "2010-02-23 11:28:27  Limitas of public transportation! No taxi, rai...   \n",
       "\n",
       "                    longitude latitude placeId  inReplyTo  source  truncated  \\\n",
       "createdAt                                                                      \n",
       "2010-02-23 09:59:41    6.1387   46.175     NaN        NaN     1.0        NaN   \n",
       "2010-02-23 11:28:27   6.33641  46.4631     NaN        NaN   550.0        NaN   \n",
       "\n",
       "                    placeLatitude  placeLongitude  sourceName  sourceUrl  \\\n",
       "createdAt                                                                  \n",
       "2010-02-23 09:59:41           NaN             NaN         NaN        NaN   \n",
       "2010-02-23 11:28:27           NaN             NaN         NaN        NaN   \n",
       "\n",
       "                     userName  screenName  followersCount  friendsCount  \\\n",
       "createdAt                                                                 \n",
       "2010-02-23 09:59:41       NaN         NaN             NaN           NaN   \n",
       "2010-02-23 11:28:27       NaN         NaN             NaN           NaN   \n",
       "\n",
       "                     statusesCount  userLocation hashtag  \n",
       "createdAt                                                 \n",
       "2010-02-23 09:59:41            NaN           NaN    [fb]  \n",
       "2010-02-23 11:28:27            NaN           NaN   [yam]  "
      ]
     },
     "execution_count": 51,
     "metadata": {},
     "output_type": "execute_result"
    }
   ],
   "source": [
    "pr('Starting copy...') # (to avoid transformation problems)\n",
    "tw5 = twhCleanDate.copy()\n",
    "pr('Converting to datetime...')\n",
    "tw5['createdAt'] = pd.to_datetime(twhCleanDate['createdAt'])\n",
    "pr('Setting up new indices...')\n",
    "tw5.index = tw5['createdAt']\n",
    "pr('Deleting old \"createdAt\" column...')\n",
    "del tw5['createdAt']\n",
    "pr('Done!')\n",
    "tw5.head(2)"
   ]
  },
  {
   "cell_type": "code",
   "execution_count": 52,
   "metadata": {
    "collapsed": false
   },
   "outputs": [
    {
     "data": {
      "text/plain": [
       "createdAt\n",
       "2010-02-23 09:59:41               [fb]\n",
       "2010-02-23 11:28:27              [yam]\n",
       "2010-02-23 17:47:11          [24, vfb]\n",
       "2010-02-23 18:19:03    [iphoneography]\n",
       "2010-02-23 18:31:46     [partnermonth]\n",
       "2010-02-24 06:09:23      [insider, fb]\n",
       "Name: hashtag, dtype: object"
      ]
     },
     "execution_count": 52,
     "metadata": {},
     "output_type": "execute_result"
    }
   ],
   "source": [
    "tw5['hashtag'][:6]"
   ]
  },
  {
   "cell_type": "markdown",
   "metadata": {},
   "source": [
    "## Let's put one hashtag per row"
   ]
  },
  {
   "cell_type": "markdown",
   "metadata": {
    "collapsed": false
   },
   "source": [
    "We will make a dataframe with one row = one hashtag. This will be done by going through the dataframe, and making in parallel a list of rows (with 1 hashtag per row) that needs to be added to the old dataframe."
   ]
  },
  {
   "cell_type": "code",
   "execution_count": 53,
   "metadata": {
    "collapsed": false
   },
   "outputs": [],
   "source": [
    "addedHashtagsRowsList = []\n",
    "def multiplyHashtagRows(row, columns):\n",
    "    '''\n",
    "    Examine each row. If there are multiple hashtags, it will return the first one.\n",
    "    (so the first one will replace the list of hashtags in the df). Then for all the next ones,\n",
    "    it will make a copy of the row in the addedHashtagsRowsList, (in a dictionary format).\n",
    "    So this dictionary can in the end be transformed in a DF and added to the original DF.\n",
    "    (The speed is increased a lot by doing it this way!)\n",
    "    '''\n",
    "    htList = row.hashtag\n",
    "    if len(htList) > 1:\n",
    "        ## Making the dictionary\n",
    "        addedHashtag = {}\n",
    "        addedHashtag['createdAt'] = row.name #the df index\n",
    "        for col in columns:\n",
    "            addedHashtag[col] = row[col]\n",
    "        ## Copying the dict for each hashtag\n",
    "        i = 1\n",
    "        while i < len(htList) :\n",
    "            deepCopy = copy.deepcopy(addedHashtag)\n",
    "            deepCopy['hashtag'] = htList[i]\n",
    "            addedHashtagsRowsList.append(deepCopy)\n",
    "            i+=1\n",
    "    return htList[0] # return the first hashtag"
   ]
  },
  {
   "cell_type": "code",
   "execution_count": 54,
   "metadata": {
    "collapsed": false
   },
   "outputs": [
    {
     "name": "stdout",
     "output_type": "stream",
     "text": [
      "19:03:42 Multiplying the hashtag rows... (around 10 min)\n",
      "19:04:15 Finished! 40780 rows will be added to the dataframe!\n"
     ]
    }
   ],
   "source": [
    "addedHashtagsRowsList = []\n",
    "tw5_1 = tw5.copy()\n",
    "pr('Multiplying the hashtag rows... (around 10 min)')\n",
    "tw5_1['hashtag'] = tw5.apply(multiplyHashtagRows, args=[tw5.columns,], axis=1)\n",
    "pr('Finished! {} rows will be added to the dataframe!'.format(len(addedHashtagsRowsList)))"
   ]
  },
  {
   "cell_type": "code",
   "execution_count": 55,
   "metadata": {
    "collapsed": false
   },
   "outputs": [
    {
     "name": "stdout",
     "output_type": "stream",
     "text": [
      "19:04:15 Starting to make the new dataframe with additionnal rows..\n",
      "19:04:16 Starting to append the two df... Old df size = 79162\n",
      "19:04:16 Done! New df size = 119942\n"
     ]
    }
   ],
   "source": [
    "pr('Starting to make the new dataframe with additionnal rows..')\n",
    "addedHashtagsDf = pd.DataFrame(addedHashtagsRowsList)\n",
    "addedHashtagsDf.set_index(['createdAt'], inplace=True)\n",
    "pr('Starting to append the two df... Old df size = {}'.format(len(tw5_1)))\n",
    "tw6 = tw5_1.append(addedHashtagsDf)\n",
    "pr('Done! New df size = {}'.format(len(tw6)))"
   ]
  },
  {
   "cell_type": "code",
   "execution_count": 56,
   "metadata": {
    "collapsed": false
   },
   "outputs": [
    {
     "name": "stdout",
     "output_type": "stream",
     "text": [
      "Example hahshtag:\n"
     ]
    },
    {
     "data": {
      "text/html": [
       "<div>\n",
       "<table border=\"1\" class=\"dataframe\">\n",
       "  <thead>\n",
       "    <tr style=\"text-align: right;\">\n",
       "      <th></th>\n",
       "      <th>followersCount</th>\n",
       "      <th>friendsCount</th>\n",
       "      <th>hashtag</th>\n",
       "      <th>id</th>\n",
       "      <th>inReplyTo</th>\n",
       "      <th>latitude</th>\n",
       "      <th>longitude</th>\n",
       "      <th>placeId</th>\n",
       "      <th>placeLatitude</th>\n",
       "      <th>placeLongitude</th>\n",
       "      <th>screenName</th>\n",
       "      <th>source</th>\n",
       "      <th>sourceName</th>\n",
       "      <th>sourceUrl</th>\n",
       "      <th>statusesCount</th>\n",
       "      <th>text</th>\n",
       "      <th>truncated</th>\n",
       "      <th>userId</th>\n",
       "      <th>userLocation</th>\n",
       "      <th>userName</th>\n",
       "    </tr>\n",
       "    <tr>\n",
       "      <th>createdAt</th>\n",
       "      <th></th>\n",
       "      <th></th>\n",
       "      <th></th>\n",
       "      <th></th>\n",
       "      <th></th>\n",
       "      <th></th>\n",
       "      <th></th>\n",
       "      <th></th>\n",
       "      <th></th>\n",
       "      <th></th>\n",
       "      <th></th>\n",
       "      <th></th>\n",
       "      <th></th>\n",
       "      <th></th>\n",
       "      <th></th>\n",
       "      <th></th>\n",
       "      <th></th>\n",
       "      <th></th>\n",
       "      <th></th>\n",
       "      <th></th>\n",
       "    </tr>\n",
       "  </thead>\n",
       "  <tbody>\n",
       "    <tr>\n",
       "      <th>2011-07-24 16:03:13</th>\n",
       "      <td>NaN</td>\n",
       "      <td>NaN</td>\n",
       "      <td>vfb</td>\n",
       "      <td>95162125584039936</td>\n",
       "      <td>9.501397e+16</td>\n",
       "      <td>NaN</td>\n",
       "      <td>NaN</td>\n",
       "      <td>e401fb8eb4e7595a</td>\n",
       "      <td>NaN</td>\n",
       "      <td>NaN</td>\n",
       "      <td>NaN</td>\n",
       "      <td>14.0</td>\n",
       "      <td>NaN</td>\n",
       "      <td>NaN</td>\n",
       "      <td>NaN</td>\n",
       "      <td>@mikstweed Wie lange ist es her, dass der #vfb...</td>\n",
       "      <td>NaN</td>\n",
       "      <td>921241.0</td>\n",
       "      <td>NaN</td>\n",
       "      <td>NaN</td>\n",
       "    </tr>\n",
       "    <tr>\n",
       "      <th>2010-02-23 17:47:11</th>\n",
       "      <td>NaN</td>\n",
       "      <td>NaN</td>\n",
       "      <td>vfb</td>\n",
       "      <td>9535390586</td>\n",
       "      <td>NaN</td>\n",
       "      <td>47.6463</td>\n",
       "      <td>9.1657</td>\n",
       "      <td>NaN</td>\n",
       "      <td>NaN</td>\n",
       "      <td>NaN</td>\n",
       "      <td>NaN</td>\n",
       "      <td>550.0</td>\n",
       "      <td>NaN</td>\n",
       "      <td>NaN</td>\n",
       "      <td>NaN</td>\n",
       "      <td>So, Feierabend. Jetzt #24 und später #VfB. — a...</td>\n",
       "      <td>NaN</td>\n",
       "      <td>921241.0</td>\n",
       "      <td>NaN</td>\n",
       "      <td>NaN</td>\n",
       "    </tr>\n",
       "    <tr>\n",
       "      <th>2010-12-01 17:25:56</th>\n",
       "      <td>NaN</td>\n",
       "      <td>NaN</td>\n",
       "      <td>vfb</td>\n",
       "      <td>10021795398684672</td>\n",
       "      <td>NaN</td>\n",
       "      <td>46.9499</td>\n",
       "      <td>7.47071</td>\n",
       "      <td>e38a1a641d02f8db</td>\n",
       "      <td>NaN</td>\n",
       "      <td>NaN</td>\n",
       "      <td>NaN</td>\n",
       "      <td>1.0</td>\n",
       "      <td>NaN</td>\n",
       "      <td>NaN</td>\n",
       "      <td>NaN</td>\n",
       "      <td>So, und jetzt Flachmann suchen und dann ab ins...</td>\n",
       "      <td>NaN</td>\n",
       "      <td>120433.0</td>\n",
       "      <td>NaN</td>\n",
       "      <td>NaN</td>\n",
       "    </tr>\n",
       "  </tbody>\n",
       "</table>\n",
       "</div>"
      ],
      "text/plain": [
       "                     followersCount  friendsCount hashtag                 id  \\\n",
       "createdAt                                                                      \n",
       "2011-07-24 16:03:13             NaN           NaN     vfb  95162125584039936   \n",
       "2010-02-23 17:47:11             NaN           NaN     vfb         9535390586   \n",
       "2010-12-01 17:25:56             NaN           NaN     vfb  10021795398684672   \n",
       "\n",
       "                        inReplyTo latitude longitude           placeId  \\\n",
       "createdAt                                                                \n",
       "2011-07-24 16:03:13  9.501397e+16      NaN       NaN  e401fb8eb4e7595a   \n",
       "2010-02-23 17:47:11           NaN  47.6463    9.1657               NaN   \n",
       "2010-12-01 17:25:56           NaN  46.9499   7.47071  e38a1a641d02f8db   \n",
       "\n",
       "                    placeLatitude  placeLongitude  screenName  source  \\\n",
       "createdAt                                                               \n",
       "2011-07-24 16:03:13           NaN             NaN         NaN    14.0   \n",
       "2010-02-23 17:47:11           NaN             NaN         NaN   550.0   \n",
       "2010-12-01 17:25:56           NaN             NaN         NaN     1.0   \n",
       "\n",
       "                     sourceName  sourceUrl  statusesCount  \\\n",
       "createdAt                                                   \n",
       "2011-07-24 16:03:13         NaN        NaN            NaN   \n",
       "2010-02-23 17:47:11         NaN        NaN            NaN   \n",
       "2010-12-01 17:25:56         NaN        NaN            NaN   \n",
       "\n",
       "                                                                  text  \\\n",
       "createdAt                                                                \n",
       "2011-07-24 16:03:13  @mikstweed Wie lange ist es her, dass der #vfb...   \n",
       "2010-02-23 17:47:11  So, Feierabend. Jetzt #24 und später #VfB. — a...   \n",
       "2010-12-01 17:25:56  So, und jetzt Flachmann suchen und dann ab ins...   \n",
       "\n",
       "                     truncated    userId  userLocation  userName  \n",
       "createdAt                                                         \n",
       "2011-07-24 16:03:13        NaN  921241.0           NaN       NaN  \n",
       "2010-02-23 17:47:11        NaN  921241.0           NaN       NaN  \n",
       "2010-12-01 17:25:56        NaN  120433.0           NaN       NaN  "
      ]
     },
     "execution_count": 56,
     "metadata": {},
     "output_type": "execute_result"
    }
   ],
   "source": [
    "print('Example hahshtag:')\n",
    "tw6[tw6['hashtag'] == addedHashtagsRowsList[0]['hashtag']].head(3)"
   ]
  },
  {
   "cell_type": "code",
   "execution_count": 57,
   "metadata": {
    "collapsed": false
   },
   "outputs": [
    {
     "data": {
      "text/plain": [
       "createdAt\n",
       "2010-02-23 09:59:41               fb\n",
       "2010-02-23 11:28:27              yam\n",
       "2010-02-23 17:47:11               24\n",
       "2010-02-23 18:19:03    iphoneography\n",
       "2010-02-23 18:31:46     partnermonth\n",
       "Name: hashtag, dtype: object"
      ]
     },
     "execution_count": 57,
     "metadata": {},
     "output_type": "execute_result"
    }
   ],
   "source": [
    "tw6.hashtag.head()"
   ]
  },
  {
   "cell_type": "markdown",
   "metadata": {},
   "source": [
    "## Aggregation of rows by date"
   ]
  },
  {
   "cell_type": "code",
   "execution_count": 58,
   "metadata": {
    "collapsed": false
   },
   "outputs": [],
   "source": [
    "tw6.dropna(subset=['longitude'], inplace=True)\n",
    "tw6.dropna(subset=['latitude'], inplace=True)"
   ]
  },
  {
   "cell_type": "code",
   "execution_count": 59,
   "metadata": {
    "collapsed": false
   },
   "outputs": [],
   "source": [
    "tw6.latitude = tw6.latitude.apply(float)\n",
    "tw6.longitude = tw6.longitude.apply(float)"
   ]
  },
  {
   "cell_type": "code",
   "execution_count": 60,
   "metadata": {
    "collapsed": true
   },
   "outputs": [],
   "source": [
    "delimiter = '_$$$_'\n",
    "str_join = lambda x: delimiter.join(x)"
   ]
  },
  {
   "cell_type": "markdown",
   "metadata": {},
   "source": [
    "Function that applies to a dataframe will group each row by day and aggregate all its content:"
   ]
  },
  {
   "cell_type": "code",
   "execution_count": 61,
   "metadata": {
    "collapsed": false
   },
   "outputs": [],
   "source": [
    "def aggDate(df):\n",
    "    groupedDf = df.groupby(df.index.map(lambda x: x.date)).agg({'text' : str_join,\n",
    "                                                          'longitude' : np.median,\n",
    "                                                          'latitude' : np.median,\n",
    "                                                          'hashtag' : lambda x: x.iloc[0], ## the first occurence\n",
    "                                                          'numberOfTweets' : 'count'})\n",
    "    return groupedDf"
   ]
  },
  {
   "cell_type": "code",
   "execution_count": 62,
   "metadata": {
    "collapsed": false
   },
   "outputs": [
    {
     "name": "stdout",
     "output_type": "stream",
     "text": [
      "19:04:17 Making column number of tweets\n",
      "19:04:17 Starting group by hastag...\n",
      "19:04:17 Starting to put hashtag in dictionary... (around 50 min)\n",
      "19:04:51 10%\n",
      "19:05:23 20%\n",
      "19:05:56 30%\n",
      "19:06:28 40%\n",
      "19:07:01 50%\n",
      "19:07:31 60%\n",
      "19:08:01 70%\n",
      "19:08:35 80%\n",
      "19:09:10 90%\n",
      "19:09:42 100%\n",
      "19:09:42 Finished operations! Dictionary with 27040 different hashtags.\n"
     ]
    }
   ],
   "source": [
    "pr('Making column number of tweets')\n",
    "tw6['numberOfTweets'] = 1\n",
    "pr('Starting group by hastag...')\n",
    "gp = tw6.groupby('hashtag')\n",
    "pr('Starting to put hashtag in dictionary... (around 50 min)')\n",
    "\n",
    "count = 0\n",
    "lengp = len(gp)\n",
    "printingValue = int(lengp / 10)\n",
    "dictionary = {}\n",
    "for hashtag, df in gp:\n",
    "    dictionary[hashtag] = aggDate(df)\n",
    "    count += 1\n",
    "    if count % printingValue == 0:\n",
    "        pr(\"{:.0f}%\".format(count/lengp*100))\n",
    "pr('Finished operations! Dictionary with {} different hashtags.'.format(len(dictionary)))"
   ]
  },
  {
   "cell_type": "code",
   "execution_count": 63,
   "metadata": {
    "collapsed": false
   },
   "outputs": [
    {
     "name": "stdout",
     "output_type": "stream",
     "text": [
      "Dictionary with hashtags dataframes:\n"
     ]
    },
    {
     "data": {
      "text/html": [
       "<div>\n",
       "<table border=\"1\" class=\"dataframe\">\n",
       "  <thead>\n",
       "    <tr style=\"text-align: right;\">\n",
       "      <th></th>\n",
       "      <th>latitude</th>\n",
       "      <th>text</th>\n",
       "      <th>longitude</th>\n",
       "      <th>numberOfTweets</th>\n",
       "      <th>hashtag</th>\n",
       "    </tr>\n",
       "  </thead>\n",
       "  <tbody>\n",
       "    <tr>\n",
       "      <th>2010-03-09</th>\n",
       "      <td>46.8819</td>\n",
       "      <td>Mmmh im #Tellbus mit #Maisbrötli — at Bus Halt...</td>\n",
       "      <td>8.64366</td>\n",
       "      <td>1</td>\n",
       "      <td>maisbrötli</td>\n",
       "    </tr>\n",
       "  </tbody>\n",
       "</table>\n",
       "</div>"
      ],
      "text/plain": [
       "            latitude                                               text  \\\n",
       "2010-03-09   46.8819  Mmmh im #Tellbus mit #Maisbrötli — at Bus Halt...   \n",
       "\n",
       "            longitude  numberOfTweets     hashtag  \n",
       "2010-03-09    8.64366               1  maisbrötli  "
      ]
     },
     "execution_count": 63,
     "metadata": {},
     "output_type": "execute_result"
    }
   ],
   "source": [
    "# aggDate(gp.get_group('twibisg')).head(3)\n",
    "# dictionary['twibisg'].head(3)\n",
    "print('Dictionary with hashtags dataframes:')\n",
    "dictionary[list(dictionary.keys())[5]].head(4)"
   ]
  },
  {
   "cell_type": "markdown",
   "metadata": {},
   "source": [
    "## Starting event detection"
   ]
  },
  {
   "cell_type": "code",
   "execution_count": 64,
   "metadata": {
    "collapsed": true
   },
   "outputs": [],
   "source": [
    "## Parameters of an event:\n",
    "MIN_TOT_NB_TWEETS = 20 ## The hashtag must have happened at least this number of times to be considered.\n",
    "MIN_NB_DAYS_WITH_HASHTAGS = 3 ## The hashtags must appear at least this number of different days to be considered.\n",
    "MIN_NB_TWEETS_DURING_EVENT = 5 ## To be considered an event, the hashtag must happen at least this nb of times during the day.\n",
    "THRESHOLD_ANOMALY_FACTOR = 2 ## The occurence of a hashtag during a single day must be above the mean by this FACTOR\n",
    "                             ## multiplied by the std to be considered as an anomaly."
   ]
  },
  {
   "cell_type": "code",
   "execution_count": 65,
   "metadata": {
    "collapsed": false,
    "scrolled": false
   },
   "outputs": [
    {
     "name": "stdout",
     "output_type": "stream",
     "text": [
      "19:09:42 Starting to compute 27040 dict items to detect event. (4 min)\n",
      "19:09:45 10%\n",
      "19:09:47 20%\n",
      "19:09:50 30%\n",
      "19:09:52 40%\n",
      "19:09:55 50%\n",
      "19:09:57 60%\n",
      "19:10:00 70%\n",
      "19:10:02 80%\n",
      "19:10:04 90%\n",
      "19:10:07 100%\n",
      "19:10:07 Finished! Number of events detected = 260\n"
     ]
    }
   ],
   "source": [
    "pr('Starting to compute {} dict items to detect event. (4 min)'.format(len(dictionary)))\n",
    "nbOfEventDetected = 0\n",
    "count = 0\n",
    "printingValue = int(len(dictionary) / 10)\n",
    "for [h,df] in dictionary.items():\n",
    "    count += 1\n",
    "    if count % printingValue == 0:\n",
    "        pr(\"{:.0f}%\".format(count/len(dictionary)*100))\n",
    "    df['event'] = False\n",
    "    if len(df) > MIN_NB_DAYS_WITH_HASHTAGS:\n",
    "        if df['numberOfTweets'].sum() > MIN_TOT_NB_TWEETS:\n",
    "            threshold = df['numberOfTweets'].mean() + THRESHOLD_ANOMALY_FACTOR * df['numberOfTweets'].std()\n",
    "            df['event'] = df.numberOfTweets.apply(lambda x: x > threshold and x > MIN_NB_TWEETS_DURING_EVENT)\n",
    "            nbOfEventDetected += len(df[df['event']])\n",
    "pr('Finished! Number of events detected = {}'.format(nbOfEventDetected))"
   ]
  },
  {
   "cell_type": "markdown",
   "metadata": {},
   "source": [
    "## Making single event dataframe"
   ]
  },
  {
   "cell_type": "code",
   "execution_count": 66,
   "metadata": {
    "collapsed": false
   },
   "outputs": [],
   "source": [
    "eventRowsList = []\n",
    "def applyToMakeEventDf(row):\n",
    "    if row.event:\n",
    "        rowToAdd = {'date': row.name, 'hashtag': row.hashtag, 'text': row.text,\n",
    "                    'longitude': row.longitude, 'latitude':row.latitude, 'numberOfTweets': row.numberOfTweets, }\n",
    "        eventRowsList.append(rowToAdd)"
   ]
  },
  {
   "cell_type": "code",
   "execution_count": 67,
   "metadata": {
    "collapsed": false
   },
   "outputs": [
    {
     "name": "stdout",
     "output_type": "stream",
     "text": [
      "19:10:07 Starting to make event df with 27040 dataframes. (around 6 min)\n",
      "19:10:14 10%\n",
      "19:10:19 20%\n",
      "19:10:25 30%\n",
      "19:10:31 40%\n",
      "19:10:36 50%\n",
      "19:10:42 60%\n",
      "19:10:47 70%\n",
      "19:10:52 80%\n",
      "19:10:57 90%\n",
      "19:11:03 100%\n",
      "19:11:03 Making new dataframe.\n",
      "19:11:03 Finished! Dataframe with 260 rows\n"
     ]
    }
   ],
   "source": [
    "eventRowsList = []\n",
    "count = 0\n",
    "printingValue = int(len(dictionary) / 10)\n",
    "\n",
    "pr('Starting to make event df with {} dataframes. (around 6 min)'.format(len(dictionary)))\n",
    "for h, df in dictionary.items():\n",
    "    count += 1\n",
    "    if count % printingValue == 0:\n",
    "        pr(\"{:.0f}%\".format(count/len(dictionary)*100))\n",
    "    df.apply(applyToMakeEventDf, axis=1)\n",
    "\n",
    "pr('Making new dataframe.')\n",
    "new_events = pd.DataFrame(eventRowsList)\n",
    "new_events.set_index(['date'], inplace=True)\n",
    "pr('Finished! Dataframe with {} rows'.format(len(new_events)))"
   ]
  },
  {
   "cell_type": "code",
   "execution_count": 68,
   "metadata": {
    "collapsed": false
   },
   "outputs": [
    {
     "name": "stdout",
     "output_type": "stream",
     "text": [
      "Events dataframe:\n"
     ]
    },
    {
     "data": {
      "text/html": [
       "<div>\n",
       "<table border=\"1\" class=\"dataframe\">\n",
       "  <thead>\n",
       "    <tr style=\"text-align: right;\">\n",
       "      <th></th>\n",
       "      <th>hashtag</th>\n",
       "      <th>latitude</th>\n",
       "      <th>longitude</th>\n",
       "      <th>numberOfTweets</th>\n",
       "      <th>text</th>\n",
       "    </tr>\n",
       "    <tr>\n",
       "      <th>date</th>\n",
       "      <th></th>\n",
       "      <th></th>\n",
       "      <th></th>\n",
       "      <th></th>\n",
       "      <th></th>\n",
       "    </tr>\n",
       "  </thead>\n",
       "  <tbody>\n",
       "    <tr>\n",
       "      <th>2012-05-10</th>\n",
       "      <td>physician</td>\n",
       "      <td>47.71160</td>\n",
       "      <td>9.458630</td>\n",
       "      <td>14</td>\n",
       "      <td>Arrow Electronics: Internal Product Special......</td>\n",
       "    </tr>\n",
       "    <tr>\n",
       "      <th>2011-06-08</th>\n",
       "      <td>ios5</td>\n",
       "      <td>47.48500</td>\n",
       "      <td>8.297210</td>\n",
       "      <td>9</td>\n",
       "      <td>@AndreBonhote einstellungen gemacht? #ios5  ht...</td>\n",
       "    </tr>\n",
       "    <tr>\n",
       "      <th>2011-10-02</th>\n",
       "      <td>fcz</td>\n",
       "      <td>47.38230</td>\n",
       "      <td>8.503910</td>\n",
       "      <td>13</td>\n",
       "      <td>@DavidWiederkehr doch! Man kann, wenn man will...</td>\n",
       "    </tr>\n",
       "    <tr>\n",
       "      <th>2011-09-11</th>\n",
       "      <td>osx</td>\n",
       "      <td>47.50000</td>\n",
       "      <td>8.750000</td>\n",
       "      <td>6</td>\n",
       "      <td>Hm, whys #OSX not using the #VPN I've just now...</td>\n",
       "    </tr>\n",
       "    <tr>\n",
       "      <th>2012-05-16</th>\n",
       "      <td>ilike</td>\n",
       "      <td>47.36870</td>\n",
       "      <td>7.989945</td>\n",
       "      <td>6</td>\n",
       "      <td>Freue mich jetzt schon auf die leckere Bratkar...</td>\n",
       "    </tr>\n",
       "    <tr>\n",
       "      <th>2012-05-07</th>\n",
       "      <td>switzerland</td>\n",
       "      <td>46.47450</td>\n",
       "      <td>6.909680</td>\n",
       "      <td>13</td>\n",
       "      <td>So good to be back #switzerland #lausanne  @ S...</td>\n",
       "    </tr>\n",
       "    <tr>\n",
       "      <th>2012-05-09</th>\n",
       "      <td>switzerland</td>\n",
       "      <td>46.90690</td>\n",
       "      <td>8.045940</td>\n",
       "      <td>10</td>\n",
       "      <td>trip to geneva today :-)  #switzerland_$$$_Luc...</td>\n",
       "    </tr>\n",
       "    <tr>\n",
       "      <th>2012-05-10</th>\n",
       "      <td>switzerland</td>\n",
       "      <td>47.04785</td>\n",
       "      <td>7.947230</td>\n",
       "      <td>10</td>\n",
       "      <td>OMG Lavaux! You're so effing beautiful!!! #Swi...</td>\n",
       "    </tr>\n",
       "    <tr>\n",
       "      <th>2012-05-17</th>\n",
       "      <td>switzerland</td>\n",
       "      <td>46.50615</td>\n",
       "      <td>6.630930</td>\n",
       "      <td>12</td>\n",
       "      <td>#Switzerland: a new version of the good old \"s...</td>\n",
       "    </tr>\n",
       "    <tr>\n",
       "      <th>2012-05-20</th>\n",
       "      <td>switzerland</td>\n",
       "      <td>46.54005</td>\n",
       "      <td>7.238690</td>\n",
       "      <td>24</td>\n",
       "      <td>Good morning from #switzerland  @ Grand Hotel ...</td>\n",
       "    </tr>\n",
       "  </tbody>\n",
       "</table>\n",
       "</div>"
      ],
      "text/plain": [
       "                hashtag  latitude  longitude  numberOfTweets  \\\n",
       "date                                                           \n",
       "2012-05-10    physician  47.71160   9.458630              14   \n",
       "2011-06-08         ios5  47.48500   8.297210               9   \n",
       "2011-10-02          fcz  47.38230   8.503910              13   \n",
       "2011-09-11          osx  47.50000   8.750000               6   \n",
       "2012-05-16        ilike  47.36870   7.989945               6   \n",
       "2012-05-07  switzerland  46.47450   6.909680              13   \n",
       "2012-05-09  switzerland  46.90690   8.045940              10   \n",
       "2012-05-10  switzerland  47.04785   7.947230              10   \n",
       "2012-05-17  switzerland  46.50615   6.630930              12   \n",
       "2012-05-20  switzerland  46.54005   7.238690              24   \n",
       "\n",
       "                                                         text  \n",
       "date                                                           \n",
       "2012-05-10  Arrow Electronics: Internal Product Special......  \n",
       "2011-06-08  @AndreBonhote einstellungen gemacht? #ios5  ht...  \n",
       "2011-10-02  @DavidWiederkehr doch! Man kann, wenn man will...  \n",
       "2011-09-11  Hm, whys #OSX not using the #VPN I've just now...  \n",
       "2012-05-16  Freue mich jetzt schon auf die leckere Bratkar...  \n",
       "2012-05-07  So good to be back #switzerland #lausanne  @ S...  \n",
       "2012-05-09  trip to geneva today :-)  #switzerland_$$$_Luc...  \n",
       "2012-05-10  OMG Lavaux! You're so effing beautiful!!! #Swi...  \n",
       "2012-05-17  #Switzerland: a new version of the good old \"s...  \n",
       "2012-05-20  Good morning from #switzerland  @ Grand Hotel ...  "
      ]
     },
     "execution_count": 68,
     "metadata": {},
     "output_type": "execute_result"
    }
   ],
   "source": [
    "print('Events dataframe:')\n",
    "new_events.head(10)"
   ]
  },
  {
   "cell_type": "code",
   "execution_count": 69,
   "metadata": {
    "collapsed": false
   },
   "outputs": [
    {
     "name": "stdout",
     "output_type": "stream",
     "text": [
      "Linked dataframe of all days:\n"
     ]
    },
    {
     "data": {
      "text/html": [
       "<div>\n",
       "<table border=\"1\" class=\"dataframe\">\n",
       "  <thead>\n",
       "    <tr style=\"text-align: right;\">\n",
       "      <th></th>\n",
       "      <th>latitude</th>\n",
       "      <th>text</th>\n",
       "      <th>longitude</th>\n",
       "      <th>numberOfTweets</th>\n",
       "      <th>hashtag</th>\n",
       "      <th>event</th>\n",
       "    </tr>\n",
       "  </thead>\n",
       "  <tbody>\n",
       "    <tr>\n",
       "      <th>2012-04-20</th>\n",
       "      <td>47.36730</td>\n",
       "      <td>#Physician #Job in #Zurich Rooms Systems Speci...</td>\n",
       "      <td>8.550000</td>\n",
       "      <td>1</td>\n",
       "      <td>physician</td>\n",
       "      <td>False</td>\n",
       "    </tr>\n",
       "    <tr>\n",
       "      <th>2012-04-22</th>\n",
       "      <td>47.71160</td>\n",
       "      <td>Arrow Electronics: Internal Product Special......</td>\n",
       "      <td>9.458630</td>\n",
       "      <td>1</td>\n",
       "      <td>physician</td>\n",
       "      <td>False</td>\n",
       "    </tr>\n",
       "    <tr>\n",
       "      <th>2012-04-25</th>\n",
       "      <td>47.36730</td>\n",
       "      <td>#Zurich #Physician #Job: Rooms Systems Special...</td>\n",
       "      <td>8.550000</td>\n",
       "      <td>1</td>\n",
       "      <td>physician</td>\n",
       "      <td>False</td>\n",
       "    </tr>\n",
       "    <tr>\n",
       "      <th>2012-05-04</th>\n",
       "      <td>47.53945</td>\n",
       "      <td>Arrow Electronics: Internal Product Special......</td>\n",
       "      <td>9.004315</td>\n",
       "      <td>2</td>\n",
       "      <td>physician</td>\n",
       "      <td>False</td>\n",
       "    </tr>\n",
       "    <tr>\n",
       "      <th>2012-05-09</th>\n",
       "      <td>47.36730</td>\n",
       "      <td>#Physician #Job alert: Rooms Systems Specialis...</td>\n",
       "      <td>8.550000</td>\n",
       "      <td>1</td>\n",
       "      <td>physician</td>\n",
       "      <td>False</td>\n",
       "    </tr>\n",
       "    <tr>\n",
       "      <th>2012-05-10</th>\n",
       "      <td>47.71160</td>\n",
       "      <td>Arrow Electronics: Internal Product Special......</td>\n",
       "      <td>9.458630</td>\n",
       "      <td>14</td>\n",
       "      <td>physician</td>\n",
       "      <td>True</td>\n",
       "    </tr>\n",
       "    <tr>\n",
       "      <th>2012-05-11</th>\n",
       "      <td>47.71160</td>\n",
       "      <td>Arrow Electronics: Internal Product Special......</td>\n",
       "      <td>9.458630</td>\n",
       "      <td>3</td>\n",
       "      <td>physician</td>\n",
       "      <td>False</td>\n",
       "    </tr>\n",
       "    <tr>\n",
       "      <th>2012-05-16</th>\n",
       "      <td>47.36730</td>\n",
       "      <td>Rooms Systems Specialist - Hyatt International...</td>\n",
       "      <td>8.550000</td>\n",
       "      <td>1</td>\n",
       "      <td>physician</td>\n",
       "      <td>False</td>\n",
       "    </tr>\n",
       "  </tbody>\n",
       "</table>\n",
       "</div>"
      ],
      "text/plain": [
       "            latitude                                               text  \\\n",
       "2012-04-20  47.36730  #Physician #Job in #Zurich Rooms Systems Speci...   \n",
       "2012-04-22  47.71160  Arrow Electronics: Internal Product Special......   \n",
       "2012-04-25  47.36730  #Zurich #Physician #Job: Rooms Systems Special...   \n",
       "2012-05-04  47.53945  Arrow Electronics: Internal Product Special......   \n",
       "2012-05-09  47.36730  #Physician #Job alert: Rooms Systems Specialis...   \n",
       "2012-05-10  47.71160  Arrow Electronics: Internal Product Special......   \n",
       "2012-05-11  47.71160  Arrow Electronics: Internal Product Special......   \n",
       "2012-05-16  47.36730  Rooms Systems Specialist - Hyatt International...   \n",
       "\n",
       "            longitude  numberOfTweets    hashtag  event  \n",
       "2012-04-20   8.550000               1  physician  False  \n",
       "2012-04-22   9.458630               1  physician  False  \n",
       "2012-04-25   8.550000               1  physician  False  \n",
       "2012-05-04   9.004315               2  physician  False  \n",
       "2012-05-09   8.550000               1  physician  False  \n",
       "2012-05-10   9.458630              14  physician   True  \n",
       "2012-05-11   9.458630               3  physician  False  \n",
       "2012-05-16   8.550000               1  physician  False  "
      ]
     },
     "execution_count": 69,
     "metadata": {},
     "output_type": "execute_result"
    }
   ],
   "source": [
    "print('Linked dataframe of all days:')\n",
    "dictionary[new_events.iloc[0].hashtag].head(10)"
   ]
  },
  {
   "cell_type": "markdown",
   "metadata": {},
   "source": [
    "## Exporting data"
   ]
  },
  {
   "cell_type": "code",
   "execution_count": 70,
   "metadata": {
    "collapsed": false,
    "scrolled": true
   },
   "outputs": [
    {
     "data": {
      "text/html": [
       "<div>\n",
       "<table border=\"1\" class=\"dataframe\">\n",
       "  <thead>\n",
       "    <tr style=\"text-align: right;\">\n",
       "      <th></th>\n",
       "      <th>hashtag</th>\n",
       "      <th>latitude</th>\n",
       "      <th>longitude</th>\n",
       "      <th>numberOfTweets</th>\n",
       "      <th>text</th>\n",
       "      <th>date</th>\n",
       "    </tr>\n",
       "  </thead>\n",
       "  <tbody>\n",
       "    <tr>\n",
       "      <th>0</th>\n",
       "      <td>physician</td>\n",
       "      <td>47.7116</td>\n",
       "      <td>9.45863</td>\n",
       "      <td>14</td>\n",
       "      <td>Arrow Electronics: Internal Product Special......</td>\n",
       "      <td>2012-05-10</td>\n",
       "    </tr>\n",
       "  </tbody>\n",
       "</table>\n",
       "</div>"
      ],
      "text/plain": [
       "     hashtag  latitude  longitude  numberOfTweets  \\\n",
       "0  physician   47.7116    9.45863              14   \n",
       "\n",
       "                                                text        date  \n",
       "0  Arrow Electronics: Internal Product Special......  2012-05-10  "
      ]
     },
     "execution_count": 70,
     "metadata": {},
     "output_type": "execute_result"
    }
   ],
   "source": [
    "e_df = new_events.copy()\n",
    "e_df['date'] = e_df.index\n",
    "e_df.index = [i for i in range (len(e_df))]\n",
    "e_df.head(1)"
   ]
  },
  {
   "cell_type": "code",
   "execution_count": 166,
   "metadata": {
    "collapsed": true
   },
   "outputs": [],
   "source": [
    "epoch_dt = datetime(1970, 1, 1)\n",
    "def to_utc(date):\n",
    "    d_dt = datetime.combine(date, datetime.min.time())\n",
    "    return int((d_dt - epoch_dt).total_seconds()*1000)"
   ]
  },
  {
   "cell_type": "code",
   "execution_count": null,
   "metadata": {
    "collapsed": true
   },
   "outputs": [],
   "source": [
    "e_df['utc_date'] = e_df['date'].apply(lambda x: to_utc(x))"
   ]
  },
  {
   "cell_type": "code",
   "execution_count": 164,
   "metadata": {
    "collapsed": true
   },
   "outputs": [],
   "source": [
    "def convert_to_unix_time(record):\n",
    "    datetime_index = pd.DatetimeIndex([datetime(record['year'], record['month'], 1)])\n",
    "    unix_time_index = datetime_index.astype(np.int64) // 10**6\n",
    "    return unix_time_index[0]"
   ]
  },
  {
   "cell_type": "code",
   "execution_count": null,
   "metadata": {
    "collapsed": true
   },
   "outputs": [],
   "source": [
    "e_df['unix_time'] = e_df.apply(convert_to_unix_time, axis=1)"
   ]
  },
  {
   "cell_type": "code",
   "execution_count": 165,
   "metadata": {
    "collapsed": false
   },
   "outputs": [
    {
     "data": {
      "text/html": [
       "<div>\n",
       "<table border=\"1\" class=\"dataframe\">\n",
       "  <thead>\n",
       "    <tr style=\"text-align: right;\">\n",
       "      <th></th>\n",
       "      <th>hashtag</th>\n",
       "      <th>latitude</th>\n",
       "      <th>longitude</th>\n",
       "      <th>numberOfTweets</th>\n",
       "      <th>text</th>\n",
       "      <th>date</th>\n",
       "      <th>year</th>\n",
       "      <th>month</th>\n",
       "      <th>utc_date</th>\n",
       "      <th>unix_time</th>\n",
       "    </tr>\n",
       "  </thead>\n",
       "  <tbody>\n",
       "    <tr>\n",
       "      <th>0</th>\n",
       "      <td>physician</td>\n",
       "      <td>47.7116</td>\n",
       "      <td>9.458630</td>\n",
       "      <td>14</td>\n",
       "      <td>Arrow Electronics: Internal Product Special......</td>\n",
       "      <td>2012-05-10</td>\n",
       "      <td>2012</td>\n",
       "      <td>5</td>\n",
       "      <td>1336608000000</td>\n",
       "      <td>1335830400000</td>\n",
       "    </tr>\n",
       "    <tr>\n",
       "      <th>1</th>\n",
       "      <td>ios5</td>\n",
       "      <td>47.4850</td>\n",
       "      <td>8.297210</td>\n",
       "      <td>9</td>\n",
       "      <td>@AndreBonhote einstellungen gemacht? #ios5  ht...</td>\n",
       "      <td>2011-06-08</td>\n",
       "      <td>2011</td>\n",
       "      <td>6</td>\n",
       "      <td>1307491200000</td>\n",
       "      <td>1306886400000</td>\n",
       "    </tr>\n",
       "    <tr>\n",
       "      <th>2</th>\n",
       "      <td>fcz</td>\n",
       "      <td>47.3823</td>\n",
       "      <td>8.503910</td>\n",
       "      <td>13</td>\n",
       "      <td>@DavidWiederkehr doch! Man kann, wenn man will...</td>\n",
       "      <td>2011-10-02</td>\n",
       "      <td>2011</td>\n",
       "      <td>10</td>\n",
       "      <td>1317513600000</td>\n",
       "      <td>1317427200000</td>\n",
       "    </tr>\n",
       "    <tr>\n",
       "      <th>3</th>\n",
       "      <td>osx</td>\n",
       "      <td>47.5000</td>\n",
       "      <td>8.750000</td>\n",
       "      <td>6</td>\n",
       "      <td>Hm, whys #OSX not using the #VPN I've just now...</td>\n",
       "      <td>2011-09-11</td>\n",
       "      <td>2011</td>\n",
       "      <td>9</td>\n",
       "      <td>1315699200000</td>\n",
       "      <td>1314835200000</td>\n",
       "    </tr>\n",
       "    <tr>\n",
       "      <th>4</th>\n",
       "      <td>ilike</td>\n",
       "      <td>47.3687</td>\n",
       "      <td>7.989945</td>\n",
       "      <td>6</td>\n",
       "      <td>Freue mich jetzt schon auf die leckere Bratkar...</td>\n",
       "      <td>2012-05-16</td>\n",
       "      <td>2012</td>\n",
       "      <td>5</td>\n",
       "      <td>1337126400000</td>\n",
       "      <td>1335830400000</td>\n",
       "    </tr>\n",
       "  </tbody>\n",
       "</table>\n",
       "</div>"
      ],
      "text/plain": [
       "     hashtag  latitude  longitude  numberOfTweets  \\\n",
       "0  physician   47.7116   9.458630              14   \n",
       "1       ios5   47.4850   8.297210               9   \n",
       "2        fcz   47.3823   8.503910              13   \n",
       "3        osx   47.5000   8.750000               6   \n",
       "4      ilike   47.3687   7.989945               6   \n",
       "\n",
       "                                                text        date  year  month  \\\n",
       "0  Arrow Electronics: Internal Product Special......  2012-05-10  2012      5   \n",
       "1  @AndreBonhote einstellungen gemacht? #ios5  ht...  2011-06-08  2011      6   \n",
       "2  @DavidWiederkehr doch! Man kann, wenn man will...  2011-10-02  2011     10   \n",
       "3  Hm, whys #OSX not using the #VPN I've just now...  2011-09-11  2011      9   \n",
       "4  Freue mich jetzt schon auf die leckere Bratkar...  2012-05-16  2012      5   \n",
       "\n",
       "        utc_date      unix_time  \n",
       "0  1336608000000  1335830400000  \n",
       "1  1307491200000  1306886400000  \n",
       "2  1317513600000  1317427200000  \n",
       "3  1315699200000  1314835200000  \n",
       "4  1337126400000  1335830400000  "
      ]
     },
     "execution_count": 165,
     "metadata": {},
     "output_type": "execute_result"
    }
   ],
   "source": [
    "e_df.head()"
   ]
  },
  {
   "cell_type": "code",
   "execution_count": 167,
   "metadata": {
    "collapsed": true
   },
   "outputs": [],
   "source": [
    "e_gb_month = e_df.groupby(e_df.unix_time)"
   ]
  },
  {
   "cell_type": "code",
   "execution_count": 170,
   "metadata": {
    "collapsed": false
   },
   "outputs": [
    {
     "name": "stdout",
     "output_type": "stream",
     "text": [
      "first 18 months \n"
     ]
    }
   ],
   "source": [
    "print('first {0} months '.format(len(e_gb_month.groups)))"
   ]
  },
  {
   "cell_type": "code",
   "execution_count": 177,
   "metadata": {
    "collapsed": false
   },
   "outputs": [],
   "source": [
    "months = []\n",
    "for month, df in e_gb_month:\n",
    "    days = []\n",
    "    for i in range (len(df)):\n",
    "        ht = df.iloc[i]['hashtag']\n",
    "        lat = df.iloc[i]['latitude']\n",
    "        lon = df.iloc[i]['longitude']\n",
    "        t_num = df.iloc[i]['numberOfTweets']\n",
    "        tweets = df.iloc[i]['text'].split(delimiter)\n",
    "        date = df.iloc[i]['utc_date']\n",
    "        \n",
    "        data_unit = { 'name': ht\n",
    "                    , 'latitude' : lat\n",
    "                    , 'longitude' : lon\n",
    "                    , 'tweets' : tweets\n",
    "                    , 'number_of_tweets' : str(t_num)\n",
    "                    , 'date' : int(date)}\n",
    "        days.append(data_unit)\n",
    "    \n",
    "    curr_month = {'date': int(month), 'data' : days}\n",
    "    months.append(curr_month)\n",
    "\n",
    "final_events = {'events' : months}"
   ]
  },
  {
   "cell_type": "code",
   "execution_count": 71,
   "metadata": {
    "collapsed": false
   },
   "outputs": [],
   "source": [
    "#e_gb = e_df.groupby(e_df.date)"
   ]
  },
  {
   "cell_type": "code",
   "execution_count": 74,
   "metadata": {
    "collapsed": false
   },
   "outputs": [
    {
     "name": "stdout",
     "output_type": "stream",
     "text": [
      "19:11:04 Making event list...\n",
      "19:11:04 Finished.\n"
     ]
    }
   ],
   "source": [
    "'''events = []\n",
    "pr('Making event list...')\n",
    "for date, df in e_gb:\n",
    "        units = []\n",
    "        for i in range (len(df)):\n",
    "            ht = df.iloc[i]['hashtag']\n",
    "            lat = df.iloc[i]['latitude']\n",
    "            lon = df.iloc[i]['longitude']\n",
    "            t_num = df.iloc[i]['numberOfTweets']\n",
    "            tweets = df.iloc[i]['text'].split(delimiter)\n",
    "            \n",
    "            data_unit = { 'name': ht\n",
    "                         , 'latitude' : lat\n",
    "                         , 'longitude' : lon\n",
    "                         , 'tweets' : tweets\n",
    "                         , 'number_of_tweets' : str(t_num) }\n",
    "            units.append(data_unit)\n",
    "        \n",
    "        date_dict = {}\n",
    "        #date_json = 'date: {0}'.format(date)\n",
    "        #data_json = data_template.format(','.join(units))\n",
    "        curr_event = {'date': date.isoformat(), 'data': units}\n",
    "        events.append(curr_event)\n",
    "\n",
    "final_events = {'events' : events}\n",
    "pr('Finished.')'''"
   ]
  },
  {
   "cell_type": "code",
   "execution_count": 178,
   "metadata": {
    "collapsed": false
   },
   "outputs": [
    {
     "name": "stdout",
     "output_type": "stream",
     "text": [
      "23:08:59 Exporting to json...\n",
      "23:09:00 Export done.\n"
     ]
    }
   ],
   "source": [
    "pr('Exporting to json...')\n",
    "with open('data/export.json', 'w') as f:\n",
    "     json.dump(final_events, f)\n",
    "pr('Export done.')"
   ]
  }
 ],
 "metadata": {
  "anaconda-cloud": {},
  "kernelspec": {
   "display_name": "Python [Root]",
   "language": "python",
   "name": "Python [Root]"
  },
  "language_info": {
   "codemirror_mode": {
    "name": "ipython",
    "version": 3
   },
   "file_extension": ".py",
   "mimetype": "text/x-python",
   "name": "python",
   "nbconvert_exporter": "python",
   "pygments_lexer": "ipython3",
   "version": "3.5.2"
  }
 },
 "nbformat": 4,
 "nbformat_minor": 0
}
